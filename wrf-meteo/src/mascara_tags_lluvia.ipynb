{
 "cells": [
  {
   "cell_type": "code",
   "execution_count": null,
   "id": "378d01e7",
   "metadata": {},
   "outputs": [],
   "source": [
    "# Notebook encargada generar matrices en formato csv con valores 0 y 1\n",
    "# 1 para lluvia, 0 para no lluvia\n",
    "# Como entrada se usan los tiff generados por wrfmeteo.py\n",
    "# Valores mayores a 1mm de lluvia equivale a 1. Valores menos a 1mm equivale a 0"
   ]
  },
  {
   "cell_type": "code",
   "execution_count": 1,
   "id": "56c450e7",
   "metadata": {},
   "outputs": [],
   "source": [
    "%config Completer.use_jedi = False"
   ]
  },
  {
   "cell_type": "code",
   "execution_count": 1,
   "id": "1d6a776e",
   "metadata": {},
   "outputs": [],
   "source": [
    "import os\n",
    "import pandas as pd\n",
    "from pathlib import Path\n",
    "import georasters as gr\n",
    "import datetime\n",
    "import numpy as np\n",
    "from pathlib import Path\n",
    "import re"
   ]
  },
  {
   "cell_type": "code",
   "execution_count": 4,
   "id": "d128da1c",
   "metadata": {},
   "outputs": [
    {
     "data": {
      "text/plain": [
       "'/home/joaquinfunes/ProyectoIntegrador_Weather/wrf-meteo/src'"
      ]
     },
     "execution_count": 4,
     "metadata": {},
     "output_type": "execute_result"
    }
   ],
   "source": [
    "pwd"
   ]
  },
  {
   "cell_type": "code",
   "execution_count": null,
   "id": "e2eb3421",
   "metadata": {},
   "outputs": [],
   "source": [
    "directory_in_str = \"/opt/datos/wrf-meteo/geotiff/2020_01/\" #dentro de ....\n",
    "pathlist = Path(directory_in_str).glob('**/*useful*.tiff') #todos los tiff de 70000 ISBL\n",
    "\n",
    "for path in pathlist:\n",
    "    path_in_str = str(path)\n",
    "    \n",
    "    lluvias = gr.from_file(path_in_str)\n",
    "    df_lluvias = lluvias.to_pandas()\n",
    "    \n",
    "    df_mask = pd.DataFrame(columns=['valor'])\n",
    "    for i in range(len(df_lluvias)):\n",
    "        if((df_lluvias.loc[i]['value']) > 1.0):\n",
    "            df_mask.loc[i] = 1\n",
    "        else:\n",
    "            df_mask.loc[i] = 0\n",
    "            \n",
    "    # Reshapeo df_mask para que quede 175 x 175\n",
    "    np_mask = df_mask.to_numpy()\n",
    "    np_mask = np_mask.reshape((175,175))\n",
    "    \n",
    "    df_mask = pd.DataFrame(np_mask)\n",
    "    \n",
    "    #Guardo la matriz en un csv\n",
    "    regex = \"geotiff\\/\\w{7}\\/\\w{2}\\/\\w{6}\"\n",
    "    regex2 = \"\\.tiff\"\n",
    "    filename = re.sub(regex, \"matrices/matriz_tag\", path_in_str)\n",
    "    filename = re.sub(regex2, \".csv\", filename)\n",
    "    df_mask.to_csv(filename, index=False)\n",
    "    #print(filename)"
   ]
  },
  {
   "cell_type": "code",
   "execution_count": null,
   "id": "9a7b205e",
   "metadata": {},
   "outputs": [],
   "source": []
  }
 ],
 "metadata": {
  "kernelspec": {
   "display_name": "tesis",
   "language": "python",
   "name": "tesis"
  },
  "language_info": {
   "codemirror_mode": {
    "name": "ipython",
    "version": 3
   },
   "file_extension": ".py",
   "mimetype": "text/x-python",
   "name": "python",
   "nbconvert_exporter": "python",
   "pygments_lexer": "ipython3",
   "version": "3.8.8"
  }
 },
 "nbformat": 4,
 "nbformat_minor": 5
}
