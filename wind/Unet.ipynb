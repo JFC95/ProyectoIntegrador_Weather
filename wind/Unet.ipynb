{
 "cells": [
  {
   "cell_type": "code",
   "execution_count": 1,
   "id": "61358e91",
   "metadata": {},
   "outputs": [],
   "source": [
    "from tensorflow.keras.models import Sequential\n",
    "from tensorflow.keras import layers\n",
    "from tensorflow.keras import models\n",
    "from tensorflow.keras.layers import BatchNormalization, Conv2D, UpSampling2D, MaxPooling2D, Dropout\n",
    "from tensorflow.keras.optimizers import Adam,SGD\n",
    "from tensorflow.keras import regularizers\n",
    "import numpy as np\n",
    "import matplotlib.pyplot as plt\n",
    "import seaborn as sns\n",
    "import pickle\n",
    "import time"
   ]
  },
  {
   "cell_type": "code",
   "execution_count": 2,
   "id": "28764555",
   "metadata": {},
   "outputs": [],
   "source": [
    "# Channel last\n",
    "def get_unet():\n",
    "    concat_axis = 3 # 3 o 1\n",
    "#    concat_axis = 1 \n",
    "    #inputs = layers.Input(shape = (80, 120, 3))\n",
    "    inputs = layers.Input(shape = (128, 144, 3))\n",
    "    \n",
    "    #encoder\n",
    "    bn0 = BatchNormalization(axis=3)(inputs)\n",
    "    conv1 = layers.Conv2D(32, (3, 3), activation='relu', padding='same', name='conv1_1')(bn0)\n",
    "    bn1 = BatchNormalization(axis=3)(conv1)\n",
    "    conv1 = layers.Conv2D(32, (3, 3), activation='relu', padding='same')(bn1)\n",
    "    bn2 = BatchNormalization(axis=3)(conv1)\n",
    "    pool1 = layers.MaxPooling2D(pool_size=(2, 2))(bn2)\n",
    "    conv2 = layers.Conv2D(64, (3, 3), activation='relu', padding='same')(pool1)\n",
    "    bn3 = BatchNormalization(axis=3)(conv2)\n",
    "    conv2 = layers.Conv2D(64, (3, 3), activation='relu', padding='same')(bn3)\n",
    "    bn4 = BatchNormalization(axis=3)(conv2)\n",
    "    pool2 = layers.MaxPooling2D(pool_size=(2, 2))(bn4)\n",
    "\n",
    "    conv3 = layers.Conv2D(128, (3, 3), activation='relu', padding='same')(pool2)\n",
    "    bn5 = BatchNormalization(axis=3)(conv3)\n",
    "    conv3 = layers.Conv2D(128, (3, 3), activation='relu', padding='same')(bn5)\n",
    "    bn6 = BatchNormalization(axis=3)(conv3)\n",
    "    pool3 = layers.MaxPooling2D(pool_size=(2, 2))(bn6)\n",
    "\n",
    "    conv4 = layers.Conv2D(256, (3, 3), activation='relu', padding='same')(pool3)\n",
    "    bn7 = BatchNormalization(axis=3)(conv4)\n",
    "    conv4 = layers.Conv2D(256, (3, 3), activation='relu', padding='same')(bn7)\n",
    "    bn8 = BatchNormalization(axis=3)(conv4)\n",
    "    #pool4 = layers.MaxPooling2D(pool_size=(2, 3))(bn8)\n",
    "    pool4 = layers.MaxPooling2D(pool_size=(2, 2))(bn8)\n",
    "    \n",
    "    conv5 = layers.Conv2D(512, (3, 3), activation='relu', padding='same')(pool4)\n",
    "    bn9 = BatchNormalization(axis=3)(conv5)\n",
    "    conv5 = layers.Conv2D(512, (3, 3), activation='relu', padding='same')(bn9)\n",
    "    bn10 = BatchNormalization(axis=3)(conv5)\n",
    "\n",
    "    ##decoder\n",
    "    #up_conv5 = layers.UpSampling2D(size=(2, 3))(bn10)\n",
    "    up_conv5 = layers.UpSampling2D(size=(2, 2))(bn10)\n",
    "    up6 = layers.concatenate([up_conv5, conv4], axis=concat_axis)\n",
    "    conv6 = layers.Conv2D(256, (3, 3), activation='relu', padding='same')(up6)\n",
    "    bn11 = BatchNormalization(axis=3)(conv6)\n",
    "    conv6 = layers.Conv2D(256, (3, 3), activation='relu', padding='same')(bn11)\n",
    "    bn12 = BatchNormalization(axis=3)(conv6)\n",
    "\n",
    "    up_conv6 = layers.UpSampling2D(size=(2, 2))(bn12)\n",
    "    up7 = layers.concatenate([up_conv6, conv3], axis=concat_axis)\n",
    "    conv7 = layers.Conv2D(128, (3, 3), activation='relu', padding='same')(up7)\n",
    "    bn13 = BatchNormalization(axis=3)(conv7)\n",
    "    conv7 = layers.Conv2D(128, (3, 3), activation='relu', padding='same')(bn13)\n",
    "    bn14 = BatchNormalization(axis=3)(conv7)\n",
    "\n",
    "    up_conv7 = layers.UpSampling2D(size=(2, 2))(bn14)\n",
    "    up8 = layers.concatenate([up_conv7, conv2], axis=concat_axis)\n",
    "    conv8 = layers.Conv2D(64, (3, 3), activation='relu', padding='same')(up8)\n",
    "    bn15 = BatchNormalization(axis=3)(conv8)\n",
    "    conv8 = layers.Conv2D(64, (3, 3), activation='relu', padding='same')(bn15)\n",
    "    bn16 = BatchNormalization(axis=3)(conv8)\n",
    "\n",
    "    up_conv8 = layers.UpSampling2D(size=(2, 2))(bn16)\n",
    "    up9 = layers.concatenate([up_conv8, conv1], axis=concat_axis)\n",
    "    conv9 = layers.Conv2D(32, (3, 3), activation='relu', padding='same')(up9)\n",
    "    bn17 = BatchNormalization(axis=3)(conv9)\n",
    "    conv9 = layers.Conv2D(32, (3, 3), activation='relu', padding='same')(bn17)\n",
    "    bn18 = BatchNormalization(axis=3)(conv9)\n",
    "\n",
    "    conv10 = layers.Conv2D(1, (1, 1))(bn18)\n",
    "    #bn19 = BatchNormalization(axis=1)(conv10)\n",
    "\n",
    "    model = models.Model(inputs=inputs, outputs=conv10)\n",
    "\n",
    "    sgd = SGD(lr=0.01, decay=1e-6, momentum=0.9, nesterov=True)\n",
    "    model.compile(loss='mae', optimizer=sgd, metrics=['mse','acc'])\n",
    "    #model.compile(loss='mae', optimizer=Adam(lr=0.01), metrics=['mse'])\n",
    "    print(model.summary())\n",
    "\n",
    "    return model"
   ]
  },
  {
   "cell_type": "code",
   "execution_count": 3,
   "id": "d9d2cbb9",
   "metadata": {},
   "outputs": [
    {
     "name": "stdout",
     "output_type": "stream",
     "text": [
      "Model: \"model\"\n",
      "__________________________________________________________________________________________________\n",
      "Layer (type)                    Output Shape         Param #     Connected to                     \n",
      "==================================================================================================\n",
      "input_1 (InputLayer)            [(None, 128, 144, 3) 0                                            \n",
      "__________________________________________________________________________________________________\n",
      "batch_normalization (BatchNorma (None, 128, 144, 3)  12          input_1[0][0]                    \n",
      "__________________________________________________________________________________________________\n",
      "conv1_1 (Conv2D)                (None, 128, 144, 32) 896         batch_normalization[0][0]        \n",
      "__________________________________________________________________________________________________\n",
      "batch_normalization_1 (BatchNor (None, 128, 144, 32) 128         conv1_1[0][0]                    \n",
      "__________________________________________________________________________________________________\n",
      "conv2d (Conv2D)                 (None, 128, 144, 32) 9248        batch_normalization_1[0][0]      \n",
      "__________________________________________________________________________________________________\n",
      "batch_normalization_2 (BatchNor (None, 128, 144, 32) 128         conv2d[0][0]                     \n",
      "__________________________________________________________________________________________________\n",
      "max_pooling2d (MaxPooling2D)    (None, 64, 72, 32)   0           batch_normalization_2[0][0]      \n",
      "__________________________________________________________________________________________________\n",
      "conv2d_1 (Conv2D)               (None, 64, 72, 64)   18496       max_pooling2d[0][0]              \n",
      "__________________________________________________________________________________________________\n",
      "batch_normalization_3 (BatchNor (None, 64, 72, 64)   256         conv2d_1[0][0]                   \n",
      "__________________________________________________________________________________________________\n",
      "conv2d_2 (Conv2D)               (None, 64, 72, 64)   36928       batch_normalization_3[0][0]      \n",
      "__________________________________________________________________________________________________\n",
      "batch_normalization_4 (BatchNor (None, 64, 72, 64)   256         conv2d_2[0][0]                   \n",
      "__________________________________________________________________________________________________\n",
      "max_pooling2d_1 (MaxPooling2D)  (None, 32, 36, 64)   0           batch_normalization_4[0][0]      \n",
      "__________________________________________________________________________________________________\n",
      "conv2d_3 (Conv2D)               (None, 32, 36, 128)  73856       max_pooling2d_1[0][0]            \n",
      "__________________________________________________________________________________________________\n",
      "batch_normalization_5 (BatchNor (None, 32, 36, 128)  512         conv2d_3[0][0]                   \n",
      "__________________________________________________________________________________________________\n",
      "conv2d_4 (Conv2D)               (None, 32, 36, 128)  147584      batch_normalization_5[0][0]      \n",
      "__________________________________________________________________________________________________\n",
      "batch_normalization_6 (BatchNor (None, 32, 36, 128)  512         conv2d_4[0][0]                   \n",
      "__________________________________________________________________________________________________\n",
      "max_pooling2d_2 (MaxPooling2D)  (None, 16, 18, 128)  0           batch_normalization_6[0][0]      \n",
      "__________________________________________________________________________________________________\n",
      "conv2d_5 (Conv2D)               (None, 16, 18, 256)  295168      max_pooling2d_2[0][0]            \n",
      "__________________________________________________________________________________________________\n",
      "batch_normalization_7 (BatchNor (None, 16, 18, 256)  1024        conv2d_5[0][0]                   \n",
      "__________________________________________________________________________________________________\n",
      "conv2d_6 (Conv2D)               (None, 16, 18, 256)  590080      batch_normalization_7[0][0]      \n",
      "__________________________________________________________________________________________________\n",
      "batch_normalization_8 (BatchNor (None, 16, 18, 256)  1024        conv2d_6[0][0]                   \n",
      "__________________________________________________________________________________________________\n",
      "max_pooling2d_3 (MaxPooling2D)  (None, 8, 9, 256)    0           batch_normalization_8[0][0]      \n",
      "__________________________________________________________________________________________________\n",
      "conv2d_7 (Conv2D)               (None, 8, 9, 512)    1180160     max_pooling2d_3[0][0]            \n",
      "__________________________________________________________________________________________________\n",
      "batch_normalization_9 (BatchNor (None, 8, 9, 512)    2048        conv2d_7[0][0]                   \n",
      "__________________________________________________________________________________________________\n",
      "conv2d_8 (Conv2D)               (None, 8, 9, 512)    2359808     batch_normalization_9[0][0]      \n",
      "__________________________________________________________________________________________________\n",
      "batch_normalization_10 (BatchNo (None, 8, 9, 512)    2048        conv2d_8[0][0]                   \n",
      "__________________________________________________________________________________________________\n",
      "up_sampling2d (UpSampling2D)    (None, 16, 18, 512)  0           batch_normalization_10[0][0]     \n",
      "__________________________________________________________________________________________________\n",
      "concatenate (Concatenate)       (None, 16, 18, 768)  0           up_sampling2d[0][0]              \n",
      "                                                                 conv2d_6[0][0]                   \n",
      "__________________________________________________________________________________________________\n",
      "conv2d_9 (Conv2D)               (None, 16, 18, 256)  1769728     concatenate[0][0]                \n",
      "__________________________________________________________________________________________________\n",
      "batch_normalization_11 (BatchNo (None, 16, 18, 256)  1024        conv2d_9[0][0]                   \n",
      "__________________________________________________________________________________________________\n",
      "conv2d_10 (Conv2D)              (None, 16, 18, 256)  590080      batch_normalization_11[0][0]     \n",
      "__________________________________________________________________________________________________\n",
      "batch_normalization_12 (BatchNo (None, 16, 18, 256)  1024        conv2d_10[0][0]                  \n",
      "__________________________________________________________________________________________________\n",
      "up_sampling2d_1 (UpSampling2D)  (None, 32, 36, 256)  0           batch_normalization_12[0][0]     \n",
      "__________________________________________________________________________________________________\n",
      "concatenate_1 (Concatenate)     (None, 32, 36, 384)  0           up_sampling2d_1[0][0]            \n",
      "                                                                 conv2d_4[0][0]                   \n",
      "__________________________________________________________________________________________________\n",
      "conv2d_11 (Conv2D)              (None, 32, 36, 128)  442496      concatenate_1[0][0]              \n",
      "__________________________________________________________________________________________________\n",
      "batch_normalization_13 (BatchNo (None, 32, 36, 128)  512         conv2d_11[0][0]                  \n",
      "__________________________________________________________________________________________________\n",
      "conv2d_12 (Conv2D)              (None, 32, 36, 128)  147584      batch_normalization_13[0][0]     \n",
      "__________________________________________________________________________________________________\n",
      "batch_normalization_14 (BatchNo (None, 32, 36, 128)  512         conv2d_12[0][0]                  \n",
      "__________________________________________________________________________________________________\n",
      "up_sampling2d_2 (UpSampling2D)  (None, 64, 72, 128)  0           batch_normalization_14[0][0]     \n",
      "__________________________________________________________________________________________________\n",
      "concatenate_2 (Concatenate)     (None, 64, 72, 192)  0           up_sampling2d_2[0][0]            \n",
      "                                                                 conv2d_2[0][0]                   \n",
      "__________________________________________________________________________________________________\n",
      "conv2d_13 (Conv2D)              (None, 64, 72, 64)   110656      concatenate_2[0][0]              \n",
      "__________________________________________________________________________________________________\n",
      "batch_normalization_15 (BatchNo (None, 64, 72, 64)   256         conv2d_13[0][0]                  \n",
      "__________________________________________________________________________________________________\n",
      "conv2d_14 (Conv2D)              (None, 64, 72, 64)   36928       batch_normalization_15[0][0]     \n",
      "__________________________________________________________________________________________________\n",
      "batch_normalization_16 (BatchNo (None, 64, 72, 64)   256         conv2d_14[0][0]                  \n",
      "__________________________________________________________________________________________________\n",
      "up_sampling2d_3 (UpSampling2D)  (None, 128, 144, 64) 0           batch_normalization_16[0][0]     \n",
      "__________________________________________________________________________________________________\n",
      "concatenate_3 (Concatenate)     (None, 128, 144, 96) 0           up_sampling2d_3[0][0]            \n",
      "                                                                 conv2d[0][0]                     \n",
      "__________________________________________________________________________________________________\n",
      "conv2d_15 (Conv2D)              (None, 128, 144, 32) 27680       concatenate_3[0][0]              \n",
      "__________________________________________________________________________________________________\n",
      "batch_normalization_17 (BatchNo (None, 128, 144, 32) 128         conv2d_15[0][0]                  \n",
      "__________________________________________________________________________________________________\n",
      "conv2d_16 (Conv2D)              (None, 128, 144, 32) 9248        batch_normalization_17[0][0]     \n",
      "__________________________________________________________________________________________________\n",
      "batch_normalization_18 (BatchNo (None, 128, 144, 32) 128         conv2d_16[0][0]                  \n",
      "__________________________________________________________________________________________________\n",
      "conv2d_17 (Conv2D)              (None, 128, 144, 1)  33          batch_normalization_18[0][0]     \n",
      "==================================================================================================\n",
      "Total params: 7,858,445\n",
      "Trainable params: 7,852,551\n",
      "Non-trainable params: 5,894\n",
      "__________________________________________________________________________________________________\n",
      "None\n"
     ]
    }
   ],
   "source": [
    "model = get_unet()"
   ]
  },
  {
   "cell_type": "code",
   "execution_count": 4,
   "id": "26fa78b0",
   "metadata": {},
   "outputs": [],
   "source": [
    "'''\n",
    "Obtenemos lluvias en tiempo t + 1\n",
    "Cargar en caso de no tener dividido el dataset en train, test y validación.\n",
    "'''\n",
    "\n",
    "Y = np.load(\"/opt/datos/dataset/gfs/Y.npy\")\n",
    "Y_next = np.zeros((19287, 137, 157))\n",
    "\n",
    "for i in range(Y_next.shape[0]):\n",
    "    Y_next[i] = Y[i+1]"
   ]
  },
  {
   "cell_type": "code",
   "execution_count": 5,
   "id": "adfda6d0",
   "metadata": {},
   "outputs": [],
   "source": [
    "Y = None"
   ]
  },
  {
   "cell_type": "code",
   "execution_count": 6,
   "id": "feec8a0f",
   "metadata": {},
   "outputs": [
    {
     "name": "stdout",
     "output_type": "stream",
     "text": [
      "(13502, 3, 137, 157)\n",
      "(2893, 3, 137, 157)\n",
      "(13502, 137, 157)\n",
      "(2893, 137, 157)\n"
     ]
    }
   ],
   "source": [
    "# carga dataset rain and wind\n",
    "\n",
    "#X = np.load(\"/opt/datos/dataset/gfs/wind/X_rain700.npy\")\n",
    "X = np.load(\"/opt/datos/dataset/gfs/wind/X_rain850.npy\")\n",
    "\n",
    "X_train = X[:13502, :, :, :]\n",
    "X_val   = X[13502:16395, :, :, :]\n",
    "\n",
    "print(X_train.shape)\n",
    "print(X_val.shape)\n",
    "\n",
    "X = None\n",
    "\n",
    "Y_train = Y_next[:13502, :, :]\n",
    "Y_val   = Y_next[13502:16395, :, :]\n",
    "\n",
    "Y_next = None\n",
    "\n",
    "print(Y_train.shape)\n",
    "print(Y_val.shape)"
   ]
  },
  {
   "cell_type": "markdown",
   "id": "a409633b",
   "metadata": {},
   "source": [
    "### Shuffle"
   ]
  },
  {
   "cell_type": "code",
   "execution_count": 4,
   "id": "fa85f110",
   "metadata": {},
   "outputs": [],
   "source": [
    "# 700 mb\n",
    "#X_train = np.load(\"/opt/datos/dataset/gfs/wind/shuffle/X_train700.npy\")\n",
    "#X_val   = np.load(\"/opt/datos/dataset/gfs/wind/shuffle/X_val700.npy\")\n",
    "\n",
    "#850 mb\n",
    "X_train = np.load(\"/opt/datos/dataset/gfs/wind/shuffle/X_train850.npy\")\n",
    "X_val   = np.load(\"/opt/datos/dataset/gfs/wind/shuffle/X_val850.npy\")\n",
    "\n",
    "Y_train = np.load(\"/opt/datos/dataset/gfs/wind/shuffle/Y_train700.npy\")\n",
    "Y_val   = np.load(\"/opt/datos/dataset/gfs/wind/shuffle/Y_val700.npy\")"
   ]
  },
  {
   "cell_type": "code",
   "execution_count": 5,
   "id": "b6276a56",
   "metadata": {},
   "outputs": [
    {
     "name": "stdout",
     "output_type": "stream",
     "text": [
      "(13502, 3, 128, 144)\n",
      "(2893, 3, 128, 144)\n",
      "(13502, 128, 144)\n",
      "(2893, 128, 144)\n"
     ]
    }
   ],
   "source": [
    "# Recorte para obtener 128x144\n",
    "X_train = X_train[:, :, 0:128, 0:144]\n",
    "X_val = X_val[:, :, 0:128, 0:144]\n",
    "print(X_train.shape)\n",
    "print(X_val.shape)\n",
    "\n",
    "Y_train = Y_train[:, 0:128, 0:144]\n",
    "Y_val = Y_val[:, 0:128, 0:144]\n",
    "print(Y_train.shape)\n",
    "print(Y_val.shape)"
   ]
  },
  {
   "cell_type": "code",
   "execution_count": 6,
   "id": "b8dd4c21",
   "metadata": {},
   "outputs": [
    {
     "name": "stdout",
     "output_type": "stream",
     "text": [
      "(13502, 1, 128, 144)\n",
      "(2893, 1, 128, 144)\n"
     ]
    }
   ],
   "source": [
    "Y_train = np.expand_dims(Y_train, axis=1)\n",
    "Y_val = np.expand_dims(Y_val, axis=1)\n",
    "\n",
    "print(Y_train.shape)\n",
    "print(Y_val.shape)"
   ]
  },
  {
   "cell_type": "code",
   "execution_count": 7,
   "id": "0a7c56e4",
   "metadata": {},
   "outputs": [
    {
     "name": "stdout",
     "output_type": "stream",
     "text": [
      "X_train: (13502, 128, 144, 3)\n",
      "X_val: (2893, 128, 144, 3)\n",
      "Y_train: (13502, 128, 144, 1)\n",
      "Y_val: (2893, 128, 144, 1)\n"
     ]
    }
   ],
   "source": [
    "# Muevo el eje RGB al ultimo\n",
    "X_train = np.moveaxis(X_train, 1, 3)\n",
    "X_val = np.moveaxis(X_val, 1, 3)\n",
    "print(\"X_train: %s\" %str(X_train.shape))\n",
    "print(\"X_val: %s\" %str(X_val.shape))\n",
    "\n",
    "Y_train = np.moveaxis(Y_train, 1, 3)\n",
    "Y_val = np.moveaxis(Y_val, 1, 3)\n",
    "print(\"Y_train: %s\" %str(Y_train.shape))\n",
    "print(\"Y_val: %s\" %str(Y_val.shape))"
   ]
  },
  {
   "cell_type": "code",
   "execution_count": 8,
   "id": "224e54b8",
   "metadata": {},
   "outputs": [
    {
     "name": "stdout",
     "output_type": "stream",
     "text": [
      "Epoch 1/100\n",
      "422/422 [==============================] - 319s 590ms/step - loss: 0.4198 - mse: 2.1479 - acc: 0.7404 - val_loss: 0.3425 - val_mse: 1.8112 - val_acc: 0.7521\n",
      "Epoch 2/100\n",
      "422/422 [==============================] - 168s 398ms/step - loss: 0.3245 - mse: 1.7637 - acc: 0.7533 - val_loss: 0.3074 - val_mse: 1.6813 - val_acc: 0.7572\n",
      "Epoch 3/100\n",
      "422/422 [==============================] - 168s 398ms/step - loss: 0.3146 - mse: 1.7170 - acc: 0.7573 - val_loss: 0.2977 - val_mse: 1.6232 - val_acc: 0.7570\n",
      "Epoch 4/100\n",
      "422/422 [==============================] - 168s 398ms/step - loss: 0.3068 - mse: 1.6634 - acc: 0.7585 - val_loss: 0.3021 - val_mse: 1.7096 - val_acc: 0.7577\n",
      "Epoch 5/100\n",
      "422/422 [==============================] - 168s 398ms/step - loss: 0.3008 - mse: 1.6081 - acc: 0.7578 - val_loss: 0.2984 - val_mse: 1.5969 - val_acc: 0.7570\n",
      "Epoch 6/100\n",
      "422/422 [==============================] - 168s 398ms/step - loss: 0.2988 - mse: 1.5802 - acc: 0.7581 - val_loss: 0.2944 - val_mse: 1.5935 - val_acc: 0.7581\n",
      "Epoch 7/100\n",
      "422/422 [==============================] - 168s 398ms/step - loss: 0.2954 - mse: 1.5693 - acc: 0.7560 - val_loss: 0.2967 - val_mse: 1.5424 - val_acc: 0.7584\n",
      "Epoch 8/100\n",
      "422/422 [==============================] - 168s 398ms/step - loss: 0.2932 - mse: 1.5442 - acc: 0.7585 - val_loss: 0.2878 - val_mse: 1.4888 - val_acc: 0.7574\n",
      "Epoch 9/100\n",
      "422/422 [==============================] - 168s 398ms/step - loss: 0.2911 - mse: 1.5117 - acc: 0.7582 - val_loss: 0.3018 - val_mse: 1.4713 - val_acc: 0.7558\n",
      "Epoch 10/100\n",
      "422/422 [==============================] - 168s 398ms/step - loss: 0.2890 - mse: 1.4793 - acc: 0.7585 - val_loss: 0.2889 - val_mse: 1.5239 - val_acc: 0.7576\n",
      "Epoch 11/100\n",
      "422/422 [==============================] - 168s 398ms/step - loss: 0.2861 - mse: 1.4563 - acc: 0.7598 - val_loss: 0.2982 - val_mse: 1.4708 - val_acc: 0.7560\n",
      "Epoch 12/100\n",
      "422/422 [==============================] - 168s 398ms/step - loss: 0.2854 - mse: 1.4204 - acc: 0.7573 - val_loss: 0.2835 - val_mse: 1.4897 - val_acc: 0.7587\n",
      "Epoch 13/100\n",
      "422/422 [==============================] - 168s 398ms/step - loss: 0.2812 - mse: 1.3931 - acc: 0.7578 - val_loss: 0.2886 - val_mse: 1.4749 - val_acc: 0.7577\n",
      "Epoch 14/100\n",
      "422/422 [==============================] - 168s 398ms/step - loss: 0.2783 - mse: 1.3843 - acc: 0.7610 - val_loss: 0.2942 - val_mse: 1.4787 - val_acc: 0.7582\n",
      "Epoch 15/100\n",
      "422/422 [==============================] - 168s 398ms/step - loss: 0.2774 - mse: 1.3525 - acc: 0.7575 - val_loss: 0.2935 - val_mse: 1.4921 - val_acc: 0.7585\n",
      "Epoch 16/100\n",
      "422/422 [==============================] - 168s 398ms/step - loss: 0.2738 - mse: 1.3446 - acc: 0.7605 - val_loss: 0.2832 - val_mse: 1.5632 - val_acc: 0.7582\n",
      "Epoch 17/100\n",
      "422/422 [==============================] - 168s 398ms/step - loss: 0.2746 - mse: 1.3315 - acc: 0.7603 - val_loss: 0.2841 - val_mse: 1.4607 - val_acc: 0.7571\n",
      "Epoch 18/100\n",
      "422/422 [==============================] - 168s 398ms/step - loss: 0.2720 - mse: 1.2973 - acc: 0.7610 - val_loss: 0.2956 - val_mse: 1.4940 - val_acc: 0.7578\n",
      "Epoch 19/100\n",
      "422/422 [==============================] - 168s 398ms/step - loss: 0.2733 - mse: 1.3223 - acc: 0.7576 - val_loss: 0.2889 - val_mse: 1.4543 - val_acc: 0.7572\n",
      "Epoch 20/100\n",
      "422/422 [==============================] - 168s 398ms/step - loss: 0.2707 - mse: 1.2839 - acc: 0.7609 - val_loss: 0.2877 - val_mse: 1.5146 - val_acc: 0.7592\n",
      "Epoch 21/100\n",
      "422/422 [==============================] - 168s 398ms/step - loss: 0.2665 - mse: 1.2634 - acc: 0.7613 - val_loss: 0.2872 - val_mse: 1.4813 - val_acc: 0.7585\n",
      "Epoch 22/100\n",
      "422/422 [==============================] - 168s 398ms/step - loss: 0.2639 - mse: 1.2204 - acc: 0.7611 - val_loss: 0.2852 - val_mse: 1.4821 - val_acc: 0.7585\n",
      "Epoch 23/100\n",
      "422/422 [==============================] - 168s 398ms/step - loss: 0.2642 - mse: 1.2226 - acc: 0.7599 - val_loss: 0.2893 - val_mse: 1.4608 - val_acc: 0.7586\n",
      "Epoch 24/100\n",
      "422/422 [==============================] - 168s 398ms/step - loss: 0.2641 - mse: 1.2253 - acc: 0.7594 - val_loss: 0.2934 - val_mse: 1.4580 - val_acc: 0.7578\n",
      "Epoch 25/100\n",
      "422/422 [==============================] - 168s 398ms/step - loss: 0.2639 - mse: 1.2222 - acc: 0.7603 - val_loss: 0.2849 - val_mse: 1.4631 - val_acc: 0.7579\n",
      "Epoch 26/100\n",
      "422/422 [==============================] - 168s 398ms/step - loss: 0.2611 - mse: 1.2053 - acc: 0.7620 - val_loss: 0.2819 - val_mse: 1.4499 - val_acc: 0.7578\n",
      "Epoch 27/100\n",
      "422/422 [==============================] - 168s 398ms/step - loss: 0.2591 - mse: 1.1827 - acc: 0.7604 - val_loss: 0.2824 - val_mse: 1.4412 - val_acc: 0.7579\n",
      "Epoch 28/100\n",
      "422/422 [==============================] - 168s 398ms/step - loss: 0.2588 - mse: 1.1687 - acc: 0.7623 - val_loss: 0.2861 - val_mse: 1.4506 - val_acc: 0.7573\n",
      "Epoch 29/100\n",
      "422/422 [==============================] - 168s 398ms/step - loss: 0.2560 - mse: 1.1318 - acc: 0.7616 - val_loss: 0.2858 - val_mse: 1.4471 - val_acc: 0.7570\n",
      "Epoch 30/100\n",
      "422/422 [==============================] - 168s 398ms/step - loss: 0.2550 - mse: 1.1267 - acc: 0.7618 - val_loss: 0.2875 - val_mse: 1.4716 - val_acc: 0.7583\n",
      "Epoch 31/100\n",
      "422/422 [==============================] - 168s 397ms/step - loss: 0.2539 - mse: 1.1287 - acc: 0.7608 - val_loss: 0.2861 - val_mse: 1.5259 - val_acc: 0.7585\n",
      "Epoch 32/100\n",
      "422/422 [==============================] - 168s 398ms/step - loss: 0.2498 - mse: 1.0886 - acc: 0.7613 - val_loss: 0.2813 - val_mse: 1.4533 - val_acc: 0.7573\n",
      "Epoch 33/100\n",
      "422/422 [==============================] - 168s 398ms/step - loss: 0.2507 - mse: 1.0939 - acc: 0.7598 - val_loss: 0.2913 - val_mse: 1.4445 - val_acc: 0.7578\n",
      "Epoch 34/100\n",
      "422/422 [==============================] - 168s 398ms/step - loss: 0.2488 - mse: 1.0743 - acc: 0.7615 - val_loss: 0.2936 - val_mse: 1.4741 - val_acc: 0.7583\n",
      "Epoch 35/100\n",
      "422/422 [==============================] - 168s 398ms/step - loss: 0.2507 - mse: 1.0970 - acc: 0.7622 - val_loss: 0.2990 - val_mse: 1.4558 - val_acc: 0.7561\n",
      "Epoch 36/100\n",
      "422/422 [==============================] - 168s 398ms/step - loss: 0.2476 - mse: 1.0514 - acc: 0.7647 - val_loss: 0.2868 - val_mse: 1.4697 - val_acc: 0.7572\n",
      "Epoch 37/100\n",
      "422/422 [==============================] - 168s 398ms/step - loss: 0.2448 - mse: 1.0337 - acc: 0.7606 - val_loss: 0.2866 - val_mse: 1.4696 - val_acc: 0.7572\n",
      "Epoch 38/100\n",
      "422/422 [==============================] - 168s 398ms/step - loss: 0.2454 - mse: 1.0387 - acc: 0.7605 - val_loss: 0.2823 - val_mse: 1.4840 - val_acc: 0.7574\n",
      "Epoch 39/100\n",
      "422/422 [==============================] - 168s 398ms/step - loss: 0.2445 - mse: 1.0324 - acc: 0.7608 - val_loss: 0.3040 - val_mse: 1.4790 - val_acc: 0.7580\n",
      "Epoch 40/100\n",
      "422/422 [==============================] - 168s 398ms/step - loss: 0.2451 - mse: 1.0364 - acc: 0.7620 - val_loss: 0.2825 - val_mse: 1.4556 - val_acc: 0.7579\n",
      "Epoch 41/100\n",
      "422/422 [==============================] - 168s 398ms/step - loss: 0.2423 - mse: 1.0153 - acc: 0.7613 - val_loss: 0.2889 - val_mse: 1.4945 - val_acc: 0.7576\n",
      "Epoch 42/100\n",
      "422/422 [==============================] - 168s 398ms/step - loss: 0.2403 - mse: 0.9848 - acc: 0.7634 - val_loss: 0.2906 - val_mse: 1.4761 - val_acc: 0.7582\n",
      "Epoch 43/100\n",
      "422/422 [==============================] - 168s 398ms/step - loss: 0.2399 - mse: 1.0011 - acc: 0.7612 - val_loss: 0.2805 - val_mse: 1.4779 - val_acc: 0.7576\n",
      "Epoch 44/100\n",
      "422/422 [==============================] - 168s 398ms/step - loss: 0.2402 - mse: 0.9975 - acc: 0.7622 - val_loss: 0.2853 - val_mse: 1.4766 - val_acc: 0.7575\n",
      "Epoch 45/100\n",
      "422/422 [==============================] - 168s 397ms/step - loss: 0.2368 - mse: 0.9676 - acc: 0.7626 - val_loss: 0.2823 - val_mse: 1.4925 - val_acc: 0.7581\n",
      "Epoch 46/100\n",
      "422/422 [==============================] - 168s 398ms/step - loss: 0.2372 - mse: 0.9741 - acc: 0.7640 - val_loss: 0.2838 - val_mse: 1.4789 - val_acc: 0.7581\n",
      "Epoch 47/100\n",
      "422/422 [==============================] - 168s 398ms/step - loss: 0.2358 - mse: 0.9521 - acc: 0.7629 - val_loss: 0.2842 - val_mse: 1.4401 - val_acc: 0.7559\n",
      "Epoch 48/100\n",
      "422/422 [==============================] - 168s 398ms/step - loss: 0.2343 - mse: 0.9577 - acc: 0.7640 - val_loss: 0.2940 - val_mse: 1.4658 - val_acc: 0.7564\n",
      "Epoch 49/100\n"
     ]
    },
    {
     "name": "stdout",
     "output_type": "stream",
     "text": [
      "422/422 [==============================] - 168s 398ms/step - loss: 0.2346 - mse: 0.9513 - acc: 0.7659 - val_loss: 0.2848 - val_mse: 1.4712 - val_acc: 0.7581\n",
      "Epoch 50/100\n",
      "422/422 [==============================] - 168s 398ms/step - loss: 0.2335 - mse: 0.9330 - acc: 0.7633 - val_loss: 0.3046 - val_mse: 1.5580 - val_acc: 0.7564\n",
      "Epoch 51/100\n",
      "422/422 [==============================] - 168s 398ms/step - loss: 0.2329 - mse: 0.9294 - acc: 0.7634 - val_loss: 0.2825 - val_mse: 1.4642 - val_acc: 0.7570\n",
      "Epoch 52/100\n",
      "422/422 [==============================] - 168s 398ms/step - loss: 0.2321 - mse: 0.9187 - acc: 0.7640 - val_loss: 0.2830 - val_mse: 1.4532 - val_acc: 0.7568\n",
      "Epoch 53/100\n",
      "422/422 [==============================] - 168s 398ms/step - loss: 0.2292 - mse: 0.8970 - acc: 0.7620 - val_loss: 0.2891 - val_mse: 1.4478 - val_acc: 0.7564\n",
      "Epoch 54/100\n",
      "422/422 [==============================] - 168s 398ms/step - loss: 0.2295 - mse: 0.9020 - acc: 0.7633 - val_loss: 0.2883 - val_mse: 1.4561 - val_acc: 0.7561\n",
      "Epoch 55/100\n",
      "422/422 [==============================] - 168s 398ms/step - loss: 0.2284 - mse: 0.8861 - acc: 0.7626 - val_loss: 0.2836 - val_mse: 1.5031 - val_acc: 0.7587\n",
      "Epoch 56/100\n",
      "422/422 [==============================] - 168s 398ms/step - loss: 0.2291 - mse: 0.8961 - acc: 0.7614 - val_loss: 0.2895 - val_mse: 1.4964 - val_acc: 0.7581\n",
      "Epoch 57/100\n",
      "422/422 [==============================] - 168s 398ms/step - loss: 0.2309 - mse: 0.8977 - acc: 0.7633 - val_loss: 0.2924 - val_mse: 1.4894 - val_acc: 0.7582\n",
      "Epoch 58/100\n",
      "422/422 [==============================] - 168s 398ms/step - loss: 0.2282 - mse: 0.8939 - acc: 0.7622 - val_loss: 0.2881 - val_mse: 1.4829 - val_acc: 0.7570\n",
      "Epoch 59/100\n",
      "422/422 [==============================] - 168s 398ms/step - loss: 0.2242 - mse: 0.8555 - acc: 0.7633 - val_loss: 0.2951 - val_mse: 1.4740 - val_acc: 0.7561\n",
      "Epoch 60/100\n",
      "422/422 [==============================] - 168s 398ms/step - loss: 0.2280 - mse: 0.8817 - acc: 0.7611 - val_loss: 0.2821 - val_mse: 1.4739 - val_acc: 0.7572\n",
      "Epoch 61/100\n",
      "422/422 [==============================] - 168s 398ms/step - loss: 0.2238 - mse: 0.8649 - acc: 0.7643 - val_loss: 0.2855 - val_mse: 1.4591 - val_acc: 0.7571\n",
      "Epoch 62/100\n",
      "422/422 [==============================] - 168s 398ms/step - loss: 0.2243 - mse: 0.8474 - acc: 0.7638 - val_loss: 0.2908 - val_mse: 1.4827 - val_acc: 0.7572\n",
      "Epoch 63/100\n",
      "422/422 [==============================] - 168s 398ms/step - loss: 0.2229 - mse: 0.8532 - acc: 0.7633 - val_loss: 0.2872 - val_mse: 1.4655 - val_acc: 0.7559\n",
      "Epoch 64/100\n",
      "422/422 [==============================] - 168s 398ms/step - loss: 0.2234 - mse: 0.8398 - acc: 0.7630 - val_loss: 0.2900 - val_mse: 1.5192 - val_acc: 0.7566\n",
      "Epoch 65/100\n",
      "422/422 [==============================] - 168s 398ms/step - loss: 0.2222 - mse: 0.8298 - acc: 0.7634 - val_loss: 0.2916 - val_mse: 1.4744 - val_acc: 0.7543\n",
      "Epoch 66/100\n",
      "422/422 [==============================] - 168s 398ms/step - loss: 0.2230 - mse: 0.8335 - acc: 0.7643 - val_loss: 0.2882 - val_mse: 1.4818 - val_acc: 0.7571\n",
      "Epoch 67/100\n",
      "422/422 [==============================] - 168s 398ms/step - loss: 0.2220 - mse: 0.8268 - acc: 0.7630 - val_loss: 0.2866 - val_mse: 1.4701 - val_acc: 0.7576\n",
      "Epoch 68/100\n",
      "422/422 [==============================] - 168s 398ms/step - loss: 0.2194 - mse: 0.8065 - acc: 0.7652 - val_loss: 0.2859 - val_mse: 1.4505 - val_acc: 0.7561\n",
      "Epoch 69/100\n",
      "422/422 [==============================] - 168s 398ms/step - loss: 0.2197 - mse: 0.8132 - acc: 0.7613 - val_loss: 0.2841 - val_mse: 1.4767 - val_acc: 0.7572\n",
      "Epoch 70/100\n",
      "422/422 [==============================] - 168s 398ms/step - loss: 0.2189 - mse: 0.8060 - acc: 0.7675 - val_loss: 0.2953 - val_mse: 1.4720 - val_acc: 0.7555\n",
      "Epoch 71/100\n",
      "422/422 [==============================] - 168s 398ms/step - loss: 0.2202 - mse: 0.8260 - acc: 0.7650 - val_loss: 0.2857 - val_mse: 1.4739 - val_acc: 0.7571\n",
      "Epoch 72/100\n",
      "422/422 [==============================] - 168s 398ms/step - loss: 0.2171 - mse: 0.8050 - acc: 0.7665 - val_loss: 0.2846 - val_mse: 1.4756 - val_acc: 0.7562\n",
      "Epoch 73/100\n",
      "422/422 [==============================] - 168s 398ms/step - loss: 0.2187 - mse: 0.8047 - acc: 0.7647 - val_loss: 0.2918 - val_mse: 1.4747 - val_acc: 0.7559\n",
      "Epoch 74/100\n",
      "422/422 [==============================] - 168s 398ms/step - loss: 0.2169 - mse: 0.7916 - acc: 0.7616 - val_loss: 0.2868 - val_mse: 1.4701 - val_acc: 0.7563\n",
      "Epoch 75/100\n",
      "422/422 [==============================] - 168s 398ms/step - loss: 0.2168 - mse: 0.7962 - acc: 0.7621 - val_loss: 0.2822 - val_mse: 1.5472 - val_acc: 0.7588\n",
      "Epoch 76/100\n",
      "422/422 [==============================] - 168s 398ms/step - loss: 0.2156 - mse: 0.7930 - acc: 0.7651 - val_loss: 0.2962 - val_mse: 1.4721 - val_acc: 0.7552\n",
      "Epoch 77/100\n",
      "422/422 [==============================] - 168s 398ms/step - loss: 0.2153 - mse: 0.7758 - acc: 0.7623 - val_loss: 0.2900 - val_mse: 1.4732 - val_acc: 0.7573\n",
      "Epoch 78/100\n",
      "422/422 [==============================] - 168s 398ms/step - loss: 0.2148 - mse: 0.7832 - acc: 0.7647 - val_loss: 0.2831 - val_mse: 1.5299 - val_acc: 0.7580\n",
      "Epoch 79/100\n",
      "422/422 [==============================] - 168s 398ms/step - loss: 0.2139 - mse: 0.7809 - acc: 0.7650 - val_loss: 0.2897 - val_mse: 1.4754 - val_acc: 0.7557\n",
      "Epoch 80/100\n",
      "422/422 [==============================] - 168s 398ms/step - loss: 0.2139 - mse: 0.7684 - acc: 0.7621 - val_loss: 0.2837 - val_mse: 1.5024 - val_acc: 0.7577\n",
      "Epoch 81/100\n",
      "422/422 [==============================] - 168s 398ms/step - loss: 0.2150 - mse: 0.7739 - acc: 0.7628 - val_loss: 0.2857 - val_mse: 1.4827 - val_acc: 0.7567\n",
      "Epoch 82/100\n",
      "422/422 [==============================] - 168s 398ms/step - loss: 0.2123 - mse: 0.7528 - acc: 0.7652 - val_loss: 0.2928 - val_mse: 1.4874 - val_acc: 0.7571\n",
      "Epoch 83/100\n",
      "422/422 [==============================] - 168s 398ms/step - loss: 0.2132 - mse: 0.7683 - acc: 0.7640 - val_loss: 0.2842 - val_mse: 1.4501 - val_acc: 0.7564\n",
      "Epoch 84/100\n",
      "422/422 [==============================] - 168s 398ms/step - loss: 0.2103 - mse: 0.7415 - acc: 0.7644 - val_loss: 0.2912 - val_mse: 1.4960 - val_acc: 0.7567\n",
      "Epoch 85/100\n",
      "422/422 [==============================] - 168s 397ms/step - loss: 0.2120 - mse: 0.7586 - acc: 0.7659 - val_loss: 0.2900 - val_mse: 1.4822 - val_acc: 0.7568\n",
      "Epoch 86/100\n",
      "422/422 [==============================] - 168s 398ms/step - loss: 0.2100 - mse: 0.7447 - acc: 0.7639 - val_loss: 0.2877 - val_mse: 1.4807 - val_acc: 0.7566\n",
      "Epoch 87/100\n",
      "422/422 [==============================] - 168s 398ms/step - loss: 0.2090 - mse: 0.7421 - acc: 0.7664 - val_loss: 0.2867 - val_mse: 1.4953 - val_acc: 0.7573\n",
      "Epoch 88/100\n",
      "422/422 [==============================] - 176s 418ms/step - loss: 0.2096 - mse: 0.7272 - acc: 0.7661 - val_loss: 0.3051 - val_mse: 1.5115 - val_acc: 0.7546\n",
      "Epoch 89/100\n",
      "422/422 [==============================] - 168s 398ms/step - loss: 0.2097 - mse: 0.7275 - acc: 0.7608 - val_loss: 0.2954 - val_mse: 1.4848 - val_acc: 0.7580\n",
      "Epoch 90/100\n",
      "422/422 [==============================] - 168s 398ms/step - loss: 0.2083 - mse: 0.7227 - acc: 0.7657 - val_loss: 0.2871 - val_mse: 1.5046 - val_acc: 0.7574\n",
      "Epoch 91/100\n",
      "422/422 [==============================] - 168s 398ms/step - loss: 0.2075 - mse: 0.7244 - acc: 0.7643 - val_loss: 0.2865 - val_mse: 1.4875 - val_acc: 0.7566\n",
      "Epoch 92/100\n",
      "422/422 [==============================] - 168s 398ms/step - loss: 0.2086 - mse: 0.7264 - acc: 0.7650 - val_loss: 0.2892 - val_mse: 1.4906 - val_acc: 0.7574\n",
      "Epoch 93/100\n",
      "422/422 [==============================] - 168s 398ms/step - loss: 0.2064 - mse: 0.7145 - acc: 0.7667 - val_loss: 0.2872 - val_mse: 1.4836 - val_acc: 0.7570\n",
      "Epoch 94/100\n",
      "422/422 [==============================] - 168s 398ms/step - loss: 0.2064 - mse: 0.7112 - acc: 0.7648 - val_loss: 0.2989 - val_mse: 1.5178 - val_acc: 0.7562\n",
      "Epoch 95/100\n",
      "422/422 [==============================] - 168s 398ms/step - loss: 0.2053 - mse: 0.7047 - acc: 0.7655 - val_loss: 0.2902 - val_mse: 1.4798 - val_acc: 0.7567\n",
      "Epoch 96/100\n",
      "422/422 [==============================] - 168s 398ms/step - loss: 0.2062 - mse: 0.7027 - acc: 0.7639 - val_loss: 0.2868 - val_mse: 1.4841 - val_acc: 0.7562\n",
      "Epoch 97/100\n"
     ]
    },
    {
     "name": "stdout",
     "output_type": "stream",
     "text": [
      "422/422 [==============================] - 168s 398ms/step - loss: 0.2057 - mse: 0.7122 - acc: 0.7644 - val_loss: 0.2883 - val_mse: 1.4868 - val_acc: 0.7558\n",
      "Epoch 98/100\n",
      "422/422 [==============================] - 168s 398ms/step - loss: 0.2047 - mse: 0.6967 - acc: 0.7665 - val_loss: 0.2916 - val_mse: 1.4787 - val_acc: 0.7559\n",
      "Epoch 99/100\n",
      "422/422 [==============================] - 168s 398ms/step - loss: 0.2047 - mse: 0.6985 - acc: 0.7655 - val_loss: 0.2883 - val_mse: 1.4818 - val_acc: 0.7567\n",
      "Epoch 100/100\n",
      "422/422 [==============================] - 168s 398ms/step - loss: 0.2025 - mse: 0.6778 - acc: 0.7667 - val_loss: 0.2859 - val_mse: 1.4576 - val_acc: 0.7559\n"
     ]
    }
   ],
   "source": [
    "start = time.time()\n",
    "history = model.fit(X_train, Y_train, epochs=100, verbose=1, validation_data=(X_val, Y_val))\n",
    "finish = time.time()\n",
    "time = finish - start"
   ]
  },
  {
   "cell_type": "code",
   "execution_count": 11,
   "id": "d58a02c9",
   "metadata": {},
   "outputs": [
    {
     "name": "stdout",
     "output_type": "stream",
     "text": [
      "16884.650401115417\n"
     ]
    }
   ],
   "source": [
    "### TIME 20 epoch unet 700mb: 3450.580164909363 seg\n",
    "### TIME 100 epoch unet 700mb:16884.650401115417\n",
    "print(time)"
   ]
  },
  {
   "cell_type": "code",
   "execution_count": 11,
   "id": "8d7c4e13",
   "metadata": {},
   "outputs": [
    {
     "name": "stdout",
     "output_type": "stream",
     "text": [
      "3470.6787447929382\n"
     ]
    }
   ],
   "source": [
    "### TIME 20 epoch unet 850mb: 3470.6787447929382 seg \n",
    "### TIME 100 epoch unet 850mb:\n",
    "print(time)"
   ]
  },
  {
   "cell_type": "code",
   "execution_count": 9,
   "id": "f6116140",
   "metadata": {},
   "outputs": [
    {
     "name": "stdout",
     "output_type": "stream",
     "text": [
      "3466.810744524002\n"
     ]
    }
   ],
   "source": [
    "### TIME 20 epoch unet shuffle 700mb: 3466.810744524002 seg\n",
    "### TIME 100 epoch unet shuffle 700mb:\n",
    "print(time)"
   ]
  },
  {
   "cell_type": "code",
   "execution_count": 9,
   "id": "12211ed7",
   "metadata": {},
   "outputs": [
    {
     "name": "stdout",
     "output_type": "stream",
     "text": [
      "16952.29919195175\n"
     ]
    }
   ],
   "source": [
    "### TIME 20 epoch unet shuffle 850mb: 3476.004170179367 seg\n",
    "### TIME 100 epoch unet shuffle 850mb: 16952.29919195175\n",
    "print(time)"
   ]
  },
  {
   "cell_type": "code",
   "execution_count": 10,
   "id": "9b74821c",
   "metadata": {},
   "outputs": [],
   "source": [
    "with open('/opt/datos/entrenamientos/gfs/wind/08/history', 'wb') as file_pi:\n",
    "    pickle.dump(history.history, file_pi)"
   ]
  },
  {
   "cell_type": "code",
   "execution_count": 11,
   "id": "e7793995",
   "metadata": {},
   "outputs": [],
   "source": [
    "history = pickle.load( open( \"/opt/datos/entrenamientos/gfs/wind/08/history\", \"rb\" ) )"
   ]
  },
  {
   "cell_type": "code",
   "execution_count": 12,
   "id": "c1ae0de5",
   "metadata": {},
   "outputs": [
    {
     "name": "stdout",
     "output_type": "stream",
     "text": [
      "~ Unet Dataset: wind-rain GFS 2015-2021 ~\n",
      "val_loss: 0.28591427206993103\n",
      "loss: 0.20372933149337769\n"
     ]
    },
    {
     "data": {
      "image/png": "[encoded data removed]",
      "text/plain": [
       "<Figure size 432x288 with 1 Axes>"
      ]
     },
     "metadata": {
      "needs_background": "light"
     },
     "output_type": "display_data"
    }
   ],
   "source": [
    "print(\"~ Unet Dataset: wind-rain GFS 2015-2021 ~\")\n",
    "print(f\"val_loss: {history['val_loss'][-1]}\")\n",
    "print(f\"loss: {history['loss'][-1]}\")\n",
    "#print(history)\n",
    "plt.plot(history['loss'])\n",
    "plt.plot(history['val_loss'])\n",
    "plt.title('Unet network training 850 mb')\n",
    "plt.ylabel('mean absolute error')\n",
    "plt.xlabel('epoch')\n",
    "plt.legend(['train', 'validation'], loc='upper right')\n",
    "plt.show()"
   ]
  },
  {
   "cell_type": "code",
   "execution_count": 13,
   "id": "4022342a",
   "metadata": {},
   "outputs": [],
   "source": [
    "model.save('/opt/datos/entrenamientos/gfs/wind/08/model.h5')"
   ]
  },
  {
   "cell_type": "markdown",
   "id": "24870c09",
   "metadata": {},
   "source": [
    "## En caso de necesitar guardar datos con shuffle"
   ]
  },
  {
   "cell_type": "code",
   "execution_count": 6,
   "id": "b886c84c",
   "metadata": {},
   "outputs": [
    {
     "name": "stdout",
     "output_type": "stream",
     "text": [
      "(13502, 3, 137, 157)\n",
      "(2893, 3, 137, 157)\n",
      "(2892, 3, 137, 157)\n"
     ]
    }
   ],
   "source": [
    "# Creando dataset con SHUFFLE rain and wind, no es necesario si ya se tiene .npy guardados.\n",
    "\n",
    "idxs = np.arange(Y_next.shape[0])\n",
    "np.random.seed(0)\n",
    "np.random.shuffle(idxs)\n",
    "\n",
    "### Y\n",
    "Y_next = Y_next[idxs, :, :]\n",
    "\n",
    "Y_train = Y_next[:13502, :, :]      # 70%\n",
    "Y_val   = Y_next[13502:16395, :, :] # 15%\n",
    "Y_test   = Y_next[16395:, :, :]     # 15%\n",
    "\n",
    "Y_next = None\n",
    "\n",
    "print(Y_train.shape)\n",
    "print(Y_val.shape)\n",
    "print(Y_test.shape)\n",
    "\n",
    "### X\n",
    "#X = np.load(\"/opt/datos/dataset/gfs/wind/X_rain700.npy\")\n",
    "X = np.load(\"/opt/datos/dataset/gfs/wind/X_rain850.npy\")\n",
    "X = X[0:19287, :, :, :]\n",
    "\n",
    "X = X[idxs, :, :, :]\n",
    "\n",
    "X_train = X[:13502, :, :, :]\n",
    "X_val   = X[13502:16395, :, :, :]\n",
    "X_test   = X[16395:, :, :, :]\n",
    "\n",
    "print(X_train.shape)\n",
    "print(X_val.shape)\n",
    "print(X_test.shape)\n",
    "\n",
    "X = None"
   ]
  },
  {
   "cell_type": "code",
   "execution_count": 7,
   "id": "bbce3952",
   "metadata": {},
   "outputs": [],
   "source": [
    "np.save(\"/opt/datos/dataset/gfs/wind/shuffle/X_train850.npy\", X_train)\n",
    "np.save(\"/opt/datos/dataset/gfs/wind/shuffle/X_val850.npy\", X_val)\n",
    "np.save(\"/opt/datos/dataset/gfs/wind/shuffle/X_test850.npy\", X_test)"
   ]
  }
 ],
 "metadata": {
  "kernelspec": {
   "display_name": "tf-gpu2",
   "language": "python",
   "name": "tf-gpu2"
  },
  "language_info": {
   "codemirror_mode": {
    "name": "ipython",
    "version": 3
   },
   "file_extension": ".py",
   "mimetype": "text/x-python",
   "name": "python",
   "nbconvert_exporter": "python",
   "pygments_lexer": "ipython3",
   "version": "3.9.5"
  }
 },
 "nbformat": 4,
 "nbformat_minor": 5
}
