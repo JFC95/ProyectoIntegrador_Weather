{
 "cells": [
  {
   "cell_type": "code",
   "execution_count": 1,
   "id": "bc4bb1e1",
   "metadata": {},
   "outputs": [],
   "source": [
    "%config Completer.use_jedi = False"
   ]
  },
  {
   "cell_type": "code",
   "execution_count": 89,
   "id": "3cb700a6",
   "metadata": {},
   "outputs": [],
   "source": [
    "import os\n",
    "import pandas\n",
    "from pathlib import Path\n",
    "import georasters as gr\n",
    "import datetime\n",
    "import numpy as np\n",
    "from sklearn.preprocessing import StandardScaler, MinMaxScaler"
   ]
  },
  {
   "cell_type": "code",
   "execution_count": 3,
   "id": "7c9e6e18",
   "metadata": {},
   "outputs": [
    {
     "data": {
      "text/plain": [
       "'/home/joaquinfunes/ProyectoIntegrador_Weather/gfsRaster'"
      ]
     },
     "execution_count": 3,
     "metadata": {},
     "output_type": "execute_result"
    }
   ],
   "source": [
    "pwd"
   ]
  },
  {
   "cell_type": "code",
   "execution_count": 55,
   "id": "aed90735",
   "metadata": {},
   "outputs": [],
   "source": [
    "directory_in_str = \"geotiff/2020_01/\"\n",
    "pathlist50k = Path(directory_in_str).glob('**/*HGT_50000*.tiff')\n",
    "pathlist70k = Path(directory_in_str).glob('**/*HGT_70000*.tiff')\n",
    "pathlist100k = Path(directory_in_str).glob('**/*HGT_100000*.tiff')\n",
    "\n",
    "\n",
    "i = pandas.date_range(start=\"202001011200\", end=\"20200105\", freq='3H')\n",
    "df = pandas.DataFrame(dict(year=i.year, month=i.month, day=i.day, hour=i.hour))\n",
    "time_format = pandas.to_datetime(df)\n",
    "times = dict(time_format)\n",
    "my_dict50k = {}\n",
    "my_dict70k = {}\n",
    "my_dict100k = {}\n",
    "\n",
    "\n",
    "\n",
    "for (key, value), file_tiff in zip(times.items(), pathlist50k):\n",
    "    path_in_str = str(file_tiff)\n",
    "    df_50kISBL = gr.from_file(path_in_str)\n",
    "    df_50kISBL = df_50kISBL.to_pandas()\n",
    "    df_50kISBL = df_50kISBL[\"value\"]\n",
    "    my_dict50k[datetime.datetime.strftime(value, \"%Y-%m-%d_%H:00\")] = df_50kISBL\n",
    "    #my_dict50k[datetime.datetime.strftime(value, \"%Y-%m-%d_%H:00\")] = path_in_str\n",
    "    \n",
    "for (key, value), file_tiff in zip(times.items(), pathlist70k):\n",
    "    path_in_str = str(file_tiff)\n",
    "    df_70kISBL = gr.from_file(path_in_str)\n",
    "    df_70kISBL = df_70kISBL.to_pandas()\n",
    "    df_50kISBL = df_70kISBL[\"value\"]\n",
    "    my_dict70k[datetime.datetime.strftime(value, \"%Y-%m-%d_%H:00\")] = df_70kISBL\n",
    "    #my_dict70k[datetime.datetime.strftime(value, \"%Y-%m-%d_%H:00\")] = path_in_str\n",
    "    \n",
    "for (key, value), file_tiff in zip(times.items(), pathlist100k):\n",
    "    path_in_str = str(file_tiff)\n",
    "    df_100kISBL = gr.from_file(path_in_str)\n",
    "    df_100kISBL = df_100kISBL.to_pandas()\n",
    "    df_50kISBL = df_100kISBL[\"value\"]\n",
    "    my_dict100k[datetime.datetime.strftime(value, \"%Y-%m-%d_%H:00\")] = df_100kISBL\n",
    "    #my_dict100k[datetime.datetime.strftime(value, \"%Y-%m-%d_%H:00\")] = path_in_str\n",
    "\n",
    "    "
   ]
  },
  {
   "cell_type": "code",
   "execution_count": 81,
   "id": "17339f80",
   "metadata": {},
   "outputs": [
    {
     "data": {
      "text/plain": [
       "(29, 3157748)"
      ]
     },
     "execution_count": 81,
     "metadata": {},
     "output_type": "execute_result"
    }
   ],
   "source": [
    "all_values_50kISBL = list(my_dict50k.values())\n",
    "all_values_50kISBL = np.array(all_values_50kISBL)\n",
    "\n",
    "all_values_50kISBL.shape #cada fila es un dataframe que obtuve del tiff, cada col es una altura"
   ]
  },
  {
   "cell_type": "code",
   "execution_count": 84,
   "id": "0a3a5414",
   "metadata": {},
   "outputs": [
    {
     "data": {
      "text/plain": [
       "array([5891.57000943, 5891.57000943, 5891.57000943, ..., 5807.5540982 ,\n",
       "       5807.5540982 , 5807.5540982 ])"
      ]
     },
     "execution_count": 84,
     "metadata": {},
     "output_type": "execute_result"
    }
   ],
   "source": [
    "all_values_50kISBL.mean(axis=0)"
   ]
  },
  {
   "cell_type": "code",
   "execution_count": 85,
   "id": "d80e708b",
   "metadata": {},
   "outputs": [
    {
     "data": {
      "text/plain": [
       "array([5840.41405003, 5846.65345241, 5845.37828319, 5840.30349946,\n",
       "       5848.060832  , 5853.05854611, 5840.72572699, 5835.47838951,\n",
       "       5848.0916601 , 5855.87386478, 5858.28910426, 5860.05226747,\n",
       "       5865.0729352 , 5872.14618821, 5865.88879773, 5858.50370608,\n",
       "       5874.08849238, 5877.76056049, 5877.12111196, 5870.88181928,\n",
       "       5876.15455938, 5875.44607534, 5859.71336629, 5847.74985391,\n",
       "       5847.24951492, 5849.25122622, 5839.78224574, 5829.90514811,\n",
       "       5824.94392109])"
      ]
     },
     "execution_count": 85,
     "metadata": {},
     "output_type": "execute_result"
    }
   ],
   "source": [
    "all_values_50kISBL.mean(axis=1)"
   ]
  },
  {
   "cell_type": "code",
   "execution_count": 90,
   "id": "1bd0b451",
   "metadata": {},
   "outputs": [],
   "source": [
    "scaler = MinMaxScaler()\n",
    "#scaler = StandardScaler()"
   ]
  },
  {
   "cell_type": "code",
   "execution_count": 91,
   "id": "294451d4",
   "metadata": {},
   "outputs": [
    {
     "data": {
      "text/plain": [
       "MinMaxScaler()"
      ]
     },
     "execution_count": 91,
     "metadata": {},
     "output_type": "execute_result"
    }
   ],
   "source": [
    "scaler.fit(all_values_50kISBL)"
   ]
  },
  {
   "cell_type": "code",
   "execution_count": 92,
   "id": "aef675ca",
   "metadata": {},
   "outputs": [],
   "source": [
    "X_train_scaled = scaler.transform(all_values_50kISBL)"
   ]
  },
  {
   "cell_type": "code",
   "execution_count": null,
   "id": "7774b52b",
   "metadata": {},
   "outputs": [],
   "source": [
    "       | value1 value2 ..................................................... value3M\n",
    "tiff1  |  5500   5478                                                          5800\n",
    "tiff2  |  5500   5480                                                          5801\n",
    "tiff3  |\n",
    "....\n",
    "tiff29"
   ]
  },
  {
   "cell_type": "code",
   "execution_count": 93,
   "id": "1fd7fe3d",
   "metadata": {},
   "outputs": [
    {
     "name": "stdout",
     "output_type": "stream",
     "text": [
      "media despues del escalado: [0.53174422 0.53174422 0.53174422 ... 0.66655818 0.66655818 0.66655818] \n",
      "desviación típica despues del escalado: [0.25628083 0.25628083 0.25628083 ... 0.26867737 0.26867737 0.26867737] \n"
     ]
    }
   ],
   "source": [
    "#por fila (axis=0) me da la media para todas las filas de cada columna\n",
    "\n",
    "print(\"media despues del escalado: %s \" % X_train_scaled.mean(axis=0))\n",
    "print(\"desviación típica despues del escalado: %s \" % X_train_scaled.std(axis=0))"
   ]
  },
  {
   "cell_type": "code",
   "execution_count": 95,
   "id": "fd357e8e",
   "metadata": {},
   "outputs": [
    {
     "name": "stdout",
     "output_type": "stream",
     "text": [
      "media antes del escalado : [5891.57000943 5891.57000943 5891.57000943 ... 5807.5540982  5807.5540982\n",
      " 5807.5540982 ] \n",
      "desviación típica antes del escalado : [12.71655964 12.71655964 12.71655964 ... 31.28818835 31.28818835\n",
      " 31.28818835] \n"
     ]
    }
   ],
   "source": [
    "print(\"media antes del escalado : %s \" % all_values_50kISBL.mean(axis=0))\n",
    "print(\"desviación típica antes del escalado : %s \" % all_values_50kISBL.std(axis=0))"
   ]
  },
  {
   "cell_type": "code",
   "execution_count": null,
   "id": "b19cb16e",
   "metadata": {},
   "outputs": [],
   "source": []
  }
 ],
 "metadata": {
  "kernelspec": {
   "display_name": "tesis",
   "language": "python",
   "name": "tesis"
  },
  "language_info": {
   "codemirror_mode": {
    "name": "ipython",
    "version": 3
   },
   "file_extension": ".py",
   "mimetype": "text/x-python",
   "name": "python",
   "nbconvert_exporter": "python",
   "pygments_lexer": "ipython3",
   "version": "3.8.8"
  }
 },
 "nbformat": 4,
 "nbformat_minor": 5
}
