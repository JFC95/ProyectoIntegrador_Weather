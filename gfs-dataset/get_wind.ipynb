{
 "cells": [
  {
   "cell_type": "code",
   "execution_count": 1,
   "id": "38d67824",
   "metadata": {},
   "outputs": [],
   "source": [
    "#Notebook encargada de crear el dataset Wind"
   ]
  },
  {
   "cell_type": "code",
   "execution_count": 1,
   "id": "d8e271f9",
   "metadata": {},
   "outputs": [],
   "source": [
    "%config Completer.use_jedi = False"
   ]
  },
  {
   "cell_type": "code",
   "execution_count": 2,
   "id": "4d3134f6",
   "metadata": {},
   "outputs": [],
   "source": [
    "import os\n",
    "import pandas as pd\n",
    "from pathlib import Path\n",
    "import georasters as gr\n",
    "from osgeo import gdal\n",
    "import datetime\n",
    "import numpy as np\n",
    "from pathlib import Path\n",
    "import re\n",
    "import seaborn as sns\n",
    "import matplotlib.pyplot as plt"
   ]
  },
  {
   "cell_type": "code",
   "execution_count": 7,
   "id": "1b9adba6",
   "metadata": {},
   "outputs": [],
   "source": [
    "from osgeo import gdal # Import the GDAL library"
   ]
  },
  {
   "cell_type": "code",
   "execution_count": 4,
   "id": "5197c959",
   "metadata": {},
   "outputs": [],
   "source": [
    "lista_paths = list()\n",
    "base = '/opt/datos/gfs/wind_00/gfs.0p25.'\n",
    "ext = '.grib2'\n",
    "start_date = \"2015-01-15 00:00\"\n",
    "finish_date = \"2021-08-21 00:00\"\n",
    "idx = pd.date_range(start_date, finish_date, freq='24H').strftime(\"%Y%m%d%H\")\n",
    "f = ['.f003', '.f006', '.f009', '.f012', '.f015', '.f018', '.f021', '.f024']\n",
    "\n",
    "for time in idx:\n",
    "    for k in f:\n",
    "        time_new = base+time+k+ext\n",
    "        lista_paths.append(time_new)"
   ]
  },
  {
   "cell_type": "code",
   "execution_count": 5,
   "id": "26a297ea",
   "metadata": {},
   "outputs": [
    {
     "name": "stdout",
     "output_type": "stream",
     "text": [
      "/opt/datos/gfs/wind_00/gfs.0p25.2015072100.f015.grib2\n",
      "1500\n"
     ]
    }
   ],
   "source": [
    "print(lista_paths[1500])\n",
    "print(lista_paths.index('/opt/datos/gfs/wind_00/gfs.0p25.2015072100.f015.grib2'))"
   ]
  },
  {
   "cell_type": "code",
   "execution_count": 12,
   "id": "9aa22e15",
   "metadata": {},
   "outputs": [
    {
     "name": "stdout",
     "output_type": "stream",
     "text": [
      "(137, 157)\n"
     ]
    }
   ],
   "source": [
    "print(grib_t.GetRasterBand(1).ReadAsArray().shape)"
   ]
  },
  {
   "cell_type": "code",
   "execution_count": 16,
   "id": "2ee5d4ea",
   "metadata": {},
   "outputs": [],
   "source": [
    "X = np.zeros((19288,2,137,157))\n",
    "for i,path in enumerate(lista_paths): #i va de 0 a 19287\n",
    "    grib = gdal.Open(path)\n",
    "    \n",
    "    #band1 = grib.GetRasterBand(1) #U component wind band: 700mb\n",
    "    #band2 = grib.GetRasterBand(2) #V component wind band: 700mb\n",
    "    \n",
    "    band1 = grib.GetRasterBand(3) #U component wind band: 850mb\n",
    "    band2 = grib.GetRasterBand(4) #V component wind band: 850mb\n",
    "    \n",
    "    data1 = band1.ReadAsArray()\n",
    "    data2 = band2.ReadAsArray()\n",
    "\n",
    "    X[i,0,:,:] = data1\n",
    "    X[i,1,:,:] = data2"
   ]
  },
  {
   "cell_type": "code",
   "execution_count": 17,
   "id": "f452f4fe",
   "metadata": {},
   "outputs": [
    {
     "data": {
      "text/plain": [
       "(19288, 2, 137, 157)"
      ]
     },
     "execution_count": 17,
     "metadata": {},
     "output_type": "execute_result"
    }
   ],
   "source": [
    "X.shape"
   ]
  },
  {
   "cell_type": "code",
   "execution_count": 15,
   "id": "7c9892c4",
   "metadata": {},
   "outputs": [],
   "source": [
    "np.save(\"/opt/datos/dataset/gfs/wind/X_700.npy\", X)"
   ]
  },
  {
   "cell_type": "code",
   "execution_count": null,
   "id": "70f4bff6",
   "metadata": {},
   "outputs": [],
   "source": [
    "np.save(\"/opt/datos/dataset/gfs/wind/X_850.npy\", X)"
   ]
  },
  {
   "cell_type": "markdown",
   "id": "3f2b81fb",
   "metadata": {},
   "source": [
    "### Armado Dataset: (u_wind, v_wind, lluvia) "
   ]
  },
  {
   "cell_type": "code",
   "execution_count": 3,
   "id": "6d69ec58",
   "metadata": {},
   "outputs": [],
   "source": [
    "rain = np.load('/opt/datos/dataset/gfs/Y.npy')\n",
    "#wind_700 = np.load('/opt/datos/dataset/gfs/wind/X_700.npy')\n",
    "wind_850 = np.load('/opt/datos/dataset/gfs/wind/X_850.npy')"
   ]
  },
  {
   "cell_type": "code",
   "execution_count": 4,
   "id": "01c9a1a8",
   "metadata": {},
   "outputs": [
    {
     "name": "stdout",
     "output_type": "stream",
     "text": [
      "(19288, 137, 157)\n"
     ]
    }
   ],
   "source": [
    "print(rain.shape)"
   ]
  },
  {
   "cell_type": "code",
   "execution_count": 4,
   "id": "bac71d96",
   "metadata": {},
   "outputs": [
    {
     "name": "stdout",
     "output_type": "stream",
     "text": [
      "50 %\n"
     ]
    }
   ],
   "source": [
    "#X_700 = np.zeros((19288,3,137,157))\n",
    "X_850 = np.zeros((19288,3,137,157))\n",
    "\n",
    "for i in range(rain.shape[0]):\n",
    "    #X_700[i,0:3,:,:] = rain[i], wind_700[i,0,:,:], wind_700[i,1,:,:] #combinar rain con u y v wind 700\n",
    "    X_850[i,0:3,:,:] = rain[i], wind_850[i,0,:,:], wind_850[i,1,:,:] #combinar rain con u y v wind 850\n",
    "    if(i==10000):\n",
    "        print(\"50 %\")"
   ]
  },
  {
   "cell_type": "code",
   "execution_count": 13,
   "id": "3c79cf98",
   "metadata": {},
   "outputs": [
    {
     "data": {
      "text/plain": [
       "array([[ 2.24000001,  2.19000006,  2.11999989, ..., -0.44      ,\n",
       "        -0.29999998, -0.19999999],\n",
       "       [ 2.5999999 ,  2.57999992,  2.53999996, ..., -0.14999999,\n",
       "         0.        ,  0.22999999],\n",
       "       [ 3.01999998,  2.98000002,  2.95000005, ...,  0.34      ,\n",
       "         0.44999999,  0.69999999],\n",
       "       ...,\n",
       "       [ 2.56999993,  2.71000004,  3.02999997, ...,  5.82999992,\n",
       "         5.75      ,  5.80999994],\n",
       "       [ 3.13999987,  3.02999997,  3.0999999 , ...,  5.36999989,\n",
       "         5.4000001 ,  5.55999994],\n",
       "       [ 3.49000001,  3.61999989,  3.5999999 , ...,  5.07999992,\n",
       "         5.25999975,  5.42999983]])"
      ]
     },
     "execution_count": 13,
     "metadata": {},
     "output_type": "execute_result"
    }
   ],
   "source": [
    "X_700[19287,1,:,:]"
   ]
  },
  {
   "cell_type": "code",
   "execution_count": null,
   "id": "9aab985a",
   "metadata": {},
   "outputs": [],
   "source": [
    "np.save(\"/opt/datos/dataset/gfs/wind/X_rain700.npy\", X_700)"
   ]
  },
  {
   "cell_type": "code",
   "execution_count": 5,
   "id": "344663ca",
   "metadata": {},
   "outputs": [],
   "source": [
    "np.save(\"/opt/datos/dataset/gfs/wind/X_rain850.npy\", X_850)"
   ]
  }
 ],
 "metadata": {
  "kernelspec": {
   "display_name": "tesis",
   "language": "python",
   "name": "tesis"
  },
  "language_info": {
   "codemirror_mode": {
    "name": "ipython",
    "version": 3
   },
   "file_extension": ".py",
   "mimetype": "text/x-python",
   "name": "python",
   "nbconvert_exporter": "python",
   "pygments_lexer": "ipython3",
   "version": "3.8.8"
  }
 },
 "nbformat": 4,
 "nbformat_minor": 5
}
