{
 "cells": [
  {
   "cell_type": "code",
   "execution_count": 1,
   "id": "38d67824",
   "metadata": {},
   "outputs": [],
   "source": [
    "#Notebook encargada de crear el dataset de lluvias"
   ]
  },
  {
   "cell_type": "code",
   "execution_count": 2,
   "id": "d8e271f9",
   "metadata": {},
   "outputs": [],
   "source": [
    "%config Completer.use_jedi = False"
   ]
  },
  {
   "cell_type": "code",
   "execution_count": 1,
   "id": "4d3134f6",
   "metadata": {},
   "outputs": [],
   "source": [
    "import os\n",
    "import pandas as pd\n",
    "from pathlib import Path\n",
    "import georasters as gr\n",
    "from osgeo import gdal\n",
    "import datetime\n",
    "import numpy as np\n",
    "from pathlib import Path\n",
    "import re\n",
    "import seaborn as sns\n",
    "import matplotlib.pyplot as plt"
   ]
  },
  {
   "cell_type": "code",
   "execution_count": 2,
   "id": "5197c959",
   "metadata": {},
   "outputs": [],
   "source": [
    "lista_paths = list()\n",
    "base = '/opt/datos/gfs/lluvias_00/gfs.0p25.'\n",
    "ext = '.grib2'\n",
    "start_date = \"2015-01-15 00:00\"\n",
    "finish_date = \"2021-08-21 00:00\"\n",
    "idx = pd.date_range(start_date, finish_date, freq='24H').strftime(\"%Y%m%d%H\")\n",
    "f = ['.f003', '.f006', '.f009', '.f012', '.f015', '.f018', '.f021', '.f024']\n",
    "\n",
    "for time in idx:\n",
    "    for k in f:\n",
    "        time_new = base+time+k+ext\n",
    "        lista_paths.append(time_new)"
   ]
  },
  {
   "cell_type": "code",
   "execution_count": 4,
   "id": "26a297ea",
   "metadata": {},
   "outputs": [
    {
     "data": {
      "text/plain": [
       "19288"
      ]
     },
     "execution_count": 4,
     "metadata": {},
     "output_type": "execute_result"
    }
   ],
   "source": [
    "len(lista_paths)"
   ]
  },
  {
   "cell_type": "code",
   "execution_count": 54,
   "id": "2ee5d4ea",
   "metadata": {},
   "outputs": [],
   "source": [
    "X = np.zeros((19288,137,157))\n",
    "for i,path in enumerate(lista_paths): #i va de 0 a 19287\n",
    "    grib = gdal.Open(path)\n",
    "    band1 = grib.GetRasterBand(1) #prec total\n",
    "    band2 = grib.GetRasterBand(2) #prec convectiva\n",
    "    data1 = band1.ReadAsArray()\n",
    "    data2 = band2.ReadAsArray()\n",
    "    data = data1 + data2\n",
    "    \n",
    "    if(i%2 == 0):\n",
    "        X[i,:,:] = data\n",
    "    elif(i%2 == 1):\n",
    "        grib_anterior = gdal.Open(lista_paths[i-1])\n",
    "        band1_a = grib_anterior.GetRasterBand(1) #prec total\n",
    "        band2_a = grib_anterior.GetRasterBand(2) #prec convectiva\n",
    "        data1_a = band1_a.ReadAsArray()\n",
    "        data2_a = band2_a.ReadAsArray()\n",
    "        data_a = data1_a + data2_a\n",
    "        \n",
    "        data_final = data - data_a\n",
    "        X[i,:,:] = data_final"
   ]
  },
  {
   "cell_type": "code",
   "execution_count": 55,
   "id": "f452f4fe",
   "metadata": {},
   "outputs": [
    {
     "data": {
      "text/plain": [
       "(19288, 137, 157)"
      ]
     },
     "execution_count": 55,
     "metadata": {},
     "output_type": "execute_result"
    }
   ],
   "source": [
    "X.shape"
   ]
  },
  {
   "cell_type": "code",
   "execution_count": 56,
   "id": "7c9892c4",
   "metadata": {},
   "outputs": [],
   "source": [
    "np.save(\"/home/joaquinfunes/X.npy\", X)"
   ]
  },
  {
   "cell_type": "code",
   "execution_count": null,
   "id": "6082b6ad",
   "metadata": {},
   "outputs": [],
   "source": [
    "#verificacion"
   ]
  },
  {
   "cell_type": "code",
   "execution_count": 73,
   "id": "59fb2ef5",
   "metadata": {},
   "outputs": [
    {
     "name": "stdout",
     "output_type": "stream",
     "text": [
      "True\n"
     ]
    }
   ],
   "source": [
    "# f pares: f003 - f009 - f015 - f021\n",
    "#          X[0] - X[2] - X[4] - X[6]\n",
    "grib = gdal.Open('/opt/datos/gfs/lluvias_00/gfs.0p25.2015011600.f015.grib2')\n",
    "band1 = grib.GetRasterBand(1)\n",
    "band2 = grib.GetRasterBand(2)\n",
    "data1 = band1.ReadAsArray()\n",
    "data2 = band2.ReadAsArray()\n",
    "data = data1 + data2\n",
    "print(np.array_equal(X[12,:,:], data))"
   ]
  },
  {
   "cell_type": "code",
   "execution_count": 84,
   "id": "b7843e39",
   "metadata": {},
   "outputs": [
    {
     "name": "stdout",
     "output_type": "stream",
     "text": [
      "True\n"
     ]
    }
   ],
   "source": [
    "# f pares: f006 - f012 - f018 - f024\n",
    "#          X[1] - X[3] - X[5] - X[7]\n",
    "#          X[9] - X[11]  X[13]  X[15]\n",
    "grib = gdal.Open('/opt/datos/gfs/lluvias_00/gfs.0p25.2015011600.f012.grib2')\n",
    "grib_a = gdal.Open('/opt/datos/gfs/lluvias_00/gfs.0p25.2015011600.f009.grib2')\n",
    "band1 = grib.GetRasterBand(1)\n",
    "band2 = grib.GetRasterBand(2)\n",
    "data1 = band1.ReadAsArray()\n",
    "data2 = band2.ReadAsArray()\n",
    "data = data1 + data2\n",
    "band1_a = grib_a.GetRasterBand(1)\n",
    "band2_a = grib_a.GetRasterBand(2)\n",
    "data1_a = band1_a.ReadAsArray()\n",
    "data2_a = band2_a.ReadAsArray()\n",
    "data_a = data1_a + data2_a\n",
    "\n",
    "data_final = data - data_a\n",
    "print(np.array_equal(X[11,:,:], data_final))"
   ]
  }
 ],
 "metadata": {
  "kernelspec": {
   "display_name": "tesis",
   "language": "python",
   "name": "tesis"
  },
  "language_info": {
   "codemirror_mode": {
    "name": "ipython",
    "version": 3
   },
   "file_extension": ".py",
   "mimetype": "text/x-python",
   "name": "python",
   "nbconvert_exporter": "python",
   "pygments_lexer": "ipython3",
   "version": "3.8.8"
  }
 },
 "nbformat": 4,
 "nbformat_minor": 5
}
