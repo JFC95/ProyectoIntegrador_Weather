{
 "cells": [
  {
   "cell_type": "code",
   "execution_count": null,
   "id": "1920add3",
   "metadata": {},
   "outputs": [],
   "source": [
    "asdasdas"
   ]
  }
 ],
 "metadata": {
  "kernelspec": {
   "display_name": "tesis",
   "language": "python",
   "name": "tesis"
  },
  "language_info": {
   "codemirror_mode": {
    "name": "ipython",
    "version": 3
   },
   "file_extension": ".py",
   "mimetype": "text/x-python",
   "name": "python",
   "nbconvert_exporter": "python",
   "pygments_lexer": "ipython3",
   "version": "3.8.8"
  }
 },
 "nbformat": 4,
 "nbformat_minor": 5
}
