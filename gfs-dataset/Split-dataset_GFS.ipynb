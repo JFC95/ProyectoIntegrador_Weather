{
 "cells": [
  {
   "cell_type": "code",
   "execution_count": 1,
   "id": "4b443409",
   "metadata": {},
   "outputs": [],
   "source": [
    "import numpy as np\n",
    "import matplotlib.pyplot as plt"
   ]
  },
  {
   "cell_type": "markdown",
   "id": "29230ba2",
   "metadata": {},
   "source": [
    "## Carga dataset:\n",
    "\n",
    "### hgt:  [0:100,       1:200,      2:300,     3:400,      4:500,      5:600,      6:700,      7:800,     8:900,        9:1000 ]"
   ]
  },
  {
   "cell_type": "code",
   "execution_count": 2,
   "id": "536939ce",
   "metadata": {},
   "outputs": [
    {
     "name": "stdout",
     "output_type": "stream",
     "text": [
      "(19288, 10, 137, 157)\n",
      "(19288, 3, 137, 157)\n"
     ]
    }
   ],
   "source": [
    "X = np.load(\"/opt/datos/dataset/gfs/X.npy\")\n",
    "\n",
    "print(X.shape)\n",
    "\n",
    "\n",
    "#       Larra |80/10/10|70/15/15\n",
    "#train: 12344 | 15430  | 13502\n",
    "#val  : 3086  | 1929   | 2893\n",
    "#test : 3858  | 1929   | 2893\n",
    "\n",
    "\n",
    "#i=3 #400\n",
    "#j=7 #800\n",
    "#k=9 #1000\n",
    "\n",
    "i=4 #500\n",
    "j=6 #700\n",
    "k=9 #1000\n",
    "\n",
    "X_new = X[:, [i,j,k], :, :]\n",
    "print(X_new.shape)\n",
    "X = None"
   ]
  },
  {
   "cell_type": "code",
   "execution_count": 3,
   "id": "7127d969",
   "metadata": {},
   "outputs": [],
   "source": [
    "idxs = np.arange(X_new.shape[0])\n",
    "np.random.seed(0)\n",
    "np.random.shuffle(idxs)\n",
    "\n",
    "X_new = X_new[idxs, :, :, :]"
   ]
  },
  {
   "cell_type": "code",
   "execution_count": 4,
   "id": "42fb7487",
   "metadata": {},
   "outputs": [],
   "source": [
    "np.save(\"/opt/datos/dataset/gfs/X_shuffle_4-6-9.npy\",X_new)"
   ]
  },
  {
   "cell_type": "code",
   "execution_count": 6,
   "id": "3f1ad004",
   "metadata": {},
   "outputs": [],
   "source": [
    "X_new = None"
   ]
  },
  {
   "cell_type": "code",
   "execution_count": 7,
   "id": "00c89196",
   "metadata": {},
   "outputs": [
    {
     "name": "stdout",
     "output_type": "stream",
     "text": [
      "Variable   Type        Data/Info\n",
      "--------------------------------\n",
      "X          NoneType    None\n",
      "X_new      NoneType    None\n",
      "i          int         4\n",
      "idxs       ndarray     19288: 19288 elems, type `int64`, 154304 bytes (150.6875 kb)\n",
      "j          int         6\n",
      "k          int         9\n",
      "np         module      <module 'numpy' from '/ho<...>kages/numpy/__init__.py'>\n",
      "plt        module      <module 'matplotlib.pyplo<...>es/matplotlib/pyplot.py'>\n"
     ]
    }
   ],
   "source": [
    "%whos"
   ]
  },
  {
   "cell_type": "markdown",
   "id": "0260d730",
   "metadata": {},
   "source": [
    "### lluvias"
   ]
  },
  {
   "cell_type": "code",
   "execution_count": 8,
   "id": "5aa8deb0",
   "metadata": {},
   "outputs": [
    {
     "name": "stdout",
     "output_type": "stream",
     "text": [
      "(19288, 137, 157)\n"
     ]
    }
   ],
   "source": [
    "Y = np.load(\"/opt/datos/dataset/gfs/Y.npy\")\n",
    "Y_new = Y[idxs, :, :]\n",
    "print(Y.shape)"
   ]
  },
  {
   "cell_type": "code",
   "execution_count": 9,
   "id": "e2eafd88",
   "metadata": {},
   "outputs": [],
   "source": [
    "Y_s = np.load(\"/opt/datos/dataset/gfs/Y_shuffle.npy\")"
   ]
  },
  {
   "cell_type": "code",
   "execution_count": 11,
   "id": "872e451d",
   "metadata": {},
   "outputs": [
    {
     "name": "stdout",
     "output_type": "stream",
     "text": [
      "(19288, 137, 157)\n"
     ]
    }
   ],
   "source": [
    "print(np.equal(Y_s,Y_new).shape)"
   ]
  },
  {
   "cell_type": "code",
   "execution_count": 9,
   "id": "c4bcf6f6",
   "metadata": {},
   "outputs": [],
   "source": [
    "y_train = Y_new[:13502, :, :]\n",
    "y_val   = Y_new[13502:16395, :, :]\n",
    "y_test  = Y_new[16395:19288, :, :]"
   ]
  },
  {
   "cell_type": "code",
   "execution_count": 10,
   "id": "15dc0919",
   "metadata": {},
   "outputs": [],
   "source": [
    "Y = None"
   ]
  },
  {
   "cell_type": "code",
   "execution_count": 11,
   "id": "8da3959d",
   "metadata": {},
   "outputs": [
    {
     "name": "stdout",
     "output_type": "stream",
     "text": [
      "(13502, 137, 157)\n",
      "(2893, 137, 157)\n",
      "(2893, 137, 157)\n"
     ]
    }
   ],
   "source": [
    "print(y_train.shape)\n",
    "print(y_val.shape)\n",
    "print(y_test.shape)"
   ]
  },
  {
   "cell_type": "code",
   "execution_count": 12,
   "id": "eda5794b",
   "metadata": {},
   "outputs": [],
   "source": [
    "## Y:\n",
    "np.save(\"/opt/datos/dataset/gfs/Y_train.npy\",y_train)\n",
    "np.save(\"/opt/datos/dataset/gfs/Y_val.npy\",y_val)\n",
    "np.save(\"/opt/datos/dataset/gfs/Y_test.npy\",y_test)"
   ]
  },
  {
   "cell_type": "code",
   "execution_count": 13,
   "id": "825f98f9",
   "metadata": {},
   "outputs": [],
   "source": [
    "y_train = None\n",
    "y_val   = None\n",
    "y_test  = None"
   ]
  }
 ],
 "metadata": {
  "kernelspec": {
   "display_name": "tesis",
   "language": "python",
   "name": "tesis"
  },
  "language_info": {
   "codemirror_mode": {
    "name": "ipython",
    "version": 3
   },
   "file_extension": ".py",
   "mimetype": "text/x-python",
   "name": "python",
   "nbconvert_exporter": "python",
   "pygments_lexer": "ipython3",
   "version": "3.8.8"
  }
 },
 "nbformat": 4,
 "nbformat_minor": 5
}
