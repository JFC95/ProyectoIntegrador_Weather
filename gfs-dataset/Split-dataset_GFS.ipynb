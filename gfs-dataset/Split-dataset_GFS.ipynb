{
 "cells": [
  {
   "cell_type": "code",
   "execution_count": 1,
   "id": "4b443409",
   "metadata": {},
   "outputs": [],
   "source": [
    "import numpy as np\n",
    "import matplotlib.pyplot as plt"
   ]
  },
  {
   "cell_type": "markdown",
   "id": "29230ba2",
   "metadata": {},
   "source": [
    "## Carga dataset:\n",
    "\n",
    "### hgt:  [0:100,       1:200,      2:300,     3:400,      4:500,      5:600,      6:700,      7:800,     8:900,        9:1000 ]"
   ]
  },
  {
   "cell_type": "code",
   "execution_count": 2,
   "id": "536939ce",
   "metadata": {},
   "outputs": [
    {
     "name": "stdout",
     "output_type": "stream",
     "text": [
      "(19288, 10, 137, 157)\n"
     ]
    }
   ],
   "source": [
    "X = np.load(\"/opt/datos/dataset/gfs/X.npy\")\n",
    "\n",
    "print(X.shape)\n",
    "\n",
    "#(34575, 80, 120, 3) train\n",
    "#(8643, 80, 120, 3) val\n",
    "#(10805, 80, 120, 3) test\n",
    "#       Larra |80/10/10|70/15/15\n",
    "#train: 12344 | 15430  | 13502\n",
    "#val  : 3086  | 1929   | 2893\n",
    "#test : 3858  | 1929   | 2893\n",
    "\n",
    "#(34575, 80, 120, 1) train\n",
    "#(8643, 80, 120, 1) val \n",
    "#(10805, 80, 120, 1) test\n",
    "\n",
    "i=3 #400\n",
    "j=7 #800\n",
    "k=9 #1000"
   ]
  },
  {
   "cell_type": "code",
   "execution_count": 3,
   "id": "42fb7487",
   "metadata": {},
   "outputs": [],
   "source": [
    "x_train = X[:13502, [i,j,k], :, :]\n",
    "x_val   = X[13502:16395, [i,j,k], :, :]\n",
    "x_test  = X[16395:19288, [i,j,k], :, :]"
   ]
  },
  {
   "cell_type": "code",
   "execution_count": 4,
   "id": "9fc537ab",
   "metadata": {},
   "outputs": [],
   "source": [
    "X = None"
   ]
  },
  {
   "cell_type": "code",
   "execution_count": 5,
   "id": "a24690cc",
   "metadata": {},
   "outputs": [
    {
     "name": "stdout",
     "output_type": "stream",
     "text": [
      "(13502, 3, 137, 157)\n",
      "(2893, 3, 137, 157)\n",
      "(2893, 3, 137, 157)\n"
     ]
    }
   ],
   "source": [
    "print(x_train.shape)\n",
    "print(x_val.shape)\n",
    "print(x_test.shape)"
   ]
  },
  {
   "cell_type": "code",
   "execution_count": 6,
   "id": "f1cd0279",
   "metadata": {},
   "outputs": [],
   "source": [
    "## X:\n",
    "np.save(\"/opt/datos/dataset/gfs/X_train_3-7-9.npy\",x_train)\n",
    "np.save(\"/opt/datos/dataset/gfs/X_val_3-7-9.npy\",x_val)\n",
    "np.save(\"/opt/datos/dataset/gfs/X_test_3-7-9.npy\",x_test)"
   ]
  },
  {
   "cell_type": "code",
   "execution_count": 7,
   "id": "6b8f175e",
   "metadata": {},
   "outputs": [],
   "source": [
    "x_train = None\n",
    "x_val   = None\n",
    "x_test  = None"
   ]
  },
  {
   "cell_type": "markdown",
   "id": "0260d730",
   "metadata": {},
   "source": [
    "### lluvias"
   ]
  },
  {
   "cell_type": "code",
   "execution_count": 8,
   "id": "5aa8deb0",
   "metadata": {},
   "outputs": [
    {
     "name": "stdout",
     "output_type": "stream",
     "text": [
      "(19288, 137, 157)\n"
     ]
    }
   ],
   "source": [
    "Y = np.load(\"/opt/datos/dataset/gfs/Y.npy\")\n",
    "print(Y.shape)"
   ]
  },
  {
   "cell_type": "code",
   "execution_count": 9,
   "id": "c4bcf6f6",
   "metadata": {},
   "outputs": [],
   "source": [
    "y_train = Y[:13502, :, :]\n",
    "y_val   = Y[13502:16395, :, :]\n",
    "y_test  = Y[16395:19288, :, :]"
   ]
  },
  {
   "cell_type": "code",
   "execution_count": 10,
   "id": "15dc0919",
   "metadata": {},
   "outputs": [],
   "source": [
    "Y = None"
   ]
  },
  {
   "cell_type": "code",
   "execution_count": 11,
   "id": "8da3959d",
   "metadata": {},
   "outputs": [
    {
     "name": "stdout",
     "output_type": "stream",
     "text": [
      "(13502, 137, 157)\n",
      "(2893, 137, 157)\n",
      "(2893, 137, 157)\n"
     ]
    }
   ],
   "source": [
    "print(y_train.shape)\n",
    "print(y_val.shape)\n",
    "print(y_test.shape)"
   ]
  },
  {
   "cell_type": "code",
   "execution_count": 12,
   "id": "eda5794b",
   "metadata": {},
   "outputs": [],
   "source": [
    "## Y:\n",
    "np.save(\"/opt/datos/dataset/gfs/Y_train.npy\",y_train)\n",
    "np.save(\"/opt/datos/dataset/gfs/Y_val.npy\",y_val)\n",
    "np.save(\"/opt/datos/dataset/gfs/Y_test.npy\",y_test)"
   ]
  },
  {
   "cell_type": "code",
   "execution_count": 13,
   "id": "825f98f9",
   "metadata": {},
   "outputs": [],
   "source": [
    "y_train = None\n",
    "y_val   = None\n",
    "y_test  = None"
   ]
  }
 ],
 "metadata": {
  "kernelspec": {
   "display_name": "tesis",
   "language": "python",
   "name": "tesis"
  },
  "language_info": {
   "codemirror_mode": {
    "name": "ipython",
    "version": 3
   },
   "file_extension": ".py",
   "mimetype": "text/x-python",
   "name": "python",
   "nbconvert_exporter": "python",
   "pygments_lexer": "ipython3",
   "version": "3.8.8"
  }
 },
 "nbformat": 4,
 "nbformat_minor": 5
}
