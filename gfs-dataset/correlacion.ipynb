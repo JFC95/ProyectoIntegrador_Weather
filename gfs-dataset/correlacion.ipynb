{
 "cells": [
  {
   "cell_type": "code",
   "execution_count": 1,
   "id": "f37b206e",
   "metadata": {},
   "outputs": [],
   "source": [
    "import numpy as np\n",
    "import seaborn as sns\n",
    "import pandas as pd\n",
    "import matplotlib.pyplot as plt"
   ]
  },
  {
   "cell_type": "code",
   "execution_count": 3,
   "id": "3f70aa0e",
   "metadata": {},
   "outputs": [
    {
     "name": "stdout",
     "output_type": "stream",
     "text": [
      "x: (13502, 3, 137, 157)\n",
      "y: (13502, 137, 157)\n"
     ]
    }
   ],
   "source": [
    "x = np.load(\"/opt/datos/dataset/gfs/X_train_3-7-9.npy\")\n",
    "y = np.load(\"/opt/datos/dataset/gfs/Y_train.npy\")\n",
    "\n",
    "print(f'x: {x.shape}')\n",
    "print(f'y: {y.shape}')"
   ]
  },
  {
   "cell_type": "code",
   "execution_count": 4,
   "id": "ab087200",
   "metadata": {},
   "outputs": [],
   "source": [
    "x0 = x[:,0, :, :]\n",
    "x1 = x[:,1, :, :]\n",
    "x2 = x[:,2, :, :]\n",
    "\n",
    "\n",
    "x0_f = x0.flatten()\n",
    "x1_f = x1.flatten()\n",
    "x2_f = x2.flatten()\n",
    "y_f = y.flatten()\n",
    "\n",
    "x = None\n",
    "y = None\n",
    "x0 = None\n",
    "x1 = None\n",
    "x2 = None"
   ]
  },
  {
   "cell_type": "code",
   "execution_count": 5,
   "id": "3dea1f5b",
   "metadata": {},
   "outputs": [],
   "source": [
    "df = pd.DataFrame()\n",
    "df['altura400'] = x0_f\n",
    "df['altura800'] = x1_f\n",
    "df['altura1000'] = x2_f\n",
    "df['mm'] = y_f"
   ]
  },
  {
   "cell_type": "code",
   "execution_count": 6,
   "id": "8f2470fa",
   "metadata": {},
   "outputs": [],
   "source": [
    "# Libero memoria\n",
    "x0_f = None\n",
    "x1_f = None\n",
    "x2_f = None"
   ]
  },
  {
   "cell_type": "code",
   "execution_count": 7,
   "id": "af484698",
   "metadata": {},
   "outputs": [
    {
     "name": "stdout",
     "output_type": "stream",
     "text": [
      "            altura400  altura800  altura1000        mm\n",
      "altura400    1.000000   0.898732    0.628156 -0.022489\n",
      "altura800    0.898732   1.000000    0.889139 -0.074798\n",
      "altura1000   0.628156   0.889139    1.000000 -0.127275\n",
      "mm          -0.022489  -0.074798   -0.127275  1.000000\n"
     ]
    },
    {
     "data": {
      "text/plain": [
       "<AxesSubplot:>"
      ]
     },
     "execution_count": 7,
     "metadata": {},
     "output_type": "execute_result"
    },
    {
     "data": {
      "image/png": "[encoded data removed]",
      "text/plain": [
       "<Figure size 576x576 with 2 Axes>"
      ]
     },
     "metadata": {
      "needs_background": "light"
     },
     "output_type": "display_data"
    }
   ],
   "source": [
    "co = df.corr()\n",
    "print(co)\n",
    "f = plt.figure(figsize=(8,8))\n",
    "sns.heatmap(co)"
   ]
  }
 ],
 "metadata": {
  "kernelspec": {
   "display_name": "tesis",
   "language": "python",
   "name": "tesis"
  },
  "language_info": {
   "codemirror_mode": {
    "name": "ipython",
    "version": 3
   },
   "file_extension": ".py",
   "mimetype": "text/x-python",
   "name": "python",
   "nbconvert_exporter": "python",
   "pygments_lexer": "ipython3",
   "version": "3.8.8"
  }
 },
 "nbformat": 4,
 "nbformat_minor": 5
}
