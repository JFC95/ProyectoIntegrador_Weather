{
 "cells": [
  {
   "cell_type": "code",
   "execution_count": 1,
   "id": "360e64f0",
   "metadata": {},
   "outputs": [],
   "source": [
    "from tensorflow.keras.models import Sequential\n",
    "from tensorflow.keras import metrics\n",
    "from tensorflow.keras.callbacks import ModelCheckpoint, Callback\n",
    "from tensorflow.keras.utils import to_categorical\n",
    "from tensorflow.keras.models import load_model\n",
    "from tensorflow.keras.layers import BatchNormalization, Conv2D, UpSampling2D, MaxPooling2D, Dropout, Flatten, Dense, Activation\n",
    "from tensorflow.keras.optimizers import Adam, SGD\n",
    "from tensorflow.keras import regularizers\n",
    "from tensorflow.keras.callbacks import LearningRateScheduler\n",
    "from sklearn.metrics import confusion_matrix, f1_score, precision_score, recall_score, precision_recall_curve, accuracy_score, zero_one_loss, balanced_accuracy_score, average_precision_score\n",
    "from sklearn.metrics import classification_report\n",
    "from inspect import signature\n",
    "import matplotlib.pyplot as plt\n",
    "import numpy as np\n",
    "import tensorflow\n",
    "import os\n",
    "import pickle\n",
    "import sys\n",
    "import logging\n",
    "from tensorflow.keras import layers\n",
    "from tensorflow.keras import Input\n",
    "from tensorflow.keras import backend\n",
    "\n",
    "import seaborn as sns\n",
    "from pylab import rcParams\n",
    "\n",
    "from imblearn.under_sampling import NearMiss\n",
    "from imblearn.over_sampling import RandomOverSampler\n",
    "from imblearn.combine import SMOTETomek\n",
    "from imblearn.ensemble import BalancedBaggingClassifier\n",
    "from imblearn.over_sampling import SMOTE\n",
    "from imblearn.combine import SMOTETomek\n",
    "\n",
    "from collections import Counter"
   ]
  },
  {
   "cell_type": "code",
   "execution_count": 2,
   "id": "b3b74c51",
   "metadata": {},
   "outputs": [],
   "source": [
    "##################################################################################################################\n",
    "############################################ SEQUENTIAL ##########################################################\n",
    "##################################################################################################################"
   ]
  },
  {
   "cell_type": "code",
   "execution_count": 2,
   "id": "c73e345d",
   "metadata": {},
   "outputs": [],
   "source": [
    "backend.set_image_data_format('channels_first')"
   ]
  },
  {
   "cell_type": "code",
   "execution_count": 3,
   "id": "d53a29cd",
   "metadata": {},
   "outputs": [
    {
     "name": "stdout",
     "output_type": "stream",
     "text": [
      "Model: \"sequential\"\n",
      "_________________________________________________________________\n",
      "Layer (type)                 Output Shape              Param #   \n",
      "=================================================================\n",
      "batch_normalization (BatchNo (None, 3, 176, 176)       704       \n",
      "_________________________________________________________________\n",
      "block1_conv1 (Conv2D)        (None, 64, 176, 176)      1792      \n",
      "_________________________________________________________________\n",
      "batch_normalization_1 (Batch (None, 64, 176, 176)      704       \n",
      "_________________________________________________________________\n",
      "block1_conv2 (Conv2D)        (None, 64, 176, 176)      36928     \n",
      "_________________________________________________________________\n",
      "block1_pool (MaxPooling2D)   (None, 64, 88, 88)        0         \n",
      "_________________________________________________________________\n",
      "batch_normalization_2 (Batch (None, 64, 88, 88)        352       \n",
      "_________________________________________________________________\n",
      "block2_conv1 (Conv2D)        (None, 128, 88, 88)       73856     \n",
      "_________________________________________________________________\n",
      "batch_normalization_3 (Batch (None, 128, 88, 88)       352       \n",
      "_________________________________________________________________\n",
      "block2_conv2 (Conv2D)        (None, 128, 88, 88)       147584    \n",
      "_________________________________________________________________\n",
      "block2_pool (MaxPooling2D)   (None, 128, 44, 44)       0         \n",
      "_________________________________________________________________\n",
      "batch_normalization_4 (Batch (None, 128, 44, 44)       176       \n",
      "_________________________________________________________________\n",
      "block3_conv1 (Conv2D)        (None, 256, 44, 44)       295168    \n",
      "_________________________________________________________________\n",
      "batch_normalization_5 (Batch (None, 256, 44, 44)       176       \n",
      "_________________________________________________________________\n",
      "block3_conv2 (Conv2D)        (None, 256, 44, 44)       590080    \n",
      "_________________________________________________________________\n",
      "block3_pool (MaxPooling2D)   (None, 256, 22, 22)       0         \n",
      "_________________________________________________________________\n",
      "batch_normalization_6 (Batch (None, 256, 22, 22)       88        \n",
      "_________________________________________________________________\n",
      "block4_conv1 (Conv2D)        (None, 512, 22, 22)       1180160   \n",
      "_________________________________________________________________\n",
      "batch_normalization_7 (Batch (None, 512, 22, 22)       88        \n",
      "_________________________________________________________________\n",
      "block4_conv2 (Conv2D)        (None, 512, 22, 22)       2359808   \n",
      "_________________________________________________________________\n",
      "block4_pool (MaxPooling2D)   (None, 512, 11, 11)       0         \n",
      "_________________________________________________________________\n",
      "batch_normalization_8 (Batch (None, 512, 11, 11)       44        \n",
      "_________________________________________________________________\n",
      "block5_conv1 (Conv2D)        (None, 512, 11, 11)       2359808   \n",
      "_________________________________________________________________\n",
      "batch_normalization_9 (Batch (None, 512, 11, 11)       44        \n",
      "_________________________________________________________________\n",
      "block5_conv2 (Conv2D)        (None, 512, 11, 11)       2359808   \n",
      "_________________________________________________________________\n",
      "block6_upsampl (UpSampling2D (None, 512, 22, 22)       0         \n",
      "_________________________________________________________________\n",
      "batch_normalization_10 (Batc (None, 512, 22, 22)       88        \n",
      "_________________________________________________________________\n",
      "block6_conv1 (Conv2D)        (None, 512, 22, 22)       2359808   \n",
      "_________________________________________________________________\n",
      "batch_normalization_11 (Batc (None, 512, 22, 22)       88        \n",
      "_________________________________________________________________\n",
      "block6_conv2 (Conv2D)        (None, 512, 22, 22)       2359808   \n",
      "_________________________________________________________________\n",
      "block7_upsampl (UpSampling2D (None, 512, 44, 44)       0         \n",
      "_________________________________________________________________\n",
      "batch_normalization_12 (Batc (None, 512, 44, 44)       176       \n",
      "_________________________________________________________________\n",
      "block7_conv1 (Conv2D)        (None, 256, 44, 44)       1179904   \n",
      "_________________________________________________________________\n",
      "batch_normalization_13 (Batc (None, 256, 44, 44)       176       \n",
      "_________________________________________________________________\n",
      "block7_conv2 (Conv2D)        (None, 256, 44, 44)       590080    \n",
      "_________________________________________________________________\n",
      "block8_upsampl (UpSampling2D (None, 256, 88, 88)       0         \n",
      "_________________________________________________________________\n",
      "batch_normalization_14 (Batc (None, 256, 88, 88)       352       \n",
      "_________________________________________________________________\n",
      "block8_conv1 (Conv2D)        (None, 128, 88, 88)       295040    \n",
      "_________________________________________________________________\n",
      "batch_normalization_15 (Batc (None, 128, 88, 88)       352       \n",
      "_________________________________________________________________\n",
      "block8_conv2 (Conv2D)        (None, 128, 88, 88)       147584    \n",
      "_________________________________________________________________\n",
      "block9_upsampl (UpSampling2D (None, 128, 176, 176)     0         \n",
      "_________________________________________________________________\n",
      "batch_normalization_16 (Batc (None, 128, 176, 176)     704       \n",
      "_________________________________________________________________\n",
      "block9_conv1 (Conv2D)        (None, 64, 176, 176)      73792     \n",
      "_________________________________________________________________\n",
      "batch_normalization_17 (Batc (None, 64, 176, 176)      704       \n",
      "_________________________________________________________________\n",
      "block9_conv2 (Conv2D)        (None, 64, 176, 176)      36928     \n",
      "_________________________________________________________________\n",
      "batch_normalization_18 (Batc (None, 64, 176, 176)      704       \n",
      "_________________________________________________________________\n",
      "block10_conv1 (Conv2D)       (None, 1, 176, 176)       65        \n",
      "=================================================================\n",
      "Total params: 16,454,073\n",
      "Trainable params: 16,451,037\n",
      "Non-trainable params: 3,036\n",
      "_________________________________________________________________\n",
      "None\n"
     ]
    }
   ],
   "source": [
    "def get_vgg16():\n",
    "    model = Sequential()\n",
    "\n",
    "    # Encoder\n",
    "    # Block 1\n",
    "    model.add(BatchNormalization(axis=3, input_shape=(3, 176, 176)))\n",
    "    #model.add(Dropout(.2))\n",
    "    model.add(Conv2D(64, (3, 3), padding='same', activation='relu', bias_regularizer=regularizers.l1(0.01), name='block1_conv1', input_shape=(3, 176, 176)))\n",
    "    model.add(BatchNormalization(axis=3))\n",
    "    model.add(Conv2D(64, (3, 3), padding='same', activation='relu', bias_regularizer=regularizers.l1(0.01), name='block1_conv2'))\n",
    "    model.add(MaxPooling2D((2, 2), strides=(2, 2), name='block1_pool'))\n",
    "\n",
    "    # Block 2\n",
    "    model.add(BatchNormalization(axis=3))\n",
    "    model.add(Conv2D(128, (3, 3), padding='same', activation='relu', bias_regularizer=regularizers.l1(0.01), name='block2_conv1'))\n",
    "    model.add(BatchNormalization(axis=3))\n",
    "    model.add(Conv2D(128, (3, 3), padding='same', activation='relu', bias_regularizer=regularizers.l1(0.01), name='block2_conv2'))\n",
    "    model.add(MaxPooling2D((2, 2), strides=(2, 2), name='block2_pool'))\n",
    "\n",
    "    # Block 3\n",
    "    model.add(BatchNormalization(axis=3))\n",
    "    model.add(Conv2D(256, (3, 3), padding='same', activation='relu', bias_regularizer=regularizers.l1(0.01), name='block3_conv1'))\n",
    "    model.add(BatchNormalization(axis=3))\n",
    "    model.add(Conv2D(256, (3, 3), padding='same', activation='relu', bias_regularizer=regularizers.l1(0.01), name='block3_conv2'))\n",
    "    model.add(MaxPooling2D((2, 2), strides=(2, 2), name='block3_pool'))\n",
    "\n",
    "    # Block 4\n",
    "    model.add(BatchNormalization(axis=3))\n",
    "    model.add(Conv2D(512, (3, 3), padding='same', activation='relu', bias_regularizer=regularizers.l1(0.01), name='block4_conv1'))\n",
    "    model.add(BatchNormalization(axis=3))\n",
    "    model.add(Conv2D(512, (3, 3), padding='same', activation='relu', bias_regularizer=regularizers.l1(0.01), name='block4_conv2'))\n",
    "    model.add(MaxPooling2D((2, 2), strides=(2, 2), name='block4_pool'))\n",
    "\n",
    "\n",
    "    # Block 5\n",
    "    model.add(BatchNormalization(axis=3))\n",
    "    model.add(Conv2D(512, (3, 3), padding='same', activation='relu', bias_regularizer=regularizers.l1(0.01), name='block5_conv1'))\n",
    "    model.add(BatchNormalization(axis=3))\n",
    "    model.add(Conv2D(512, (3, 3), padding='same', activation='relu', bias_regularizer=regularizers.l1(0.01), name='block5_conv2'))\n",
    "\n",
    "    # Decoder\n",
    "    # Block 6\n",
    "    model.add(UpSampling2D((2, 2), name='block6_upsampl'))\n",
    "    model.add(BatchNormalization(axis=3))\n",
    "    model.add(Conv2D(512, (3, 3), padding='same', activation='relu', bias_regularizer=regularizers.l1(0.01), name='block6_conv1'))\n",
    "    model.add(BatchNormalization(axis=3))\n",
    "    model.add(Conv2D(512, (3, 3), padding='same', activation='relu', bias_regularizer=regularizers.l1(0.01), name='block6_conv2'))\n",
    "\n",
    "    # Block 7\n",
    "    model.add(UpSampling2D((2, 2), name='block7_upsampl'))\n",
    "    model.add(BatchNormalization(axis=3))\n",
    "    model.add(Conv2D(256, (3, 3), padding='same', activation='relu', bias_regularizer=regularizers.l1(0.01), name='block7_conv1'))\n",
    "    model.add(BatchNormalization(axis=3))\n",
    "    model.add(Conv2D(256, (3, 3), padding='same', activation='relu', bias_regularizer=regularizers.l1(0.01), name='block7_conv2'))\n",
    "\n",
    "    # Block 8\n",
    "    model.add(UpSampling2D((2, 2), name='block8_upsampl'))\n",
    "    model.add(BatchNormalization(axis=3))\n",
    "    model.add(Conv2D(128, (3, 3), padding='same', activation='relu', bias_regularizer=regularizers.l1(0.01), name='block8_conv1'))\n",
    "    model.add(BatchNormalization(axis=3))\n",
    "    model.add(Conv2D(128, (3, 3), padding='same', activation='relu', bias_regularizer=regularizers.l1(0.01), name='block8_conv2'))\n",
    "\n",
    "    # Block 9\n",
    "    model.add(UpSampling2D((2, 2), name='block9_upsampl'))\n",
    "    model.add(BatchNormalization(axis=3))\n",
    "    model.add(Conv2D(64, (3, 3), padding='same', activation='relu', bias_regularizer=regularizers.l1(0.01), name='block9_conv1'))\n",
    "    model.add(BatchNormalization(axis=3))\n",
    "    #model.add(Dropout(.2))\n",
    "    model.add(Conv2D(64, (3, 3), padding='same', activation='relu', bias_regularizer=regularizers.l1(0.01), name='block9_conv2'))\n",
    "\n",
    "    # Output\n",
    "    model.add(BatchNormalization(axis=3))\n",
    "    model.add(Conv2D(1, (1, 1), padding='same', activation='relu', bias_regularizer=regularizers.l1(0.01), name='block10_conv1'))\n",
    "\n",
    "    sgd = SGD(lr=0.01, decay=1e-6, momentum=0.9, nesterov=True)\n",
    "    model.compile(loss='mae', optimizer=sgd, metrics=['mse','acc'])\n",
    "    #model.compile(loss='mae', optimizer=Adam(lr=0.001), metrics=['mse','acc'])\n",
    "    #model.compile(optimizer = tensorflow.keras.optimizers.RMSprop(lr=0.0001), loss = 'binary_crossentropy',metrics = ['acc'])\n",
    "    print(model.summary())\n",
    "\n",
    "    return model\n",
    "\n",
    "model = get_vgg16()"
   ]
  },
  {
   "cell_type": "code",
   "execution_count": 4,
   "id": "ac404329",
   "metadata": {},
   "outputs": [
    {
     "name": "stdout",
     "output_type": "stream",
     "text": [
      "X_train: (2050, 3, 176, 176)\n",
      "X_val: (439, 3, 176, 176)\n",
      "X_test: (439, 3, 176, 176)\n",
      "Y_train: (2050, 176, 176)\n",
      "Y_val: (439, 176, 176)\n",
      "Y_test: (439, 176, 176)\n"
     ]
    }
   ],
   "source": [
    "X_train_dir = \"/opt/datos/dataset/X_train.npy\"\n",
    "X_val_dir   = \"/opt/datos/dataset/X_val.npy\"\n",
    "X_test_dir = \"/opt/datos/dataset/X_test.npy\"\n",
    "Y_train_dir = \"/opt/datos/dataset/Y_train.npy\"\n",
    "Y_val_dir  = \"/opt/datos/dataset/Y_val.npy\"\n",
    "Y_test_dir = \"/opt/datos/dataset/Y_test.npy\"\n",
    "\n",
    "X_train = np.load(X_train_dir)\n",
    "X_val   = np.load(X_val_dir)\n",
    "X_test = np.load(X_test_dir)\n",
    "Y_train = np.load(Y_train_dir)\n",
    "Y_val   = np.load(Y_val_dir)\n",
    "Y_test = np.load(Y_test_dir)\n",
    "\n",
    "print(\"X_train: %s\" %str(X_train.shape))\n",
    "print(\"X_val: %s\" %str(X_val.shape))\n",
    "print(\"X_test: %s\" %str(X_test.shape))\n",
    "print(\"Y_train: %s\" %str(Y_train.shape))\n",
    "print(\"Y_val: %s\" %str(Y_val.shape))\n",
    "print(\"Y_test: %s\" %str(Y_test.shape))"
   ]
  },
  {
   "cell_type": "code",
   "execution_count": 7,
   "id": "ce48fb09",
   "metadata": {},
   "outputs": [
    {
     "data": {
      "text/plain": [
       "865"
      ]
     },
     "execution_count": 7,
     "metadata": {},
     "output_type": "execute_result"
    }
   ],
   "source": [
    "439+(4026-3600)"
   ]
  },
  {
   "cell_type": "code",
   "execution_count": 10,
   "id": "09c4c3ab",
   "metadata": {},
   "outputs": [
    {
     "data": {
      "text/plain": [
       "80289792"
      ]
     },
     "execution_count": 10,
     "metadata": {},
     "output_type": "execute_result"
    }
   ],
   "source": [
    "864*3*176*176"
   ]
  },
  {
   "cell_type": "code",
   "execution_count": 7,
   "id": "5cb823ac",
   "metadata": {},
   "outputs": [
    {
     "name": "stdout",
     "output_type": "stream",
     "text": [
      "(426, 3, 176, 176)\n",
      "X_train: (3600, 3, 176, 176)\n",
      "X_val: (80382720,)\n",
      "X_val: (865, 3, 176, 176)\n"
     ]
    }
   ],
   "source": [
    "##Se agregan muestras a X_val en caso de utilizar dataset con oversamplead.\n",
    "\n",
    "temp = X_train[3600:4027]\n",
    "print(temp.shape)\n",
    "X_train = X_train[0:3600]\n",
    "\n",
    "X_val = np.append(X_val, temp)\n",
    "\n",
    "print(\"X_train: %s\" %str(X_train.shape))\n",
    "print(\"X_val: %s\" %str(X_val.shape))\n",
    "X_val = X_val.reshape(865,3,176,176)\n",
    "print(\"X_val: %s\" %str(X_val.shape))"
   ]
  },
  {
   "cell_type": "code",
   "execution_count": 8,
   "id": "f5fcc885",
   "metadata": {},
   "outputs": [
    {
     "name": "stdout",
     "output_type": "stream",
     "text": [
      "Y_train: (3600, 176, 176)\n",
      "Y_val: (26794240,)\n",
      "Y_val: (865, 176, 176)\n"
     ]
    }
   ],
   "source": [
    "##Se agregan muestras a Y_val en caso de utilizar dataset con oversamplead.\n",
    "temp_y = Y_train[3600:4027]\n",
    "Y_train = Y_train[0:3600]\n",
    "\n",
    "Y_val = np.append(Y_val, temp_y)\n",
    "\n",
    "print(\"Y_train: %s\" %str(Y_train.shape))\n",
    "print(\"Y_val: %s\" %str(Y_val.shape))\n",
    "Y_val = Y_val.reshape(865,176,176)\n",
    "print(\"Y_val: %s\" %str(Y_val.shape))"
   ]
  },
  {
   "cell_type": "code",
   "execution_count": 5,
   "id": "f8740c2a",
   "metadata": {},
   "outputs": [
    {
     "name": "stdout",
     "output_type": "stream",
     "text": [
      "Y_train_3d: (2050, 3, 176, 176)\n",
      "Y_val_3d: (439, 3, 176, 176)\n",
      "Y_test_3d: (439, 3, 176, 176)\n"
     ]
    }
   ],
   "source": [
    "Y_train_3d = np.empty((Y_train.shape[0],3,176,176))\n",
    "Y_val_3d = np.empty((Y_val.shape[0],3,176,176))\n",
    "Y_test_3d = np.empty((Y_test.shape[0],3,176,176))\n",
    "\n",
    "Y_train_3d[:,0,:,:] = Y_train\n",
    "Y_train_3d[:,1,:,:] = Y_train\n",
    "Y_train_3d[:,2,:,:] = Y_train\n",
    "\n",
    "Y_val_3d[:,0,:,:] = Y_val\n",
    "Y_val_3d[:,1,:,:] = Y_val\n",
    "Y_val_3d[:,2,:,:] = Y_val\n",
    "\n",
    "Y_test_3d[:,0,:,:] = Y_test\n",
    "Y_test_3d[:,1,:,:] = Y_test\n",
    "Y_test_3d[:,2,:,:] = Y_test\n",
    "\n",
    "print(\"Y_train_3d: %s\" %str(Y_train_3d.shape))\n",
    "print(\"Y_val_3d: %s\" %str(Y_val_3d.shape))\n",
    "print(\"Y_test_3d: %s\" %str(Y_test_3d.shape))"
   ]
  },
  {
   "cell_type": "code",
   "execution_count": 5,
   "id": "a100b762",
   "metadata": {},
   "outputs": [
    {
     "name": "stdout",
     "output_type": "stream",
     "text": [
      "Epoch 1/20\n",
      "65/65 [==============================] - 127s 2s/step - loss: 0.0604 - mse: 0.2073 - acc: 0.6917 - val_loss: 0.0244 - val_mse: 0.0207 - val_acc: 0.9740\n",
      "Epoch 2/20\n",
      "65/65 [==============================] - 86s 1s/step - loss: 0.0247 - mse: 0.0203 - acc: 0.9614 - val_loss: 0.0252 - val_mse: 0.0207 - val_acc: 0.9740\n",
      "Epoch 3/20\n",
      "65/65 [==============================] - 86s 1s/step - loss: 0.0239 - mse: 0.0195 - acc: 0.9698 - val_loss: 0.0243 - val_mse: 0.0207 - val_acc: 0.9740\n",
      "Epoch 4/20\n",
      "65/65 [==============================] - 86s 1s/step - loss: 0.0229 - mse: 0.0186 - acc: 0.9746 - val_loss: 0.0254 - val_mse: 0.0207 - val_acc: 0.9795\n",
      "Epoch 5/20\n",
      "65/65 [==============================] - 86s 1s/step - loss: 0.0230 - mse: 0.0186 - acc: 0.9748 - val_loss: 0.0243 - val_mse: 0.0207 - val_acc: 0.9780\n",
      "Epoch 6/20\n",
      "65/65 [==============================] - 86s 1s/step - loss: 0.0225 - mse: 0.0182 - acc: 0.9774 - val_loss: 0.0252 - val_mse: 0.0207 - val_acc: 0.9768\n",
      "Epoch 7/20\n",
      "65/65 [==============================] - 86s 1s/step - loss: 0.0219 - mse: 0.0176 - acc: 0.9788 - val_loss: 0.0243 - val_mse: 0.0207 - val_acc: 0.9774\n",
      "Epoch 8/20\n",
      "65/65 [==============================] - 86s 1s/step - loss: 0.0223 - mse: 0.0180 - acc: 0.9788 - val_loss: 0.0252 - val_mse: 0.0207 - val_acc: 0.9767\n",
      "Epoch 9/20\n",
      "65/65 [==============================] - 86s 1s/step - loss: 0.0219 - mse: 0.0176 - acc: 0.9803 - val_loss: 0.0243 - val_mse: 0.0207 - val_acc: 0.9777\n",
      "Epoch 10/20\n",
      "65/65 [==============================] - 86s 1s/step - loss: 0.0222 - mse: 0.0179 - acc: 0.9803 - val_loss: 0.0250 - val_mse: 0.0207 - val_acc: 0.9780\n",
      "Epoch 11/20\n",
      "65/65 [==============================] - 86s 1s/step - loss: 0.0219 - mse: 0.0175 - acc: 0.9809 - val_loss: 0.0241 - val_mse: 0.0207 - val_acc: 0.9783\n",
      "Epoch 12/20\n",
      "65/65 [==============================] - 86s 1s/step - loss: 0.0213 - mse: 0.0170 - acc: 0.9816 - val_loss: 0.0251 - val_mse: 0.0207 - val_acc: 0.9785\n",
      "Epoch 13/20\n",
      "65/65 [==============================] - 86s 1s/step - loss: 0.0229 - mse: 0.0185 - acc: 0.9802 - val_loss: 0.0244 - val_mse: 0.0207 - val_acc: 0.9787\n",
      "Epoch 14/20\n",
      "65/65 [==============================] - 86s 1s/step - loss: 0.0213 - mse: 0.0170 - acc: 0.9820 - val_loss: 0.0252 - val_mse: 0.0207 - val_acc: 0.9786\n",
      "Epoch 15/20\n",
      "65/65 [==============================] - 86s 1s/step - loss: 0.0203 - mse: 0.0160 - acc: 0.9831 - val_loss: 0.0242 - val_mse: 0.0207 - val_acc: 0.9788\n",
      "Epoch 16/20\n",
      "65/65 [==============================] - 86s 1s/step - loss: 0.0225 - mse: 0.0181 - acc: 0.9809 - val_loss: 0.0252 - val_mse: 0.0207 - val_acc: 0.9788\n",
      "Epoch 17/20\n",
      "65/65 [==============================] - 86s 1s/step - loss: 0.0222 - mse: 0.0179 - acc: 0.9812 - val_loss: 0.0244 - val_mse: 0.0207 - val_acc: 0.9789\n",
      "Epoch 18/20\n",
      "65/65 [==============================] - 86s 1s/step - loss: 0.0231 - mse: 0.0187 - acc: 0.9805 - val_loss: 0.0249 - val_mse: 0.0207 - val_acc: 0.9789\n",
      "Epoch 19/20\n",
      "65/65 [==============================] - 86s 1s/step - loss: 0.0196 - mse: 0.0153 - acc: 0.9840 - val_loss: 0.0243 - val_mse: 0.0207 - val_acc: 0.9789\n",
      "Epoch 20/20\n",
      "65/65 [==============================] - 86s 1s/step - loss: 0.0215 - mse: 0.0172 - acc: 0.9820 - val_loss: 0.0254 - val_mse: 0.0207 - val_acc: 0.9789\n"
     ]
    }
   ],
   "source": [
    "vgghist = model.fit(X_train, Y_train, validation_data = (X_val,Y_val), epochs = 20)"
   ]
  },
  {
   "cell_type": "code",
   "execution_count": 6,
   "id": "67f5d784",
   "metadata": {},
   "outputs": [],
   "source": [
    "with open('trainHistoryDict_vgg16_ultima', 'wb') as file_pi:\n",
    "    pickle.dump(vgghist.history, file_pi)"
   ]
  },
  {
   "cell_type": "code",
   "execution_count": 6,
   "id": "4d94d94b",
   "metadata": {},
   "outputs": [],
   "source": [
    "#with open('trainHistoryDict_vgg16', 'wb') as file_pi:\n",
    "#    pickle.dump(vgghist.history, file_pi)"
   ]
  },
  {
   "cell_type": "code",
   "execution_count": 7,
   "id": "bcbf1458",
   "metadata": {},
   "outputs": [],
   "source": [
    "history = pickle.load( open( \"trainHistoryDict_vgg16_ultima\", \"rb\" ) )"
   ]
  },
  {
   "cell_type": "code",
   "execution_count": 4,
   "id": "0f8679e6",
   "metadata": {},
   "outputs": [],
   "source": [
    "#history = pickle.load( open( \"trainHistoryDict_vgg16\", \"rb\" ) )"
   ]
  },
  {
   "cell_type": "code",
   "execution_count": 8,
   "id": "f29c7e78",
   "metadata": {},
   "outputs": [
    {
     "data": {
      "image/png": "[encoded data removed]",
      "text/plain": [
       "<Figure size 432x288 with 1 Axes>"
      ]
     },
     "metadata": {
      "needs_background": "light"
     },
     "output_type": "display_data"
    }
   ],
   "source": [
    "#print(history)\n",
    "plt.plot(history['loss'])\n",
    "plt.plot(history['val_loss'])\n",
    "plt.title('VGG16 network training')\n",
    "plt.ylabel('mean absolute error')\n",
    "plt.xlabel('epoch')\n",
    "plt.legend(['train', 'validation'], loc='upper right')\n",
    "plt.show()"
   ]
  },
  {
   "cell_type": "code",
   "execution_count": 9,
   "id": "cac99dc7",
   "metadata": {},
   "outputs": [
    {
     "data": {
      "image/png": "[encoded data removed]",
      "text/plain": [
       "<Figure size 432x288 with 1 Axes>"
      ]
     },
     "metadata": {
      "needs_background": "light"
     },
     "output_type": "display_data"
    }
   ],
   "source": [
    "#print(history)\n",
    "plt.plot(history['acc'])\n",
    "plt.plot(history['val_acc'])\n",
    "plt.title('VGG16 network training')\n",
    "plt.ylabel('mean absolute error')\n",
    "plt.xlabel('epoch')\n",
    "plt.legend(['train', 'validation'], loc='upper right')\n",
    "plt.show()"
   ]
  },
  {
   "cell_type": "code",
   "execution_count": 10,
   "id": "7bbc354e",
   "metadata": {},
   "outputs": [],
   "source": [
    "y_pred = model.predict(X_test)"
   ]
  },
  {
   "cell_type": "code",
   "execution_count": 11,
   "id": "852c9717",
   "metadata": {},
   "outputs": [
    {
     "name": "stdout",
     "output_type": "stream",
     "text": [
      "(439, 3, 176, 176)\n"
     ]
    }
   ],
   "source": [
    "print(y_pred.shape)"
   ]
  },
  {
   "cell_type": "code",
   "execution_count": 11,
   "id": "5cacde9c",
   "metadata": {},
   "outputs": [
    {
     "name": "stdout",
     "output_type": "stream",
     "text": [
      "{0.0: 13598437, 2.200609e-05: 1, 0.000109479624: 1, 0.00036849678: 1, 0.00052858586: 1, 0.0011416286: 1, 0.0011489525: 1, 0.0015527316: 1, 0.0023197131: 1, 0.0024891095: 1, 0.0025515878: 1, 0.0054224418: 1, 0.0057808054: 1, 0.006275565: 1, 0.006824792: 1, 0.008359796: 1, 0.008377449: 1, 0.008412121: 1, 0.010293939: 1, 0.010990608: 1, 0.011218956: 1, 0.012391788: 1, 0.014438563: 1, 0.018451313: 1, 0.018873949: 1, 0.052894294: 1, 0.05765778: 1, 0.06301211: 1}\n"
     ]
    }
   ],
   "source": [
    "# Para ver que valores hay y cuantas veces aparece c/u\n",
    "unique, counts = np.unique(y_pred, return_counts=True)\n",
    "print(dict(zip(unique, counts)))"
   ]
  },
  {
   "cell_type": "code",
   "execution_count": 12,
   "id": "a31fea9e",
   "metadata": {},
   "outputs": [
    {
     "name": "stdout",
     "output_type": "stream",
     "text": [
      "Cantidad de unos que hay realmente: 497011\n",
      "Cantidad de ceros que hay realmente: 13101453\n",
      "Total: 13598464\n"
     ]
    }
   ],
   "source": [
    "# Cuento la cantidad de unos y ceros en las matrices de tags\n",
    "lluvias = np.where(Y_test==1)[0].size\n",
    "nolluvias = np.where(Y_test==0)[0].size\n",
    "\n",
    "print(\"Cantidad de unos que hay realmente: \" + str(lluvias))\n",
    "print(\"Cantidad de ceros que hay realmente: \" + str(nolluvias))\n",
    "total_real = lluvias+nolluvias\n",
    "print(\"Total: \" + str(total_real))"
   ]
  },
  {
   "cell_type": "code",
   "execution_count": 13,
   "id": "d842908c",
   "metadata": {},
   "outputs": [
    {
     "name": "stdout",
     "output_type": "stream",
     "text": [
      "Cantidad de ceros predichos: 13598437\n",
      "Cantidad de valores distintos de cero: 27\n",
      "Total: 13598464\n"
     ]
    }
   ],
   "source": [
    "# Cuento la cantidad de unos y ceros en las matrices de prediccion\n",
    "#unos = np.where(y_pred == 1)[0].size\n",
    "ceros = np.where(y_pred == 0)[0].size\n",
    "value = np.where(y_pred != 0)[0].size\n",
    "\n",
    "#print(\"Cantidad de unos predichos: \" + str(unos))\n",
    "print(\"Cantidad de ceros predichos: \" + str(ceros))\n",
    "print(\"Cantidad de valores distintos de cero: \" + str(value))\n",
    "total_real = value+ceros\n",
    "print(\"Total: \" + str(total_real))"
   ]
  },
  {
   "cell_type": "code",
   "execution_count": 15,
   "id": "08ffe8e2",
   "metadata": {},
   "outputs": [],
   "source": [
    "#pred = np.empty((439, 3, 176, 176))\n",
    "pred = np.empty((439, 1, 176, 176))\n",
    "pred[y_pred != 0] = 1\n",
    "pred[y_pred == 0] = 0"
   ]
  },
  {
   "cell_type": "code",
   "execution_count": 21,
   "id": "2f6e8330",
   "metadata": {},
   "outputs": [
    {
     "name": "stdout",
     "output_type": "stream",
     "text": [
      "(439, 3, 176, 176)\n",
      "[[[[0.         0.         0.         ... 0.         0.\n",
      "    0.        ]\n",
      "   [0.         0.         0.         ... 0.         0.\n",
      "    0.        ]\n",
      "   [0.         0.         0.         ... 0.         0.\n",
      "    0.        ]\n",
      "   ...\n",
      "   [0.         0.         0.         ... 0.         0.\n",
      "    0.        ]\n",
      "   [0.         0.         0.         ... 0.         0.\n",
      "    0.        ]\n",
      "   [0.         0.         0.         ... 0.         0.\n",
      "    0.        ]]\n",
      "\n",
      "  [[0.         0.         0.         ... 0.         0.\n",
      "    0.        ]\n",
      "   [0.         0.         0.         ... 0.         0.\n",
      "    0.        ]\n",
      "   [0.         0.         0.         ... 0.         0.\n",
      "    0.        ]\n",
      "   ...\n",
      "   [0.         0.         0.         ... 0.         0.\n",
      "    0.        ]\n",
      "   [0.         0.         0.         ... 0.         0.\n",
      "    0.        ]\n",
      "   [0.         0.         0.         ... 0.         0.\n",
      "    0.        ]]\n",
      "\n",
      "  [[0.         0.         0.         ... 0.         0.\n",
      "    0.05641095]\n",
      "   [0.         0.         0.         ... 0.         0.\n",
      "    0.        ]\n",
      "   [0.         0.         0.         ... 0.         0.\n",
      "    0.        ]\n",
      "   ...\n",
      "   [0.         0.         0.         ... 0.         0.\n",
      "    0.        ]\n",
      "   [0.         0.         0.         ... 0.         0.\n",
      "    0.        ]\n",
      "   [0.         0.         0.         ... 0.         0.\n",
      "    0.        ]]]\n",
      "\n",
      "\n",
      " [[[0.         0.         0.         ... 0.         0.\n",
      "    0.        ]\n",
      "   [0.         0.         0.         ... 0.         0.\n",
      "    0.        ]\n",
      "   [0.         0.         0.         ... 0.         0.\n",
      "    0.        ]\n",
      "   ...\n",
      "   [0.         0.         0.         ... 0.         0.\n",
      "    0.        ]\n",
      "   [0.         0.         0.         ... 0.         0.\n",
      "    0.        ]\n",
      "   [0.         0.         0.         ... 0.         0.\n",
      "    0.        ]]\n",
      "\n",
      "  [[0.         0.         0.         ... 0.         0.\n",
      "    0.        ]\n",
      "   [0.         0.         0.         ... 0.         0.\n",
      "    0.        ]\n",
      "   [0.         0.         0.         ... 0.         0.\n",
      "    0.        ]\n",
      "   ...\n",
      "   [0.         0.         0.         ... 0.         0.\n",
      "    0.        ]\n",
      "   [0.         0.         0.         ... 0.         0.\n",
      "    0.        ]\n",
      "   [0.         0.         0.         ... 0.         0.\n",
      "    0.        ]]\n",
      "\n",
      "  [[0.         0.         0.         ... 0.         0.\n",
      "    0.05654045]\n",
      "   [0.         0.         0.         ... 0.         0.\n",
      "    0.        ]\n",
      "   [0.         0.         0.         ... 0.         0.\n",
      "    0.        ]\n",
      "   ...\n",
      "   [0.         0.         0.         ... 0.         0.\n",
      "    0.        ]\n",
      "   [0.         0.         0.         ... 0.         0.\n",
      "    0.        ]\n",
      "   [0.         0.         0.         ... 0.         0.\n",
      "    0.        ]]]\n",
      "\n",
      "\n",
      " [[[0.         0.         0.         ... 0.         0.\n",
      "    0.        ]\n",
      "   [0.         0.         0.         ... 0.         0.\n",
      "    0.        ]\n",
      "   [0.         0.         0.         ... 0.         0.\n",
      "    0.        ]\n",
      "   ...\n",
      "   [0.         0.         0.         ... 0.         0.\n",
      "    0.        ]\n",
      "   [0.         0.         0.         ... 0.         0.\n",
      "    0.        ]\n",
      "   [0.         0.         0.         ... 0.         0.\n",
      "    0.        ]]\n",
      "\n",
      "  [[0.         0.         0.         ... 0.         0.\n",
      "    0.        ]\n",
      "   [0.         0.         0.         ... 0.         0.\n",
      "    0.        ]\n",
      "   [0.         0.         0.         ... 0.         0.\n",
      "    0.        ]\n",
      "   ...\n",
      "   [0.         0.         0.         ... 0.         0.\n",
      "    0.        ]\n",
      "   [0.         0.         0.         ... 0.         0.\n",
      "    0.        ]\n",
      "   [0.         0.         0.         ... 0.         0.\n",
      "    0.        ]]\n",
      "\n",
      "  [[0.         0.         0.         ... 0.         0.\n",
      "    0.05657863]\n",
      "   [0.         0.         0.         ... 0.         0.\n",
      "    0.        ]\n",
      "   [0.         0.         0.         ... 0.         0.\n",
      "    0.        ]\n",
      "   ...\n",
      "   [0.         0.         0.         ... 0.         0.\n",
      "    0.        ]\n",
      "   [0.         0.         0.         ... 0.         0.\n",
      "    0.        ]\n",
      "   [0.         0.         0.         ... 0.         0.\n",
      "    0.        ]]]\n",
      "\n",
      "\n",
      " ...\n",
      "\n",
      "\n",
      " [[[0.         0.         0.         ... 0.         0.\n",
      "    0.        ]\n",
      "   [0.         0.         0.         ... 0.         0.\n",
      "    0.        ]\n",
      "   [0.         0.         0.         ... 0.         0.\n",
      "    0.        ]\n",
      "   ...\n",
      "   [0.         0.         0.         ... 0.         0.\n",
      "    0.        ]\n",
      "   [0.         0.         0.         ... 0.         0.\n",
      "    0.        ]\n",
      "   [0.         0.         0.         ... 0.         0.\n",
      "    0.        ]]\n",
      "\n",
      "  [[0.         0.         0.         ... 0.         0.\n",
      "    0.        ]\n",
      "   [0.         0.         0.         ... 0.         0.\n",
      "    0.        ]\n",
      "   [0.         0.         0.         ... 0.         0.\n",
      "    0.        ]\n",
      "   ...\n",
      "   [0.         0.         0.         ... 0.         0.\n",
      "    0.        ]\n",
      "   [0.         0.         0.         ... 0.         0.\n",
      "    0.        ]\n",
      "   [0.         0.         0.         ... 0.         0.\n",
      "    0.        ]]\n",
      "\n",
      "  [[0.         0.         0.         ... 0.         0.\n",
      "    0.05652986]\n",
      "   [0.         0.         0.         ... 0.         0.\n",
      "    0.        ]\n",
      "   [0.         0.         0.         ... 0.         0.\n",
      "    0.        ]\n",
      "   ...\n",
      "   [0.         0.         0.         ... 0.         0.\n",
      "    0.        ]\n",
      "   [0.         0.         0.         ... 0.         0.\n",
      "    0.        ]\n",
      "   [0.         0.         0.         ... 0.         0.\n",
      "    0.        ]]]\n",
      "\n",
      "\n",
      " [[[0.         0.         0.         ... 0.         0.\n",
      "    0.        ]\n",
      "   [0.         0.         0.         ... 0.         0.\n",
      "    0.        ]\n",
      "   [0.         0.         0.         ... 0.         0.\n",
      "    0.        ]\n",
      "   ...\n",
      "   [0.         0.         0.         ... 0.         0.\n",
      "    0.        ]\n",
      "   [0.         0.         0.         ... 0.         0.\n",
      "    0.        ]\n",
      "   [0.         0.         0.         ... 0.         0.\n",
      "    0.        ]]\n",
      "\n",
      "  [[0.         0.         0.         ... 0.         0.\n",
      "    0.        ]\n",
      "   [0.         0.         0.         ... 0.         0.\n",
      "    0.        ]\n",
      "   [0.         0.         0.         ... 0.         0.\n",
      "    0.        ]\n",
      "   ...\n",
      "   [0.         0.         0.         ... 0.         0.\n",
      "    0.        ]\n",
      "   [0.         0.         0.         ... 0.         0.\n",
      "    0.        ]\n",
      "   [0.         0.         0.         ... 0.         0.\n",
      "    0.        ]]\n",
      "\n",
      "  [[0.         0.         0.         ... 0.         0.\n",
      "    0.05653474]\n",
      "   [0.         0.         0.         ... 0.         0.\n",
      "    0.        ]\n",
      "   [0.         0.         0.         ... 0.         0.\n",
      "    0.        ]\n",
      "   ...\n",
      "   [0.         0.         0.         ... 0.         0.\n",
      "    0.        ]\n",
      "   [0.         0.         0.         ... 0.         0.\n",
      "    0.        ]\n",
      "   [0.         0.         0.         ... 0.         0.\n",
      "    0.        ]]]\n",
      "\n",
      "\n",
      " [[[0.         0.         0.         ... 0.         0.\n",
      "    0.        ]\n",
      "   [0.         0.         0.         ... 0.         0.\n",
      "    0.        ]\n",
      "   [0.         0.         0.         ... 0.         0.\n",
      "    0.        ]\n",
      "   ...\n",
      "   [0.         0.         0.         ... 0.         0.\n",
      "    0.        ]\n",
      "   [0.         0.         0.         ... 0.         0.\n",
      "    0.        ]\n",
      "   [0.         0.         0.         ... 0.         0.\n",
      "    0.        ]]\n",
      "\n",
      "  [[0.         0.         0.         ... 0.         0.\n",
      "    0.        ]\n",
      "   [0.         0.         0.         ... 0.         0.\n",
      "    0.        ]\n",
      "   [0.         0.         0.         ... 0.         0.\n",
      "    0.        ]\n",
      "   ...\n",
      "   [0.         0.         0.         ... 0.         0.\n",
      "    0.        ]\n",
      "   [0.         0.         0.         ... 0.         0.\n",
      "    0.        ]\n",
      "   [0.         0.         0.         ... 0.         0.\n",
      "    0.        ]]\n",
      "\n",
      "  [[0.         0.         0.         ... 0.         0.\n",
      "    0.05654404]\n",
      "   [0.         0.         0.         ... 0.         0.\n",
      "    0.        ]\n",
      "   [0.         0.         0.         ... 0.         0.\n",
      "    0.        ]\n",
      "   ...\n",
      "   [0.         0.         0.         ... 0.         0.\n",
      "    0.        ]\n",
      "   [0.         0.         0.         ... 0.         0.\n",
      "    0.        ]\n",
      "   [0.         0.         0.         ... 0.         0.\n",
      "    0.        ]]]]\n"
     ]
    }
   ],
   "source": [
    "print(y_pred.shape)\n",
    "print(y_pred)"
   ]
  },
  {
   "cell_type": "code",
   "execution_count": 18,
   "id": "5d808030",
   "metadata": {},
   "outputs": [
    {
     "name": "stdout",
     "output_type": "stream",
     "text": [
      "(439, 176, 176)\n",
      "(13598464,)\n",
      "(439, 1, 176, 176)\n",
      "(13598464,)\n",
      "(13598464, 1)\n"
     ]
    },
    {
     "data": {
      "image/png": "[encoded data removed]",
      "text/plain": [
       "<Figure size 864x864 with 2 Axes>"
      ]
     },
     "metadata": {
      "needs_background": "light"
     },
     "output_type": "display_data"
    },
    {
     "name": "stdout",
     "output_type": "stream",
     "text": [
      "              precision    recall  f1-score   support\n",
      "\n",
      "         0.0       0.96      1.00      0.98  13101453\n",
      "         1.0       0.11      0.00      0.00    497011\n",
      "\n",
      "    accuracy                           0.96  13598464\n",
      "   macro avg       0.54      0.50      0.49  13598464\n",
      "weighted avg       0.93      0.96      0.95  13598464\n",
      "\n"
     ]
    }
   ],
   "source": [
    "predije = [\"0\", \"1\"]\n",
    "\n",
    "#definimos funciona para mostrar los resultados\n",
    "def mostrar_resultados(Y_test, pred_y):\n",
    "    conf_matrix = confusion_matrix(Y_test, pred_y)\n",
    "    plt.figure(figsize=(12, 12))\n",
    "    sns.heatmap(conf_matrix, xticklabels=predije, yticklabels=predije, annot=True, fmt=\"d\");\n",
    "    plt.title(\"Confusion matrix\")\n",
    "    plt.ylabel('True class')\n",
    "    plt.xlabel('Predicted class')\n",
    "    plt.show()\n",
    "    print (classification_report(Y_test, pred_y))\n",
    "\n",
    "\n",
    "print(Y_test.shape)\n",
    "#y_test_3d = Y_test_3d.reshape(439*3*176*176)\n",
    "y_test = Y_test.reshape(439*1*176*176)\n",
    "print(y_test.shape)\n",
    "\n",
    "print(pred.shape)\n",
    "#pred = pred.reshape(439*3*176*176)\n",
    "pred = pred.reshape(439*1*176*176)\n",
    "print(pred.shape)\n",
    "pred=pred.reshape(-1,1)\n",
    "print(pred.shape)\n",
    "\n",
    "mostrar_resultados(y_test, pred)"
   ]
  },
  {
   "cell_type": "code",
   "execution_count": null,
   "id": "2ad8f2bf",
   "metadata": {},
   "outputs": [],
   "source": [
    "'''\n",
    "PREPARACION DE DATOS PARA SMOTE\n",
    "'''"
   ]
  },
  {
   "cell_type": "code",
   "execution_count": 6,
   "id": "c3bb7954",
   "metadata": {},
   "outputs": [],
   "source": [
    "X_train_0 = X_train[:,0,:,:]\n",
    "X_train_1 = X_train[:,1,:,:]\n",
    "X_train_2 = X_train[:,2,:,:]"
   ]
  },
  {
   "cell_type": "code",
   "execution_count": 7,
   "id": "b574440e",
   "metadata": {},
   "outputs": [
    {
     "name": "stdout",
     "output_type": "stream",
     "text": [
      "(2050, 176, 176)\n",
      "(2050, 176, 176)\n",
      "(2050, 176, 176)\n"
     ]
    }
   ],
   "source": [
    "print(X_train_0.shape)\n",
    "print(X_train_1.shape)\n",
    "print(X_train_2.shape)"
   ]
  },
  {
   "cell_type": "code",
   "execution_count": 8,
   "id": "777fee29",
   "metadata": {},
   "outputs": [],
   "source": [
    "'''\n",
    "Reshape\n",
    "'''\n",
    "X_train_0_2d = X_train_0.reshape(2050*176*176)\n",
    "X_train_1_2d = X_train_1.reshape(2050*176*176)\n",
    "X_train_2_2d = X_train_2.reshape(2050*176*176)\n",
    "X_train_0_2d = X_train_0_2d.reshape(-1,1)\n",
    "X_train_1_2d = X_train_1_2d.reshape(-1,1)\n",
    "X_train_2_2d = X_train_2_2d.reshape(-1,1)\n",
    "\n",
    "Y_train_2d   = Y_train.reshape(2050*176*176)"
   ]
  },
  {
   "cell_type": "code",
   "execution_count": 9,
   "id": "0b4f86f8",
   "metadata": {},
   "outputs": [
    {
     "name": "stdout",
     "output_type": "stream",
     "text": [
      "(63500800, 1)\n",
      "(63500800, 1)\n",
      "(63500800, 1)\n",
      "(63500800,)\n"
     ]
    }
   ],
   "source": [
    "print(X_train_0_2d.shape)\n",
    "print(X_train_1_2d.shape)\n",
    "print(X_train_2_2d.shape)\n",
    "print(Y_train_2d.shape)"
   ]
  },
  {
   "cell_type": "code",
   "execution_count": 10,
   "id": "20d81c1e",
   "metadata": {},
   "outputs": [
    {
     "name": "stdout",
     "output_type": "stream",
     "text": [
      "62358560\n",
      "62358560\n"
     ]
    }
   ],
   "source": [
    "# Calculo del porcentaje para balancear las clases\n",
    "\n",
    "balance_ratio = 1.0\n",
    "data0 = int(np.equal(Y_train_2d,0).sum())\n",
    "data1 = int( data0 * balance_ratio )\n",
    "\n",
    "print(data0)\n",
    "print(data1)"
   ]
  },
  {
   "cell_type": "code",
   "execution_count": 10,
   "id": "1a0bd45c",
   "metadata": {
    "scrolled": true
   },
   "outputs": [
    {
     "name": "stdout",
     "output_type": "stream",
     "text": [
      "[(0.0, 62358560), (1.0, 62358560)]\n",
      "(124717120, 1)\n",
      "(124717120,)\n",
      "[(0.0, 62358560), (1.0, 62358560)]\n",
      "(124717120, 1)\n",
      "(124717120,)\n",
      "[(0.0, 62358560), (1.0, 62358560)]\n",
      "(124717120, 1)\n",
      "(124717120,)\n"
     ]
    }
   ],
   "source": [
    "'''\n",
    "Oversampling with SMOTE\n",
    "'''\n",
    "X_us_0, Y_us = SMOTE().fit_resample(X_train_0_2d, Y_train_2d)\n",
    "print(sorted(Counter(Y_us).items()))\n",
    "print(X_us_0.shape)\n",
    "print(Y_us.shape)\n",
    "\n",
    "X_us_1, Y_us = SMOTE().fit_resample(X_train_1_2d, Y_train_2d)\n",
    "print(sorted(Counter(Y_us).items()))\n",
    "print(X_us_1.shape)\n",
    "print(Y_us.shape)\n",
    "\n",
    "X_us_2, Y_us = SMOTE().fit_resample(X_train_2_2d, Y_train_2d)\n",
    "print(sorted(Counter(Y_us).items()))\n",
    "print(X_us_2.shape)\n",
    "print(Y_us.shape)"
   ]
  },
  {
   "cell_type": "code",
   "execution_count": 29,
   "id": "a1264ae3",
   "metadata": {},
   "outputs": [
    {
     "name": "stdout",
     "output_type": "stream",
     "text": [
      "True\n"
     ]
    }
   ],
   "source": [
    "compare = Y_us_1==Y_us_2\n",
    "igualdad = compare.all()\n",
    "print(igualdad)"
   ]
  },
  {
   "cell_type": "code",
   "execution_count": 31,
   "id": "26db2020",
   "metadata": {},
   "outputs": [
    {
     "name": "stdout",
     "output_type": "stream",
     "text": [
      "False\n"
     ]
    }
   ],
   "source": [
    "a = np.array([0,3,4])\n",
    "b = np.array([3,4,0])\n",
    "\n",
    "compare1 = a==b\n",
    "igualdad1 = compare1.all()\n",
    "print(igualdad1)"
   ]
  },
  {
   "cell_type": "code",
   "execution_count": 11,
   "id": "1d3ef84f",
   "metadata": {},
   "outputs": [
    {
     "name": "stdout",
     "output_type": "stream",
     "text": [
      "(4026, 176, 176)\n",
      "(4026, 176, 176)\n"
     ]
    }
   ],
   "source": [
    "'''\n",
    "rearmado matrices\n",
    "\n",
    "-Se calcula el numero de valores que debe tener la matriz final, para cada dimension de la matriz X_train.\n",
    "0:(4026*176*176)-1 ---> numero exacto de valores necesarios para obtener 4026 matrices.\n",
    "'''\n",
    "\n",
    "X_us_0 = X_us_0[0:(4026*176*176)]\n",
    "X_us_1 = X_us_1[0:(4026*176*176)]\n",
    "X_us_2 = X_us_2[0:(4026*176*176)]\n",
    "\n",
    "X_us_0 = X_us_0.reshape(4026,176,176)\n",
    "X_us_1 = X_us_1.reshape(4026,176,176)\n",
    "X_us_2 = X_us_2.reshape(4026,176,176)\n",
    "\n",
    "\n",
    "print(X_us_0.shape)\n",
    "print(X_us_1.shape)"
   ]
  },
  {
   "cell_type": "code",
   "execution_count": 12,
   "id": "6c6d2597",
   "metadata": {},
   "outputs": [
    {
     "name": "stdout",
     "output_type": "stream",
     "text": [
      "(4026, 176, 176)\n"
     ]
    }
   ],
   "source": [
    "## para Y\n",
    "Y_us = Y_us[0:(4026*176*176)]\n",
    "Y_us = Y_us.reshape(4026,176,176)\n",
    "print(Y_us.shape)"
   ]
  },
  {
   "cell_type": "code",
   "execution_count": 13,
   "id": "eaf898f5",
   "metadata": {},
   "outputs": [],
   "source": [
    "X_train_us = np.empty((4026,3,176,176))\n",
    "Y_train_us = np.empty((4026,176,176))"
   ]
  },
  {
   "cell_type": "code",
   "execution_count": 14,
   "id": "7790ff34",
   "metadata": {},
   "outputs": [],
   "source": [
    "X_train_us[:,0,:,:] = X_us_0\n",
    "X_train_us[:,1,:,:] = X_us_1\n",
    "X_train_us[:,2,:,:] = X_us_2\n",
    "\n",
    "Y_train_us = Y_us"
   ]
  },
  {
   "cell_type": "code",
   "execution_count": 15,
   "id": "2fbe0599",
   "metadata": {},
   "outputs": [
    {
     "name": "stdout",
     "output_type": "stream",
     "text": [
      "(4026, 3, 176, 176)\n",
      "(4026, 176, 176)\n"
     ]
    }
   ],
   "source": [
    "print(X_train_us.shape)\n",
    "print(Y_train_us.shape)"
   ]
  },
  {
   "cell_type": "code",
   "execution_count": 27,
   "id": "b03e5184",
   "metadata": {},
   "outputs": [
    {
     "name": "stdout",
     "output_type": "stream",
     "text": [
      "(3, 176, 176)\n",
      "[[[0.18143646 0.47374634 0.35731292 ... 0.33761279 0.15258583 0.46233404]\n",
      "  [0.39392818 0.42655813 0.39105478 ... 0.54725478 0.46639867 0.57989159]\n",
      "  [0.50083296 0.45519517 0.32555876 ... 0.48684695 0.49020566 0.61807985]\n",
      "  ...\n",
      "  [0.44817401 0.44699241 0.7896744  ... 0.43507963 0.37441559 0.44121185]\n",
      "  [0.26565546 0.48100773 0.4890459  ... 0.34775537 0.45851227 0.68895294]\n",
      "  [0.52315275 0.65233364 0.4359589  ... 0.27843623 0.48761651 0.61477704]]\n",
      "\n",
      " [[0.70529635 0.58113836 0.61140698 ... 0.6922227  0.30374634 0.86137139]\n",
      "  [0.78307282 0.81704938 0.77982269 ... 0.57512919 0.80310388 0.80415506]\n",
      "  [0.74351457 0.75009133 0.15496756 ... 0.57424456 0.72785959 0.18764874]\n",
      "  ...\n",
      "  [0.15741742 0.2671576  0.52713834 ... 0.7271483  0.49649624 0.83774409]\n",
      "  [0.60549515 0.68524523 0.60248971 ... 0.6707555  0.73415376 0.55933607]\n",
      "  [0.75238966 0.29156019 0.59904306 ... 0.50750653 0.61284752 0.17044861]]\n",
      "\n",
      " [[0.82623692 0.79177846 0.04789316 ... 0.65188032 0.78072489 0.72845479]\n",
      "  [0.48727589 0.4541267  0.67553852 ... 0.89752683 0.86662379 0.72822291]\n",
      "  [0.82982146 0.59011583 0.3643718  ... 0.47716476 0.76782528 0.52712289]\n",
      "  ...\n",
      "  [0.86753229 0.2481716  0.4639585  ... 0.7277332  0.88736018 0.75570932]\n",
      "  [0.80475801 0.61175573 0.52162076 ... 0.837907   0.31061608 0.7573825 ]\n",
      "  [0.68623749 0.82904616 0.4488405  ... 0.51936133 0.56904653 0.86454252]]]\n"
     ]
    }
   ],
   "source": [
    "print(X_train_us[3505].shape)\n",
    "print(X_train_us[3505])"
   ]
  },
  {
   "cell_type": "code",
   "execution_count": null,
   "id": "eef8ad40",
   "metadata": {},
   "outputs": [],
   "source": [
    "#################################################################\n",
    "\n",
    "SMOTE TOMEK\n",
    "\n",
    "#################################################################"
   ]
  },
  {
   "cell_type": "code",
   "execution_count": 11,
   "id": "47c28f05",
   "metadata": {},
   "outputs": [
    {
     "name": "stdout",
     "output_type": "stream",
     "text": [
      "Forma original del dataset Counter({0.0: 62358560, 1.0: 1142240})\n",
      "[(0.0, 62358560), (1.0, 62358560)]\n",
      "(124717120, 1)\n",
      "(124717120,)\n",
      "after resampling Counter({0.0: 62358560, 1.0: 62358560})\n",
      "[(0.0, 62358560), (1.0, 62358560)]\n",
      "(124717120, 1)\n",
      "(124717120,)\n",
      "[(0.0, 62358560), (1.0, 62358560)]\n",
      "(124717120, 1)\n",
      "(124717120,)\n"
     ]
    }
   ],
   "source": [
    "'''\n",
    "Oversampling\n",
    "'''\n",
    "print (\"Forma original del dataset %s\" %Counter(Y_train_2d))\n",
    "os_us = SMOTETomek(random_state=42)\n",
    "X_us_0, Y_us = os_us.fit_resample(X_train_0_2d, Y_train_2d)\n",
    "print(sorted(Counter(Y_us).items()))\n",
    "print(X_us_0.shape)\n",
    "print(Y_us.shape)\n",
    "print (\"after resampling %s\" %Counter(Y_us))\n",
    "\n",
    "X_us_1, Y_us = os_us.fit_resample(X_train_1_2d, Y_train_2d)\n",
    "print(sorted(Counter(Y_us).items()))\n",
    "print(X_us_1.shape)\n",
    "print(Y_us.shape)\n",
    "\n",
    "X_us_2, Y_us = os_us.fit_resample(X_train_2_2d, Y_train_2d)\n",
    "print(sorted(Counter(Y_us).items()))\n",
    "print(X_us_2.shape)\n",
    "print(Y_us.shape)"
   ]
  },
  {
   "cell_type": "code",
   "execution_count": 12,
   "id": "1c6ca09e",
   "metadata": {},
   "outputs": [
    {
     "name": "stdout",
     "output_type": "stream",
     "text": [
      "(4026, 176, 176)\n",
      "(4026, 176, 176)\n"
     ]
    }
   ],
   "source": [
    "'''\n",
    "rearmado matrices\n",
    "\n",
    "-Se calcula el numero de valores que debe tener la matriz final, para cada dimension de la matriz X_train.\n",
    "0:(4026*176*176)-1 ---> numero exacto de valores necesarios para obtener 4026 matrices.\n",
    "'''\n",
    "\n",
    "X_us_0 = X_us_0[0:(4026*176*176)]\n",
    "X_us_1 = X_us_1[0:(4026*176*176)]\n",
    "X_us_2 = X_us_2[0:(4026*176*176)]\n",
    "\n",
    "X_us_0 = X_us_0.reshape(4026,176,176)\n",
    "X_us_1 = X_us_1.reshape(4026,176,176)\n",
    "X_us_2 = X_us_2.reshape(4026,176,176)\n",
    "\n",
    "\n",
    "print(X_us_0.shape)\n",
    "print(X_us_1.shape)"
   ]
  },
  {
   "cell_type": "code",
   "execution_count": 13,
   "id": "c24ca5d1",
   "metadata": {},
   "outputs": [
    {
     "name": "stdout",
     "output_type": "stream",
     "text": [
      "(4026, 176, 176)\n"
     ]
    }
   ],
   "source": [
    "## para Y\n",
    "Y_us = Y_us[0:(4026*176*176)]\n",
    "Y_us = Y_us.reshape(4026,176,176)\n",
    "print(Y_us.shape)"
   ]
  },
  {
   "cell_type": "code",
   "execution_count": 14,
   "id": "071d68d8",
   "metadata": {},
   "outputs": [],
   "source": [
    "X_train_us = np.empty((4026,3,176,176))\n",
    "Y_train_us = np.empty((4026,176,176))"
   ]
  },
  {
   "cell_type": "code",
   "execution_count": 15,
   "id": "bd2a6678",
   "metadata": {},
   "outputs": [],
   "source": [
    "X_train_us[:,0,:,:] = X_us_0\n",
    "X_train_us[:,1,:,:] = X_us_1\n",
    "X_train_us[:,2,:,:] = X_us_2\n",
    "\n",
    "Y_train_us = Y_us"
   ]
  },
  {
   "cell_type": "code",
   "execution_count": 16,
   "id": "0f316968",
   "metadata": {},
   "outputs": [
    {
     "name": "stdout",
     "output_type": "stream",
     "text": [
      "(4026, 3, 176, 176)\n",
      "(4026, 176, 176)\n"
     ]
    }
   ],
   "source": [
    "print(X_train_us.shape)\n",
    "print(Y_train_us.shape)"
   ]
  },
  {
   "cell_type": "code",
   "execution_count": 17,
   "id": "a20790ac",
   "metadata": {},
   "outputs": [],
   "source": [
    "np.save(\"/opt/datos/dataset/X_train_us.npy\",X_train_us)\n",
    "np.save(\"/opt/datos/dataset/Y_train_us.npy\",Y_train_us)"
   ]
  },
  {
   "cell_type": "code",
   "execution_count": 20,
   "id": "ee4d30d2",
   "metadata": {},
   "outputs": [
    {
     "name": "stdout",
     "output_type": "stream",
     "text": [
      "(176, 176)\n",
      "[[0. 0. 0. ... 0. 0. 0.]\n",
      " [0. 0. 0. ... 0. 0. 0.]\n",
      " [0. 0. 0. ... 0. 0. 0.]\n",
      " ...\n",
      " [0. 0. 0. ... 0. 0. 0.]\n",
      " [0. 0. 0. ... 0. 0. 0.]\n",
      " [0. 0. 0. ... 0. 0. 0.]]\n"
     ]
    }
   ],
   "source": [
    "print(Y_train_us[2040].shape)\n",
    "print(Y_train_us[2040])"
   ]
  },
  {
   "cell_type": "code",
   "execution_count": null,
   "id": "e8548450",
   "metadata": {},
   "outputs": [],
   "source": []
  }
 ],
 "metadata": {
  "kernelspec": {
   "display_name": "tf-gpu2",
   "language": "python",
   "name": "tf-gpu2"
  },
  "language_info": {
   "codemirror_mode": {
    "name": "ipython",
    "version": 3
   },
   "file_extension": ".py",
   "mimetype": "text/x-python",
   "name": "python",
   "nbconvert_exporter": "python",
   "pygments_lexer": "ipython3",
   "version": "3.9.5"
  }
 },
 "nbformat": 4,
 "nbformat_minor": 5
}
