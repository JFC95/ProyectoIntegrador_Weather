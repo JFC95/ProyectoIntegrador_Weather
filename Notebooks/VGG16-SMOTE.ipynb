{
 "cells": [
  {
   "cell_type": "code",
   "execution_count": 1,
   "id": "360e64f0",
   "metadata": {},
   "outputs": [],
   "source": [
    "from tensorflow.keras.models import Sequential\n",
    "from tensorflow.keras import metrics\n",
    "from tensorflow.keras.callbacks import ModelCheckpoint, Callback\n",
    "from tensorflow.keras.utils import to_categorical\n",
    "from tensorflow.keras.models import load_model\n",
    "from tensorflow.keras.layers import BatchNormalization, Conv2D, UpSampling2D, MaxPooling2D, Dropout, Flatten, Dense, Activation\n",
    "from tensorflow.keras.optimizers import Adam, SGD\n",
    "from tensorflow.keras import regularizers\n",
    "from tensorflow.keras.callbacks import LearningRateScheduler\n",
    "from sklearn.metrics import confusion_matrix, f1_score, precision_score, recall_score, precision_recall_curve, accuracy_score, zero_one_loss, balanced_accuracy_score, average_precision_score\n",
    "from sklearn.metrics import classification_report\n",
    "from inspect import signature\n",
    "import matplotlib.pyplot as plt\n",
    "import numpy as np\n",
    "import tensorflow\n",
    "import os\n",
    "import pickle\n",
    "import sys\n",
    "import logging\n",
    "from tensorflow.keras import layers\n",
    "from tensorflow.keras import Input\n",
    "from tensorflow.keras import backend\n",
    "\n",
    "import seaborn as sns\n",
    "from pylab import rcParams\n",
    "\n",
    "from imblearn.under_sampling import NearMiss\n",
    "from imblearn.over_sampling import RandomOverSampler\n",
    "from imblearn.combine import SMOTETomek\n",
    "from imblearn.ensemble import BalancedBaggingClassifier\n",
    "from imblearn.over_sampling import SMOTE\n",
    "\n",
    "from collections import Counter"
   ]
  },
  {
   "cell_type": "code",
   "execution_count": 8,
   "id": "b3b74c51",
   "metadata": {},
   "outputs": [],
   "source": [
    "##################################################################################################################\n",
    "############################################ SEQUENTIAL ##########################################################\n",
    "##################################################################################################################"
   ]
  },
  {
   "cell_type": "code",
   "execution_count": 2,
   "id": "c73e345d",
   "metadata": {},
   "outputs": [],
   "source": [
    "backend.set_image_data_format('channels_first')"
   ]
  },
  {
   "cell_type": "code",
   "execution_count": 3,
   "id": "d53a29cd",
   "metadata": {},
   "outputs": [
    {
     "name": "stdout",
     "output_type": "stream",
     "text": [
      "Model: \"sequential\"\n",
      "_________________________________________________________________\n",
      "Layer (type)                 Output Shape              Param #   \n",
      "=================================================================\n",
      "batch_normalization (BatchNo (None, 3, 176, 176)       704       \n",
      "_________________________________________________________________\n",
      "block1_conv1 (Conv2D)        (None, 64, 176, 176)      1792      \n",
      "_________________________________________________________________\n",
      "batch_normalization_1 (Batch (None, 64, 176, 176)      704       \n",
      "_________________________________________________________________\n",
      "block1_conv2 (Conv2D)        (None, 64, 176, 176)      36928     \n",
      "_________________________________________________________________\n",
      "block1_pool (MaxPooling2D)   (None, 64, 88, 88)        0         \n",
      "_________________________________________________________________\n",
      "batch_normalization_2 (Batch (None, 64, 88, 88)        352       \n",
      "_________________________________________________________________\n",
      "block2_conv1 (Conv2D)        (None, 128, 88, 88)       73856     \n",
      "_________________________________________________________________\n",
      "batch_normalization_3 (Batch (None, 128, 88, 88)       352       \n",
      "_________________________________________________________________\n",
      "block2_conv2 (Conv2D)        (None, 128, 88, 88)       147584    \n",
      "_________________________________________________________________\n",
      "block2_pool (MaxPooling2D)   (None, 128, 44, 44)       0         \n",
      "_________________________________________________________________\n",
      "batch_normalization_4 (Batch (None, 128, 44, 44)       176       \n",
      "_________________________________________________________________\n",
      "block3_conv1 (Conv2D)        (None, 256, 44, 44)       295168    \n",
      "_________________________________________________________________\n",
      "batch_normalization_5 (Batch (None, 256, 44, 44)       176       \n",
      "_________________________________________________________________\n",
      "block3_conv2 (Conv2D)        (None, 256, 44, 44)       590080    \n",
      "_________________________________________________________________\n",
      "block3_pool (MaxPooling2D)   (None, 256, 22, 22)       0         \n",
      "_________________________________________________________________\n",
      "batch_normalization_6 (Batch (None, 256, 22, 22)       88        \n",
      "_________________________________________________________________\n",
      "block4_conv1 (Conv2D)        (None, 512, 22, 22)       1180160   \n",
      "_________________________________________________________________\n",
      "batch_normalization_7 (Batch (None, 512, 22, 22)       88        \n",
      "_________________________________________________________________\n",
      "block4_conv2 (Conv2D)        (None, 512, 22, 22)       2359808   \n",
      "_________________________________________________________________\n",
      "block4_pool (MaxPooling2D)   (None, 512, 11, 11)       0         \n",
      "_________________________________________________________________\n",
      "batch_normalization_8 (Batch (None, 512, 11, 11)       44        \n",
      "_________________________________________________________________\n",
      "block5_conv1 (Conv2D)        (None, 512, 11, 11)       2359808   \n",
      "_________________________________________________________________\n",
      "batch_normalization_9 (Batch (None, 512, 11, 11)       44        \n",
      "_________________________________________________________________\n",
      "block5_conv2 (Conv2D)        (None, 512, 11, 11)       2359808   \n",
      "_________________________________________________________________\n",
      "block6_upsampl (UpSampling2D (None, 512, 22, 22)       0         \n",
      "_________________________________________________________________\n",
      "batch_normalization_10 (Batc (None, 512, 22, 22)       88        \n",
      "_________________________________________________________________\n",
      "block6_conv1 (Conv2D)        (None, 512, 22, 22)       2359808   \n",
      "_________________________________________________________________\n",
      "batch_normalization_11 (Batc (None, 512, 22, 22)       88        \n",
      "_________________________________________________________________\n",
      "block6_conv2 (Conv2D)        (None, 512, 22, 22)       2359808   \n",
      "_________________________________________________________________\n",
      "block7_upsampl (UpSampling2D (None, 512, 44, 44)       0         \n",
      "_________________________________________________________________\n",
      "batch_normalization_12 (Batc (None, 512, 44, 44)       176       \n",
      "_________________________________________________________________\n",
      "block7_conv1 (Conv2D)        (None, 256, 44, 44)       1179904   \n",
      "_________________________________________________________________\n",
      "batch_normalization_13 (Batc (None, 256, 44, 44)       176       \n",
      "_________________________________________________________________\n",
      "block7_conv2 (Conv2D)        (None, 256, 44, 44)       590080    \n",
      "_________________________________________________________________\n",
      "block8_upsampl (UpSampling2D (None, 256, 88, 88)       0         \n",
      "_________________________________________________________________\n",
      "batch_normalization_14 (Batc (None, 256, 88, 88)       352       \n",
      "_________________________________________________________________\n",
      "block8_conv1 (Conv2D)        (None, 128, 88, 88)       295040    \n",
      "_________________________________________________________________\n",
      "batch_normalization_15 (Batc (None, 128, 88, 88)       352       \n",
      "_________________________________________________________________\n",
      "block8_conv2 (Conv2D)        (None, 128, 88, 88)       147584    \n",
      "_________________________________________________________________\n",
      "block9_upsampl (UpSampling2D (None, 128, 176, 176)     0         \n",
      "_________________________________________________________________\n",
      "batch_normalization_16 (Batc (None, 128, 176, 176)     704       \n",
      "_________________________________________________________________\n",
      "block9_conv1 (Conv2D)        (None, 64, 176, 176)      73792     \n",
      "_________________________________________________________________\n",
      "batch_normalization_17 (Batc (None, 64, 176, 176)      704       \n",
      "_________________________________________________________________\n",
      "block9_conv2 (Conv2D)        (None, 64, 176, 176)      36928     \n",
      "_________________________________________________________________\n",
      "batch_normalization_18 (Batc (None, 64, 176, 176)      704       \n",
      "_________________________________________________________________\n",
      "block10_conv1 (Conv2D)       (None, 1, 176, 176)       65        \n",
      "=================================================================\n",
      "Total params: 16,454,073\n",
      "Trainable params: 16,451,037\n",
      "Non-trainable params: 3,036\n",
      "_________________________________________________________________\n",
      "None\n"
     ]
    }
   ],
   "source": [
    "def get_vgg16():\n",
    "    model = Sequential()\n",
    "\n",
    "    # Encoder\n",
    "    # Block 1\n",
    "    model.add(BatchNormalization(axis=3, input_shape=(3, 176, 176)))\n",
    "    #model.add(Dropout(.2))\n",
    "    model.add(Conv2D(64, (3, 3), padding='same', activation='relu', bias_regularizer=regularizers.l1(0.01), name='block1_conv1', input_shape=(80,120,3)))\n",
    "    model.add(BatchNormalization(axis=3))\n",
    "    model.add(Conv2D(64, (3, 3), padding='same', activation='relu', bias_regularizer=regularizers.l1(0.01), name='block1_conv2'))\n",
    "    model.add(MaxPooling2D((2, 2), strides=(2, 2), name='block1_pool'))\n",
    "\n",
    "    # Block 2\n",
    "    model.add(BatchNormalization(axis=3))\n",
    "    model.add(Conv2D(128, (3, 3), padding='same', activation='relu', bias_regularizer=regularizers.l1(0.01), name='block2_conv1'))\n",
    "    model.add(BatchNormalization(axis=3))\n",
    "    model.add(Conv2D(128, (3, 3), padding='same', activation='relu', bias_regularizer=regularizers.l1(0.01), name='block2_conv2'))\n",
    "    model.add(MaxPooling2D((2, 2), strides=(2, 2), name='block2_pool'))\n",
    "\n",
    "    # Block 3\n",
    "    model.add(BatchNormalization(axis=3))\n",
    "    model.add(Conv2D(256, (3, 3), padding='same', activation='relu', bias_regularizer=regularizers.l1(0.01), name='block3_conv1'))\n",
    "    model.add(BatchNormalization(axis=3))\n",
    "    model.add(Conv2D(256, (3, 3), padding='same', activation='relu', bias_regularizer=regularizers.l1(0.01), name='block3_conv2'))\n",
    "    model.add(MaxPooling2D((2, 2), strides=(2, 2), name='block3_pool'))\n",
    "\n",
    "    # Block 4\n",
    "    model.add(BatchNormalization(axis=3))\n",
    "    model.add(Conv2D(512, (3, 3), padding='same', activation='relu', bias_regularizer=regularizers.l1(0.01), name='block4_conv1'))\n",
    "    model.add(BatchNormalization(axis=3))\n",
    "    model.add(Conv2D(512, (3, 3), padding='same', activation='relu', bias_regularizer=regularizers.l1(0.01), name='block4_conv2'))\n",
    "    model.add(MaxPooling2D((2, 2), strides=(2, 2), name='block4_pool'))\n",
    "\n",
    "\n",
    "    # Block 5\n",
    "    model.add(BatchNormalization(axis=3))\n",
    "    model.add(Conv2D(512, (3, 3), padding='same', activation='relu', bias_regularizer=regularizers.l1(0.01), name='block5_conv1'))\n",
    "    model.add(BatchNormalization(axis=3))\n",
    "    model.add(Conv2D(512, (3, 3), padding='same', activation='relu', bias_regularizer=regularizers.l1(0.01), name='block5_conv2'))\n",
    "\n",
    "    # Decoder\n",
    "    # Block 6\n",
    "    model.add(UpSampling2D((2, 2), name='block6_upsampl'))\n",
    "    model.add(BatchNormalization(axis=3))\n",
    "    model.add(Conv2D(512, (3, 3), padding='same', activation='relu', bias_regularizer=regularizers.l1(0.01), name='block6_conv1'))\n",
    "    model.add(BatchNormalization(axis=3))\n",
    "    model.add(Conv2D(512, (3, 3), padding='same', activation='relu', bias_regularizer=regularizers.l1(0.01), name='block6_conv2'))\n",
    "\n",
    "    # Block 7\n",
    "    model.add(UpSampling2D((2, 2), name='block7_upsampl'))\n",
    "    model.add(BatchNormalization(axis=3))\n",
    "    model.add(Conv2D(256, (3, 3), padding='same', activation='relu', bias_regularizer=regularizers.l1(0.01), name='block7_conv1'))\n",
    "    model.add(BatchNormalization(axis=3))\n",
    "    model.add(Conv2D(256, (3, 3), padding='same', activation='relu', bias_regularizer=regularizers.l1(0.01), name='block7_conv2'))\n",
    "\n",
    "    # Block 8\n",
    "    model.add(UpSampling2D((2, 2), name='block8_upsampl'))\n",
    "    model.add(BatchNormalization(axis=3))\n",
    "    model.add(Conv2D(128, (3, 3), padding='same', activation='relu', bias_regularizer=regularizers.l1(0.01), name='block8_conv1'))\n",
    "    model.add(BatchNormalization(axis=3))\n",
    "    model.add(Conv2D(128, (3, 3), padding='same', activation='relu', bias_regularizer=regularizers.l1(0.01), name='block8_conv2'))\n",
    "\n",
    "    # Block 9\n",
    "    model.add(UpSampling2D((2, 2), name='block9_upsampl'))\n",
    "    model.add(BatchNormalization(axis=3))\n",
    "    model.add(Conv2D(64, (3, 3), padding='same', activation='relu', bias_regularizer=regularizers.l1(0.01), name='block9_conv1'))\n",
    "    model.add(BatchNormalization(axis=3))\n",
    "    #model.add(Dropout(.2))\n",
    "    model.add(Conv2D(64, (3, 3), padding='same', activation='relu', bias_regularizer=regularizers.l1(0.01), name='block9_conv2'))\n",
    "\n",
    "    # Output\n",
    "    model.add(BatchNormalization(axis=3))\n",
    "    model.add(Conv2D(1, (1, 1), padding='same', activation='relu', bias_regularizer=regularizers.l1(0.01), name='block10_conv1'))\n",
    "\n",
    "    sgd = SGD(lr=0.01, decay=1e-6, momentum=0.9, nesterov=True)\n",
    "    model.compile(loss='mae', optimizer=sgd, metrics=['mse','acc'])\n",
    "    #model.compile(loss='mae', optimizer=Adam(lr=0.001), metrics=['mse'])\n",
    "    #model.compile(optimizer = tensorflow.keras.optimizers.RMSprop(lr=0.0001), loss = 'binary_crossentropy',metrics = ['acc'])\n",
    "    print(model.summary())\n",
    "\n",
    "    return model\n",
    "\n",
    "model = get_vgg16()"
   ]
  },
  {
   "cell_type": "code",
   "execution_count": 4,
   "id": "ac404329",
   "metadata": {},
   "outputs": [
    {
     "name": "stdout",
     "output_type": "stream",
     "text": [
      "X_train: (2050, 3, 176, 176)\n",
      "X_val: (439, 3, 176, 176)\n",
      "X_test: (439, 3, 176, 176)\n",
      "Y_train: (2050, 176, 176)\n",
      "Y_val: (439, 176, 176)\n"
     ]
    }
   ],
   "source": [
    "X_train_dir = \"/opt/datos/dataset/X_train.npy\"\n",
    "X_val_dir   = \"/opt/datos/dataset/X_val.npy\"\n",
    "X_test_dir = \"/opt/datos/dataset/X_test.npy\"\n",
    "Y_train_dir = \"/opt/datos/dataset/Y_train.npy\"\n",
    "Y_val_dir   = \"/opt/datos/dataset/Y_val.npy\"\n",
    "\n",
    "X_train = np.load(X_train_dir)\n",
    "X_val   = np.load(X_val_dir)\n",
    "X_test = np.load(X_test_dir)\n",
    "Y_train = np.load(Y_train_dir)\n",
    "Y_val   = np.load(Y_val_dir)\n",
    "\n",
    "print(\"X_train: %s\" %str(X_train.shape))\n",
    "print(\"X_val: %s\" %str(X_val.shape))\n",
    "print(\"X_test: %s\" %str(X_test.shape))\n",
    "print(\"Y_train: %s\" %str(Y_train.shape))\n",
    "print(\"Y_val: %s\" %str(Y_val.shape))"
   ]
  },
  {
   "cell_type": "code",
   "execution_count": 17,
   "id": "a100b762",
   "metadata": {},
   "outputs": [
    {
     "name": "stdout",
     "output_type": "stream",
     "text": [
      "Epoch 1/50\n",
      "126/126 [==============================] - 219s 2s/step - loss: 0.5242 - mse: 0.5395 - acc: 0.1860 - val_loss: 0.0248 - val_mse: 0.0207 - val_acc: 0.9795\n",
      "Epoch 2/50\n",
      "126/126 [==============================] - 164s 1s/step - loss: 0.5113 - mse: 0.5068 - acc: 0.2639 - val_loss: 0.0251 - val_mse: 0.0208 - val_acc: 0.1381\n",
      "Epoch 3/50\n",
      "126/126 [==============================] - 164s 1s/step - loss: 0.5021 - mse: 0.4976 - acc: 0.1855 - val_loss: 0.0251 - val_mse: 0.0208 - val_acc: 0.1980\n",
      "Epoch 4/50\n",
      "126/126 [==============================] - 164s 1s/step - loss: 0.5104 - mse: 0.5059 - acc: 0.1959 - val_loss: 0.0251 - val_mse: 0.0208 - val_acc: 0.2907\n",
      "Epoch 5/50\n",
      "126/126 [==============================] - 164s 1s/step - loss: 0.5076 - mse: 0.5030 - acc: 0.2225 - val_loss: 0.0252 - val_mse: 0.0208 - val_acc: 0.2734\n",
      "Epoch 6/50\n",
      "126/126 [==============================] - 164s 1s/step - loss: 0.5016 - mse: 0.4970 - acc: 0.2155 - val_loss: 0.0256 - val_mse: 0.0209 - val_acc: 0.2317\n",
      "Epoch 7/50\n",
      "126/126 [==============================] - 164s 1s/step - loss: 0.4981 - mse: 0.4936 - acc: 0.2181 - val_loss: 0.0257 - val_mse: 0.0210 - val_acc: 0.1375\n",
      "Epoch 8/50\n",
      "126/126 [==============================] - 164s 1s/step - loss: 0.4933 - mse: 0.4887 - acc: 0.1755 - val_loss: 0.0253 - val_mse: 0.0208 - val_acc: 0.1697\n",
      "Epoch 9/50\n",
      "126/126 [==============================] - 164s 1s/step - loss: 0.5037 - mse: 0.4992 - acc: 0.1687 - val_loss: 0.0258 - val_mse: 0.0209 - val_acc: 0.0929\n",
      "Epoch 10/50\n",
      "126/126 [==============================] - 164s 1s/step - loss: 0.5204 - mse: 0.5156 - acc: 0.0763 - val_loss: 0.0252 - val_mse: 0.0208 - val_acc: 0.1564\n",
      "Epoch 11/50\n",
      "126/126 [==============================] - 164s 1s/step - loss: 0.4964 - mse: 0.4917 - acc: 0.1994 - val_loss: 0.0253 - val_mse: 0.0208 - val_acc: 0.1293\n",
      "Epoch 12/50\n",
      "126/126 [==============================] - 164s 1s/step - loss: 0.5077 - mse: 0.5030 - acc: 0.1893 - val_loss: 0.0249 - val_mse: 0.0207 - val_acc: 0.8730\n",
      "Epoch 13/50\n",
      "126/126 [==============================] - 164s 1s/step - loss: 0.4996 - mse: 0.4950 - acc: 0.1472 - val_loss: 0.0252 - val_mse: 0.0207 - val_acc: 0.0940\n",
      "Epoch 14/50\n",
      "126/126 [==============================] - 164s 1s/step - loss: 0.4956 - mse: 0.4910 - acc: 0.1474 - val_loss: 0.0262 - val_mse: 0.0210 - val_acc: 0.0744\n",
      "Epoch 15/50\n",
      "126/126 [==============================] - 164s 1s/step - loss: 0.5018 - mse: 0.4969 - acc: 0.0741 - val_loss: 0.0254 - val_mse: 0.0208 - val_acc: 0.0697\n",
      "Epoch 16/50\n",
      "126/126 [==============================] - 164s 1s/step - loss: 0.5020 - mse: 0.4972 - acc: 0.0940 - val_loss: 0.0264 - val_mse: 0.0212 - val_acc: 0.0667\n",
      "Epoch 17/50\n",
      "126/126 [==============================] - 164s 1s/step - loss: 0.5043 - mse: 0.4994 - acc: 0.0781 - val_loss: 0.0252 - val_mse: 0.0208 - val_acc: 0.0845\n",
      "Epoch 18/50\n",
      "126/126 [==============================] - 164s 1s/step - loss: 0.5152 - mse: 0.5104 - acc: 0.0958 - val_loss: 0.0255 - val_mse: 0.0208 - val_acc: 0.0713\n",
      "Epoch 19/50\n",
      "126/126 [==============================] - 164s 1s/step - loss: 0.4861 - mse: 0.4814 - acc: 0.1936 - val_loss: 0.0263 - val_mse: 0.0212 - val_acc: 0.0637\n",
      "Epoch 20/50\n",
      "126/126 [==============================] - 164s 1s/step - loss: 0.5035 - mse: 0.4987 - acc: 0.1122 - val_loss: 0.0258 - val_mse: 0.0209 - val_acc: 0.0678\n",
      "Epoch 21/50\n",
      "126/126 [==============================] - 164s 1s/step - loss: 0.5132 - mse: 0.5084 - acc: 0.0843 - val_loss: 0.0267 - val_mse: 0.0213 - val_acc: 0.0620\n",
      "Epoch 22/50\n",
      "126/126 [==============================] - 164s 1s/step - loss: 0.4971 - mse: 0.4919 - acc: 0.1188 - val_loss: 0.0291 - val_mse: 0.0224 - val_acc: 0.0579\n",
      "Epoch 23/50\n",
      "126/126 [==============================] - 164s 1s/step - loss: 0.5030 - mse: 0.4993 - acc: 0.1620 - val_loss: 0.0249 - val_mse: 0.0207 - val_acc: 0.9795\n",
      "Epoch 24/50\n",
      "126/126 [==============================] - 164s 1s/step - loss: 0.5201 - mse: 0.5157 - acc: 0.4843 - val_loss: 0.0249 - val_mse: 0.0207 - val_acc: 0.9795\n",
      "Epoch 25/50\n",
      "126/126 [==============================] - 164s 1s/step - loss: 0.5054 - mse: 0.5010 - acc: 0.4990 - val_loss: 0.0249 - val_mse: 0.0207 - val_acc: 0.9795\n",
      "Epoch 26/50\n",
      "126/126 [==============================] - 164s 1s/step - loss: 0.5205 - mse: 0.5161 - acc: 0.4839 - val_loss: 0.0249 - val_mse: 0.0207 - val_acc: 0.9795\n",
      "Epoch 27/50\n",
      "126/126 [==============================] - 164s 1s/step - loss: 0.5113 - mse: 0.5070 - acc: 0.4930 - val_loss: 0.0249 - val_mse: 0.0207 - val_acc: 0.9795\n",
      "Epoch 28/50\n",
      "126/126 [==============================] - 164s 1s/step - loss: 0.5023 - mse: 0.4980 - acc: 0.5020 - val_loss: 0.0249 - val_mse: 0.0207 - val_acc: 0.9795\n",
      "Epoch 29/50\n",
      "126/126 [==============================] - 164s 1s/step - loss: 0.5046 - mse: 0.5003 - acc: 0.4997 - val_loss: 0.0249 - val_mse: 0.0207 - val_acc: 0.9795\n",
      "Epoch 30/50\n",
      "126/126 [==============================] - 164s 1s/step - loss: 0.5099 - mse: 0.5056 - acc: 0.4944 - val_loss: 0.0249 - val_mse: 0.0207 - val_acc: 0.9795\n",
      "Epoch 31/50\n",
      "126/126 [==============================] - 164s 1s/step - loss: 0.5136 - mse: 0.5092 - acc: 0.4908 - val_loss: 0.0249 - val_mse: 0.0207 - val_acc: 0.9795\n",
      "Epoch 32/50\n",
      "126/126 [==============================] - 164s 1s/step - loss: 0.5030 - mse: 0.4987 - acc: 0.5013 - val_loss: 0.0248 - val_mse: 0.0207 - val_acc: 0.9795\n",
      "Epoch 33/50\n",
      "126/126 [==============================] - 164s 1s/step - loss: 0.5060 - mse: 0.5017 - acc: 0.4983 - val_loss: 0.0249 - val_mse: 0.0207 - val_acc: 0.9795\n",
      "Epoch 34/50\n",
      "126/126 [==============================] - 164s 1s/step - loss: 0.5046 - mse: 0.5003 - acc: 0.4997 - val_loss: 0.0249 - val_mse: 0.0207 - val_acc: 0.9795\n",
      "Epoch 35/50\n",
      "126/126 [==============================] - 164s 1s/step - loss: 0.4945 - mse: 0.4902 - acc: 0.5098 - val_loss: 0.0249 - val_mse: 0.0207 - val_acc: 0.9795\n",
      "Epoch 36/50\n",
      "126/126 [==============================] - 164s 1s/step - loss: 0.5145 - mse: 0.5102 - acc: 0.4898 - val_loss: 0.0249 - val_mse: 0.0207 - val_acc: 0.9795\n",
      "Epoch 37/50\n",
      "126/126 [==============================] - 164s 1s/step - loss: 0.5023 - mse: 0.4980 - acc: 0.5020 - val_loss: 0.0249 - val_mse: 0.0207 - val_acc: 0.9795\n",
      "Epoch 38/50\n",
      "126/126 [==============================] - 164s 1s/step - loss: 0.5004 - mse: 0.4961 - acc: 0.5039 - val_loss: 0.0249 - val_mse: 0.0207 - val_acc: 0.9795\n",
      "Epoch 39/50\n",
      "126/126 [==============================] - 164s 1s/step - loss: 0.5138 - mse: 0.5094 - acc: 0.4905 - val_loss: 0.0249 - val_mse: 0.0207 - val_acc: 0.9795\n",
      "Epoch 40/50\n",
      "126/126 [==============================] - 164s 1s/step - loss: 0.5149 - mse: 0.5106 - acc: 0.4894 - val_loss: 0.0248 - val_mse: 0.0207 - val_acc: 0.9795\n",
      "Epoch 41/50\n",
      "126/126 [==============================] - 164s 1s/step - loss: 0.5154 - mse: 0.5111 - acc: 0.4889 - val_loss: 0.0249 - val_mse: 0.0207 - val_acc: 0.9795\n",
      "Epoch 42/50\n",
      "126/126 [==============================] - 164s 1s/step - loss: 0.5098 - mse: 0.5054 - acc: 0.4946 - val_loss: 0.0249 - val_mse: 0.0207 - val_acc: 0.9795\n",
      "Epoch 43/50\n",
      "126/126 [==============================] - 164s 1s/step - loss: 0.5030 - mse: 0.4986 - acc: 0.5014 - val_loss: 0.0249 - val_mse: 0.0207 - val_acc: 0.9795\n",
      "Epoch 44/50\n",
      "126/126 [==============================] - 164s 1s/step - loss: 0.5087 - mse: 0.5044 - acc: 0.4956 - val_loss: 0.0249 - val_mse: 0.0207 - val_acc: 0.9795\n",
      "Epoch 45/50\n",
      "126/126 [==============================] - 164s 1s/step - loss: 0.5070 - mse: 0.5027 - acc: 0.4974 - val_loss: 0.0249 - val_mse: 0.0207 - val_acc: 0.9795\n",
      "Epoch 46/50\n",
      "126/126 [==============================] - 164s 1s/step - loss: 0.4973 - mse: 0.4930 - acc: 0.5070 - val_loss: 0.0250 - val_mse: 0.0207 - val_acc: 0.9795\n",
      "Epoch 47/50\n",
      "126/126 [==============================] - 164s 1s/step - loss: 0.5096 - mse: 0.5053 - acc: 0.4947 - val_loss: 0.0249 - val_mse: 0.0207 - val_acc: 0.9795\n",
      "Epoch 48/50\n",
      "126/126 [==============================] - 164s 1s/step - loss: 0.5095 - mse: 0.5052 - acc: 0.4948 - val_loss: 0.0249 - val_mse: 0.0207 - val_acc: 0.9795\n",
      "Epoch 49/50\n",
      "126/126 [==============================] - 164s 1s/step - loss: 0.4954 - mse: 0.4911 - acc: 0.5089 - val_loss: 0.0249 - val_mse: 0.0207 - val_acc: 0.9795\n",
      "Epoch 50/50\n",
      "126/126 [==============================] - 164s 1s/step - loss: 0.5051 - mse: 0.5008 - acc: 0.4992 - val_loss: 0.0249 - val_mse: 0.0207 - val_acc: 0.9795\n"
     ]
    }
   ],
   "source": [
    "vgghist = model.fit(X_train_us, Y_train_us, validation_data = (X_val,Y_val), epochs = 50)"
   ]
  },
  {
   "cell_type": "code",
   "execution_count": 18,
   "id": "67f5d784",
   "metadata": {},
   "outputs": [],
   "source": [
    "with open('trainHistoryDict_vgg16_smote', 'wb') as file_pi:\n",
    "    pickle.dump(vgghist.history, file_pi)"
   ]
  },
  {
   "cell_type": "code",
   "execution_count": 6,
   "id": "4d94d94b",
   "metadata": {},
   "outputs": [],
   "source": [
    "with open('trainHistoryDict_vgg16', 'wb') as file_pi:\n",
    "    pickle.dump(vgghist.history, file_pi)"
   ]
  },
  {
   "cell_type": "code",
   "execution_count": 5,
   "id": "bcbf1458",
   "metadata": {},
   "outputs": [],
   "source": [
    "history = pickle.load( open( \"trainHistoryDict_vgg16_smote\", \"rb\" ) )"
   ]
  },
  {
   "cell_type": "code",
   "execution_count": 4,
   "id": "0f8679e6",
   "metadata": {},
   "outputs": [],
   "source": [
    "history = pickle.load( open( \"trainHistoryDict_vgg16\", \"rb\" ) )"
   ]
  },
  {
   "cell_type": "code",
   "execution_count": 6,
   "id": "f29c7e78",
   "metadata": {},
   "outputs": [
    {
     "data": {
      "image/png": "[encoded data removed]",
      "text/plain": [
       "<Figure size 432x288 with 1 Axes>"
      ]
     },
     "metadata": {
      "needs_background": "light"
     },
     "output_type": "display_data"
    }
   ],
   "source": [
    "#print(history)\n",
    "plt.plot(history['loss'])\n",
    "plt.plot(history['val_loss'])\n",
    "plt.title('VGG16 network training')\n",
    "plt.ylabel('mean absolute error')\n",
    "plt.xlabel('epoch')\n",
    "plt.legend(['train', 'validation'], loc='upper right')\n",
    "plt.show()"
   ]
  },
  {
   "cell_type": "code",
   "execution_count": 6,
   "id": "7bbc354e",
   "metadata": {},
   "outputs": [],
   "source": [
    "y_pred = model.predict(X_test)\n"
   ]
  },
  {
   "cell_type": "code",
   "execution_count": 8,
   "id": "852c9717",
   "metadata": {},
   "outputs": [
    {
     "name": "stdout",
     "output_type": "stream",
     "text": [
      "(439, 1, 176, 176)\n"
     ]
    }
   ],
   "source": [
    "print(y_pred.shape)"
   ]
  },
  {
   "cell_type": "code",
   "execution_count": 9,
   "id": "5cacde9c",
   "metadata": {},
   "outputs": [
    {
     "name": "stderr",
     "output_type": "stream",
     "text": [
      "IOPub data rate exceeded.\n",
      "The notebook server will temporarily stop sending output\n",
      "to the client in order to avoid crashing it.\n",
      "To change this limit, set the config variable\n",
      "`--NotebookApp.iopub_data_rate_limit`.\n",
      "\n",
      "Current values:\n",
      "NotebookApp.iopub_data_rate_limit=1000000.0 (bytes/sec)\n",
      "NotebookApp.rate_limit_window=3.0 (secs)\n",
      "\n"
     ]
    }
   ],
   "source": [
    "# Para ver que valores hay y cuantas veces aparece c/u\n",
    "unique, counts = np.unique(y_pred, return_counts=True)\n",
    "print(dict(zip(unique, counts)))"
   ]
  },
  {
   "cell_type": "code",
   "execution_count": 7,
   "id": "03903cc5",
   "metadata": {},
   "outputs": [],
   "source": [
    "# Cargo en Y los valores reales de las matrices de tags, y le agrego una dim para coincidir con salida de la red\n",
    "Y = np.load('/opt/datos/dataset/Y_test.npy')\n",
    "#Y = np.expand_dims(Y,axis=1)"
   ]
  },
  {
   "cell_type": "code",
   "execution_count": 10,
   "id": "02349916",
   "metadata": {},
   "outputs": [
    {
     "name": "stdout",
     "output_type": "stream",
     "text": [
      "(439, 176, 176)\n"
     ]
    }
   ],
   "source": [
    "print(Y.shape)"
   ]
  },
  {
   "cell_type": "code",
   "execution_count": 8,
   "id": "a31fea9e",
   "metadata": {},
   "outputs": [
    {
     "name": "stdout",
     "output_type": "stream",
     "text": [
      "Cantidad de unos que hay realmente: 497011\n",
      "Cantidad de ceros que hay realmente: 13101453\n",
      "Total: 13598464\n"
     ]
    }
   ],
   "source": [
    "# Cuento la cantidad de unos y ceros en las matrices de tags\n",
    "lluvias = np.where(Y==1)[0].size\n",
    "nolluvias = np.where(Y==0)[0].size\n",
    "\n",
    "print(\"Cantidad de unos que hay realmente: \" + str(lluvias))\n",
    "print(\"Cantidad de ceros que hay realmente: \" + str(nolluvias))\n",
    "total_real = lluvias+nolluvias\n",
    "print(\"Total: \" + str(total_real))"
   ]
  },
  {
   "cell_type": "code",
   "execution_count": 9,
   "id": "d842908c",
   "metadata": {},
   "outputs": [
    {
     "name": "stdout",
     "output_type": "stream",
     "text": [
      "Cantidad de ceros predichos: 12711421\n",
      "Cantidad de valores distintos de cero: 887043\n",
      "Total: 13598464\n"
     ]
    }
   ],
   "source": [
    "# Cuento la cantidad de unos y ceros en las matrices de prediccion\n",
    "#unos = np.where(y_pred == 1)[0].size\n",
    "ceros = np.where(y_pred == 0)[0].size\n",
    "value = np.where(y_pred != 0)[0].size\n",
    "\n",
    "#print(\"Cantidad de unos predichos: \" + str(unos))\n",
    "print(\"Cantidad de ceros predichos: \" + str(ceros))\n",
    "print(\"Cantidad de valores distintos de cero: \" + str(value))\n",
    "total_real = value+ceros\n",
    "print(\"Total: \" + str(total_real))"
   ]
  },
  {
   "cell_type": "code",
   "execution_count": 20,
   "id": "ea7f09a1",
   "metadata": {},
   "outputs": [
    {
     "data": {
      "text/plain": [
       "40795392"
      ]
     },
     "execution_count": 20,
     "metadata": {},
     "output_type": "execute_result"
    }
   ],
   "source": [
    "439*3*176*176"
   ]
  },
  {
   "cell_type": "code",
   "execution_count": 10,
   "id": "08ffe8e2",
   "metadata": {},
   "outputs": [],
   "source": [
    "y_pred[y_pred>=0.5] = 1\n",
    "y_pred[y_pred<0.5] = 0"
   ]
  },
  {
   "cell_type": "code",
   "execution_count": 16,
   "id": "6787c054",
   "metadata": {},
   "outputs": [
    {
     "name": "stdout",
     "output_type": "stream",
     "text": [
      "(13101453, 1)\n",
      "(497011, 1)\n"
     ]
    }
   ],
   "source": [
    "Y_falses = y_pred[Y==0]\n",
    "Y_trues = y_pred[Y==1]\n",
    "print(Y_falses.shape)\n",
    "print(Y_trues.shape)"
   ]
  },
  {
   "cell_type": "code",
   "execution_count": 11,
   "id": "5d808030",
   "metadata": {},
   "outputs": [
    {
     "name": "stdout",
     "output_type": "stream",
     "text": [
      "(439, 176, 176)\n",
      "(13598464,)\n",
      "(439, 1, 176, 176)\n",
      "(13598464,)\n",
      "(13598464, 1)\n"
     ]
    },
    {
     "data": {
      "image/png": "[encoded data removed]",
      "text/plain": [
       "<Figure size 864x864 with 2 Axes>"
      ]
     },
     "metadata": {
      "needs_background": "light"
     },
     "output_type": "display_data"
    },
    {
     "name": "stderr",
     "output_type": "stream",
     "text": [
      "/home/Cavanagh_jf/miniconda3/envs/tf-gpu2/lib/python3.9/site-packages/sklearn/metrics/_classification.py:1248: UndefinedMetricWarning: Precision and F-score are ill-defined and being set to 0.0 in labels with no predicted samples. Use `zero_division` parameter to control this behavior.\n",
      "  _warn_prf(average, modifier, msg_start, len(result))\n",
      "/home/Cavanagh_jf/miniconda3/envs/tf-gpu2/lib/python3.9/site-packages/sklearn/metrics/_classification.py:1248: UndefinedMetricWarning: Precision and F-score are ill-defined and being set to 0.0 in labels with no predicted samples. Use `zero_division` parameter to control this behavior.\n",
      "  _warn_prf(average, modifier, msg_start, len(result))\n"
     ]
    },
    {
     "name": "stdout",
     "output_type": "stream",
     "text": [
      "              precision    recall  f1-score   support\n",
      "\n",
      "         0.0       0.96      1.00      0.98  13101453\n",
      "         1.0       0.00      0.00      0.00    497011\n",
      "\n",
      "    accuracy                           0.96  13598464\n",
      "   macro avg       0.48      0.50      0.49  13598464\n",
      "weighted avg       0.93      0.96      0.95  13598464\n",
      "\n"
     ]
    },
    {
     "name": "stderr",
     "output_type": "stream",
     "text": [
      "/home/Cavanagh_jf/miniconda3/envs/tf-gpu2/lib/python3.9/site-packages/sklearn/metrics/_classification.py:1248: UndefinedMetricWarning: Precision and F-score are ill-defined and being set to 0.0 in labels with no predicted samples. Use `zero_division` parameter to control this behavior.\n",
      "  _warn_prf(average, modifier, msg_start, len(result))\n"
     ]
    }
   ],
   "source": [
    "predije = [\"0\", \"1\"]\n",
    "\n",
    " \n",
    "#definimos funciona para mostrar los resultados\n",
    "def mostrar_resultados(Y_test, pred_y):\n",
    "    conf_matrix = confusion_matrix(Y_test, pred_y)\n",
    "    plt.figure(figsize=(12, 12))\n",
    "    sns.heatmap(conf_matrix, xticklabels=predije, yticklabels=predije, annot=True, fmt=\"d\");\n",
    "    plt.title(\"Confusion matrix\")\n",
    "    plt.ylabel('True class')\n",
    "    plt.xlabel('Predicted class')\n",
    "    plt.show()\n",
    "    print (classification_report(Y_test, pred_y))\n",
    "\n",
    "#pred_y = model.predict(X_test_2d)\n",
    "\n",
    "print(Y.shape)\n",
    "#Y = np.reshape(Y,(Y.shape[0],176*176))\n",
    "Y = Y.reshape(439*1*176*176)\n",
    "print(Y.shape)\n",
    "\n",
    "print(y_pred.shape)\n",
    "#y_pred = np.reshape(y_pred,(y_pred.shape[0]*176*176))\n",
    "y_pred = y_pred.reshape(439*1*176*176)\n",
    "print(y_pred.shape)\n",
    "y_pred=y_pred.reshape(-1,1)\n",
    "print(y_pred.shape)\n",
    "\n",
    "mostrar_resultados(Y, y_pred)"
   ]
  },
  {
   "cell_type": "code",
   "execution_count": null,
   "id": "f9204d3a",
   "metadata": {},
   "outputs": [],
   "source": [
    "#X_train: (2050, 3, 176, 176)\n",
    "#X_val: (439, 3, 176, 176)\n",
    "#X_test: (439, 3, 176, 176)\n",
    "#Y_train: (2050, 176, 176)\n",
    "#Y_val: (439, 176, 176)\n",
    "\n",
    "Y_train_reply = np.empty((3,2050,176,176))\n",
    "Y_test_reply = np.empty((3,439,176,176))\n",
    "\n",
    "Y_train_reply[0] = Y_train\n",
    "Y_train_reply[1] = Y_train\n",
    "Y_train_reply[2] = Y_train\n",
    "\n",
    "Y_test_reply[0] = Y\n",
    "Y_test_reply[1] = Y\n",
    "Y_test_reply[2] = Y\n",
    "\n",
    "X_train_2d = X_train.reshape(2050*3*176*176)\n",
    "\n",
    "X_test_2d = X_test.reshape(439*3*176*176)\n",
    "Y_train_2d = Y_train_reply.reshape(2050*3*176*176)\n",
    "Y_test_2d = Y_test_reply.reshape(439*3*176*176)\n",
    "\n",
    "X_train_2d=X_train_2d.reshape(-1,1)\n",
    "X_test_2d= X_test_2d.reshape(-1,1)\n",
    "\n",
    "X_train_2d.shape"
   ]
  },
  {
   "cell_type": "code",
   "execution_count": null,
   "id": "eedd8344",
   "metadata": {},
   "outputs": [],
   "source": [
    "print(X_train_2d.shape)\n",
    "print(X_test_2d.shape)\n",
    "print(Y_train_2d .shape)\n",
    "print(Y_test_2d.shape)\n"
   ]
  },
  {
   "cell_type": "code",
   "execution_count": 5,
   "id": "c3bb7954",
   "metadata": {},
   "outputs": [],
   "source": [
    "X_train_0 = X_train[:,0,:,:]\n",
    "X_train_1 = X_train[:,1,:,:]\n",
    "X_train_2 = X_train[:,2,:,:]"
   ]
  },
  {
   "cell_type": "code",
   "execution_count": 6,
   "id": "b574440e",
   "metadata": {},
   "outputs": [
    {
     "name": "stdout",
     "output_type": "stream",
     "text": [
      "(2050, 176, 176)\n",
      "(2050, 176, 176)\n",
      "(2050, 176, 176)\n"
     ]
    }
   ],
   "source": [
    "print(X_train_0.shape)\n",
    "print(X_train_1.shape)\n",
    "print(X_train_2.shape)"
   ]
  },
  {
   "cell_type": "code",
   "execution_count": 7,
   "id": "777fee29",
   "metadata": {},
   "outputs": [],
   "source": [
    "'''\n",
    "Reshape\n",
    "\n",
    "X_train_2d = X_train.reshape(2050*3*176*176)\n",
    "X_test_2d = X_test.reshape(439*3*176*176)\n",
    "Y_train_2d = Y_train_reply.reshape(2050*3*176*176)\n",
    "Y_test_2d = Y_test_reply.reshape(439*3*176*176)\n",
    "'''\n",
    "X_train_0_2d = X_train_0.reshape(2050*176*176)\n",
    "X_train_1_2d = X_train_1.reshape(2050*176*176)\n",
    "X_train_2_2d = X_train_2.reshape(2050*176*176)\n",
    "Y_train_2d   = Y_train.reshape(2050*176*176)\n",
    "\n",
    "X_train_0_2d = X_train_0_2d.reshape(-1,1)\n",
    "X_train_1_2d = X_train_1_2d.reshape(-1,1)\n",
    "X_train_2_2d = X_train_2_2d.reshape(-1,1)"
   ]
  },
  {
   "cell_type": "code",
   "execution_count": 8,
   "id": "0b4f86f8",
   "metadata": {},
   "outputs": [
    {
     "name": "stdout",
     "output_type": "stream",
     "text": [
      "(63500800, 1)\n",
      "(63500800, 1)\n",
      "(63500800, 1)\n",
      "(63500800,)\n"
     ]
    }
   ],
   "source": [
    "print(X_train_0_2d.shape)\n",
    "print(X_train_1_2d.shape)\n",
    "print(X_train_2_2d.shape)\n",
    "print(Y_train_2d.shape)"
   ]
  },
  {
   "cell_type": "code",
   "execution_count": 20,
   "id": "20d81c1e",
   "metadata": {},
   "outputs": [
    {
     "name": "stdout",
     "output_type": "stream",
     "text": [
      "62358560\n",
      "62358560\n"
     ]
    }
   ],
   "source": [
    "# Calculo del porcentaje para balancear las clases\n",
    "\n",
    "balance_ratio = 1.0\n",
    "data0 = int(np.equal(Y_train_2d,0).sum())\n",
    "data1 = int( data0 * balance_ratio )\n",
    "\n",
    "print(data0)\n",
    "print(data1)"
   ]
  },
  {
   "cell_type": "code",
   "execution_count": 10,
   "id": "7447e2f8",
   "metadata": {},
   "outputs": [],
   "source": [
    "# Cargo en Y los valores reales de las matrices de tags, y le agrego una dim para coincidir con salida de la red\n",
    "Y = np.load('/opt/datos/dataset/Y_test.npy')"
   ]
  },
  {
   "cell_type": "code",
   "execution_count": 11,
   "id": "1a0bd45c",
   "metadata": {
    "scrolled": true
   },
   "outputs": [
    {
     "name": "stdout",
     "output_type": "stream",
     "text": [
      "[(0.0, 62358560), (1.0, 62358560)]\n",
      "(124717120, 1)\n",
      "(124717120,)\n",
      "[(0.0, 62358560), (1.0, 62358560)]\n",
      "(124717120, 1)\n",
      "(124717120,)\n",
      "[(0.0, 62358560), (1.0, 62358560)]\n",
      "(124717120, 1)\n",
      "(124717120,)\n"
     ]
    }
   ],
   "source": [
    "'''\n",
    "Oversampling\n",
    "'''\n",
    "\n",
    "X_us_0, Y_us = SMOTE().fit_resample(X_train_0_2d, Y_train_2d)\n",
    "print(sorted(Counter(Y_us).items()))\n",
    "print(X_us_0.shape)\n",
    "print(Y_us.shape)\n",
    "\n",
    "X_us_1, Y_us = SMOTE().fit_resample(X_train_1_2d, Y_train_2d)\n",
    "print(sorted(Counter(Y_us).items()))\n",
    "print(X_us_1.shape)\n",
    "print(Y_us.shape)\n",
    "\n",
    "X_us_2, Y_us = SMOTE().fit_resample(X_train_2_2d, Y_train_2d)\n",
    "print(sorted(Counter(Y_us).items()))\n",
    "print(X_us_2.shape)\n",
    "print(Y_us.shape)"
   ]
  },
  {
   "cell_type": "code",
   "execution_count": 29,
   "id": "a1264ae3",
   "metadata": {},
   "outputs": [
    {
     "name": "stdout",
     "output_type": "stream",
     "text": [
      "True\n"
     ]
    }
   ],
   "source": [
    "compare = Y_us_1==Y_us_2\n",
    "igualdad = compare.all()\n",
    "print(igualdad)"
   ]
  },
  {
   "cell_type": "code",
   "execution_count": 31,
   "id": "26db2020",
   "metadata": {},
   "outputs": [
    {
     "name": "stdout",
     "output_type": "stream",
     "text": [
      "False\n"
     ]
    }
   ],
   "source": [
    "a = np.array([0,3,4])\n",
    "b = np.array([3,4,0])\n",
    "\n",
    "compare1 = a==b\n",
    "igualdad1 = compare1.all()\n",
    "print(igualdad1)"
   ]
  },
  {
   "cell_type": "code",
   "execution_count": 12,
   "id": "1d3ef84f",
   "metadata": {},
   "outputs": [
    {
     "name": "stdout",
     "output_type": "stream",
     "text": [
      "(4026, 176, 176)\n",
      "(4026, 176, 176)\n"
     ]
    }
   ],
   "source": [
    "'''\n",
    "rearmado matrices\n",
    "\n",
    "-Se calcula el numero de valores que debe tener la matriz final, para cada dimension de la matriz X_train.\n",
    "0:(4026*176*176)-1 ---> numero exacto de valores necesarios para obtener 4026 matrices.\n",
    "'''\n",
    "\n",
    "X_us_0 = X_us_0[0:(4026*176*176)]\n",
    "X_us_1 = X_us_1[0:(4026*176*176)]\n",
    "X_us_2 = X_us_2[0:(4026*176*176)]\n",
    "\n",
    "X_us_0 = X_us_0.reshape(4026,176,176)\n",
    "X_us_1 = X_us_1.reshape(4026,176,176)\n",
    "X_us_2 = X_us_2.reshape(4026,176,176)\n",
    "\n",
    "\n",
    "print(X_us_0.shape)\n",
    "print(X_us_1.shape)"
   ]
  },
  {
   "cell_type": "code",
   "execution_count": 13,
   "id": "6c6d2597",
   "metadata": {},
   "outputs": [
    {
     "name": "stdout",
     "output_type": "stream",
     "text": [
      "(4026, 176, 176)\n"
     ]
    }
   ],
   "source": [
    "## para Y\n",
    "Y_us = Y_us[0:(4026*176*176)]\n",
    "Y_us = Y_us.reshape(4026,176,176)\n",
    "print(Y_us.shape)"
   ]
  },
  {
   "cell_type": "code",
   "execution_count": 14,
   "id": "eaf898f5",
   "metadata": {},
   "outputs": [],
   "source": [
    "X_train_us = np.empty((4026,3,176,176))\n",
    "Y_train_us = np.empty((4026,176,176))"
   ]
  },
  {
   "cell_type": "code",
   "execution_count": 15,
   "id": "7790ff34",
   "metadata": {},
   "outputs": [],
   "source": [
    "X_train_us[:,0,:,:] = X_us_0\n",
    "X_train_us[:,1,:,:] = X_us_1\n",
    "X_train_us[:,2,:,:] = X_us_2\n",
    "\n",
    "Y_train_us = Y_us"
   ]
  },
  {
   "cell_type": "code",
   "execution_count": 16,
   "id": "2fbe0599",
   "metadata": {},
   "outputs": [
    {
     "name": "stdout",
     "output_type": "stream",
     "text": [
      "(4026, 3, 176, 176)\n",
      "(4026, 176, 176)\n"
     ]
    }
   ],
   "source": [
    "print(X_train_us.shape)\n",
    "print(Y_train_us.shape)"
   ]
  }
 ],
 "metadata": {
  "kernelspec": {
   "display_name": "tf-gpu2",
   "language": "python",
   "name": "tf-gpu2"
  },
  "language_info": {
   "codemirror_mode": {
    "name": "ipython",
    "version": 3
   },
   "file_extension": ".py",
   "mimetype": "text/x-python",
   "name": "python",
   "nbconvert_exporter": "python",
   "pygments_lexer": "ipython3",
   "version": "3.9.5"
  }
 },
 "nbformat": 4,
 "nbformat_minor": 5
}
