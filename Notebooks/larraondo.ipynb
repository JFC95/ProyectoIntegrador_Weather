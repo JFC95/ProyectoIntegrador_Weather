{
 "cells": [
  {
   "cell_type": "code",
   "execution_count": 1,
   "id": "3df77a11",
   "metadata": {},
   "outputs": [],
   "source": [
    "from tensorflow.keras.models import Sequential\n",
    "from tensorflow.keras import metrics\n",
    "from tensorflow.keras.callbacks import ModelCheckpoint, Callback\n",
    "from tensorflow.keras.utils import to_categorical\n",
    "from tensorflow.keras.models import load_model\n",
    "from tensorflow.keras.layers import BatchNormalization, Conv2D, UpSampling2D, MaxPooling2D, Dropout, Flatten, Dense, Activation\n",
    "from tensorflow.keras.optimizers import Adam, SGD\n",
    "from tensorflow.keras import regularizers\n",
    "from tensorflow.keras.losses import BinaryCrossentropy\n",
    "from tensorflow.keras.callbacks import LearningRateScheduler\n",
    "from sklearn.metrics import confusion_matrix, f1_score, precision_score, recall_score, precision_recall_curve, accuracy_score, zero_one_loss, balanced_accuracy_score, average_precision_score\n",
    "from inspect import signature\n",
    "import matplotlib.pyplot as plt\n",
    "import numpy as np\n",
    "import tensorflow\n",
    "import os\n",
    "import pickle\n",
    "import sys\n",
    "import logging\n",
    "from tensorflow.keras import layers\n",
    "from tensorflow.keras import Input\n",
    "import seaborn as sns\n",
    "from tensorflow.keras import backend\n",
    "from sklearn.metrics import classification_report"
   ]
  },
  {
   "cell_type": "code",
   "execution_count": null,
   "id": "c4febe6a",
   "metadata": {},
   "outputs": [],
   "source": [
    "#backend.set_image_data_format('channels_last')"
   ]
  },
  {
   "cell_type": "code",
   "execution_count": 2,
   "id": "adcceda1",
   "metadata": {},
   "outputs": [
    {
     "name": "stdout",
     "output_type": "stream",
     "text": [
      "Model: \"sequential\"\n",
      "_________________________________________________________________\n",
      "Layer (type)                 Output Shape              Param #   \n",
      "=================================================================\n",
      "batch_normalization (BatchNo (None, 80, 120, 3)        12        \n",
      "_________________________________________________________________\n",
      "block1_conv1 (Conv2D)        (None, 80, 120, 64)       1792      \n",
      "_________________________________________________________________\n",
      "batch_normalization_1 (Batch (None, 80, 120, 64)       256       \n",
      "_________________________________________________________________\n",
      "block1_conv2 (Conv2D)        (None, 80, 120, 64)       36928     \n",
      "_________________________________________________________________\n",
      "block1_pool (MaxPooling2D)   (None, 40, 60, 64)        0         \n",
      "_________________________________________________________________\n",
      "batch_normalization_2 (Batch (None, 40, 60, 64)        256       \n",
      "_________________________________________________________________\n",
      "block2_conv1 (Conv2D)        (None, 40, 60, 128)       73856     \n",
      "_________________________________________________________________\n",
      "batch_normalization_3 (Batch (None, 40, 60, 128)       512       \n",
      "_________________________________________________________________\n",
      "block2_conv2 (Conv2D)        (None, 40, 60, 128)       147584    \n",
      "_________________________________________________________________\n",
      "block2_pool (MaxPooling2D)   (None, 20, 30, 128)       0         \n",
      "_________________________________________________________________\n",
      "batch_normalization_4 (Batch (None, 20, 30, 128)       512       \n",
      "_________________________________________________________________\n",
      "block3_conv1 (Conv2D)        (None, 20, 30, 256)       295168    \n",
      "_________________________________________________________________\n",
      "batch_normalization_5 (Batch (None, 20, 30, 256)       1024      \n",
      "_________________________________________________________________\n",
      "block3_conv2 (Conv2D)        (None, 20, 30, 256)       590080    \n",
      "_________________________________________________________________\n",
      "block3_pool (MaxPooling2D)   (None, 10, 15, 256)       0         \n",
      "_________________________________________________________________\n",
      "batch_normalization_6 (Batch (None, 10, 15, 256)       1024      \n",
      "_________________________________________________________________\n",
      "block4_conv1 (Conv2D)        (None, 10, 15, 512)       1180160   \n",
      "_________________________________________________________________\n",
      "batch_normalization_7 (Batch (None, 10, 15, 512)       2048      \n",
      "_________________________________________________________________\n",
      "block4_conv2 (Conv2D)        (None, 10, 15, 512)       2359808   \n",
      "_________________________________________________________________\n",
      "block4_pool (MaxPooling2D)   (None, 5, 5, 512)         0         \n",
      "_________________________________________________________________\n",
      "batch_normalization_8 (Batch (None, 5, 5, 512)         2048      \n",
      "_________________________________________________________________\n",
      "block5_conv1 (Conv2D)        (None, 5, 5, 512)         2359808   \n",
      "_________________________________________________________________\n",
      "batch_normalization_9 (Batch (None, 5, 5, 512)         2048      \n",
      "_________________________________________________________________\n",
      "block5_conv2 (Conv2D)        (None, 5, 5, 512)         2359808   \n",
      "_________________________________________________________________\n",
      "block6_upsampl (UpSampling2D (None, 10, 15, 512)       0         \n",
      "_________________________________________________________________\n",
      "batch_normalization_10 (Batc (None, 10, 15, 512)       2048      \n",
      "_________________________________________________________________\n",
      "block6_conv1 (Conv2D)        (None, 10, 15, 512)       2359808   \n",
      "_________________________________________________________________\n",
      "batch_normalization_11 (Batc (None, 10, 15, 512)       2048      \n",
      "_________________________________________________________________\n",
      "block6_conv2 (Conv2D)        (None, 10, 15, 512)       2359808   \n",
      "_________________________________________________________________\n",
      "block7_upsampl (UpSampling2D (None, 20, 30, 512)       0         \n",
      "_________________________________________________________________\n",
      "batch_normalization_12 (Batc (None, 20, 30, 512)       2048      \n",
      "_________________________________________________________________\n",
      "block7_conv1 (Conv2D)        (None, 20, 30, 256)       1179904   \n",
      "_________________________________________________________________\n",
      "batch_normalization_13 (Batc (None, 20, 30, 256)       1024      \n",
      "_________________________________________________________________\n",
      "block7_conv2 (Conv2D)        (None, 20, 30, 256)       590080    \n",
      "_________________________________________________________________\n",
      "block8_upsampl (UpSampling2D (None, 40, 60, 256)       0         \n",
      "_________________________________________________________________\n",
      "batch_normalization_14 (Batc (None, 40, 60, 256)       1024      \n",
      "_________________________________________________________________\n",
      "block8_conv1 (Conv2D)        (None, 40, 60, 128)       295040    \n",
      "_________________________________________________________________\n",
      "batch_normalization_15 (Batc (None, 40, 60, 128)       512       \n",
      "_________________________________________________________________\n",
      "block8_conv2 (Conv2D)        (None, 40, 60, 128)       147584    \n",
      "_________________________________________________________________\n",
      "block9_upsampl (UpSampling2D (None, 80, 120, 128)      0         \n",
      "_________________________________________________________________\n",
      "batch_normalization_16 (Batc (None, 80, 120, 128)      512       \n",
      "_________________________________________________________________\n",
      "block9_conv1 (Conv2D)        (None, 80, 120, 64)       73792     \n",
      "_________________________________________________________________\n",
      "batch_normalization_17 (Batc (None, 80, 120, 64)       256       \n",
      "_________________________________________________________________\n",
      "block9_conv2 (Conv2D)        (None, 80, 120, 64)       36928     \n",
      "_________________________________________________________________\n",
      "batch_normalization_18 (Batc (None, 80, 120, 64)       256       \n",
      "_________________________________________________________________\n",
      "block10_conv1 (Conv2D)       (None, 80, 120, 1)        65        \n",
      "=================================================================\n",
      "Total params: 16,467,469\n",
      "Trainable params: 16,457,735\n",
      "Non-trainable params: 9,734\n",
      "_________________________________________________________________\n",
      "None\n"
     ]
    }
   ],
   "source": [
    "def get_vgg16():\n",
    "    model = Sequential()\n",
    "\n",
    "    # Encoder\n",
    "    # Block 1\n",
    "    model.add(BatchNormalization(axis=3, input_shape=(80, 120, 3)))\n",
    "    #model.add(Dropout(.2))\n",
    "    model.add(Conv2D(64, (3, 3), padding='same', activation='relu', bias_regularizer=regularizers.l1(0.01), name='block1_conv1', input_shape=(80,120,3)))\n",
    "    model.add(BatchNormalization(axis=3))\n",
    "    model.add(Conv2D(64, (3, 3), padding='same', activation='relu', bias_regularizer=regularizers.l1(0.01), name='block1_conv2'))\n",
    "    model.add(MaxPooling2D((2, 2), strides=(2, 2), name='block1_pool'))\n",
    "\n",
    "    # Block 2\n",
    "    model.add(BatchNormalization(axis=3))\n",
    "    model.add(Conv2D(128, (3, 3), padding='same', activation='relu', bias_regularizer=regularizers.l1(0.01), name='block2_conv1'))\n",
    "    model.add(BatchNormalization(axis=3))\n",
    "    model.add(Conv2D(128, (3, 3), padding='same', activation='relu', bias_regularizer=regularizers.l1(0.01), name='block2_conv2'))\n",
    "    model.add(MaxPooling2D((2, 2), strides=(2, 2), name='block2_pool'))\n",
    "\n",
    "    # Block 3\n",
    "    model.add(BatchNormalization(axis=3))\n",
    "    model.add(Conv2D(256, (3, 3), padding='same', activation='relu', bias_regularizer=regularizers.l1(0.01), name='block3_conv1'))\n",
    "    model.add(BatchNormalization(axis=3))\n",
    "    model.add(Conv2D(256, (3, 3), padding='same', activation='relu', bias_regularizer=regularizers.l1(0.01), name='block3_conv2'))\n",
    "    model.add(MaxPooling2D((2, 2), strides=(2, 2), name='block3_pool'))\n",
    "\n",
    "    # Block 4\n",
    "    model.add(BatchNormalization(axis=3))\n",
    "    model.add(Conv2D(512, (3, 3), padding='same', activation='relu', bias_regularizer=regularizers.l1(0.01), name='block4_conv1'))\n",
    "    model.add(BatchNormalization(axis=3))\n",
    "    model.add(Conv2D(512, (3, 3), padding='same', activation='relu', bias_regularizer=regularizers.l1(0.01), name='block4_conv2'))\n",
    "    model.add(MaxPooling2D((2, 3), strides=(2, 3), name='block4_pool'))\n",
    "\n",
    "\n",
    "    # Block 5\n",
    "    model.add(BatchNormalization(axis=3))\n",
    "    model.add(Conv2D(512, (3, 3), padding='same', activation='relu', bias_regularizer=regularizers.l1(0.01), name='block5_conv1'))\n",
    "    model.add(BatchNormalization(axis=3))\n",
    "    model.add(Conv2D(512, (3, 3), padding='same', activation='relu', bias_regularizer=regularizers.l1(0.01), name='block5_conv2'))\n",
    "\n",
    "    # Decoder\n",
    "    # Block 6\n",
    "    model.add(UpSampling2D((2, 3), name='block6_upsampl'))\n",
    "    model.add(BatchNormalization(axis=3))\n",
    "    model.add(Conv2D(512, (3, 3), padding='same', activation='relu', bias_regularizer=regularizers.l1(0.01), name='block6_conv1'))\n",
    "    model.add(BatchNormalization(axis=3))\n",
    "    model.add(Conv2D(512, (3, 3), padding='same', activation='relu', bias_regularizer=regularizers.l1(0.01), name='block6_conv2'))\n",
    "\n",
    "    # Block 7\n",
    "    model.add(UpSampling2D((2, 2), name='block7_upsampl'))\n",
    "    model.add(BatchNormalization(axis=3))\n",
    "    model.add(Conv2D(256, (3, 3), padding='same', activation='relu', bias_regularizer=regularizers.l1(0.01), name='block7_conv1'))\n",
    "    model.add(BatchNormalization(axis=3))\n",
    "    model.add(Conv2D(256, (3, 3), padding='same', activation='relu', bias_regularizer=regularizers.l1(0.01), name='block7_conv2'))\n",
    "\n",
    "    # Block 8\n",
    "    model.add(UpSampling2D((2, 2), name='block8_upsampl'))\n",
    "    model.add(BatchNormalization(axis=3))\n",
    "    model.add(Conv2D(128, (3, 3), padding='same', activation='relu', bias_regularizer=regularizers.l1(0.01), name='block8_conv1'))\n",
    "    model.add(BatchNormalization(axis=3))\n",
    "    model.add(Conv2D(128, (3, 3), padding='same', activation='relu', bias_regularizer=regularizers.l1(0.01), name='block8_conv2'))\n",
    "\n",
    "    # Block 9\n",
    "    model.add(UpSampling2D((2, 2), name='block9_upsampl'))\n",
    "    model.add(BatchNormalization(axis=3))\n",
    "    model.add(Conv2D(64, (3, 3), padding='same', activation='relu', bias_regularizer=regularizers.l1(0.01), name='block9_conv1'))\n",
    "    model.add(BatchNormalization(axis=3))\n",
    "    #model.add(Dropout(.2))\n",
    "    model.add(Conv2D(64, (3, 3), padding='same', activation='relu', bias_regularizer=regularizers.l1(0.01), name='block9_conv2'))\n",
    "\n",
    "    # Output\n",
    "    model.add(BatchNormalization(axis=3))\n",
    "    model.add(Conv2D(1, (1, 1), padding='same', activation='relu', bias_regularizer=regularizers.l1(0.01), name='block10_conv1'))\n",
    "\n",
    "    sgd = SGD(lr=0.01, decay=1e-6, momentum=0.9, nesterov=True)\n",
    "    model.compile(loss='mae', optimizer=sgd, metrics=['mse', 'acc'])\n",
    "    #model.compile(loss='mae', optimizer=Adam(lr=0.001), metrics=['mse'])\n",
    "    print(model.summary())\n",
    "\n",
    "    return model\n",
    "\n",
    "model = get_vgg16()"
   ]
  },
  {
   "cell_type": "code",
   "execution_count": 3,
   "id": "5a633cb1",
   "metadata": {},
   "outputs": [
    {
     "name": "stdout",
     "output_type": "stream",
     "text": [
      "(40000, 80, 120, 3)\n",
      "(14023, 80, 120, 3)\n",
      "(40000, 80, 120, 1)\n",
      "(14023, 80, 120, 1)\n"
     ]
    }
   ],
   "source": [
    "x_train = np.load(\"/opt/datos/dataset/x_train-0_3_5_levels.npy\")\n",
    "x_test = np.load(\"/opt/datos/dataset/x_test-0_3_5_levels.npy\")\n",
    "y_train = np.load(\"/opt/datos/dataset/y_train-0_3_5_levels.npy\")\n",
    "y_test = np.load(\"/opt/datos/dataset/y_test-0_3_5_levels.npy\")\n",
    "\n",
    "print(x_train.shape)\n",
    "print(x_test.shape)\n",
    "print(y_train.shape)\n",
    "print(y_test.shape)\n",
    "\n",
    "i = 0\n",
    "j = 3\n",
    "k = 5"
   ]
  },
  {
   "cell_type": "code",
   "execution_count": 4,
   "id": "b9ed42a1",
   "metadata": {},
   "outputs": [
    {
     "name": "stdout",
     "output_type": "stream",
     "text": [
      "Epoch 1/50\n",
      "1250/1250 [==============================] - 594s 458ms/step - loss: 0.4244 - mse: 1.5409 - acc: 0.3983 - val_loss: 0.3700 - val_mse: 1.2096 - val_acc: 0.4026\n",
      "Epoch 2/50\n",
      "1250/1250 [==============================] - 561s 449ms/step - loss: 0.3574 - mse: 1.1127 - acc: 0.4046 - val_loss: 0.3466 - val_mse: 0.9849 - val_acc: 0.4010\n",
      "Epoch 3/50\n",
      "1250/1250 [==============================] - 560s 448ms/step - loss: 0.3344 - mse: 0.9570 - acc: 0.4044 - val_loss: 0.3290 - val_mse: 0.9219 - val_acc: 0.4033\n",
      "Epoch 4/50\n",
      "1250/1250 [==============================] - 560s 448ms/step - loss: 0.3203 - mse: 0.8710 - acc: 0.4054 - val_loss: 0.3208 - val_mse: 0.8765 - val_acc: 0.4033\n",
      "Epoch 5/50\n",
      "1250/1250 [==============================] - 560s 448ms/step - loss: 0.3095 - mse: 0.8042 - acc: 0.4038 - val_loss: 0.3129 - val_mse: 0.8389 - val_acc: 0.4042\n",
      "Epoch 6/50\n",
      "1250/1250 [==============================] - 560s 448ms/step - loss: 0.3005 - mse: 0.7544 - acc: 0.4042 - val_loss: 0.3082 - val_mse: 0.7816 - val_acc: 0.4032\n",
      "Epoch 7/50\n",
      "1250/1250 [==============================] - 560s 448ms/step - loss: 0.2944 - mse: 0.7209 - acc: 0.4040 - val_loss: 0.3054 - val_mse: 0.7616 - val_acc: 0.4026\n",
      "Epoch 8/50\n",
      "1250/1250 [==============================] - 560s 448ms/step - loss: 0.2874 - mse: 0.6805 - acc: 0.4048 - val_loss: 0.2993 - val_mse: 0.7526 - val_acc: 0.4043\n",
      "Epoch 9/50\n",
      "1250/1250 [==============================] - 560s 448ms/step - loss: 0.2817 - mse: 0.6525 - acc: 0.4054 - val_loss: 0.2947 - val_mse: 0.7189 - val_acc: 0.4043\n",
      "Epoch 10/50\n",
      "1250/1250 [==============================] - 560s 448ms/step - loss: 0.2769 - mse: 0.6301 - acc: 0.4065 - val_loss: 0.2928 - val_mse: 0.7178 - val_acc: 0.4044\n",
      "Epoch 11/50\n",
      "1250/1250 [==============================] - 560s 448ms/step - loss: 0.2713 - mse: 0.5991 - acc: 0.4054 - val_loss: 0.2908 - val_mse: 0.6991 - val_acc: 0.4042\n",
      "Epoch 12/50\n",
      "1250/1250 [==============================] - 560s 448ms/step - loss: 0.2677 - mse: 0.5810 - acc: 0.4072 - val_loss: 0.2881 - val_mse: 0.6836 - val_acc: 0.4043\n",
      "Epoch 13/50\n",
      "1250/1250 [==============================] - 560s 448ms/step - loss: 0.2632 - mse: 0.5583 - acc: 0.4068 - val_loss: 0.2878 - val_mse: 0.6963 - val_acc: 0.4051\n",
      "Epoch 14/50\n",
      "1250/1250 [==============================] - 560s 448ms/step - loss: 0.2600 - mse: 0.5432 - acc: 0.4050 - val_loss: 0.2848 - val_mse: 0.6629 - val_acc: 0.4039\n",
      "Epoch 15/50\n",
      "1250/1250 [==============================] - 560s 448ms/step - loss: 0.2549 - mse: 0.5170 - acc: 0.4088 - val_loss: 0.2823 - val_mse: 0.6569 - val_acc: 0.4046\n",
      "Epoch 16/50\n",
      "1250/1250 [==============================] - 560s 448ms/step - loss: 0.2516 - mse: 0.5011 - acc: 0.4049 - val_loss: 0.2830 - val_mse: 0.6616 - val_acc: 0.4048\n",
      "Epoch 17/50\n",
      "1250/1250 [==============================] - 560s 448ms/step - loss: 0.2484 - mse: 0.4875 - acc: 0.4077 - val_loss: 0.2813 - val_mse: 0.6653 - val_acc: 0.4050\n",
      "Epoch 18/50\n",
      "1250/1250 [==============================] - 560s 448ms/step - loss: 0.2453 - mse: 0.4734 - acc: 0.4081 - val_loss: 0.2814 - val_mse: 0.6320 - val_acc: 0.4039\n",
      "Epoch 19/50\n",
      "1250/1250 [==============================] - 560s 448ms/step - loss: 0.2424 - mse: 0.4602 - acc: 0.4058 - val_loss: 0.2803 - val_mse: 0.6394 - val_acc: 0.4048\n",
      "Epoch 20/50\n",
      "1250/1250 [==============================] - 560s 448ms/step - loss: 0.2392 - mse: 0.4469 - acc: 0.4080 - val_loss: 0.2798 - val_mse: 0.6349 - val_acc: 0.4044\n",
      "Epoch 21/50\n",
      "1250/1250 [==============================] - 560s 448ms/step - loss: 0.2370 - mse: 0.4343 - acc: 0.4051 - val_loss: 0.2761 - val_mse: 0.6277 - val_acc: 0.4050\n",
      "Epoch 22/50\n",
      "1250/1250 [==============================] - 560s 448ms/step - loss: 0.2338 - mse: 0.4222 - acc: 0.4091 - val_loss: 0.2762 - val_mse: 0.6351 - val_acc: 0.4052\n",
      "Epoch 23/50\n",
      "1250/1250 [==============================] - 560s 448ms/step - loss: 0.2316 - mse: 0.4110 - acc: 0.4083 - val_loss: 0.2755 - val_mse: 0.6292 - val_acc: 0.4052\n",
      "Epoch 24/50\n",
      "1250/1250 [==============================] - 560s 448ms/step - loss: 0.2295 - mse: 0.4022 - acc: 0.4072 - val_loss: 0.2749 - val_mse: 0.6156 - val_acc: 0.4048\n",
      "Epoch 25/50\n",
      "1250/1250 [==============================] - 560s 448ms/step - loss: 0.2273 - mse: 0.3948 - acc: 0.4069 - val_loss: 0.2737 - val_mse: 0.6128 - val_acc: 0.4045\n",
      "Epoch 26/50\n",
      "1250/1250 [==============================] - 560s 448ms/step - loss: 0.2250 - mse: 0.3839 - acc: 0.4061 - val_loss: 0.2732 - val_mse: 0.6030 - val_acc: 0.4048\n",
      "Epoch 27/50\n",
      "1250/1250 [==============================] - 560s 448ms/step - loss: 0.2227 - mse: 0.3751 - acc: 0.4069 - val_loss: 0.2736 - val_mse: 0.6173 - val_acc: 0.4055\n",
      "Epoch 28/50\n",
      "1250/1250 [==============================] - 560s 448ms/step - loss: 0.2208 - mse: 0.3659 - acc: 0.4097 - val_loss: 0.2716 - val_mse: 0.6091 - val_acc: 0.4055\n",
      "Epoch 29/50\n",
      "1250/1250 [==============================] - 560s 448ms/step - loss: 0.2189 - mse: 0.3586 - acc: 0.4081 - val_loss: 0.2727 - val_mse: 0.6025 - val_acc: 0.4048\n",
      "Epoch 30/50\n",
      "1250/1250 [==============================] - 560s 448ms/step - loss: 0.2171 - mse: 0.3503 - acc: 0.4054 - val_loss: 0.2715 - val_mse: 0.5919 - val_acc: 0.4044\n",
      "Epoch 31/50\n",
      "1250/1250 [==============================] - 560s 448ms/step - loss: 0.2157 - mse: 0.3454 - acc: 0.4058 - val_loss: 0.2710 - val_mse: 0.5869 - val_acc: 0.4045\n",
      "Epoch 32/50\n",
      "1250/1250 [==============================] - 560s 448ms/step - loss: 0.2133 - mse: 0.3364 - acc: 0.4086 - val_loss: 0.2706 - val_mse: 0.5904 - val_acc: 0.4046\n",
      "Epoch 33/50\n",
      "1250/1250 [==============================] - 560s 448ms/step - loss: 0.2117 - mse: 0.3313 - acc: 0.4074 - val_loss: 0.2695 - val_mse: 0.5900 - val_acc: 0.4048\n",
      "Epoch 34/50\n",
      "1250/1250 [==============================] - 560s 448ms/step - loss: 0.2099 - mse: 0.3237 - acc: 0.4053 - val_loss: 0.2707 - val_mse: 0.5965 - val_acc: 0.4048\n",
      "Epoch 35/50\n",
      "1250/1250 [==============================] - 560s 448ms/step - loss: 0.2089 - mse: 0.3193 - acc: 0.4066 - val_loss: 0.2708 - val_mse: 0.5841 - val_acc: 0.4043\n",
      "Epoch 36/50\n",
      "1250/1250 [==============================] - 560s 448ms/step - loss: 0.2071 - mse: 0.3130 - acc: 0.4085 - val_loss: 0.2714 - val_mse: 0.5843 - val_acc: 0.4042\n",
      "Epoch 37/50\n",
      "1250/1250 [==============================] - 560s 448ms/step - loss: 0.2053 - mse: 0.3068 - acc: 0.4084 - val_loss: 0.2722 - val_mse: 0.5868 - val_acc: 0.4040\n",
      "Epoch 38/50\n",
      "1250/1250 [==============================] - 560s 448ms/step - loss: 0.2043 - mse: 0.3030 - acc: 0.4044 - val_loss: 0.2713 - val_mse: 0.5850 - val_acc: 0.4044\n",
      "Epoch 39/50\n",
      "1250/1250 [==============================] - 560s 448ms/step - loss: 0.2031 - mse: 0.2992 - acc: 0.4069 - val_loss: 0.2685 - val_mse: 0.5774 - val_acc: 0.4044\n",
      "Epoch 40/50\n",
      "1250/1250 [==============================] - 560s 448ms/step - loss: 0.2016 - mse: 0.2932 - acc: 0.4080 - val_loss: 0.2675 - val_mse: 0.5809 - val_acc: 0.4051\n",
      "Epoch 41/50\n",
      "1250/1250 [==============================] - 560s 448ms/step - loss: 0.2003 - mse: 0.2874 - acc: 0.4063 - val_loss: 0.2690 - val_mse: 0.5781 - val_acc: 0.4044\n",
      "Epoch 42/50\n",
      "1250/1250 [==============================] - 560s 448ms/step - loss: 0.1988 - mse: 0.2823 - acc: 0.4085 - val_loss: 0.2705 - val_mse: 0.5814 - val_acc: 0.4043\n",
      "Epoch 43/50\n",
      "1250/1250 [==============================] - 560s 448ms/step - loss: 0.1977 - mse: 0.2800 - acc: 0.4080 - val_loss: 0.2686 - val_mse: 0.5754 - val_acc: 0.4046\n",
      "Epoch 44/50\n",
      "1250/1250 [==============================] - 560s 448ms/step - loss: 0.1965 - mse: 0.2760 - acc: 0.4068 - val_loss: 0.2688 - val_mse: 0.5777 - val_acc: 0.4046\n",
      "Epoch 45/50\n",
      "1250/1250 [==============================] - 560s 448ms/step - loss: 0.1952 - mse: 0.2703 - acc: 0.4083 - val_loss: 0.2685 - val_mse: 0.5781 - val_acc: 0.4050\n",
      "Epoch 46/50\n",
      "1250/1250 [==============================] - 560s 448ms/step - loss: 0.1942 - mse: 0.2695 - acc: 0.4090 - val_loss: 0.2679 - val_mse: 0.5819 - val_acc: 0.4051\n",
      "Epoch 47/50\n",
      "1250/1250 [==============================] - 560s 448ms/step - loss: 0.1934 - mse: 0.2644 - acc: 0.4071 - val_loss: 0.2681 - val_mse: 0.5755 - val_acc: 0.4048\n",
      "Epoch 48/50\n",
      "1250/1250 [==============================] - 560s 448ms/step - loss: 0.1921 - mse: 0.2596 - acc: 0.4086 - val_loss: 0.2679 - val_mse: 0.5709 - val_acc: 0.4046\n"
     ]
    },
    {
     "name": "stdout",
     "output_type": "stream",
     "text": [
      "Epoch 49/50\n",
      "1250/1250 [==============================] - 560s 448ms/step - loss: 0.1911 - mse: 0.2577 - acc: 0.4078 - val_loss: 0.2671 - val_mse: 0.5688 - val_acc: 0.4045\n",
      "Epoch 50/50\n",
      "1250/1250 [==============================] - 560s 448ms/step - loss: 0.1903 - mse: 0.2548 - acc: 0.4069 - val_loss: 0.2676 - val_mse: 0.5685 - val_acc: 0.4045\n"
     ]
    }
   ],
   "source": [
    "history = model.fit(x_train, y_train, epochs=50, verbose=1, validation_data=(x_test, y_test))"
   ]
  },
  {
   "cell_type": "code",
   "execution_count": 5,
   "id": "8ed820ed",
   "metadata": {},
   "outputs": [],
   "source": [
    "with open('/opt/datos/entrenamientos/larraondo/trainHistoryDict_vgg16_{}-{}-{}'.format(i, j, k), 'wb') as file_pi:\n",
    "    pickle.dump(history.history, file_pi)"
   ]
  },
  {
   "cell_type": "code",
   "execution_count": 6,
   "id": "e2860373",
   "metadata": {},
   "outputs": [],
   "source": [
    "history = pickle.load( open( \"/opt/datos/entrenamientos/larraondo/trainHistoryDict_vgg16_0-3-5\", \"rb\" ) )"
   ]
  },
  {
   "cell_type": "code",
   "execution_count": 7,
   "id": "fe5bb8c1",
   "metadata": {},
   "outputs": [
    {
     "data": {
      "image/png": "[encoded data removed]",
      "text/plain": [
       "<Figure size 432x288 with 1 Axes>"
      ]
     },
     "metadata": {
      "needs_background": "light"
     },
     "output_type": "display_data"
    }
   ],
   "source": [
    "#print(history)\n",
    "plt.plot(history['loss'])\n",
    "plt.plot(history['val_loss'])\n",
    "plt.title('VGG16 network training')\n",
    "plt.ylabel('mean absolute error')\n",
    "plt.xlabel('epoch')\n",
    "plt.legend(['train', 'validation'], loc='upper right')\n",
    "plt.show()"
   ]
  },
  {
   "cell_type": "code",
   "execution_count": 8,
   "id": "d688ecb9",
   "metadata": {},
   "outputs": [],
   "source": [
    "model.save('/opt/datos/entrenamientos/larraondo/vgg16_0_3_5.h5')"
   ]
  },
  {
   "cell_type": "code",
   "execution_count": null,
   "id": "db09667c",
   "metadata": {},
   "outputs": [],
   "source": []
  },
  {
   "cell_type": "code",
   "execution_count": null,
   "id": "d99ef77c",
   "metadata": {},
   "outputs": [],
   "source": []
  },
  {
   "cell_type": "code",
   "execution_count": 31,
   "id": "993c76d5",
   "metadata": {},
   "outputs": [
    {
     "name": "stdout",
     "output_type": "stream",
     "text": [
      "(7000, 80, 120, 1)\n"
     ]
    }
   ],
   "source": [
    "y_pred = model.predict(X_test)\n",
    "print(y_pred.shape)"
   ]
  },
  {
   "cell_type": "code",
   "execution_count": 26,
   "id": "d69b7950",
   "metadata": {},
   "outputs": [
    {
     "name": "stderr",
     "output_type": "stream",
     "text": [
      "IOPub data rate exceeded.\n",
      "The notebook server will temporarily stop sending output\n",
      "to the client in order to avoid crashing it.\n",
      "To change this limit, set the config variable\n",
      "`--NotebookApp.iopub_data_rate_limit`.\n",
      "\n",
      "Current values:\n",
      "NotebookApp.iopub_data_rate_limit=1000000.0 (bytes/sec)\n",
      "NotebookApp.rate_limit_window=3.0 (secs)\n",
      "\n"
     ]
    }
   ],
   "source": [
    "# Para ver que valores hay y cuantas veces aparece c/u\n",
    "unique, counts = np.unique(y_pred, return_counts=True)\n",
    "print(dict(zip(unique, counts)))"
   ]
  },
  {
   "cell_type": "code",
   "execution_count": 32,
   "id": "9f45fbaf",
   "metadata": {},
   "outputs": [
    {
     "name": "stdout",
     "output_type": "stream",
     "text": [
      "Cantidad de unos que hay realmente: 8036754\n",
      "Cantidad de ceros que hay realmente: 59163246\n",
      "Total: 67200000\n"
     ]
    }
   ],
   "source": [
    "# Cuento la cantidad de unos y ceros en las matrices de tags\n",
    "lluvias = np.where(Y_test==1)[0].size\n",
    "nolluvias = np.where(Y_test==0)[0].size\n",
    "\n",
    "print(\"Cantidad de unos que hay realmente: \" + str(lluvias))\n",
    "print(\"Cantidad de ceros que hay realmente: \" + str(nolluvias))\n",
    "total_real = lluvias+nolluvias\n",
    "print(\"Total: \" + str(total_real))"
   ]
  },
  {
   "cell_type": "code",
   "execution_count": 33,
   "id": "21d3f34c",
   "metadata": {},
   "outputs": [
    {
     "name": "stdout",
     "output_type": "stream",
     "text": [
      "Cantidad de unos predichos: 2\n",
      "Cantidad de ceros predichos: 61200618\n",
      "Cantidad de valores distintos de cero: 5999382\n",
      "Total: 61200620\n"
     ]
    }
   ],
   "source": [
    "# Cuento la cantidad de unos y ceros en las matrices de prediccion\n",
    "unos = np.where(y_pred == 1)[0].size\n",
    "ceros = np.where(y_pred == 0)[0].size\n",
    "otro_valor = np.where(y_pred != 0)[0].size\n",
    "\n",
    "print(\"Cantidad de unos predichos: \" + str(unos))\n",
    "print(\"Cantidad de ceros predichos: \" + str(ceros))\n",
    "print(\"Cantidad de valores distintos de cero: \" + str(otro_valor))\n",
    "total_real = unos+ceros\n",
    "print(\"Total: \" + str(total_real))"
   ]
  },
  {
   "cell_type": "code",
   "execution_count": 34,
   "id": "02f17575",
   "metadata": {},
   "outputs": [],
   "source": [
    "y_pred[y_pred >= 0.5] = 1\n",
    "y_pred[y_pred < 0.5] = 0"
   ]
  },
  {
   "cell_type": "code",
   "execution_count": 35,
   "id": "85f5ca87",
   "metadata": {},
   "outputs": [
    {
     "name": "stdout",
     "output_type": "stream",
     "text": [
      "Y_test: (67200000,)\n",
      "y_pred: (67200000,)\n"
     ]
    },
    {
     "data": {
      "image/png": "[encoded data removed]",
      "text/plain": [
       "<Figure size 864x864 with 2 Axes>"
      ]
     },
     "metadata": {
      "needs_background": "light"
     },
     "output_type": "display_data"
    },
    {
     "name": "stdout",
     "output_type": "stream",
     "text": [
      "              precision    recall  f1-score   support\n",
      "\n",
      "         0.0       0.94      0.98      0.96  59163246\n",
      "         1.0       0.74      0.51      0.60   8036754\n",
      "\n",
      "    accuracy                           0.92  67200000\n",
      "   macro avg       0.84      0.74      0.78  67200000\n",
      "weighted avg       0.91      0.92      0.91  67200000\n",
      "\n"
     ]
    }
   ],
   "source": [
    "Y_test = Y_test.reshape(7000*80*120)\n",
    "y_pred = y_pred.reshape(7000*80*120)\n",
    "print(\"Y_test: %s\" %str(Y_test.shape))\n",
    "print(\"y_pred: %s\" %str(y_pred.shape))\n",
    "\n",
    "predije = [\"0\", \"1\"]\n",
    "def mostrar_resultados(Y_test, y_pred):\n",
    "    conf_matrix = confusion_matrix(Y_test, y_pred)\n",
    "    plt.figure(figsize=(12, 12))\n",
    "    sns.heatmap(conf_matrix, xticklabels=predije, yticklabels=predije, annot=True, fmt=\"d\");\n",
    "    plt.title(\"Confusion matrix\")\n",
    "    plt.ylabel('True class')\n",
    "    plt.xlabel('Predicted class')\n",
    "    plt.show()\n",
    "    print (classification_report(Y_test, y_pred))\n",
    "\n",
    "\n",
    "mostrar_resultados(Y_test, y_pred)"
   ]
  },
  {
   "cell_type": "code",
   "execution_count": null,
   "id": "48cc2c1f",
   "metadata": {},
   "outputs": [],
   "source": []
  }
 ],
 "metadata": {
  "kernelspec": {
   "display_name": "tf-gpu",
   "language": "python",
   "name": "tf-gpu"
  },
  "language_info": {
   "codemirror_mode": {
    "name": "ipython",
    "version": 3
   },
   "file_extension": ".py",
   "mimetype": "text/x-python",
   "name": "python",
   "nbconvert_exporter": "python",
   "pygments_lexer": "ipython3",
   "version": "3.9.5"
  }
 },
 "nbformat": 4,
 "nbformat_minor": 5
}
