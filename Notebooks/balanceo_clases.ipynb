{
 "cells": [
  {
   "cell_type": "code",
   "execution_count": 4,
   "id": "b092bdc5",
   "metadata": {},
   "outputs": [],
   "source": [
    "%config Completer.use_jedi = False"
   ]
  },
  {
   "cell_type": "code",
   "execution_count": 6,
   "id": "5d276355",
   "metadata": {},
   "outputs": [],
   "source": [
    "import pandas as pd\n",
    "import numpy as np\n",
    "import matplotlib.pyplot as plt\n",
    "import seaborn as sns\n",
    " \n",
    "from sklearn.metrics import confusion_matrix\n",
    "from sklearn.metrics import classification_report\n",
    "from sklearn.model_selection import train_test_split\n",
    "from sklearn.linear_model import LogisticRegression\n",
    "from sklearn.decomposition import PCA\n",
    "from sklearn.tree import DecisionTreeClassifier\n",
    " \n",
    "from pylab import rcParams\n",
    " \n",
    "#from imblearn.under_sampling import NearMiss\n",
    "#from imblearn.over_sampling import RandomOverSampler\n",
    "#from imblearn.combine import SMOTETomek\n",
    "#from imblearn.ensemble import BalancedBaggingClassifier\n",
    " \n",
    "from collections import Counter"
   ]
  },
  {
   "cell_type": "code",
   "execution_count": 11,
   "id": "4d992287",
   "metadata": {},
   "outputs": [
    {
     "name": "stdout",
     "output_type": "stream",
     "text": [
      "X_train: (2050, 3, 176, 176)\n",
      "X_val: (439, 3, 176, 176)\n",
      "X_test: (439, 3, 176, 176)\n",
      "Y_train: (2050, 176, 176)\n",
      "Y_val: (439, 176, 176)\n",
      "Y_test: (439, 176, 176)\n"
     ]
    }
   ],
   "source": [
    "X_train = np.load(\"X_train.npy\")\n",
    "X_val   = np.load(\"X_val.npy\")\n",
    "X_test = np.load(\"X_test.npy\")\n",
    "Y_train = np.load(\"Y_train.npy\")\n",
    "Y_val   = np.load(\"Y_val.npy\")\n",
    "Y_test  = np.load(\"Y_test.npy\")\n",
    "\n",
    "print(\"X_train: %s\" %str(X_train.shape))\n",
    "print(\"X_val: %s\" %str(X_val.shape))\n",
    "print(\"X_test: %s\" %str(X_test.shape))\n",
    "print(\"Y_train: %s\" %str(Y_train.shape))\n",
    "print(\"Y_val: %s\" %str(Y_val.shape))\n",
    "print(\"Y_test: %s\" %str(Y_test.shape))"
   ]
  },
  {
   "cell_type": "code",
   "execution_count": 49,
   "id": "bf83c8c2",
   "metadata": {},
   "outputs": [
    {
     "data": {
      "text/plain": [
       "40795392"
      ]
     },
     "execution_count": 49,
     "metadata": {},
     "output_type": "execute_result"
    }
   ],
   "source": [
    "439*176*176*3"
   ]
  },
  {
   "cell_type": "code",
   "execution_count": 56,
   "id": "7666f201",
   "metadata": {},
   "outputs": [
    {
     "data": {
      "text/plain": [
       "(190502400, 1)"
      ]
     },
     "execution_count": 56,
     "metadata": {},
     "output_type": "execute_result"
    }
   ],
   "source": [
    "abc1 = np.empty((3,2050,176,176))\n",
    "abc2 = np.empty((3,439,176,176))\n",
    "a = Y_train\n",
    "b = Y_train\n",
    "c = Y_train\n",
    "abc1[0] = a\n",
    "abc1[1] = b\n",
    "abc1[2] = c\n",
    "\n",
    "aa = Y_test\n",
    "bb = Y_test\n",
    "cc = Y_test\n",
    "abc2[0] = aa\n",
    "abc2[1] = bb\n",
    "abc2[2] = cc\n",
    "\n",
    "X_train_2d = X_train.reshape(2050*3*176*176)\n",
    "X_test_2d = X_test.reshape(439*3*176*176)\n",
    "Y_train_2d = abc1.reshape(2050*3*176*176)\n",
    "Y_test_2d = abc2.reshape(439*3*176*176)\n",
    "\n",
    "X_train_2d=X_train_2d.reshape(-1,1)\n",
    "X_test_2d= X_test_2d.reshape(-1,1)\n",
    "\n",
    "X_train_2d.shape"
   ]
  },
  {
   "cell_type": "code",
   "execution_count": 57,
   "id": "267d7f12",
   "metadata": {},
   "outputs": [],
   "source": [
    "#creamos una función que crea el modelo que usaremos cada vez\n",
    "def run_model(X_train_2d, X_test_2d, Y_train_2d, Y_test_2d):\n",
    "    clf_base = LogisticRegression(C=1.0,penalty='l2',random_state=1,solver=\"newton-cg\")\n",
    "    clf_base.fit(X_train_2d, Y_train_2d)\n",
    "    return clf_base\n",
    " \n",
    "#ejecutamos el modelo \"tal cual\"\n",
    "model = run_model(X_train_2d, X_test_2d, Y_train_2d, Y_test_2d)"
   ]
  },
  {
   "cell_type": "code",
   "execution_count": 51,
   "id": "7d6be4da",
   "metadata": {},
   "outputs": [
    {
     "data": {
      "image/png": "[encoded data removed]",
      "text/plain": [
       "<Figure size 864x864 with 2 Axes>"
      ]
     },
     "metadata": {
      "needs_background": "light"
     },
     "output_type": "display_data"
    },
    {
     "name": "stderr",
     "output_type": "stream",
     "text": [
      "/home/joaquinfunes/miniconda3/envs/tesis/lib/python3.8/site-packages/sklearn/metrics/_classification.py:1248: UndefinedMetricWarning: Precision and F-score are ill-defined and being set to 0.0 in labels with no predicted samples. Use `zero_division` parameter to control this behavior.\n",
      "  _warn_prf(average, modifier, msg_start, len(result))\n",
      "/home/joaquinfunes/miniconda3/envs/tesis/lib/python3.8/site-packages/sklearn/metrics/_classification.py:1248: UndefinedMetricWarning: Precision and F-score are ill-defined and being set to 0.0 in labels with no predicted samples. Use `zero_division` parameter to control this behavior.\n",
      "  _warn_prf(average, modifier, msg_start, len(result))\n"
     ]
    },
    {
     "name": "stdout",
     "output_type": "stream",
     "text": [
      "              precision    recall  f1-score   support\n",
      "\n",
      "         0.0       0.96      1.00      0.98  39304359\n",
      "         1.0       0.00      0.00      0.00   1491033\n",
      "\n",
      "    accuracy                           0.96  40795392\n",
      "   macro avg       0.48      0.50      0.49  40795392\n",
      "weighted avg       0.93      0.96      0.95  40795392\n",
      "\n"
     ]
    },
    {
     "name": "stderr",
     "output_type": "stream",
     "text": [
      "/home/joaquinfunes/miniconda3/envs/tesis/lib/python3.8/site-packages/sklearn/metrics/_classification.py:1248: UndefinedMetricWarning: Precision and F-score are ill-defined and being set to 0.0 in labels with no predicted samples. Use `zero_division` parameter to control this behavior.\n",
      "  _warn_prf(average, modifier, msg_start, len(result))\n"
     ]
    }
   ],
   "source": [
    "predije = [\"0\", \"1\"]\n",
    "\n",
    " \n",
    "#definimos funciona para mostrar los resultados\n",
    "def mostrar_resultados(Y_test, pred_y):\n",
    "    conf_matrix = confusion_matrix(Y_test, pred_y)\n",
    "    plt.figure(figsize=(12, 12))\n",
    "    sns.heatmap(conf_matrix, xticklabels=predije, yticklabels=predije, annot=True, fmt=\"d\");\n",
    "    plt.title(\"Confusion matrix\")\n",
    "    plt.ylabel('True class')\n",
    "    plt.xlabel('Predicted class')\n",
    "    plt.show()\n",
    "    print (classification_report(Y_test, pred_y))\n",
    "\n",
    "\n",
    "pred_y = model.predict(X_test_2d)\n",
    "mostrar_resultados(Y_test_2d, pred_y)"
   ]
  }
 ],
 "metadata": {
  "kernelspec": {
   "display_name": "tesis",
   "language": "python",
   "name": "tesis"
  },
  "language_info": {
   "codemirror_mode": {
    "name": "ipython",
    "version": 3
   },
   "file_extension": ".py",
   "mimetype": "text/x-python",
   "name": "python",
   "nbconvert_exporter": "python",
   "pygments_lexer": "ipython3",
   "version": "3.8.8"
  }
 },
 "nbformat": 4,
 "nbformat_minor": 5
}
