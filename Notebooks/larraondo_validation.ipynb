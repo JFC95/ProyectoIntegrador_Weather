{
 "cells": [
  {
   "cell_type": "code",
   "execution_count": 1,
   "id": "b88ece56",
   "metadata": {},
   "outputs": [],
   "source": [
    "from tensorflow.keras.models import Sequential\n",
    "from tensorflow.keras import metrics\n",
    "from tensorflow.keras.callbacks import ModelCheckpoint, Callback\n",
    "from tensorflow.keras.utils import to_categorical\n",
    "from tensorflow.keras.models import load_model\n",
    "from tensorflow.keras.layers import BatchNormalization, Conv2D, UpSampling2D, MaxPooling2D, Dropout, Flatten, Dense, Activation\n",
    "from tensorflow.keras.optimizers import Adam, SGD\n",
    "from tensorflow.keras import regularizers\n",
    "from tensorflow.keras.losses import BinaryCrossentropy\n",
    "from tensorflow.keras.callbacks import LearningRateScheduler\n",
    "from sklearn.metrics import confusion_matrix, f1_score, precision_score, recall_score, precision_recall_curve, accuracy_score, zero_one_loss, balanced_accuracy_score, average_precision_score\n",
    "from inspect import signature\n",
    "import matplotlib.pyplot as plt\n",
    "import numpy as np\n",
    "import tensorflow\n",
    "import os\n",
    "import pickle\n",
    "import sys\n",
    "import logging\n",
    "from tensorflow.keras import layers\n",
    "from tensorflow.keras import Input\n",
    "import seaborn as sns\n",
    "from tensorflow.keras import backend\n",
    "from sklearn.metrics import classification_report\n",
    "\n",
    "from tensorflow.keras.models import load_model\n",
    "from sklearn.metrics import mean_absolute_error as MAE\n",
    "from sklearn.metrics import mean_squared_error as MSE"
   ]
  },
  {
   "cell_type": "markdown",
   "id": "27e50542",
   "metadata": {},
   "source": [
    "### Validando Red VGG16 1000, 800, 400 HGT"
   ]
  },
  {
   "cell_type": "code",
   "execution_count": 4,
   "id": "434854fd",
   "metadata": {},
   "outputs": [],
   "source": [
    "model = load_model(\"/opt/datos/entrenamientos/larraondo/vgg16_val_0_2_6.h5\")"
   ]
  },
  {
   "cell_type": "code",
   "execution_count": 6,
   "id": "c0e6ee05",
   "metadata": {},
   "outputs": [
    {
     "name": "stdout",
     "output_type": "stream",
     "text": [
      "(10805, 80, 120, 3)\n",
      "(10805, 80, 120, 1)\n"
     ]
    }
   ],
   "source": [
    "x_test = np.load(\"/opt/datos/dataset/larraondo/x_test-0_2_6_validation.npy\")\n",
    "y_test = np.load(\"/opt/datos/dataset/larraondo/y_test-0_2_6_validation.npy\")\n",
    "\n",
    "print(x_test.shape)\n",
    "print(y_test.shape)"
   ]
  },
  {
   "cell_type": "code",
   "execution_count": null,
   "id": "55dc62f6",
   "metadata": {},
   "outputs": [],
   "source": [
    "for i in range(10805):\n",
    "    print(\"-----------------------------------------------------------------------\")\n",
    "    rain_pred = model.predict(x_test[i:i+1,:])\n",
    "    rain = y_test[i:i+1,:]\n",
    "    \n",
    "    #TOTAL DE PRECIPITACION\n",
    "    print(\"Total pred\", np.sum(rain_pred))\n",
    "    print(\"Total\", np.sum(rain))\n",
    "    \n",
    "    #MEDIA PRECIPITACION\n",
    "    print(\"Mean pred\", np.sum(rain_pred) / float(rain.shape[1] * rain.shape[2]))\n",
    "    print(\"Mean\", np.sum(rain) / float(rain.shape[1] * rain.shape[2])) \n",
    "    \n",
    "    # ERRORES\n",
    "    mae = np.sum(rain_pred - rain)\n",
    "    print(\"E\", mae) \n",
    "    mae = np.sum(np.absolute(rain_pred - rain))\n",
    "    print(\"AE\", mae) \n",
    "    mae /= float(rain.shape[1] * rain.shape[2])\n",
    "    print(\"MAE\", mae) \n",
    "    print(\"-----------------------------------------------------------------------\")"
   ]
  },
  {
   "cell_type": "code",
   "execution_count": 8,
   "id": "4d55da81",
   "metadata": {},
   "outputs": [
    {
     "name": "stdout",
     "output_type": "stream",
     "text": [
      "(10805, 80, 120, 1)\n"
     ]
    }
   ],
   "source": [
    "y_pred = model.predict(x_test)\n",
    "print(y_pred.shape)"
   ]
  },
  {
   "cell_type": "code",
   "execution_count": 10,
   "id": "75697d43",
   "metadata": {},
   "outputs": [
    {
     "name": "stdout",
     "output_type": "stream",
     "text": [
      "(103728000,)\n",
      "(103728000,)\n"
     ]
    }
   ],
   "source": [
    "y_test = y_test.flatten()\n",
    "print(y_test.shape)\n",
    "y_pred = y_pred.flatten()\n",
    "print(y_pred.shape)"
   ]
  },
  {
   "cell_type": "code",
   "execution_count": 11,
   "id": "b78c1029",
   "metadata": {},
   "outputs": [
    {
     "data": {
      "text/plain": [
       "0.27195457"
      ]
     },
     "execution_count": 11,
     "metadata": {},
     "output_type": "execute_result"
    }
   ],
   "source": [
    "## MEAN ABSOLUTE ERROR\n",
    "\n",
    "MAE(y_test, y_pred)"
   ]
  },
  {
   "cell_type": "code",
   "execution_count": 13,
   "id": "40e1c094",
   "metadata": {},
   "outputs": [
    {
     "name": "stdout",
     "output_type": "stream",
     "text": [
      "MSE: 0.6010271906852722\n"
     ]
    }
   ],
   "source": [
    "##MEAN SQUARE ERROR\n",
    "\n",
    "mse = MSE(y_test, y_pred)\n",
    "print(f\"MSE: {mse}\")"
   ]
  },
  {
   "cell_type": "code",
   "execution_count": 14,
   "id": "ddf082d0",
   "metadata": {},
   "outputs": [
    {
     "name": "stdout",
     "output_type": "stream",
     "text": [
      "RMSE: 0.7752594351768494\n"
     ]
    }
   ],
   "source": [
    "## root mean square error\n",
    "\n",
    "rmse = np.sqrt(mse)\n",
    "print(f\"RMSE: {rmse}\")"
   ]
  },
  {
   "cell_type": "markdown",
   "id": "84e84a39",
   "metadata": {},
   "source": [
    "### Validando Red VGG16 1000, 700, 500 HGT"
   ]
  },
  {
   "cell_type": "code",
   "execution_count": 15,
   "id": "ef93cece",
   "metadata": {},
   "outputs": [],
   "source": [
    "model2 = load_model(\"/opt/datos/entrenamientos/larraondo/vgg16_0_3_5.h5\")"
   ]
  },
  {
   "cell_type": "code",
   "execution_count": 16,
   "id": "325eb0f9",
   "metadata": {},
   "outputs": [
    {
     "name": "stdout",
     "output_type": "stream",
     "text": [
      "(14023, 80, 120, 3)\n",
      "(14023, 80, 120, 1)\n"
     ]
    }
   ],
   "source": [
    "x_test2 = np.load(\"/opt/datos/dataset/larraondo/x_test-0_3_5_levels.npy\")\n",
    "y_test2 = np.load(\"/opt/datos/dataset/larraondo/y_test-0_3_5_levels.npy\")\n",
    "\n",
    "print(x_test2.shape)\n",
    "print(y_test2.shape)"
   ]
  },
  {
   "cell_type": "code",
   "execution_count": 17,
   "id": "88feae29",
   "metadata": {},
   "outputs": [
    {
     "name": "stdout",
     "output_type": "stream",
     "text": [
      "(14023, 80, 120, 1)\n"
     ]
    }
   ],
   "source": [
    "y_pred2 = model2.predict(x_test2)\n",
    "print(y_pred2.shape)"
   ]
  },
  {
   "cell_type": "code",
   "execution_count": 19,
   "id": "344e8e8d",
   "metadata": {},
   "outputs": [
    {
     "name": "stdout",
     "output_type": "stream",
     "text": [
      "(134620800,)\n",
      "(134620800,)\n"
     ]
    }
   ],
   "source": [
    "y_test2 = y_test2.flatten()\n",
    "print(y_test2.shape)\n",
    "y_pred2 = y_pred2.flatten()\n",
    "print(y_pred2.shape)"
   ]
  },
  {
   "cell_type": "code",
   "execution_count": 20,
   "id": "bf10c406",
   "metadata": {},
   "outputs": [
    {
     "data": {
      "text/plain": [
       "0.2635415"
      ]
     },
     "execution_count": 20,
     "metadata": {},
     "output_type": "execute_result"
    }
   ],
   "source": [
    "## MEAN ABSOLUTE ERROR\n",
    "\n",
    "MAE(y_test2, y_pred2)"
   ]
  },
  {
   "cell_type": "code",
   "execution_count": 21,
   "id": "3f67030e",
   "metadata": {},
   "outputs": [
    {
     "name": "stdout",
     "output_type": "stream",
     "text": [
      "MSE: 0.568504810333252\n"
     ]
    }
   ],
   "source": [
    "##MEAN SQUARE ERROR\n",
    "\n",
    "mse2 = MSE(y_test2, y_pred2)\n",
    "print(f\"MSE: {mse2}\")"
   ]
  },
  {
   "cell_type": "code",
   "execution_count": 22,
   "id": "839f7ee5",
   "metadata": {},
   "outputs": [
    {
     "name": "stdout",
     "output_type": "stream",
     "text": [
      "RMSE: 0.7539925575256348\n"
     ]
    }
   ],
   "source": [
    "## root mean square error\n",
    "\n",
    "rmse2 = np.sqrt(mse2)\n",
    "print(f\"RMSE: {rmse2}\")"
   ]
  },
  {
   "cell_type": "markdown",
   "id": "6477dcba",
   "metadata": {},
   "source": [
    "### Validando Red UNET 1000, 800, 400 HGT"
   ]
  },
  {
   "cell_type": "code",
   "execution_count": 3,
   "id": "0a485980",
   "metadata": {},
   "outputs": [],
   "source": [
    "model3 = load_model(\"/opt/datos/entrenamientos/larraondo/unet_val_0-2-6.h5\")"
   ]
  },
  {
   "cell_type": "code",
   "execution_count": 4,
   "id": "14271bd0",
   "metadata": {},
   "outputs": [
    {
     "name": "stdout",
     "output_type": "stream",
     "text": [
      "(10805, 80, 120, 3)\n",
      "(10805, 80, 120, 1)\n"
     ]
    }
   ],
   "source": [
    "x_test3 = np.load(\"/opt/datos/dataset/larraondo/x_test-0_2_6_validation.npy\")\n",
    "y_test3 = np.load(\"/opt/datos/dataset/larraondo/y_test-0_2_6_validation.npy\")\n",
    "\n",
    "print(x_test3.shape)\n",
    "print(y_test3.shape)"
   ]
  },
  {
   "cell_type": "code",
   "execution_count": 6,
   "id": "36022acb",
   "metadata": {},
   "outputs": [
    {
     "name": "stdout",
     "output_type": "stream",
     "text": [
      "(10805, 80, 120, 1)\n"
     ]
    }
   ],
   "source": [
    "y_pred3 = model3.predict(x_test3)\n",
    "print(y_pred3.shape)"
   ]
  },
  {
   "cell_type": "code",
   "execution_count": 7,
   "id": "eed17446",
   "metadata": {},
   "outputs": [
    {
     "name": "stdout",
     "output_type": "stream",
     "text": [
      "(103728000,)\n",
      "(103728000,)\n"
     ]
    }
   ],
   "source": [
    "y_test3 = y_test3.flatten()\n",
    "print(y_test3.shape)\n",
    "y_pred3 = y_pred3.flatten()\n",
    "print(y_pred3.shape)"
   ]
  },
  {
   "cell_type": "code",
   "execution_count": 8,
   "id": "5a12554b",
   "metadata": {},
   "outputs": [
    {
     "data": {
      "text/plain": [
       "0.23996514"
      ]
     },
     "execution_count": 8,
     "metadata": {},
     "output_type": "execute_result"
    }
   ],
   "source": [
    "## MEAN ABSOLUTE ERROR\n",
    "\n",
    "MAE(y_test3, y_pred3)"
   ]
  },
  {
   "cell_type": "code",
   "execution_count": 9,
   "id": "40bafbd4",
   "metadata": {},
   "outputs": [
    {
     "name": "stdout",
     "output_type": "stream",
     "text": [
      "MSE: 0.48818767070770264\n"
     ]
    }
   ],
   "source": [
    "##MEAN SQUARE ERROR\n",
    "\n",
    "mse3 = MSE(y_test3, y_pred3)\n",
    "print(f\"MSE: {mse3}\")"
   ]
  },
  {
   "cell_type": "code",
   "execution_count": 10,
   "id": "c8cfc1eb",
   "metadata": {},
   "outputs": [
    {
     "name": "stdout",
     "output_type": "stream",
     "text": [
      "RMSE: 0.6987043023109436\n"
     ]
    }
   ],
   "source": [
    "## root mean square error\n",
    "\n",
    "rmse3 = np.sqrt(mse3)\n",
    "print(f\"RMSE: {rmse3}\")"
   ]
  },
  {
   "cell_type": "markdown",
   "id": "da03d8a6",
   "metadata": {},
   "source": [
    "### Prediccion con X_test GFS, Modelo Larraondo (VGG16 1000 - 700 - 500)"
   ]
  },
  {
   "cell_type": "code",
   "execution_count": 16,
   "id": "cac4c937",
   "metadata": {},
   "outputs": [],
   "source": [
    "model4 = load_model(\"/opt/datos/entrenamientos/larraondo/vgg16_0_3_5.h5\")"
   ]
  },
  {
   "cell_type": "code",
   "execution_count": 17,
   "id": "34c95a73",
   "metadata": {},
   "outputs": [
    {
     "name": "stdout",
     "output_type": "stream",
     "text": [
      "(11928, 3, 176, 176)\n",
      "(11928, 176, 176)\n"
     ]
    }
   ],
   "source": [
    "## X:\n",
    "#X_test = np.load(\"/opt/datos/dataset/sin_normalizar/X_train.npy\")\n",
    "X_test = np.load(\"/opt/datos/dataset/sin_normalizar/X.npy\")\n",
    "\n",
    "print(X_test.shape)\n",
    "\n",
    "## Y:\n",
    "#Y_test = np.load(\"/opt/datos/dataset/milimetros/Y_test.npy\")\n",
    "Y_test = np.load(\"/opt/datos/dataset/milimetros/Y.npy\")\n",
    "\n",
    "print(Y_test.shape)"
   ]
  },
  {
   "cell_type": "code",
   "execution_count": 18,
   "id": "0b6a0131",
   "metadata": {},
   "outputs": [
    {
     "name": "stdout",
     "output_type": "stream",
     "text": [
      "X_test: (11928, 176, 176, 3)\n",
      "Y_test: (11928, 176, 176, 1)\n"
     ]
    }
   ],
   "source": [
    "# Muevo el eje RGB al ultimo\n",
    "\n",
    "X_test = np.moveaxis(X_test, 1, 3)\n",
    "print(\"X_test: %s\" %str(X_test.shape))\n",
    "\n",
    "Y_test = np.expand_dims(Y_test, axis=1)\n",
    "Y_test = np.moveaxis(Y_test, 1, 3)\n",
    "print(\"Y_test: %s\" %str(Y_test.shape))"
   ]
  },
  {
   "cell_type": "code",
   "execution_count": 19,
   "id": "2f240523",
   "metadata": {},
   "outputs": [],
   "source": [
    "X_test_input = X_test[:,0:80,0:120,:]\n",
    "Y_test_input = Y_test[:,0:80,0:120,:]"
   ]
  },
  {
   "cell_type": "code",
   "execution_count": 20,
   "id": "6369a8f0",
   "metadata": {},
   "outputs": [
    {
     "name": "stdout",
     "output_type": "stream",
     "text": [
      "X_test_input: (11928, 80, 120, 3)\n",
      "Y_test_input: (11928, 80, 120, 1)\n"
     ]
    }
   ],
   "source": [
    "print(\"X_test_input: %s\" %str(X_test_input.shape))\n",
    "print(\"Y_test_input: %s\" %str(Y_test_input.shape))"
   ]
  },
  {
   "cell_type": "code",
   "execution_count": 21,
   "id": "44e13a64",
   "metadata": {},
   "outputs": [],
   "source": [
    "X_test_input = X_test_input*9.8"
   ]
  },
  {
   "cell_type": "code",
   "execution_count": 22,
   "id": "386f50b7",
   "metadata": {},
   "outputs": [
    {
     "name": "stdout",
     "output_type": "stream",
     "text": [
      "-858.3893661499025\n",
      "58207.391894531254\n",
      "29486.202350404947\n"
     ]
    }
   ],
   "source": [
    "print(X_test_input.min())\n",
    "print(X_test_input.max())\n",
    "print(X_test_input.mean())"
   ]
  },
  {
   "cell_type": "code",
   "execution_count": 23,
   "id": "3bb9adbe",
   "metadata": {},
   "outputs": [
    {
     "name": "stdout",
     "output_type": "stream",
     "text": [
      "(11928, 80, 120, 1)\n"
     ]
    }
   ],
   "source": [
    "Y_pred = model4.predict(X_test_input)\n",
    "print(Y_pred.shape)"
   ]
  },
  {
   "cell_type": "code",
   "execution_count": 24,
   "id": "88bb5da5",
   "metadata": {},
   "outputs": [
    {
     "name": "stdout",
     "output_type": "stream",
     "text": [
      "(114508800,)\n",
      "(114508800,)\n"
     ]
    }
   ],
   "source": [
    "Y_test_input = Y_test_input.flatten()\n",
    "print(Y_test_input.shape)\n",
    "Y_pred = Y_pred.flatten()\n",
    "print(Y_pred.shape)"
   ]
  },
  {
   "cell_type": "code",
   "execution_count": 25,
   "id": "377aa232",
   "metadata": {},
   "outputs": [
    {
     "data": {
      "text/plain": [
       "0.1572197227185158"
      ]
     },
     "execution_count": 25,
     "metadata": {},
     "output_type": "execute_result"
    }
   ],
   "source": [
    "## MEAN ABSOLUTE ERROR\n",
    "\n",
    "MAE(Y_test_input, Y_pred)"
   ]
  },
  {
   "cell_type": "code",
   "execution_count": 26,
   "id": "631b30ae",
   "metadata": {},
   "outputs": [
    {
     "name": "stdout",
     "output_type": "stream",
     "text": [
      "MSE: 2.4508593067111346\n"
     ]
    }
   ],
   "source": [
    "##MEAN SQUARE ERROR\n",
    "\n",
    "mse4 = MSE(Y_test_input, Y_pred)\n",
    "print(f\"MSE: {mse4}\")"
   ]
  },
  {
   "cell_type": "code",
   "execution_count": 27,
   "id": "88b55388",
   "metadata": {},
   "outputs": [
    {
     "name": "stdout",
     "output_type": "stream",
     "text": [
      "RMSE: 1.5655220556450602\n"
     ]
    }
   ],
   "source": [
    "## root mean square error\n",
    "\n",
    "rmse4 = np.sqrt(mse4)\n",
    "print(f\"RMSE: {rmse4}\")"
   ]
  },
  {
   "cell_type": "markdown",
   "id": "f294fc51",
   "metadata": {},
   "source": [
    "### Validando Red UNET - NUESTRA - 1000, 700, 500 HGT"
   ]
  },
  {
   "cell_type": "code",
   "execution_count": 5,
   "id": "04a3d912",
   "metadata": {},
   "outputs": [],
   "source": [
    "from tensorflow.keras import backend\n",
    "backend.set_image_data_format('channels_first')"
   ]
  },
  {
   "cell_type": "code",
   "execution_count": 2,
   "id": "df8dd13a",
   "metadata": {},
   "outputs": [],
   "source": [
    "model5 = load_model(\"/opt/datos/entrenamientos/unet_mm_No_normalized.h5\")"
   ]
  },
  {
   "cell_type": "code",
   "execution_count": 3,
   "id": "76499a6c",
   "metadata": {},
   "outputs": [
    {
     "name": "stdout",
     "output_type": "stream",
     "text": [
      "(1789, 3, 176, 176)\n",
      "(1789, 176, 176)\n"
     ]
    }
   ],
   "source": [
    "## X:\n",
    "X_test5 = np.load(\"/opt/datos/dataset/sin_normalizar/X_test.npy\")\n",
    "\n",
    "print(X_test5.shape)\n",
    "\n",
    "## Y:\n",
    "Y_test5 = np.load(\"/opt/datos/dataset/milimetros/Y_test.npy\")\n",
    "\n",
    "print(Y_test5.shape)"
   ]
  },
  {
   "cell_type": "code",
   "execution_count": 4,
   "id": "7052e12a",
   "metadata": {},
   "outputs": [
    {
     "name": "stdout",
     "output_type": "stream",
     "text": [
      "(1789, 1, 176, 176)\n"
     ]
    }
   ],
   "source": [
    "Y_test5 = np.expand_dims(Y_test5, axis=1)\n",
    "print(Y_test5.shape)"
   ]
  },
  {
   "cell_type": "code",
   "execution_count": 6,
   "id": "c45a1e6c",
   "metadata": {},
   "outputs": [
    {
     "name": "stdout",
     "output_type": "stream",
     "text": [
      "(1789, 1, 176, 176)\n"
     ]
    }
   ],
   "source": [
    "Y_pred5 = model5.predict(X_test5)\n",
    "print(Y_pred5.shape)"
   ]
  },
  {
   "cell_type": "code",
   "execution_count": 8,
   "id": "49c92fb0",
   "metadata": {},
   "outputs": [
    {
     "name": "stdout",
     "output_type": "stream",
     "text": [
      "(55416064,)\n",
      "(55416064,)\n"
     ]
    }
   ],
   "source": [
    "Y_test5 = Y_test5.flatten()\n",
    "print(Y_test5.shape)\n",
    "Y_pred5 = Y_pred5.flatten()\n",
    "print(Y_pred5.shape)"
   ]
  },
  {
   "cell_type": "code",
   "execution_count": 9,
   "id": "23bba4b0",
   "metadata": {},
   "outputs": [
    {
     "data": {
      "text/plain": [
       "0.2006753503835172"
      ]
     },
     "execution_count": 9,
     "metadata": {},
     "output_type": "execute_result"
    }
   ],
   "source": [
    "## MEAN ABSOLUTE ERROR\n",
    "\n",
    "MAE(Y_test5, Y_pred5)"
   ]
  },
  {
   "cell_type": "code",
   "execution_count": 10,
   "id": "4bbb0f9f",
   "metadata": {},
   "outputs": [
    {
     "name": "stdout",
     "output_type": "stream",
     "text": [
      "MSE: 2.7025892893926002\n"
     ]
    }
   ],
   "source": [
    "##MEAN SQUARE ERROR\n",
    "\n",
    "mse5 = MSE(Y_test5, Y_pred5)\n",
    "print(f\"MSE: {mse5}\")"
   ]
  },
  {
   "cell_type": "code",
   "execution_count": 11,
   "id": "ac1542fb",
   "metadata": {},
   "outputs": [
    {
     "name": "stdout",
     "output_type": "stream",
     "text": [
      "RMSE: 1.6439553793800488\n"
     ]
    }
   ],
   "source": [
    "## root mean square error\n",
    "\n",
    "rmse5 = np.sqrt(mse5)\n",
    "print(f\"RMSE: {rmse5}\")"
   ]
  }
 ],
 "metadata": {
  "kernelspec": {
   "display_name": "tf-gpu2",
   "language": "python",
   "name": "tf-gpu2"
  },
  "language_info": {
   "codemirror_mode": {
    "name": "ipython",
    "version": 3
   },
   "file_extension": ".py",
   "mimetype": "text/x-python",
   "name": "python",
   "nbconvert_exporter": "python",
   "pygments_lexer": "ipython3",
   "version": "3.9.5"
  }
 },
 "nbformat": 4,
 "nbformat_minor": 5
}
