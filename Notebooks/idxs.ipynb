{
 "cells": [
  {
   "cell_type": "code",
   "execution_count": 1,
   "id": "7f378fcc",
   "metadata": {},
   "outputs": [],
   "source": [
    "import numpy as np"
   ]
  },
  {
   "cell_type": "code",
   "execution_count": 2,
   "id": "6e68a74d",
   "metadata": {},
   "outputs": [],
   "source": [
    "%config Completer.use_jedi = False"
   ]
  },
  {
   "cell_type": "code",
   "execution_count": 3,
   "id": "c899a13d",
   "metadata": {},
   "outputs": [
    {
     "ename": "NameError",
     "evalue": "name 'sys' is not defined",
     "output_type": "error",
     "traceback": [
      "\u001b[0;31m---------------------------------------------------------------------------\u001b[0m",
      "\u001b[0;31mNameError\u001b[0m                                 Traceback (most recent call last)",
      "\u001b[0;32m<ipython-input-3-ab1e4d1f1f45>\u001b[0m in \u001b[0;36m<module>\u001b[0;34m\u001b[0m\n\u001b[0;32m----> 1\u001b[0;31m \u001b[0mnp\u001b[0m\u001b[0;34m.\u001b[0m\u001b[0mset_printoptions\u001b[0m\u001b[0;34m(\u001b[0m\u001b[0mthreshold\u001b[0m\u001b[0;34m=\u001b[0m\u001b[0msys\u001b[0m\u001b[0;34m.\u001b[0m\u001b[0mmaxsize\u001b[0m\u001b[0;34m)\u001b[0m\u001b[0;34m\u001b[0m\u001b[0;34m\u001b[0m\u001b[0m\n\u001b[0m",
      "\u001b[0;31mNameError\u001b[0m: name 'sys' is not defined"
     ]
    }
   ],
   "source": [
    "np.set_printoptions(threshold=sys.maxsize)"
   ]
  },
  {
   "cell_type": "code",
   "execution_count": 2,
   "id": "aa794fe2",
   "metadata": {},
   "outputs": [],
   "source": [
    "x1 = np.array([[1,0,0,1],\n",
    "               [1,0,0,1],\n",
    "               [1,0,0,1],\n",
    "               [1,0,0,1]])\n",
    "\n",
    "x2 = np.array([[0,1,1,0],\n",
    "               [0,1,1,0],\n",
    "               [0,1,1,0],\n",
    "               [0,1,1,0]])\n",
    "\n",
    "x3 = np.array([[0,0,1,0],\n",
    "               [0,0,1,0],\n",
    "               [0,0,1,0],\n",
    "               [0,0,1,0]])\n",
    "\n",
    "y1 = np.array([[9,8,8,9],\n",
    "               [9,8,8,9],\n",
    "               [9,8,8,9],\n",
    "               [9,8,8,9]])\n",
    "\n",
    "y2 = np.array([[8,9,9,8],\n",
    "               [8,9,9,8],\n",
    "               [8,9,9,8],\n",
    "               [8,9,9,8]])\n",
    "\n",
    "y3 = np.array([[8,8,9,8],\n",
    "               [8,8,9,8],\n",
    "               [8,8,9,8],\n",
    "               [8,8,9,8]])"
   ]
  },
  {
   "cell_type": "code",
   "execution_count": null,
   "id": "4f551ab0",
   "metadata": {},
   "outputs": [],
   "source": [
    "asd = np.zeros((2,4,4))\n",
    "x = x.flatten()\n",
    "print(x.shape)\n",
    "\n",
    "asd = "
   ]
  },
  {
   "cell_type": "code",
   "execution_count": 3,
   "id": "09dda578",
   "metadata": {},
   "outputs": [
    {
     "data": {
      "text/plain": [
       "array([[[1., 0., 0., 1.],\n",
       "        [1., 0., 0., 1.],\n",
       "        [1., 0., 0., 1.],\n",
       "        [1., 0., 0., 1.]],\n",
       "\n",
       "       [[0., 1., 1., 0.],\n",
       "        [0., 1., 1., 0.],\n",
       "        [0., 1., 1., 0.],\n",
       "        [0., 1., 1., 0.]],\n",
       "\n",
       "       [[0., 0., 1., 0.],\n",
       "        [0., 0., 1., 0.],\n",
       "        [0., 0., 1., 0.],\n",
       "        [0., 0., 1., 0.]]])"
      ]
     },
     "execution_count": 3,
     "metadata": {},
     "output_type": "execute_result"
    }
   ],
   "source": [
    "x = np.zeros((3,4,4))\n",
    "\n",
    "x[0] = x1\n",
    "x[1] = x2\n",
    "x[2] = x3\n",
    "\n",
    "x"
   ]
  },
  {
   "cell_type": "code",
   "execution_count": 6,
   "id": "8333b039",
   "metadata": {},
   "outputs": [
    {
     "data": {
      "text/plain": [
       "(4, 4, 3)"
      ]
     },
     "execution_count": 6,
     "metadata": {},
     "output_type": "execute_result"
    }
   ],
   "source": [
    "xbis = np.moveaxis(x,0,2)\n",
    "#xbis=np.rollaxis(x,0,3)\n",
    "xbis.shape"
   ]
  },
  {
   "cell_type": "code",
   "execution_count": 13,
   "id": "b2330f47",
   "metadata": {},
   "outputs": [
    {
     "data": {
      "text/plain": [
       "(4, 4, 3)"
      ]
     },
     "execution_count": 13,
     "metadata": {},
     "output_type": "execute_result"
    }
   ],
   "source": [
    "xbis[:,:,:]"
   ]
  },
  {
   "cell_type": "code",
   "execution_count": 4,
   "id": "232f41b1",
   "metadata": {},
   "outputs": [
    {
     "data": {
      "text/plain": [
       "array([[[9., 8., 8., 9.],\n",
       "        [9., 8., 8., 9.],\n",
       "        [9., 8., 8., 9.],\n",
       "        [9., 8., 8., 9.]],\n",
       "\n",
       "       [[8., 9., 9., 8.],\n",
       "        [8., 9., 9., 8.],\n",
       "        [8., 9., 9., 8.],\n",
       "        [8., 9., 9., 8.]],\n",
       "\n",
       "       [[8., 8., 9., 8.],\n",
       "        [8., 8., 9., 8.],\n",
       "        [8., 8., 9., 8.],\n",
       "        [8., 8., 9., 8.]]])"
      ]
     },
     "execution_count": 4,
     "metadata": {},
     "output_type": "execute_result"
    }
   ],
   "source": [
    "y = np.zeros((3,4,4))\n",
    "\n",
    "y[0] = y1\n",
    "y[1] = y2\n",
    "y[2] = y3\n",
    "\n",
    "y"
   ]
  },
  {
   "cell_type": "code",
   "execution_count": 5,
   "id": "5358a566",
   "metadata": {},
   "outputs": [],
   "source": [
    "idx = np.arange(3)\n",
    "np.random.seed(0)\n",
    "np.random.shuffle(idx)\n",
    "\n",
    "x = x[idx,:,:]\n",
    "y = y[idx,:,:]"
   ]
  },
  {
   "cell_type": "code",
   "execution_count": 6,
   "id": "27077577",
   "metadata": {},
   "outputs": [
    {
     "data": {
      "text/plain": [
       "array([[[0., 0., 1., 0.],\n",
       "        [0., 0., 1., 0.],\n",
       "        [0., 0., 1., 0.],\n",
       "        [0., 0., 1., 0.]],\n",
       "\n",
       "       [[0., 1., 1., 0.],\n",
       "        [0., 1., 1., 0.],\n",
       "        [0., 1., 1., 0.],\n",
       "        [0., 1., 1., 0.]],\n",
       "\n",
       "       [[1., 0., 0., 1.],\n",
       "        [1., 0., 0., 1.],\n",
       "        [1., 0., 0., 1.],\n",
       "        [1., 0., 0., 1.]]])"
      ]
     },
     "execution_count": 6,
     "metadata": {},
     "output_type": "execute_result"
    }
   ],
   "source": [
    "x"
   ]
  },
  {
   "cell_type": "code",
   "execution_count": 7,
   "id": "cdea2e71",
   "metadata": {},
   "outputs": [
    {
     "data": {
      "text/plain": [
       "array([[[8., 8., 9., 8.],\n",
       "        [8., 8., 9., 8.],\n",
       "        [8., 8., 9., 8.],\n",
       "        [8., 8., 9., 8.]],\n",
       "\n",
       "       [[8., 9., 9., 8.],\n",
       "        [8., 9., 9., 8.],\n",
       "        [8., 9., 9., 8.],\n",
       "        [8., 9., 9., 8.]],\n",
       "\n",
       "       [[9., 8., 8., 9.],\n",
       "        [9., 8., 8., 9.],\n",
       "        [9., 8., 8., 9.],\n",
       "        [9., 8., 8., 9.]]])"
      ]
     },
     "execution_count": 7,
     "metadata": {},
     "output_type": "execute_result"
    }
   ],
   "source": [
    "y"
   ]
  },
  {
   "cell_type": "code",
   "execution_count": null,
   "id": "9bdf6652",
   "metadata": {},
   "outputs": [],
   "source": []
  },
  {
   "cell_type": "code",
   "execution_count": 8,
   "id": "885c53ef",
   "metadata": {},
   "outputs": [
    {
     "name": "stdout",
     "output_type": "stream",
     "text": [
      "[2 8 4 9 1 6 7 3 0 5]\n"
     ]
    }
   ],
   "source": [
    "k = np.arange(10)\n",
    "np.random.seed(0)\n",
    "np.random.shuffle(k)\n",
    "print(k)"
   ]
  }
 ],
 "metadata": {
  "kernelspec": {
   "display_name": "tesis",
   "language": "python",
   "name": "tesis"
  },
  "language_info": {
   "codemirror_mode": {
    "name": "ipython",
    "version": 3
   },
   "file_extension": ".py",
   "mimetype": "text/x-python",
   "name": "python",
   "nbconvert_exporter": "python",
   "pygments_lexer": "ipython3",
   "version": "3.8.8"
  }
 },
 "nbformat": 4,
 "nbformat_minor": 5
}
