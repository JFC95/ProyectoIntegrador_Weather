{
 "cells": [
  {
   "cell_type": "code",
   "execution_count": 1,
   "id": "bba75c8e",
   "metadata": {},
   "outputs": [],
   "source": [
    "%config Completer.use_jedi = False"
   ]
  },
  {
   "cell_type": "code",
   "execution_count": 2,
   "id": "e61667c6",
   "metadata": {},
   "outputs": [],
   "source": [
    "import tensorflow as tf\n",
    "from tensorflow import keras\n",
    "import matplotlib.pyplot as plt\n",
    "import os\n",
    "from tensorflow.keras.preprocessing.image import ImageDataGenerator\n",
    "import zipfile\n",
    "import time"
   ]
  },
  {
   "cell_type": "code",
   "execution_count": 3,
   "id": "4513cef2",
   "metadata": {},
   "outputs": [],
   "source": [
    "(train_images, train_labels), (test_images, test_labels) = keras.datasets.cifar10.load_data()"
   ]
  },
  {
   "cell_type": "code",
   "execution_count": 4,
   "id": "a04785c5",
   "metadata": {},
   "outputs": [],
   "source": [
    "local_zip = '../datasets/cats_and_dogs_filtered.zip'\n",
    "zip_ref = zipfile.ZipFile(local_zip, 'r')\n",
    "zip_ref.extractall('../datasets/tmp')\n",
    "zip_ref.close()\n",
    "\n",
    "base_dir = '../datasets/tmp/cats_and_dogs_filtered'\n",
    "train_dir = os.path.join(base_dir, 'train')\n",
    "validation_dir = os.path.join(base_dir, 'validation')\n",
    "\n",
    "# Directory with our training cat pictures\n",
    "train_cats_dir = os.path.join(train_dir, 'cats')\n",
    "\n",
    "# Directory with our training dog pictures\n",
    "train_dogs_dir = os.path.join(train_dir, 'dogs')\n",
    "\n",
    "# Directory with our validation cat pictures\n",
    "validation_cats_dir = os.path.join(validation_dir, 'cats')\n",
    "\n",
    "# Directory with our validation dog pictures\n",
    "validation_dogs_dir = os.path.join(validation_dir, 'dogs')"
   ]
  },
  {
   "cell_type": "code",
   "execution_count": 5,
   "id": "d25df707",
   "metadata": {},
   "outputs": [],
   "source": [
    "# Add our data-augmentation parameters to ImageDataGenerator\n",
    "train_datagen = ImageDataGenerator(rescale = 1./255.,rotation_range = 40, width_shift_range = 0.2, height_shift_range = 0.2, shear_range = 0.2, zoom_range = 0.2, horizontal_flip = True)\n",
    "\n",
    "# Note that the validation data should not be augmented!\n",
    "test_datagen = ImageDataGenerator( rescale = 1.0/255. )"
   ]
  },
  {
   "cell_type": "code",
   "execution_count": 6,
   "id": "500134f1",
   "metadata": {},
   "outputs": [
    {
     "name": "stdout",
     "output_type": "stream",
     "text": [
      "Found 2000 images belonging to 2 classes.\n",
      "Found 1000 images belonging to 2 classes.\n"
     ]
    }
   ],
   "source": [
    "# Training and validation datasets\n",
    "# Flow training images in batches of 20 using train_datagen generator\n",
    "train_generator = train_datagen.flow_from_directory(train_dir, batch_size = 20, class_mode = 'binary', target_size = (224, 224))\n",
    "\n",
    "# Flow validation images in batches of 20 using test_datagen generator\n",
    "validation_generator = test_datagen.flow_from_directory( validation_dir,  batch_size = 20, class_mode = 'binary', target_size = (224, 224))"
   ]
  },
  {
   "cell_type": "code",
   "execution_count": 10,
   "id": "37a0cc7f",
   "metadata": {},
   "outputs": [],
   "source": [
    "# Implementacion del modelo\n",
    "model = keras.models.Sequential([\n",
    "    keras.layers.Conv2D(filters=96, kernel_size=(11,11), strides=(4,4), activation='relu', input_shape=(224,224,3)),\n",
    "    keras.layers.BatchNormalization(),\n",
    "    keras.layers.MaxPool2D(pool_size=(3,3), strides=(2,2)),\n",
    "    keras.layers.Conv2D(filters=256, kernel_size=(5,5), strides=(1,1), activation='relu', padding=\"same\"),\n",
    "    keras.layers.BatchNormalization(),\n",
    "    keras.layers.MaxPool2D(pool_size=(3,3), strides=(2,2)),\n",
    "    keras.layers.Conv2D(filters=384, kernel_size=(3,3), strides=(1,1), activation='relu', padding=\"same\"),\n",
    "    keras.layers.BatchNormalization(),\n",
    "    keras.layers.Conv2D(filters=384, kernel_size=(3,3), strides=(1,1), activation='relu', padding=\"same\"),\n",
    "    keras.layers.BatchNormalization(),\n",
    "    keras.layers.Conv2D(filters=256, kernel_size=(3,3), strides=(1,1), activation='relu', padding=\"same\"),\n",
    "    keras.layers.BatchNormalization(),\n",
    "    keras.layers.MaxPool2D(pool_size=(3,3), strides=(2,2)),\n",
    "    keras.layers.Flatten(),\n",
    "    keras.layers.Dense(4096, activation='relu'),\n",
    "    keras.layers.Dropout(0.5),\n",
    "    keras.layers.Dense(4096, activation='relu'),\n",
    "    keras.layers.Dropout(0.5),\n",
    "    keras.layers.Dense(2, activation='sigmoid') #despues probar con activation='softmax'\n",
    "])"
   ]
  },
  {
   "cell_type": "code",
   "execution_count": 11,
   "id": "723b253b",
   "metadata": {},
   "outputs": [
    {
     "name": "stdout",
     "output_type": "stream",
     "text": [
      "Model: \"sequential_1\"\n",
      "_________________________________________________________________\n",
      "Layer (type)                 Output Shape              Param #   \n",
      "=================================================================\n",
      "conv2d_5 (Conv2D)            (None, 54, 54, 96)        34944     \n",
      "_________________________________________________________________\n",
      "batch_normalization_5 (Batch (None, 54, 54, 96)        384       \n",
      "_________________________________________________________________\n",
      "max_pooling2d_3 (MaxPooling2 (None, 26, 26, 96)        0         \n",
      "_________________________________________________________________\n",
      "conv2d_6 (Conv2D)            (None, 26, 26, 256)       614656    \n",
      "_________________________________________________________________\n",
      "batch_normalization_6 (Batch (None, 26, 26, 256)       1024      \n",
      "_________________________________________________________________\n",
      "max_pooling2d_4 (MaxPooling2 (None, 12, 12, 256)       0         \n",
      "_________________________________________________________________\n",
      "conv2d_7 (Conv2D)            (None, 12, 12, 384)       885120    \n",
      "_________________________________________________________________\n",
      "batch_normalization_7 (Batch (None, 12, 12, 384)       1536      \n",
      "_________________________________________________________________\n",
      "conv2d_8 (Conv2D)            (None, 12, 12, 384)       1327488   \n",
      "_________________________________________________________________\n",
      "batch_normalization_8 (Batch (None, 12, 12, 384)       1536      \n",
      "_________________________________________________________________\n",
      "conv2d_9 (Conv2D)            (None, 12, 12, 256)       884992    \n",
      "_________________________________________________________________\n",
      "batch_normalization_9 (Batch (None, 12, 12, 256)       1024      \n",
      "_________________________________________________________________\n",
      "max_pooling2d_5 (MaxPooling2 (None, 5, 5, 256)         0         \n",
      "_________________________________________________________________\n",
      "flatten_1 (Flatten)          (None, 6400)              0         \n",
      "_________________________________________________________________\n",
      "dense_3 (Dense)              (None, 4096)              26218496  \n",
      "_________________________________________________________________\n",
      "dropout_2 (Dropout)          (None, 4096)              0         \n",
      "_________________________________________________________________\n",
      "dense_4 (Dense)              (None, 4096)              16781312  \n",
      "_________________________________________________________________\n",
      "dropout_3 (Dropout)          (None, 4096)              0         \n",
      "_________________________________________________________________\n",
      "dense_5 (Dense)              (None, 2)                 8194      \n",
      "=================================================================\n",
      "Total params: 46,760,706\n",
      "Trainable params: 46,757,954\n",
      "Non-trainable params: 2,752\n",
      "_________________________________________________________________\n"
     ]
    }
   ],
   "source": [
    "# Training and results\n",
    "model.compile(loss='sparse_categorical_crossentropy', optimizer=tf.optimizers.SGD(lr=0.001), metrics=['accuracy'])\n",
    "model.summary()"
   ]
  },
  {
   "cell_type": "code",
   "execution_count": 12,
   "id": "298c780f",
   "metadata": {},
   "outputs": [
    {
     "name": "stdout",
     "output_type": "stream",
     "text": [
      "Epoch 1/50\n",
      "100/100 [==============================] - 278s 3s/step - loss: 2.1184 - accuracy: 0.5082 - val_loss: 0.6907 - val_accuracy: 0.5060\n",
      "Epoch 2/50\n",
      "100/100 [==============================] - 64s 629ms/step - loss: 1.3521 - accuracy: 0.5261 - val_loss: 0.7009 - val_accuracy: 0.5210\n",
      "Epoch 3/50\n",
      "100/100 [==============================] - 65s 654ms/step - loss: 1.1227 - accuracy: 0.5316 - val_loss: 0.8469 - val_accuracy: 0.4980\n",
      "Epoch 4/50\n",
      "100/100 [==============================] - 63s 624ms/step - loss: 1.0271 - accuracy: 0.5547 - val_loss: 0.7794 - val_accuracy: 0.5490\n",
      "Epoch 5/50\n",
      "100/100 [==============================] - 65s 648ms/step - loss: 0.9534 - accuracy: 0.5778 - val_loss: 0.6693 - val_accuracy: 0.6260\n",
      "Epoch 6/50\n",
      "100/100 [==============================] - 67s 665ms/step - loss: 0.9072 - accuracy: 0.5660 - val_loss: 0.6621 - val_accuracy: 0.6290\n",
      "Epoch 7/50\n",
      "100/100 [==============================] - 63s 625ms/step - loss: 0.8854 - accuracy: 0.5584 - val_loss: 0.6313 - val_accuracy: 0.6410\n",
      "Epoch 8/50\n",
      "100/100 [==============================] - 67s 665ms/step - loss: 0.8460 - accuracy: 0.5753 - val_loss: 0.6416 - val_accuracy: 0.6630\n",
      "Epoch 9/50\n",
      "100/100 [==============================] - 61s 612ms/step - loss: 0.8273 - accuracy: 0.5999 - val_loss: 0.6469 - val_accuracy: 0.6200\n",
      "Epoch 10/50\n",
      "100/100 [==============================] - 63s 634ms/step - loss: 0.7796 - accuracy: 0.6097 - val_loss: 0.7571 - val_accuracy: 0.5610\n",
      "Epoch 11/50\n",
      "100/100 [==============================] - 67s 671ms/step - loss: 0.7493 - accuracy: 0.6188 - val_loss: 0.7233 - val_accuracy: 0.5810\n",
      "Epoch 12/50\n",
      "100/100 [==============================] - 66s 650ms/step - loss: 0.7731 - accuracy: 0.5935 - val_loss: 0.6289 - val_accuracy: 0.6540\n",
      "Epoch 13/50\n",
      "100/100 [==============================] - 62s 616ms/step - loss: 0.7494 - accuracy: 0.6095 - val_loss: 0.6557 - val_accuracy: 0.6170\n",
      "Epoch 14/50\n",
      "100/100 [==============================] - 61s 613ms/step - loss: 0.7266 - accuracy: 0.6084 - val_loss: 0.6722 - val_accuracy: 0.6190\n",
      "Epoch 15/50\n",
      "100/100 [==============================] - 69s 682ms/step - loss: 0.7394 - accuracy: 0.6141 - val_loss: 0.6288 - val_accuracy: 0.6600\n",
      "Epoch 16/50\n",
      "100/100 [==============================] - 64s 635ms/step - loss: 0.7521 - accuracy: 0.5900 - val_loss: 0.7995 - val_accuracy: 0.5380\n",
      "Epoch 17/50\n",
      "100/100 [==============================] - 65s 652ms/step - loss: 0.7324 - accuracy: 0.6194 - val_loss: 0.6455 - val_accuracy: 0.6360\n",
      "Epoch 18/50\n",
      "100/100 [==============================] - 64s 640ms/step - loss: 0.7228 - accuracy: 0.6208 - val_loss: 0.6098 - val_accuracy: 0.6640\n",
      "Epoch 19/50\n",
      "100/100 [==============================] - 65s 646ms/step - loss: 0.6996 - accuracy: 0.6192 - val_loss: 0.6094 - val_accuracy: 0.6640\n",
      "Epoch 20/50\n",
      "100/100 [==============================] - 63s 631ms/step - loss: 0.6987 - accuracy: 0.6388 - val_loss: 0.6493 - val_accuracy: 0.6260\n",
      "Epoch 21/50\n",
      "100/100 [==============================] - 67s 660ms/step - loss: 0.6845 - accuracy: 0.6260 - val_loss: 0.5999 - val_accuracy: 0.6810\n",
      "Epoch 22/50\n",
      "100/100 [==============================] - 64s 638ms/step - loss: 0.6700 - accuracy: 0.6488 - val_loss: 0.6062 - val_accuracy: 0.6660\n",
      "Epoch 23/50\n",
      "100/100 [==============================] - 65s 646ms/step - loss: 0.6758 - accuracy: 0.6235 - val_loss: 0.6062 - val_accuracy: 0.6830\n",
      "Epoch 24/50\n",
      "100/100 [==============================] - 67s 671ms/step - loss: 0.6862 - accuracy: 0.6338 - val_loss: 0.6040 - val_accuracy: 0.6750\n",
      "Epoch 25/50\n",
      "100/100 [==============================] - 63s 632ms/step - loss: 0.6626 - accuracy: 0.6443 - val_loss: 0.6308 - val_accuracy: 0.6280\n",
      "Epoch 26/50\n",
      "100/100 [==============================] - 65s 650ms/step - loss: 0.6505 - accuracy: 0.6454 - val_loss: 0.5936 - val_accuracy: 0.6800\n",
      "Epoch 27/50\n",
      "100/100 [==============================] - 63s 628ms/step - loss: 0.6677 - accuracy: 0.6292 - val_loss: 0.6013 - val_accuracy: 0.6730\n",
      "Epoch 28/50\n",
      "100/100 [==============================] - 63s 621ms/step - loss: 0.6492 - accuracy: 0.6551 - val_loss: 0.5917 - val_accuracy: 0.6870\n",
      "Epoch 29/50\n",
      "100/100 [==============================] - 59s 591ms/step - loss: 0.6430 - accuracy: 0.6545 - val_loss: 0.5859 - val_accuracy: 0.6840\n",
      "Epoch 30/50\n",
      "100/100 [==============================] - 61s 602ms/step - loss: 0.6546 - accuracy: 0.6410 - val_loss: 0.5831 - val_accuracy: 0.6830\n",
      "Epoch 31/50\n",
      "100/100 [==============================] - 67s 668ms/step - loss: 0.6362 - accuracy: 0.6661 - val_loss: 0.6077 - val_accuracy: 0.6520\n",
      "Epoch 32/50\n",
      "100/100 [==============================] - 67s 666ms/step - loss: 0.6188 - accuracy: 0.6627 - val_loss: 0.5823 - val_accuracy: 0.6850\n",
      "Epoch 33/50\n",
      "100/100 [==============================] - 64s 641ms/step - loss: 0.6363 - accuracy: 0.6566 - val_loss: 0.6451 - val_accuracy: 0.6300\n",
      "Epoch 34/50\n",
      "100/100 [==============================] - 64s 638ms/step - loss: 0.6364 - accuracy: 0.6533 - val_loss: 0.5779 - val_accuracy: 0.6960\n",
      "Epoch 35/50\n",
      "100/100 [==============================] - 65s 647ms/step - loss: 0.6399 - accuracy: 0.6562 - val_loss: 0.5722 - val_accuracy: 0.6990\n",
      "Epoch 36/50\n",
      "100/100 [==============================] - 65s 647ms/step - loss: 0.6005 - accuracy: 0.6774 - val_loss: 0.5670 - val_accuracy: 0.7030\n",
      "Epoch 37/50\n",
      "100/100 [==============================] - 62s 616ms/step - loss: 0.6066 - accuracy: 0.6607 - val_loss: 0.5876 - val_accuracy: 0.6830\n",
      "Epoch 38/50\n",
      "100/100 [==============================] - 67s 673ms/step - loss: 0.6191 - accuracy: 0.6479 - val_loss: 0.5631 - val_accuracy: 0.7140\n",
      "Epoch 39/50\n",
      "100/100 [==============================] - 65s 645ms/step - loss: 0.6143 - accuracy: 0.6657 - val_loss: 0.5638 - val_accuracy: 0.7170\n",
      "Epoch 40/50\n",
      "100/100 [==============================] - 64s 637ms/step - loss: 0.6011 - accuracy: 0.6923 - val_loss: 0.5770 - val_accuracy: 0.6870\n",
      "Epoch 41/50\n",
      "100/100 [==============================] - 69s 680ms/step - loss: 0.6141 - accuracy: 0.6831 - val_loss: 0.5805 - val_accuracy: 0.6830\n",
      "Epoch 42/50\n",
      "100/100 [==============================] - 64s 635ms/step - loss: 0.6055 - accuracy: 0.6694 - val_loss: 0.5913 - val_accuracy: 0.6990\n",
      "Epoch 43/50\n",
      "100/100 [==============================] - 64s 633ms/step - loss: 0.6272 - accuracy: 0.6721 - val_loss: 0.5645 - val_accuracy: 0.7110\n",
      "Epoch 44/50\n",
      "100/100 [==============================] - 63s 628ms/step - loss: 0.6016 - accuracy: 0.6744 - val_loss: 0.5838 - val_accuracy: 0.6830\n",
      "Epoch 45/50\n",
      "100/100 [==============================] - 60s 600ms/step - loss: 0.5757 - accuracy: 0.7059 - val_loss: 0.5781 - val_accuracy: 0.7070\n",
      "Epoch 46/50\n",
      "100/100 [==============================] - 67s 663ms/step - loss: 0.5574 - accuracy: 0.7149 - val_loss: 0.5477 - val_accuracy: 0.7210\n",
      "Epoch 47/50\n",
      "100/100 [==============================] - 68s 682ms/step - loss: 0.5927 - accuracy: 0.6798 - val_loss: 0.5676 - val_accuracy: 0.7010\n",
      "Epoch 48/50\n",
      "100/100 [==============================] - 60s 600ms/step - loss: 0.6162 - accuracy: 0.6818 - val_loss: 0.5607 - val_accuracy: 0.7060\n",
      "Epoch 49/50\n",
      "100/100 [==============================] - 62s 613ms/step - loss: 0.5877 - accuracy: 0.7015 - val_loss: 0.6638 - val_accuracy: 0.6400\n",
      "Epoch 50/50\n",
      "100/100 [==============================] - 72s 716ms/step - loss: 0.5750 - accuracy: 0.7195 - val_loss: 0.5531 - val_accuracy: 0.7270\n"
     ]
    },
    {
     "data": {
      "text/plain": [
       "<tensorflow.python.keras.callbacks.History at 0x7fa41df2b490>"
      ]
     },
     "execution_count": 12,
     "metadata": {},
     "output_type": "execute_result"
    }
   ],
   "source": [
    "model.fit(train_generator,\n",
    "          epochs=50,\n",
    "          validation_data=validation_generator,\n",
    "          validation_freq=1)"
   ]
  },
  {
   "cell_type": "code",
   "execution_count": 15,
   "id": "5c134772",
   "metadata": {},
   "outputs": [
    {
     "name": "stdout",
     "output_type": "stream",
     "text": [
      "100/100 [==============================] - 22s 220ms/step - loss: 0.5289 - accuracy: 0.7400\n"
     ]
    },
    {
     "data": {
      "text/plain": [
       "[0.5289462208747864, 0.7400000095367432]"
      ]
     },
     "execution_count": 15,
     "metadata": {},
     "output_type": "execute_result"
    }
   ],
   "source": [
    "model.evaluate(train_generator)"
   ]
  },
  {
   "cell_type": "code",
   "execution_count": null,
   "id": "adf0d799",
   "metadata": {},
   "outputs": [],
   "source": []
  }
 ],
 "metadata": {
  "kernelspec": {
   "display_name": "tesis",
   "language": "python",
   "name": "tesis"
  },
  "language_info": {
   "codemirror_mode": {
    "name": "ipython",
    "version": 3
   },
   "file_extension": ".py",
   "mimetype": "text/x-python",
   "name": "python",
   "nbconvert_exporter": "python",
   "pygments_lexer": "ipython3",
   "version": "3.8.8"
  }
 },
 "nbformat": 4,
 "nbformat_minor": 5
}
