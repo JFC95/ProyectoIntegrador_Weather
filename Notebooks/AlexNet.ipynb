{
 "cells": [
  {
   "cell_type": "code",
   "execution_count": 23,
   "id": "bba75c8e",
   "metadata": {},
   "outputs": [],
   "source": [
    "%config Completer.use_jedi = False"
   ]
  },
  {
   "cell_type": "code",
   "execution_count": 7,
   "id": "e61667c6",
   "metadata": {},
   "outputs": [],
   "source": [
    "import tensorflow as tf\n",
    "from tensorflow import keras\n",
    "import matplotlib.pyplot as plt\n",
    "import os\n",
    "from tensorflow.keras.preprocessing.image import ImageDataGenerator\n",
    "import zipfile\n",
    "import time"
   ]
  },
  {
   "cell_type": "code",
   "execution_count": 2,
   "id": "4513cef2",
   "metadata": {},
   "outputs": [
    {
     "name": "stdout",
     "output_type": "stream",
     "text": [
      "Downloading data from https://www.cs.toronto.edu/~kriz/cifar-10-python.tar.gz\n",
      "170500096/170498071 [==============================] - 18s 0us/step\n"
     ]
    }
   ],
   "source": [
    "(train_images, train_labels), (test_images, test_labels) = keras.datasets.cifar10.load_data()"
   ]
  },
  {
   "cell_type": "code",
   "execution_count": 5,
   "id": "a04785c5",
   "metadata": {},
   "outputs": [],
   "source": [
    "local_zip = '../datasets/cats_and_dogs_filtered.zip'\n",
    "zip_ref = zipfile.ZipFile(local_zip, 'r')\n",
    "zip_ref.extractall('../datasets/tmp')\n",
    "zip_ref.close()\n",
    "\n",
    "base_dir = '../datasets/tmp/cats_and_dogs_filtered'\n",
    "train_dir = os.path.join(base_dir, 'train')\n",
    "validation_dir = os.path.join(base_dir, 'validation')\n",
    "\n",
    "# Directory with our training cat pictures\n",
    "train_cats_dir = os.path.join(train_dir, 'cats')\n",
    "\n",
    "# Directory with our training dog pictures\n",
    "train_dogs_dir = os.path.join(train_dir, 'dogs')\n",
    "\n",
    "# Directory with our validation cat pictures\n",
    "validation_cats_dir = os.path.join(validation_dir, 'cats')\n",
    "\n",
    "# Directory with our validation dog pictures\n",
    "validation_dogs_dir = os.path.join(validation_dir, 'dogs')"
   ]
  },
  {
   "cell_type": "code",
   "execution_count": 8,
   "id": "d25df707",
   "metadata": {},
   "outputs": [],
   "source": [
    "# Add our data-augmentation parameters to ImageDataGenerator\n",
    "train_datagen = ImageDataGenerator(rescale = 1./255.,rotation_range = 40, width_shift_range = 0.2, height_shift_range = 0.2, shear_range = 0.2, zoom_range = 0.2, horizontal_flip = True)\n",
    "\n",
    "# Note that the validation data should not be augmented!\n",
    "test_datagen = ImageDataGenerator( rescale = 1.0/255. )"
   ]
  },
  {
   "cell_type": "code",
   "execution_count": 9,
   "id": "500134f1",
   "metadata": {},
   "outputs": [
    {
     "name": "stdout",
     "output_type": "stream",
     "text": [
      "Found 2000 images belonging to 2 classes.\n",
      "Found 1000 images belonging to 2 classes.\n"
     ]
    }
   ],
   "source": [
    "# Training and validation datasets\n",
    "# Flow training images in batches of 20 using train_datagen generator\n",
    "train_generator = train_datagen.flow_from_directory(train_dir, batch_size = 20, class_mode = 'binary', target_size = (224, 224))\n",
    "\n",
    "# Flow validation images in batches of 20 using test_datagen generator\n",
    "validation_generator = test_datagen.flow_from_directory( validation_dir,  batch_size = 20, class_mode = 'binary', target_size = (224, 224))"
   ]
  },
  {
   "cell_type": "code",
   "execution_count": 20,
   "id": "37a0cc7f",
   "metadata": {},
   "outputs": [],
   "source": [
    "# Implementacion del modelo\n",
    "model = keras.models.Sequential([\n",
    "    keras.layers.Conv2D(filters=96, kernel_size=(11,11), strides=(4,4), activation='relu', input_shape=(224,224,3)),\n",
    "    keras.layers.BatchNormalization(),\n",
    "    keras.layers.MaxPool2D(pool_size=(3,3), strides=(2,2)),\n",
    "    keras.layers.Conv2D(filters=256, kernel_size=(5,5), strides=(1,1), activation='relu', padding=\"same\"),\n",
    "    keras.layers.BatchNormalization(),\n",
    "    keras.layers.MaxPool2D(pool_size=(3,3), strides=(2,2)),\n",
    "    keras.layers.Conv2D(filters=384, kernel_size=(3,3), strides=(1,1), activation='relu', padding=\"same\"),\n",
    "    keras.layers.BatchNormalization(),\n",
    "    keras.layers.Conv2D(filters=384, kernel_size=(3,3), strides=(1,1), activation='relu', padding=\"same\"),\n",
    "    keras.layers.BatchNormalization(),\n",
    "    keras.layers.Conv2D(filters=256, kernel_size=(3,3), strides=(1,1), activation='relu', padding=\"same\"),\n",
    "    keras.layers.BatchNormalization(),\n",
    "    keras.layers.MaxPool2D(pool_size=(3,3), strides=(2,2)),\n",
    "    keras.layers.Flatten(),\n",
    "    keras.layers.Dense(4096, activation='relu'),\n",
    "    keras.layers.Dropout(0.5),\n",
    "    keras.layers.Dense(4096, activation='relu'),\n",
    "    keras.layers.Dropout(0.5),\n",
    "    keras.layers.Dense(2, activation='softmax') #despues probar con activation='sigmoid'\n",
    "])"
   ]
  },
  {
   "cell_type": "code",
   "execution_count": 21,
   "id": "723b253b",
   "metadata": {},
   "outputs": [
    {
     "name": "stdout",
     "output_type": "stream",
     "text": [
      "Model: \"sequential_3\"\n",
      "_________________________________________________________________\n",
      "Layer (type)                 Output Shape              Param #   \n",
      "=================================================================\n",
      "conv2d_15 (Conv2D)           (None, 54, 54, 96)        34944     \n",
      "_________________________________________________________________\n",
      "batch_normalization_15 (Batc (None, 54, 54, 96)        384       \n",
      "_________________________________________________________________\n",
      "max_pooling2d_9 (MaxPooling2 (None, 26, 26, 96)        0         \n",
      "_________________________________________________________________\n",
      "conv2d_16 (Conv2D)           (None, 26, 26, 224)       537824    \n",
      "_________________________________________________________________\n",
      "batch_normalization_16 (Batc (None, 26, 26, 224)       896       \n",
      "_________________________________________________________________\n",
      "max_pooling2d_10 (MaxPooling (None, 12, 12, 224)       0         \n",
      "_________________________________________________________________\n",
      "conv2d_17 (Conv2D)           (None, 12, 12, 384)       774528    \n",
      "_________________________________________________________________\n",
      "batch_normalization_17 (Batc (None, 12, 12, 384)       1536      \n",
      "_________________________________________________________________\n",
      "conv2d_18 (Conv2D)           (None, 12, 12, 384)       1327488   \n",
      "_________________________________________________________________\n",
      "batch_normalization_18 (Batc (None, 12, 12, 384)       1536      \n",
      "_________________________________________________________________\n",
      "conv2d_19 (Conv2D)           (None, 12, 12, 224)       774368    \n",
      "_________________________________________________________________\n",
      "batch_normalization_19 (Batc (None, 12, 12, 224)       896       \n",
      "_________________________________________________________________\n",
      "max_pooling2d_11 (MaxPooling (None, 5, 5, 224)         0         \n",
      "_________________________________________________________________\n",
      "flatten_3 (Flatten)          (None, 5600)              0         \n",
      "_________________________________________________________________\n",
      "dense_9 (Dense)              (None, 4096)              22941696  \n",
      "_________________________________________________________________\n",
      "dropout_6 (Dropout)          (None, 4096)              0         \n",
      "_________________________________________________________________\n",
      "dense_10 (Dense)             (None, 4096)              16781312  \n",
      "_________________________________________________________________\n",
      "dropout_7 (Dropout)          (None, 4096)              0         \n",
      "_________________________________________________________________\n",
      "dense_11 (Dense)             (None, 2)                 8194      \n",
      "=================================================================\n",
      "Total params: 43,185,602\n",
      "Trainable params: 43,182,978\n",
      "Non-trainable params: 2,624\n",
      "_________________________________________________________________\n"
     ]
    }
   ],
   "source": [
    "# Training and results\n",
    "model.compile(loss='sparse_categorical_crossentropy', optimizer=tf.optimizers.SGD(lr=0.001), metrics=['accuracy'])\n",
    "model.summary()"
   ]
  },
  {
   "cell_type": "code",
   "execution_count": 22,
   "id": "298c780f",
   "metadata": {},
   "outputs": [
    {
     "name": "stdout",
     "output_type": "stream",
     "text": [
      "Epoch 1/50\n",
      "100/100 [==============================] - 59s 572ms/step - loss: 1.6255 - accuracy: 0.5454 - val_loss: 0.7012 - val_accuracy: 0.5030\n",
      "Epoch 2/50\n",
      "100/100 [==============================] - 64s 637ms/step - loss: 1.3958 - accuracy: 0.5011 - val_loss: 0.7182 - val_accuracy: 0.5150\n",
      "Epoch 3/50\n",
      "100/100 [==============================] - 65s 650ms/step - loss: 1.1482 - accuracy: 0.5550 - val_loss: 0.6749 - val_accuracy: 0.5810\n",
      "Epoch 4/50\n",
      "100/100 [==============================] - 63s 621ms/step - loss: 1.0630 - accuracy: 0.5477 - val_loss: 0.6581 - val_accuracy: 0.6050\n",
      "Epoch 5/50\n",
      "100/100 [==============================] - 63s 624ms/step - loss: 0.9791 - accuracy: 0.5660 - val_loss: 0.6615 - val_accuracy: 0.6000\n",
      "Epoch 6/50\n",
      "100/100 [==============================] - 64s 633ms/step - loss: 0.9760 - accuracy: 0.5622 - val_loss: 0.6717 - val_accuracy: 0.6280\n",
      "Epoch 7/50\n",
      "100/100 [==============================] - 62s 615ms/step - loss: 0.9043 - accuracy: 0.5607 - val_loss: 0.9866 - val_accuracy: 0.5420\n",
      "Epoch 8/50\n",
      "100/100 [==============================] - 67s 664ms/step - loss: 0.8516 - accuracy: 0.5828 - val_loss: 0.6374 - val_accuracy: 0.6420\n",
      "Epoch 9/50\n",
      "100/100 [==============================] - 63s 627ms/step - loss: 0.7632 - accuracy: 0.6121 - val_loss: 0.6306 - val_accuracy: 0.6350\n",
      "Epoch 10/50\n",
      "100/100 [==============================] - 59s 585ms/step - loss: 0.8007 - accuracy: 0.5841 - val_loss: 0.6379 - val_accuracy: 0.6390\n",
      "Epoch 11/50\n",
      "100/100 [==============================] - 62s 623ms/step - loss: 0.7981 - accuracy: 0.5890 - val_loss: 0.7200 - val_accuracy: 0.5810\n",
      "Epoch 12/50\n",
      "100/100 [==============================] - 59s 589ms/step - loss: 0.7569 - accuracy: 0.5938 - val_loss: 0.6178 - val_accuracy: 0.6660\n",
      "Epoch 13/50\n",
      "100/100 [==============================] - 62s 618ms/step - loss: 0.7246 - accuracy: 0.6012 - val_loss: 0.6235 - val_accuracy: 0.6410\n",
      "Epoch 14/50\n",
      "100/100 [==============================] - 63s 630ms/step - loss: 0.7485 - accuracy: 0.6049 - val_loss: 0.6269 - val_accuracy: 0.6500\n",
      "Epoch 15/50\n",
      "100/100 [==============================] - 62s 620ms/step - loss: 0.7577 - accuracy: 0.6035 - val_loss: 0.6240 - val_accuracy: 0.6490\n",
      "Epoch 16/50\n",
      "100/100 [==============================] - 61s 605ms/step - loss: 0.6823 - accuracy: 0.6319 - val_loss: 0.6371 - val_accuracy: 0.6300\n",
      "Epoch 17/50\n",
      "100/100 [==============================] - 59s 579ms/step - loss: 0.7523 - accuracy: 0.5946 - val_loss: 0.6276 - val_accuracy: 0.6640\n",
      "Epoch 18/50\n",
      "100/100 [==============================] - 62s 618ms/step - loss: 0.7066 - accuracy: 0.6407 - val_loss: 0.6302 - val_accuracy: 0.6420\n",
      "Epoch 19/50\n",
      "100/100 [==============================] - 65s 640ms/step - loss: 0.7356 - accuracy: 0.6112 - val_loss: 0.6121 - val_accuracy: 0.6660\n",
      "Epoch 20/50\n",
      "100/100 [==============================] - 61s 603ms/step - loss: 0.6842 - accuracy: 0.6303 - val_loss: 0.6098 - val_accuracy: 0.6460\n",
      "Epoch 21/50\n",
      "100/100 [==============================] - 61s 605ms/step - loss: 0.6834 - accuracy: 0.6285 - val_loss: 0.6478 - val_accuracy: 0.6330\n",
      "Epoch 22/50\n",
      "100/100 [==============================] - 68s 675ms/step - loss: 0.6553 - accuracy: 0.6254 - val_loss: 0.6544 - val_accuracy: 0.6100\n",
      "Epoch 23/50\n",
      "100/100 [==============================] - 66s 656ms/step - loss: 0.6813 - accuracy: 0.6278 - val_loss: 0.5859 - val_accuracy: 0.6960\n",
      "Epoch 24/50\n",
      "100/100 [==============================] - 63s 628ms/step - loss: 0.7123 - accuracy: 0.5953 - val_loss: 0.5983 - val_accuracy: 0.6960\n",
      "Epoch 25/50\n",
      "100/100 [==============================] - 64s 638ms/step - loss: 0.6692 - accuracy: 0.6307 - val_loss: 0.6020 - val_accuracy: 0.6600\n",
      "Epoch 26/50\n",
      "100/100 [==============================] - 63s 624ms/step - loss: 0.6603 - accuracy: 0.6351 - val_loss: 0.6386 - val_accuracy: 0.6460\n",
      "Epoch 27/50\n",
      "100/100 [==============================] - 62s 615ms/step - loss: 0.6374 - accuracy: 0.6641 - val_loss: 0.5861 - val_accuracy: 0.7010\n",
      "Epoch 28/50\n",
      "100/100 [==============================] - 61s 608ms/step - loss: 0.6540 - accuracy: 0.6500 - val_loss: 0.6159 - val_accuracy: 0.6450\n",
      "Epoch 29/50\n",
      "100/100 [==============================] - 65s 642ms/step - loss: 0.6467 - accuracy: 0.6335 - val_loss: 0.5938 - val_accuracy: 0.6820\n",
      "Epoch 30/50\n",
      "100/100 [==============================] - 62s 623ms/step - loss: 0.6750 - accuracy: 0.6339 - val_loss: 0.6480 - val_accuracy: 0.6390\n",
      "Epoch 31/50\n",
      "100/100 [==============================] - 65s 647ms/step - loss: 0.6289 - accuracy: 0.6600 - val_loss: 0.5933 - val_accuracy: 0.6940\n",
      "Epoch 32/50\n",
      "100/100 [==============================] - 63s 622ms/step - loss: 0.6399 - accuracy: 0.6582 - val_loss: 0.6484 - val_accuracy: 0.6230\n",
      "Epoch 33/50\n",
      "100/100 [==============================] - 62s 617ms/step - loss: 0.6654 - accuracy: 0.6430 - val_loss: 0.5638 - val_accuracy: 0.7280\n",
      "Epoch 34/50\n",
      "100/100 [==============================] - 58s 582ms/step - loss: 0.6175 - accuracy: 0.6699 - val_loss: 0.5964 - val_accuracy: 0.6730\n",
      "Epoch 35/50\n",
      "100/100 [==============================] - 62s 615ms/step - loss: 0.6120 - accuracy: 0.6720 - val_loss: 0.5679 - val_accuracy: 0.6970\n",
      "Epoch 36/50\n",
      "100/100 [==============================] - 66s 654ms/step - loss: 0.6173 - accuracy: 0.6817 - val_loss: 0.5761 - val_accuracy: 0.6930\n",
      "Epoch 37/50\n",
      "100/100 [==============================] - 61s 602ms/step - loss: 0.6107 - accuracy: 0.6868 - val_loss: 0.5508 - val_accuracy: 0.7130\n",
      "Epoch 38/50\n",
      "100/100 [==============================] - 63s 626ms/step - loss: 0.5867 - accuracy: 0.6878 - val_loss: 0.5642 - val_accuracy: 0.6910\n",
      "Epoch 39/50\n",
      "100/100 [==============================] - 62s 618ms/step - loss: 0.6482 - accuracy: 0.6556 - val_loss: 0.6077 - val_accuracy: 0.6480\n",
      "Epoch 40/50\n",
      "100/100 [==============================] - 65s 643ms/step - loss: 0.6224 - accuracy: 0.6506 - val_loss: 0.5410 - val_accuracy: 0.7410\n",
      "Epoch 41/50\n",
      "100/100 [==============================] - 61s 608ms/step - loss: 0.5760 - accuracy: 0.7016 - val_loss: 0.5772 - val_accuracy: 0.6770\n",
      "Epoch 42/50\n",
      "100/100 [==============================] - 64s 641ms/step - loss: 0.5890 - accuracy: 0.6955 - val_loss: 0.9019 - val_accuracy: 0.5200\n",
      "Epoch 43/50\n",
      "100/100 [==============================] - 62s 619ms/step - loss: 0.5841 - accuracy: 0.6991 - val_loss: 0.5624 - val_accuracy: 0.6940\n",
      "Epoch 44/50\n",
      "100/100 [==============================] - 61s 602ms/step - loss: 0.5845 - accuracy: 0.6905 - val_loss: 0.6515 - val_accuracy: 0.6480\n",
      "Epoch 45/50\n",
      "100/100 [==============================] - 59s 593ms/step - loss: 0.5804 - accuracy: 0.7030 - val_loss: 0.5747 - val_accuracy: 0.6750\n",
      "Epoch 46/50\n",
      "100/100 [==============================] - 62s 618ms/step - loss: 0.5766 - accuracy: 0.7022 - val_loss: 0.6300 - val_accuracy: 0.6580\n",
      "Epoch 47/50\n",
      "100/100 [==============================] - 63s 625ms/step - loss: 0.5991 - accuracy: 0.6911 - val_loss: 0.5747 - val_accuracy: 0.7010\n",
      "Epoch 48/50\n",
      "100/100 [==============================] - 62s 615ms/step - loss: 0.5587 - accuracy: 0.7223 - val_loss: 0.6202 - val_accuracy: 0.6630\n",
      "Epoch 49/50\n",
      "100/100 [==============================] - 61s 608ms/step - loss: 0.5699 - accuracy: 0.7089 - val_loss: 0.6019 - val_accuracy: 0.6780\n",
      "Epoch 50/50\n",
      "100/100 [==============================] - 66s 661ms/step - loss: 0.5640 - accuracy: 0.7192 - val_loss: 0.5796 - val_accuracy: 0.6940\n"
     ]
    },
    {
     "data": {
      "text/plain": [
       "<tensorflow.python.keras.callbacks.History at 0x7ff674a3e820>"
      ]
     },
     "execution_count": 22,
     "metadata": {},
     "output_type": "execute_result"
    }
   ],
   "source": [
    "model.fit(train_generator,\n",
    "          epochs=50,\n",
    "          validation_data=validation_generator,\n",
    "          validation_freq=1)"
   ]
  },
  {
   "cell_type": "code",
   "execution_count": null,
   "id": "5c134772",
   "metadata": {},
   "outputs": [],
   "source": [
    "model.evaluate(test_images)"
   ]
  }
 ],
 "metadata": {
  "kernelspec": {
   "display_name": "tesis",
   "language": "python",
   "name": "tesis"
  },
  "language_info": {
   "codemirror_mode": {
    "name": "ipython",
    "version": 3
   },
   "file_extension": ".py",
   "mimetype": "text/x-python",
   "name": "python",
   "nbconvert_exporter": "python",
   "pygments_lexer": "ipython3",
   "version": "3.8.8"
  }
 },
 "nbformat": 4,
 "nbformat_minor": 5
}
