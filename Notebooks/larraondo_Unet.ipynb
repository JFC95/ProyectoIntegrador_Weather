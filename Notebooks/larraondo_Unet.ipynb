{
 "cells": [
  {
   "cell_type": "code",
   "execution_count": 1,
   "id": "61358e91",
   "metadata": {},
   "outputs": [],
   "source": [
    "from tensorflow.keras.models import Sequential\n",
    "from tensorflow.keras import layers\n",
    "from tensorflow.keras import models\n",
    "from tensorflow.keras.layers import BatchNormalization, Conv2D, UpSampling2D, MaxPooling2D, Dropout\n",
    "from tensorflow.keras.optimizers import Adam,SGD\n",
    "from tensorflow.keras import regularizers\n",
    "import numpy as np\n",
    "import matplotlib.pyplot as plt\n",
    "import pickle\n",
    "import matplotlib.pyplot as plt"
   ]
  },
  {
   "cell_type": "markdown",
   "id": "eb686cae",
   "metadata": {},
   "source": [
    "### Definición modelo de Red Unet"
   ]
  },
  {
   "cell_type": "code",
   "execution_count": 2,
   "id": "075f7e79",
   "metadata": {},
   "outputs": [],
   "source": [
    "def get_unet():\n",
    "    concat_axis = 3\n",
    "    inputs = layers.Input(shape = (80, 120, 3))\n",
    "\n",
    "    bn0 = BatchNormalization(axis=3)(inputs)\n",
    "    conv1 = layers.Conv2D(32, (3, 3), activation='relu', padding='same', name='conv1_1')(bn0)\n",
    "    bn1 = BatchNormalization(axis=3)(conv1)\n",
    "    conv1 = layers.Conv2D(32, (3, 3), activation='relu', padding='same')(bn1)\n",
    "    bn2 = BatchNormalization(axis=3)(conv1)\n",
    "    pool1 = layers.MaxPooling2D(pool_size=(2, 2))(bn2)\n",
    "    conv2 = layers.Conv2D(64, (3, 3), activation='relu', padding='same')(pool1)\n",
    "    bn3 = BatchNormalization(axis=3)(conv2)\n",
    "    conv2 = layers.Conv2D(64, (3, 3), activation='relu', padding='same')(bn3)\n",
    "    bn4 = BatchNormalization(axis=3)(conv2)\n",
    "    pool2 = layers.MaxPooling2D(pool_size=(2, 2))(bn4)\n",
    "\n",
    "    conv3 = layers.Conv2D(128, (3, 3), activation='relu', padding='same')(pool2)\n",
    "    bn5 = BatchNormalization(axis=3)(conv3)\n",
    "    conv3 = layers.Conv2D(128, (3, 3), activation='relu', padding='same')(bn5)\n",
    "    bn6 = BatchNormalization(axis=3)(conv3)\n",
    "    pool3 = layers.MaxPooling2D(pool_size=(2, 2))(bn6)\n",
    "\n",
    "    conv4 = layers.Conv2D(256, (3, 3), activation='relu', padding='same')(pool3)\n",
    "    bn7 = BatchNormalization(axis=3)(conv4)\n",
    "    conv4 = layers.Conv2D(256, (3, 3), activation='relu', padding='same')(bn7)\n",
    "    bn8 = BatchNormalization(axis=3)(conv4)\n",
    "    pool4 = layers.MaxPooling2D(pool_size=(2, 3))(bn8)\n",
    "\n",
    "    conv5 = layers.Conv2D(512, (3, 3), activation='relu', padding='same')(pool4)\n",
    "    bn9 = BatchNormalization(axis=3)(conv5)\n",
    "    conv5 = layers.Conv2D(512, (3, 3), activation='relu', padding='same')(bn9)\n",
    "    bn10 = BatchNormalization(axis=3)(conv5)\n",
    "\n",
    "    up_conv5 = layers.UpSampling2D(size=(2, 3))(bn10)\n",
    "    up6 = layers.concatenate([up_conv5, conv4], axis=concat_axis)\n",
    "    conv6 = layers.Conv2D(256, (3, 3), activation='relu', padding='same')(up6)\n",
    "    bn11 = BatchNormalization(axis=3)(conv6)\n",
    "    conv6 = layers.Conv2D(256, (3, 3), activation='relu', padding='same')(bn11)\n",
    "    bn12 = BatchNormalization(axis=3)(conv6)\n",
    "\n",
    "    up_conv6 = layers.UpSampling2D(size=(2, 2))(bn12)\n",
    "    up7 = layers.concatenate([up_conv6, conv3], axis=concat_axis)\n",
    "    conv7 = layers.Conv2D(128, (3, 3), activation='relu', padding='same')(up7)\n",
    "    bn13 = BatchNormalization(axis=3)(conv7)\n",
    "    conv7 = layers.Conv2D(128, (3, 3), activation='relu', padding='same')(bn13)\n",
    "    bn14 = BatchNormalization(axis=3)(conv7)\n",
    "\n",
    "    up_conv7 = layers.UpSampling2D(size=(2, 2))(bn14)\n",
    "    up8 = layers.concatenate([up_conv7, conv2], axis=concat_axis)\n",
    "    conv8 = layers.Conv2D(64, (3, 3), activation='relu', padding='same')(up8)\n",
    "    bn15 = BatchNormalization(axis=3)(conv8)\n",
    "    conv8 = layers.Conv2D(64, (3, 3), activation='relu', padding='same')(bn15)\n",
    "    bn16 = BatchNormalization(axis=3)(conv8)\n",
    "\n",
    "    up_conv8 = layers.UpSampling2D(size=(2, 2))(bn16)\n",
    "    up9 = layers.concatenate([up_conv8, conv1], axis=concat_axis)\n",
    "    conv9 = layers.Conv2D(32, (3, 3), activation='relu', padding='same')(up9)\n",
    "    bn17 = BatchNormalization(axis=3)(conv9)\n",
    "    conv9 = layers.Conv2D(32, (3, 3), activation='relu', padding='same')(bn17)\n",
    "    bn18 = BatchNormalization(axis=3)(conv9)\n",
    "\n",
    "    conv10 = layers.Conv2D(1, (1, 1))(bn18)\n",
    "    #bn19 = BatchNormalization(axis=3)(conv10)\n",
    "\n",
    "    model = models.Model(inputs=inputs, outputs=conv10)\n",
    "\n",
    "    sgd = SGD(lr=0.01, decay=1e-6, momentum=0.9, nesterov=True)\n",
    "    model.compile(loss='mae', optimizer=sgd, metrics=['mse'])\n",
    "    #model.compile(loss='mae', optimizer=Adam(lr=0.001), metrics=['mse'])\n",
    "    print(model.summary())\n",
    "\n",
    "    return model"
   ]
  },
  {
   "cell_type": "code",
   "execution_count": 3,
   "id": "d9d2cbb9",
   "metadata": {},
   "outputs": [
    {
     "name": "stdout",
     "output_type": "stream",
     "text": [
      "Model: \"model\"\n",
      "__________________________________________________________________________________________________\n",
      "Layer (type)                    Output Shape         Param #     Connected to                     \n",
      "==================================================================================================\n",
      "input_1 (InputLayer)            [(None, 80, 120, 3)] 0                                            \n",
      "__________________________________________________________________________________________________\n",
      "batch_normalization (BatchNorma (None, 80, 120, 3)   12          input_1[0][0]                    \n",
      "__________________________________________________________________________________________________\n",
      "conv1_1 (Conv2D)                (None, 80, 120, 32)  896         batch_normalization[0][0]        \n",
      "__________________________________________________________________________________________________\n",
      "batch_normalization_1 (BatchNor (None, 80, 120, 32)  128         conv1_1[0][0]                    \n",
      "__________________________________________________________________________________________________\n",
      "conv2d (Conv2D)                 (None, 80, 120, 32)  9248        batch_normalization_1[0][0]      \n",
      "__________________________________________________________________________________________________\n",
      "batch_normalization_2 (BatchNor (None, 80, 120, 32)  128         conv2d[0][0]                     \n",
      "__________________________________________________________________________________________________\n",
      "max_pooling2d (MaxPooling2D)    (None, 40, 60, 32)   0           batch_normalization_2[0][0]      \n",
      "__________________________________________________________________________________________________\n",
      "conv2d_1 (Conv2D)               (None, 40, 60, 64)   18496       max_pooling2d[0][0]              \n",
      "__________________________________________________________________________________________________\n",
      "batch_normalization_3 (BatchNor (None, 40, 60, 64)   256         conv2d_1[0][0]                   \n",
      "__________________________________________________________________________________________________\n",
      "conv2d_2 (Conv2D)               (None, 40, 60, 64)   36928       batch_normalization_3[0][0]      \n",
      "__________________________________________________________________________________________________\n",
      "batch_normalization_4 (BatchNor (None, 40, 60, 64)   256         conv2d_2[0][0]                   \n",
      "__________________________________________________________________________________________________\n",
      "max_pooling2d_1 (MaxPooling2D)  (None, 20, 30, 64)   0           batch_normalization_4[0][0]      \n",
      "__________________________________________________________________________________________________\n",
      "conv2d_3 (Conv2D)               (None, 20, 30, 128)  73856       max_pooling2d_1[0][0]            \n",
      "__________________________________________________________________________________________________\n",
      "batch_normalization_5 (BatchNor (None, 20, 30, 128)  512         conv2d_3[0][0]                   \n",
      "__________________________________________________________________________________________________\n",
      "conv2d_4 (Conv2D)               (None, 20, 30, 128)  147584      batch_normalization_5[0][0]      \n",
      "__________________________________________________________________________________________________\n",
      "batch_normalization_6 (BatchNor (None, 20, 30, 128)  512         conv2d_4[0][0]                   \n",
      "__________________________________________________________________________________________________\n",
      "max_pooling2d_2 (MaxPooling2D)  (None, 10, 15, 128)  0           batch_normalization_6[0][0]      \n",
      "__________________________________________________________________________________________________\n",
      "conv2d_5 (Conv2D)               (None, 10, 15, 256)  295168      max_pooling2d_2[0][0]            \n",
      "__________________________________________________________________________________________________\n",
      "batch_normalization_7 (BatchNor (None, 10, 15, 256)  1024        conv2d_5[0][0]                   \n",
      "__________________________________________________________________________________________________\n",
      "conv2d_6 (Conv2D)               (None, 10, 15, 256)  590080      batch_normalization_7[0][0]      \n",
      "__________________________________________________________________________________________________\n",
      "batch_normalization_8 (BatchNor (None, 10, 15, 256)  1024        conv2d_6[0][0]                   \n",
      "__________________________________________________________________________________________________\n",
      "max_pooling2d_3 (MaxPooling2D)  (None, 5, 5, 256)    0           batch_normalization_8[0][0]      \n",
      "__________________________________________________________________________________________________\n",
      "conv2d_7 (Conv2D)               (None, 5, 5, 512)    1180160     max_pooling2d_3[0][0]            \n",
      "__________________________________________________________________________________________________\n",
      "batch_normalization_9 (BatchNor (None, 5, 5, 512)    2048        conv2d_7[0][0]                   \n",
      "__________________________________________________________________________________________________\n",
      "conv2d_8 (Conv2D)               (None, 5, 5, 512)    2359808     batch_normalization_9[0][0]      \n",
      "__________________________________________________________________________________________________\n",
      "batch_normalization_10 (BatchNo (None, 5, 5, 512)    2048        conv2d_8[0][0]                   \n",
      "__________________________________________________________________________________________________\n",
      "up_sampling2d (UpSampling2D)    (None, 10, 15, 512)  0           batch_normalization_10[0][0]     \n",
      "__________________________________________________________________________________________________\n",
      "concatenate (Concatenate)       (None, 10, 15, 768)  0           up_sampling2d[0][0]              \n",
      "                                                                 conv2d_6[0][0]                   \n",
      "__________________________________________________________________________________________________\n",
      "conv2d_9 (Conv2D)               (None, 10, 15, 256)  1769728     concatenate[0][0]                \n",
      "__________________________________________________________________________________________________\n",
      "batch_normalization_11 (BatchNo (None, 10, 15, 256)  1024        conv2d_9[0][0]                   \n",
      "__________________________________________________________________________________________________\n",
      "conv2d_10 (Conv2D)              (None, 10, 15, 256)  590080      batch_normalization_11[0][0]     \n",
      "__________________________________________________________________________________________________\n",
      "batch_normalization_12 (BatchNo (None, 10, 15, 256)  1024        conv2d_10[0][0]                  \n",
      "__________________________________________________________________________________________________\n",
      "up_sampling2d_1 (UpSampling2D)  (None, 20, 30, 256)  0           batch_normalization_12[0][0]     \n",
      "__________________________________________________________________________________________________\n",
      "concatenate_1 (Concatenate)     (None, 20, 30, 384)  0           up_sampling2d_1[0][0]            \n",
      "                                                                 conv2d_4[0][0]                   \n",
      "__________________________________________________________________________________________________\n",
      "conv2d_11 (Conv2D)              (None, 20, 30, 128)  442496      concatenate_1[0][0]              \n",
      "__________________________________________________________________________________________________\n",
      "batch_normalization_13 (BatchNo (None, 20, 30, 128)  512         conv2d_11[0][0]                  \n",
      "__________________________________________________________________________________________________\n",
      "conv2d_12 (Conv2D)              (None, 20, 30, 128)  147584      batch_normalization_13[0][0]     \n",
      "__________________________________________________________________________________________________\n",
      "batch_normalization_14 (BatchNo (None, 20, 30, 128)  512         conv2d_12[0][0]                  \n",
      "__________________________________________________________________________________________________\n",
      "up_sampling2d_2 (UpSampling2D)  (None, 40, 60, 128)  0           batch_normalization_14[0][0]     \n",
      "__________________________________________________________________________________________________\n",
      "concatenate_2 (Concatenate)     (None, 40, 60, 192)  0           up_sampling2d_2[0][0]            \n",
      "                                                                 conv2d_2[0][0]                   \n",
      "__________________________________________________________________________________________________\n",
      "conv2d_13 (Conv2D)              (None, 40, 60, 64)   110656      concatenate_2[0][0]              \n",
      "__________________________________________________________________________________________________\n",
      "batch_normalization_15 (BatchNo (None, 40, 60, 64)   256         conv2d_13[0][0]                  \n",
      "__________________________________________________________________________________________________\n",
      "conv2d_14 (Conv2D)              (None, 40, 60, 64)   36928       batch_normalization_15[0][0]     \n",
      "__________________________________________________________________________________________________\n",
      "batch_normalization_16 (BatchNo (None, 40, 60, 64)   256         conv2d_14[0][0]                  \n",
      "__________________________________________________________________________________________________\n",
      "up_sampling2d_3 (UpSampling2D)  (None, 80, 120, 64)  0           batch_normalization_16[0][0]     \n",
      "__________________________________________________________________________________________________\n",
      "concatenate_3 (Concatenate)     (None, 80, 120, 96)  0           up_sampling2d_3[0][0]            \n",
      "                                                                 conv2d[0][0]                     \n",
      "__________________________________________________________________________________________________\n",
      "conv2d_15 (Conv2D)              (None, 80, 120, 32)  27680       concatenate_3[0][0]              \n",
      "__________________________________________________________________________________________________\n",
      "batch_normalization_17 (BatchNo (None, 80, 120, 32)  128         conv2d_15[0][0]                  \n",
      "__________________________________________________________________________________________________\n",
      "conv2d_16 (Conv2D)              (None, 80, 120, 32)  9248        batch_normalization_17[0][0]     \n",
      "__________________________________________________________________________________________________\n",
      "batch_normalization_18 (BatchNo (None, 80, 120, 32)  128         conv2d_16[0][0]                  \n",
      "__________________________________________________________________________________________________\n",
      "conv2d_17 (Conv2D)              (None, 80, 120, 1)   33          batch_normalization_18[0][0]     \n",
      "==================================================================================================\n",
      "Total params: 7,858,445\n",
      "Trainable params: 7,852,551\n",
      "Non-trainable params: 5,894\n",
      "__________________________________________________________________________________________________\n",
      "None\n"
     ]
    }
   ],
   "source": [
    "model = get_unet()"
   ]
  },
  {
   "cell_type": "markdown",
   "id": "68997c3e",
   "metadata": {},
   "source": [
    "### Dataset Larraondo, dividido correctamente"
   ]
  },
  {
   "cell_type": "code",
   "execution_count": 5,
   "id": "3ff14c47",
   "metadata": {},
   "outputs": [
    {
     "name": "stdout",
     "output_type": "stream",
     "text": [
      "(34575, 80, 120, 3)\n",
      "(8643, 80, 120, 3)\n",
      "(10805, 80, 120, 3)\n",
      "(34575, 80, 120, 1)\n",
      "(8643, 80, 120, 1)\n",
      "(10805, 80, 120, 1)\n"
     ]
    }
   ],
   "source": [
    "x_train = np.load(\"/opt/datos/dataset/larraondo/x_train-0_2_6_validation.npy\")\n",
    "x_val = np.load(\"/opt/datos/dataset/larraondo/x_val-0_2_6_validation.npy\")\n",
    "x_test = np.load(\"/opt/datos/dataset/larraondo/x_test-0_2_6_validation.npy\")\n",
    "y_train = np.load(\"/opt/datos/dataset/larraondo/y_train-0_2_6_validation.npy\")\n",
    "y_val = np.load(\"/opt/datos/dataset/larraondo/y_val-0_2_6_validation.npy\")\n",
    "y_test = np.load(\"/opt/datos/dataset/larraondo/y_test-0_2_6_validation.npy\")\n",
    "\n",
    "print(x_train.shape)\n",
    "print(x_val.shape)\n",
    "print(x_test.shape)\n",
    "print(y_train.shape)\n",
    "print(y_val.shape)\n",
    "print(y_test.shape)\n",
    "\n",
    "i=0\n",
    "j=2\n",
    "k=6"
   ]
  },
  {
   "cell_type": "code",
   "execution_count": 6,
   "id": "224e54b8",
   "metadata": {},
   "outputs": [
    {
     "name": "stdout",
     "output_type": "stream",
     "text": [
      "Epoch 1/50\n",
      "1081/1081 [==============================] - 283s 248ms/step - loss: 0.4331 - mse: 1.5132 - val_loss: 0.3512 - val_mse: 1.1269\n",
      "Epoch 2/50\n",
      "1081/1081 [==============================] - 249s 230ms/step - loss: 0.3394 - mse: 0.9861 - val_loss: 0.3223 - val_mse: 0.8865\n",
      "Epoch 3/50\n",
      "1081/1081 [==============================] - 249s 230ms/step - loss: 0.3118 - mse: 0.8238 - val_loss: 0.3058 - val_mse: 0.7894\n",
      "Epoch 4/50\n",
      "1081/1081 [==============================] - 249s 230ms/step - loss: 0.2960 - mse: 0.7424 - val_loss: 0.2923 - val_mse: 0.7178\n",
      "Epoch 5/50\n",
      "1081/1081 [==============================] - 249s 230ms/step - loss: 0.2866 - mse: 0.6963 - val_loss: 0.2848 - val_mse: 0.6726\n",
      "Epoch 6/50\n",
      "1081/1081 [==============================] - 249s 230ms/step - loss: 0.2793 - mse: 0.6583 - val_loss: 0.2782 - val_mse: 0.6551\n",
      "Epoch 7/50\n",
      "1081/1081 [==============================] - 249s 230ms/step - loss: 0.2721 - mse: 0.6244 - val_loss: 0.2764 - val_mse: 0.6582\n",
      "Epoch 8/50\n",
      "1081/1081 [==============================] - 249s 230ms/step - loss: 0.2673 - mse: 0.6040 - val_loss: 0.2769 - val_mse: 0.6378\n",
      "Epoch 9/50\n",
      "1081/1081 [==============================] - 249s 230ms/step - loss: 0.2629 - mse: 0.5830 - val_loss: 0.2659 - val_mse: 0.6104\n",
      "Epoch 10/50\n",
      "1081/1081 [==============================] - 249s 230ms/step - loss: 0.2584 - mse: 0.5615 - val_loss: 0.2665 - val_mse: 0.6128\n",
      "Epoch 11/50\n",
      "1081/1081 [==============================] - 249s 230ms/step - loss: 0.2549 - mse: 0.5447 - val_loss: 0.2700 - val_mse: 0.5946\n",
      "Epoch 12/50\n",
      "1081/1081 [==============================] - 249s 230ms/step - loss: 0.2519 - mse: 0.5302 - val_loss: 0.2614 - val_mse: 0.5925\n",
      "Epoch 13/50\n",
      "1081/1081 [==============================] - 249s 230ms/step - loss: 0.2483 - mse: 0.5144 - val_loss: 0.2610 - val_mse: 0.5566\n",
      "Epoch 14/50\n",
      "1081/1081 [==============================] - 249s 230ms/step - loss: 0.2451 - mse: 0.4972 - val_loss: 0.2562 - val_mse: 0.5687\n",
      "Epoch 15/50\n",
      "1081/1081 [==============================] - 249s 230ms/step - loss: 0.2423 - mse: 0.4881 - val_loss: 0.2575 - val_mse: 0.5552\n",
      "Epoch 16/50\n",
      "1081/1081 [==============================] - 249s 230ms/step - loss: 0.2397 - mse: 0.4769 - val_loss: 0.2584 - val_mse: 0.5550\n",
      "Epoch 17/50\n",
      "1081/1081 [==============================] - 249s 230ms/step - loss: 0.2372 - mse: 0.4633 - val_loss: 0.2557 - val_mse: 0.5324\n",
      "Epoch 18/50\n",
      "1081/1081 [==============================] - 249s 230ms/step - loss: 0.2346 - mse: 0.4519 - val_loss: 0.2561 - val_mse: 0.5448\n",
      "Epoch 19/50\n",
      "1081/1081 [==============================] - 249s 230ms/step - loss: 0.2329 - mse: 0.4462 - val_loss: 0.2510 - val_mse: 0.5356\n",
      "Epoch 20/50\n",
      "1081/1081 [==============================] - 249s 230ms/step - loss: 0.2306 - mse: 0.4328 - val_loss: 0.2551 - val_mse: 0.5352\n",
      "Epoch 21/50\n",
      "1081/1081 [==============================] - 249s 230ms/step - loss: 0.2278 - mse: 0.4213 - val_loss: 0.2471 - val_mse: 0.5233\n",
      "Epoch 22/50\n",
      "1081/1081 [==============================] - 249s 230ms/step - loss: 0.2265 - mse: 0.4173 - val_loss: 0.2532 - val_mse: 0.5375\n",
      "Epoch 23/50\n",
      "1081/1081 [==============================] - 249s 230ms/step - loss: 0.2239 - mse: 0.4049 - val_loss: 0.2474 - val_mse: 0.5287\n",
      "Epoch 24/50\n",
      "1081/1081 [==============================] - 249s 230ms/step - loss: 0.2220 - mse: 0.3965 - val_loss: 0.2527 - val_mse: 0.5327\n",
      "Epoch 25/50\n",
      "1081/1081 [==============================] - 249s 230ms/step - loss: 0.2199 - mse: 0.3879 - val_loss: 0.2466 - val_mse: 0.5210\n",
      "Epoch 26/50\n",
      "1081/1081 [==============================] - 249s 230ms/step - loss: 0.2188 - mse: 0.3821 - val_loss: 0.2510 - val_mse: 0.5212\n",
      "Epoch 27/50\n",
      "1081/1081 [==============================] - 249s 230ms/step - loss: 0.2172 - mse: 0.3761 - val_loss: 0.2553 - val_mse: 0.5274\n",
      "Epoch 28/50\n",
      "1081/1081 [==============================] - 249s 230ms/step - loss: 0.2150 - mse: 0.3689 - val_loss: 0.2482 - val_mse: 0.5044\n",
      "Epoch 29/50\n",
      "1081/1081 [==============================] - 249s 230ms/step - loss: 0.2142 - mse: 0.3626 - val_loss: 0.2525 - val_mse: 0.5212\n",
      "Epoch 30/50\n",
      "1081/1081 [==============================] - 249s 230ms/step - loss: 0.2121 - mse: 0.3560 - val_loss: 0.2473 - val_mse: 0.5054\n",
      "Epoch 31/50\n",
      "1081/1081 [==============================] - 249s 230ms/step - loss: 0.2111 - mse: 0.3495 - val_loss: 0.2434 - val_mse: 0.5047\n",
      "Epoch 32/50\n",
      "1081/1081 [==============================] - 249s 230ms/step - loss: 0.2101 - mse: 0.3462 - val_loss: 0.2483 - val_mse: 0.5093\n",
      "Epoch 33/50\n",
      "1081/1081 [==============================] - 249s 230ms/step - loss: 0.2079 - mse: 0.3373 - val_loss: 0.2488 - val_mse: 0.5008\n",
      "Epoch 34/50\n",
      "1081/1081 [==============================] - 249s 230ms/step - loss: 0.2064 - mse: 0.3323 - val_loss: 0.2452 - val_mse: 0.5201\n",
      "Epoch 35/50\n",
      "1081/1081 [==============================] - 249s 230ms/step - loss: 0.2049 - mse: 0.3254 - val_loss: 0.2446 - val_mse: 0.4892\n",
      "Epoch 36/50\n",
      "1081/1081 [==============================] - 249s 230ms/step - loss: 0.2042 - mse: 0.3227 - val_loss: 0.2470 - val_mse: 0.4955\n",
      "Epoch 37/50\n",
      "1081/1081 [==============================] - 249s 230ms/step - loss: 0.2028 - mse: 0.3181 - val_loss: 0.2433 - val_mse: 0.5141\n",
      "Epoch 38/50\n",
      "1081/1081 [==============================] - 249s 230ms/step - loss: 0.2019 - mse: 0.3138 - val_loss: 0.2392 - val_mse: 0.4894\n",
      "Epoch 39/50\n",
      "1081/1081 [==============================] - 249s 230ms/step - loss: 0.2005 - mse: 0.3100 - val_loss: 0.2436 - val_mse: 0.4927\n",
      "Epoch 40/50\n",
      "1081/1081 [==============================] - 249s 230ms/step - loss: 0.1997 - mse: 0.3055 - val_loss: 0.2463 - val_mse: 0.4911\n",
      "Epoch 41/50\n",
      "1081/1081 [==============================] - 249s 230ms/step - loss: 0.1986 - mse: 0.3027 - val_loss: 0.2400 - val_mse: 0.4920\n",
      "Epoch 42/50\n",
      "1081/1081 [==============================] - 249s 230ms/step - loss: 0.1975 - mse: 0.2979 - val_loss: 0.2395 - val_mse: 0.4890\n",
      "Epoch 43/50\n",
      "1081/1081 [==============================] - 249s 230ms/step - loss: 0.1963 - mse: 0.2938 - val_loss: 0.2451 - val_mse: 0.4848\n",
      "Epoch 44/50\n",
      "1081/1081 [==============================] - 249s 230ms/step - loss: 0.1955 - mse: 0.2892 - val_loss: 0.2409 - val_mse: 0.4963\n",
      "Epoch 45/50\n",
      "1081/1081 [==============================] - 249s 230ms/step - loss: 0.1947 - mse: 0.2874 - val_loss: 0.2412 - val_mse: 0.4885\n",
      "Epoch 46/50\n",
      "1081/1081 [==============================] - 249s 230ms/step - loss: 0.1940 - mse: 0.2837 - val_loss: 0.2410 - val_mse: 0.4896\n",
      "Epoch 47/50\n",
      "1081/1081 [==============================] - 249s 230ms/step - loss: 0.1925 - mse: 0.2792 - val_loss: 0.2425 - val_mse: 0.4824\n",
      "Epoch 48/50\n",
      "1081/1081 [==============================] - 249s 230ms/step - loss: 0.1925 - mse: 0.2786 - val_loss: 0.2388 - val_mse: 0.4875\n",
      "Epoch 49/50\n",
      "1081/1081 [==============================] - 249s 230ms/step - loss: 0.1903 - mse: 0.2721 - val_loss: 0.2386 - val_mse: 0.4808\n",
      "Epoch 50/50\n",
      "1081/1081 [==============================] - 249s 230ms/step - loss: 0.1901 - mse: 0.2713 - val_loss: 0.2388 - val_mse: 0.4816\n"
     ]
    }
   ],
   "source": [
    "history = model.fit(x_train, y_train, epo chs=50, verbose=1, validation_data=(x_val, y_val))"
   ]
  },
  {
   "cell_type": "code",
   "execution_count": 8,
   "id": "9b74821c",
   "metadata": {},
   "outputs": [],
   "source": [
    "with open('/opt/datos/entrenamientos/larraondo/trainHistoryDict_unet_val_{}-{}-{}'.format(i, j, k), 'wb') as file_pi:\n",
    "    pickle.dump(history.history, file_pi)"
   ]
  },
  {
   "cell_type": "code",
   "execution_count": 9,
   "id": "e7793995",
   "metadata": {},
   "outputs": [],
   "source": [
    "history = pickle.load( open( \"/opt/datos/entrenamientos/larraondo/trainHistoryDict_unet_val_0-2-6\", \"rb\" ) )"
   ]
  },
  {
   "cell_type": "code",
   "execution_count": 11,
   "id": "9c498db5",
   "metadata": {},
   "outputs": [],
   "source": [
    "import matplotlib.pyplot as plt"
   ]
  },
  {
   "cell_type": "code",
   "execution_count": 14,
   "id": "c1ae0de5",
   "metadata": {},
   "outputs": [
    {
     "name": "stdout",
     "output_type": "stream",
     "text": [
      "~ Dataset dividido correctamente ~\n",
      "val_loss: 0.23882867395877838\n",
      "loss: 0.1906137466430664\n"
     ]
    },
    {
     "data": {
      "image/png": "[encoded data removed]",
      "text/plain": [
       "<Figure size 432x288 with 1 Axes>"
      ]
     },
     "metadata": {
      "needs_background": "light"
     },
     "output_type": "display_data"
    }
   ],
   "source": [
    "print(\"~ Dataset dividido correctamente ~\")\n",
    "print(f\"val_loss: {history['val_loss'][-1]}\")\n",
    "print(f\"loss: {history['loss'][-1]}\")\n",
    "#print(history)\n",
    "plt.plot(history['loss'])\n",
    "plt.plot(history['val_loss'])\n",
    "plt.title('Unet network training 1000-800-400 hPa')\n",
    "plt.ylabel('mean absolute error')\n",
    "plt.xlabel('epoch')\n",
    "plt.legend(['train', 'validation'], loc='upper right')\n",
    "plt.show()"
   ]
  },
  {
   "cell_type": "code",
   "execution_count": 13,
   "id": "4022342a",
   "metadata": {},
   "outputs": [],
   "source": [
    "model.save('/opt/datos/entrenamientos/larraondo/unet_val_0-2-6.h5')"
   ]
  },
  {
   "cell_type": "code",
   "execution_count": null,
   "id": "4ff3abfe",
   "metadata": {},
   "outputs": [],
   "source": [
    "###################################################################################################################"
   ]
  },
  {
   "cell_type": "markdown",
   "id": "43521931",
   "metadata": {},
   "source": [
    "### Dataset GFS recortado (80,120,3), WRF recortado (80,120,1)  "
   ]
  },
  {
   "cell_type": "code",
   "execution_count": 4,
   "id": "8301a548",
   "metadata": {},
   "outputs": [
    {
     "name": "stdout",
     "output_type": "stream",
     "text": [
      "(8350, 80, 120, 3)\n",
      "(1789, 80, 120, 3)\n",
      "(8350, 80, 120, 1)\n",
      "(1789, 80, 120, 1)\n"
     ]
    }
   ],
   "source": [
    "#Carga de datos\n",
    "X_train = np.load(\"/opt/datos/dataset/sin_normalizar/X_train.npy\")\n",
    "X_val   = np.load(\"/opt/datos/dataset/sin_normalizar/X_val.npy\")\n",
    "\n",
    "Y_train = np.load(\"/opt/datos/dataset/milimetros/Y_train.npy\")\n",
    "Y_val   = np.load(\"/opt/datos/dataset/milimetros/Y_val.npy\")\n",
    "\n",
    "\n",
    "# Mueve el eje RGB al ultimo\n",
    "X_train = np.moveaxis(X_train, 1, 3)\n",
    "X_val   = np.moveaxis(X_val, 1, 3)\n",
    "\n",
    "#expande dimension y muevo el eje RGB al ultimo\n",
    "Y_train = np.expand_dims(Y_train, axis=1)\n",
    "Y_val   = np.expand_dims(Y_val, axis=1)\n",
    "Y_train = np.moveaxis(Y_train, 1, 3)\n",
    "Y_val   = np.moveaxis(Y_val, 1, 3)\n",
    "\n",
    "# recorta matrices\n",
    "X_train = X_train[:,0:80,0:120,:]\n",
    "X_val   = X_val[:,0:80,0:120,:]\n",
    "Y_train = Y_train[:,0:80,0:120,:]\n",
    "Y_val   = Y_val[:,0:80,0:120,:]\n",
    "\n",
    "print(X_train.shape)\n",
    "print(X_val.shape)\n",
    "print(Y_train.shape)\n",
    "print(Y_val.shape)\n",
    "\n",
    "i=0 #1000\n",
    "j=3 #700\n",
    "k=5 #500"
   ]
  },
  {
   "cell_type": "markdown",
   "id": "6bf222bf",
   "metadata": {},
   "source": [
    "### Entrenamiento Con nuestro dataset recortado"
   ]
  },
  {
   "cell_type": "code",
   "execution_count": 5,
   "id": "cbac5ad3",
   "metadata": {},
   "outputs": [
    {
     "name": "stdout",
     "output_type": "stream",
     "text": [
      "Epoch 1/50\n",
      "261/261 [==============================] - 95s 305ms/step - loss: 0.3008 - mse: 2.9945 - val_loss: 0.2570 - val_mse: 0.5666\n",
      "Epoch 2/50\n",
      "261/261 [==============================] - 59s 228ms/step - loss: 0.1894 - mse: 3.1403 - val_loss: 0.0576 - val_mse: 0.4813\n",
      "Epoch 3/50\n",
      "261/261 [==============================] - 59s 228ms/step - loss: 0.1812 - mse: 2.9812 - val_loss: 0.0606 - val_mse: 0.4841\n",
      "Epoch 4/50\n",
      "261/261 [==============================] - 59s 228ms/step - loss: 0.1594 - mse: 2.6490 - val_loss: 0.0609 - val_mse: 0.4856\n",
      "Epoch 5/50\n",
      "261/261 [==============================] - 59s 228ms/step - loss: 0.1697 - mse: 2.8739 - val_loss: 0.0624 - val_mse: 0.4842\n",
      "Epoch 6/50\n",
      "261/261 [==============================] - 59s 228ms/step - loss: 0.1648 - mse: 2.7508 - val_loss: 0.0561 - val_mse: 0.4850\n",
      "Epoch 7/50\n",
      "261/261 [==============================] - 59s 228ms/step - loss: 0.1734 - mse: 3.0293 - val_loss: 0.0561 - val_mse: 0.4835\n",
      "Epoch 8/50\n",
      "261/261 [==============================] - 59s 228ms/step - loss: 0.1799 - mse: 3.1749 - val_loss: 0.0590 - val_mse: 0.4815\n",
      "Epoch 9/50\n",
      "261/261 [==============================] - 59s 228ms/step - loss: 0.1613 - mse: 2.8735 - val_loss: 0.0537 - val_mse: 0.4835\n",
      "Epoch 10/50\n",
      "261/261 [==============================] - 59s 228ms/step - loss: 0.1762 - mse: 3.0456 - val_loss: 0.0606 - val_mse: 0.4839\n",
      "Epoch 11/50\n",
      "261/261 [==============================] - 59s 228ms/step - loss: 0.1716 - mse: 3.0472 - val_loss: 0.0577 - val_mse: 0.4817\n",
      "Epoch 12/50\n",
      "261/261 [==============================] - 59s 228ms/step - loss: 0.1657 - mse: 2.6879 - val_loss: 0.0520 - val_mse: 0.4828\n",
      "Epoch 13/50\n",
      "261/261 [==============================] - 59s 228ms/step - loss: 0.1738 - mse: 2.9841 - val_loss: 0.0541 - val_mse: 0.4819\n",
      "Epoch 14/50\n",
      "261/261 [==============================] - 59s 228ms/step - loss: 0.1678 - mse: 2.9534 - val_loss: 0.0584 - val_mse: 0.4844\n",
      "Epoch 15/50\n",
      "261/261 [==============================] - 59s 228ms/step - loss: 0.1708 - mse: 2.8791 - val_loss: 0.0558 - val_mse: 0.4840\n",
      "Epoch 16/50\n",
      "261/261 [==============================] - 59s 228ms/step - loss: 0.1683 - mse: 2.8370 - val_loss: 0.0624 - val_mse: 0.4821\n",
      "Epoch 17/50\n",
      "261/261 [==============================] - 59s 228ms/step - loss: 0.1854 - mse: 3.1812 - val_loss: 0.0543 - val_mse: 0.4816\n",
      "Epoch 18/50\n",
      "261/261 [==============================] - 59s 228ms/step - loss: 0.1715 - mse: 2.9631 - val_loss: 0.0662 - val_mse: 0.4843\n",
      "Epoch 19/50\n",
      "261/261 [==============================] - 59s 228ms/step - loss: 0.1625 - mse: 2.6077 - val_loss: 0.0557 - val_mse: 0.4845\n",
      "Epoch 20/50\n",
      "261/261 [==============================] - 59s 228ms/step - loss: 0.1741 - mse: 2.9387 - val_loss: 0.0609 - val_mse: 0.4853\n",
      "Epoch 21/50\n",
      "261/261 [==============================] - 59s 228ms/step - loss: 0.1548 - mse: 2.5403 - val_loss: 0.0543 - val_mse: 0.4844\n",
      "Epoch 22/50\n",
      "261/261 [==============================] - 59s 228ms/step - loss: 0.1727 - mse: 2.9996 - val_loss: 0.0508 - val_mse: 0.4819\n",
      "Epoch 23/50\n",
      "261/261 [==============================] - 59s 228ms/step - loss: 0.1723 - mse: 3.0080 - val_loss: 0.0496 - val_mse: 0.4819\n",
      "Epoch 24/50\n",
      "261/261 [==============================] - 59s 228ms/step - loss: 0.1601 - mse: 2.7167 - val_loss: 0.0518 - val_mse: 0.4828\n",
      "Epoch 25/50\n",
      "261/261 [==============================] - 59s 228ms/step - loss: 0.1606 - mse: 2.6043 - val_loss: 0.0599 - val_mse: 0.4863\n",
      "Epoch 26/50\n",
      "261/261 [==============================] - 59s 228ms/step - loss: 0.1849 - mse: 3.5393 - val_loss: 0.0537 - val_mse: 0.4840\n",
      "Epoch 27/50\n",
      "261/261 [==============================] - 59s 228ms/step - loss: 0.1662 - mse: 2.8756 - val_loss: 0.0557 - val_mse: 0.4880\n",
      "Epoch 28/50\n",
      "261/261 [==============================] - 59s 228ms/step - loss: 0.1680 - mse: 3.0254 - val_loss: 0.0665 - val_mse: 0.4830\n",
      "Epoch 29/50\n",
      "261/261 [==============================] - 59s 228ms/step - loss: 0.1716 - mse: 3.0458 - val_loss: 0.0545 - val_mse: 0.4817\n",
      "Epoch 30/50\n",
      "261/261 [==============================] - 59s 228ms/step - loss: 0.1721 - mse: 2.8692 - val_loss: 0.0614 - val_mse: 0.4835\n",
      "Epoch 31/50\n",
      "261/261 [==============================] - 59s 228ms/step - loss: 0.1864 - mse: 3.5980 - val_loss: 0.0577 - val_mse: 0.4811\n",
      "Epoch 32/50\n",
      "261/261 [==============================] - 59s 228ms/step - loss: 0.1678 - mse: 2.7245 - val_loss: 0.0600 - val_mse: 0.4811\n",
      "Epoch 33/50\n",
      "261/261 [==============================] - 59s 228ms/step - loss: 0.1661 - mse: 2.8639 - val_loss: 0.0581 - val_mse: 0.4819\n",
      "Epoch 34/50\n",
      "261/261 [==============================] - 59s 228ms/step - loss: 0.1642 - mse: 2.7229 - val_loss: 0.0510 - val_mse: 0.4819\n",
      "Epoch 35/50\n",
      "261/261 [==============================] - 59s 228ms/step - loss: 0.1629 - mse: 2.9146 - val_loss: 0.0531 - val_mse: 0.4834\n",
      "Epoch 36/50\n",
      "261/261 [==============================] - 59s 228ms/step - loss: 0.1768 - mse: 3.0496 - val_loss: 0.0587 - val_mse: 0.4836\n",
      "Epoch 37/50\n",
      "261/261 [==============================] - 59s 228ms/step - loss: 0.1734 - mse: 2.9753 - val_loss: 0.0530 - val_mse: 0.4825\n",
      "Epoch 38/50\n",
      "261/261 [==============================] - 59s 228ms/step - loss: 0.1738 - mse: 3.1184 - val_loss: 0.0631 - val_mse: 0.4837\n",
      "Epoch 39/50\n",
      "261/261 [==============================] - 59s 228ms/step - loss: 0.1749 - mse: 3.0394 - val_loss: 0.0582 - val_mse: 0.4816\n",
      "Epoch 40/50\n",
      "261/261 [==============================] - 59s 228ms/step - loss: 0.1634 - mse: 2.6803 - val_loss: 0.0618 - val_mse: 0.4835\n",
      "Epoch 41/50\n",
      "261/261 [==============================] - 59s 228ms/step - loss: 0.1776 - mse: 3.3495 - val_loss: 0.0655 - val_mse: 0.4843\n",
      "Epoch 42/50\n",
      "261/261 [==============================] - 59s 228ms/step - loss: 0.1662 - mse: 2.8394 - val_loss: 0.0528 - val_mse: 0.4843\n",
      "Epoch 43/50\n",
      "261/261 [==============================] - 59s 228ms/step - loss: 0.1700 - mse: 2.9798 - val_loss: 0.0549 - val_mse: 0.4824\n",
      "Epoch 44/50\n",
      "261/261 [==============================] - 59s 228ms/step - loss: 0.1697 - mse: 2.8453 - val_loss: 0.0566 - val_mse: 0.4813\n",
      "Epoch 45/50\n",
      "261/261 [==============================] - 59s 228ms/step - loss: 0.1687 - mse: 2.8628 - val_loss: 0.0588 - val_mse: 0.4809\n",
      "Epoch 46/50\n",
      "261/261 [==============================] - 59s 228ms/step - loss: 0.1756 - mse: 3.0754 - val_loss: 0.0559 - val_mse: 0.4812\n",
      "Epoch 47/50\n",
      "261/261 [==============================] - 59s 228ms/step - loss: 0.1702 - mse: 2.9069 - val_loss: 0.0617 - val_mse: 0.4837\n",
      "Epoch 48/50\n",
      "261/261 [==============================] - 59s 228ms/step - loss: 0.1677 - mse: 3.0858 - val_loss: 0.0503 - val_mse: 0.4820\n",
      "Epoch 49/50\n",
      "261/261 [==============================] - 59s 228ms/step - loss: 0.1661 - mse: 2.7312 - val_loss: 0.0575 - val_mse: 0.4812\n",
      "Epoch 50/50\n",
      "261/261 [==============================] - 59s 228ms/step - loss: 0.1727 - mse: 2.9198 - val_loss: 0.0521 - val_mse: 0.4817\n"
     ]
    }
   ],
   "source": [
    "history = model.fit(X_train, Y_train, epochs=50, verbose=1, validation_data=(X_val, Y_val))"
   ]
  },
  {
   "cell_type": "code",
   "execution_count": 6,
   "id": "b0b38170",
   "metadata": {},
   "outputs": [],
   "source": [
    "with open('/opt/datos/entrenamientos/trainHistoryDict_unet_recorte_{}-{}-{}'.format(i, j, k), 'wb') as file_pi:\n",
    "    pickle.dump(history.history, file_pi)"
   ]
  },
  {
   "cell_type": "code",
   "execution_count": 7,
   "id": "b6e185d2",
   "metadata": {},
   "outputs": [],
   "source": [
    "history = pickle.load( open( \"/opt/datos/entrenamientos/trainHistoryDict_unet_recorte_0-3-5\", \"rb\" ) )"
   ]
  },
  {
   "cell_type": "code",
   "execution_count": 10,
   "id": "7136969d",
   "metadata": {},
   "outputs": [
    {
     "name": "stdout",
     "output_type": "stream",
     "text": [
      "~ Unet - Dataset GFS-WRF recortado ~\n",
      "val_loss: 0.05210022255778313\n",
      "loss: 0.17011550068855286\n"
     ]
    },
    {
     "data": {
      "image/png": "[encoded data removed]",
      "text/plain": [
       "<Figure size 432x288 with 1 Axes>"
      ]
     },
     "metadata": {
      "needs_background": "light"
     },
     "output_type": "display_data"
    }
   ],
   "source": [
    "print(\"~ Unet - Dataset GFS-WRF recortado ~\")\n",
    "print(f\"val_loss: {history['val_loss'][-1]}\")\n",
    "print(f\"loss: {history['loss'][-1]}\")\n",
    "#print(history)\n",
    "plt.plot(history['loss'])\n",
    "plt.plot(history['val_loss'])\n",
    "plt.title('Unet network training 1000-800-400 hPa')\n",
    "plt.ylabel('mean absolute error')\n",
    "plt.xlabel('epoch')\n",
    "plt.legend(['train', 'validation'], loc='upper right')\n",
    "plt.show()"
   ]
  },
  {
   "cell_type": "code",
   "execution_count": 9,
   "id": "12101623",
   "metadata": {},
   "outputs": [],
   "source": [
    "model.save('/opt/datos/entrenamientos/unet_recorte_0-3-5.h5')"
   ]
  },
  {
   "cell_type": "code",
   "execution_count": null,
   "id": "62b63b93",
   "metadata": {},
   "outputs": [],
   "source": []
  }
 ],
 "metadata": {
  "kernelspec": {
   "display_name": "tf-gpu2",
   "language": "python",
   "name": "tf-gpu2"
  },
  "language_info": {
   "codemirror_mode": {
    "name": "ipython",
    "version": 3
   },
   "file_extension": ".py",
   "mimetype": "text/x-python",
   "name": "python",
   "nbconvert_exporter": "python",
   "pygments_lexer": "ipython3",
   "version": "3.9.5"
  }
 },
 "nbformat": 4,
 "nbformat_minor": 5
}
