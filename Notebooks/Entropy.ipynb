{
 "cells": [
  {
   "cell_type": "code",
   "execution_count": 1,
   "id": "e21b40af",
   "metadata": {},
   "outputs": [],
   "source": [
    "import pandas as pd\n",
    "import numpy as np\n",
    "import cupy as cp\n",
    "import matplotlib.pyplot as plt\n",
    "from tqdm import tqdm"
   ]
  },
  {
   "cell_type": "markdown",
   "id": "a9c55334",
   "metadata": {},
   "source": [
    "### Carga dataset"
   ]
  },
  {
   "cell_type": "code",
   "execution_count": 2,
   "id": "122d51c6",
   "metadata": {},
   "outputs": [
    {
     "name": "stdout",
     "output_type": "stream",
     "text": [
      "X: (11928, 3, 176, 176)\n",
      "Y: (11928, 176, 176)\n"
     ]
    }
   ],
   "source": [
    "SEED = 42\n",
    "np.random.seed(SEED)\n",
    "\n",
    "### X = HGT\n",
    "X_dir = \"/opt/datos/dataset/sin_normalizar/X.npy\"\n",
    "X = np.load(X_dir)\n",
    "\n",
    "print(\"X: %s\" %str(X.shape))\n",
    "\n",
    "### Y = lluvia (mm)\n",
    "Y_dir = \"/opt/datos/dataset/milimetros/Y.npy\"\n",
    "Y = np.load(Y_dir)\n",
    "\n",
    "print(\"Y: %s\" %str(Y.shape))"
   ]
  },
  {
   "cell_type": "markdown",
   "id": "a0b67862",
   "metadata": {},
   "source": [
    "### Normalización y parametros"
   ]
  },
  {
   "cell_type": "code",
   "execution_count": 3,
   "id": "4dea9b36",
   "metadata": {},
   "outputs": [],
   "source": [
    "def params_entropy(u:np.array, m:int, r_rate:float):\n",
    "    \"\"\"        \n",
    "    Calculates approximate entropy (ApEn) of a time series.\n",
    "\n",
    "    Input\n",
    "      u: Raw time series\n",
    "      m: Template length\n",
    "      r_rate: Constant for r compute\n",
    "\n",
    "    Output: \n",
    "      u: Normalized time series\n",
    "      m: Template length\n",
    "      r: Tolerance level\n",
    "    \"\"\"\n",
    "\n",
    "    # Normalize time series\n",
    "    u_mean = np.mean(u)\n",
    "    u_std = np.std(u)\n",
    "    u = u-u_mean/u_std\n",
    "    u = np.array(u)\n",
    "\n",
    "    # Compute r\n",
    "    r = r_rate*u_std\n",
    "\n",
    "    return u, m, r"
   ]
  },
  {
   "cell_type": "code",
   "execution_count": 4,
   "id": "7f871221",
   "metadata": {},
   "outputs": [],
   "source": [
    "from typing import Callable\n",
    "import time\n",
    "\n",
    "def compute_time(func: Callable, u:np.array, m:int, r_rate:float)->float:\n",
    "    \"\"\"        \n",
    "    Calculate execution time of function. \n",
    "    The function parameters are necessary.\n",
    "\n",
    "    Input\n",
    "    func: Function to test\n",
    "    u: Raw time series\n",
    "    m: Template length\n",
    "    r_rate: Tolerance level\n",
    "\n",
    "    Output: \n",
    "    t: Time execution of function\n",
    "    \"\"\"\n",
    "    # start\n",
    "    s = time.time()\n",
    "    # compute\n",
    "    func(u, m, r)\n",
    "    # end\n",
    "    e = time.time()\n",
    "    # result\n",
    "    t = e-s\n",
    "    return t"
   ]
  },
  {
   "cell_type": "markdown",
   "id": "922eb32a",
   "metadata": {},
   "source": [
    "### ApEn"
   ]
  },
  {
   "cell_type": "code",
   "execution_count": 5,
   "id": "41da69fb",
   "metadata": {},
   "outputs": [],
   "source": [
    "def apen_cp(L, m, r) -> float:\n",
    "    \"\"\"        \n",
    "    Calculates approximate entropy (ApEn) of a time series.\n",
    "\n",
    "    Input\n",
    "        L: Time series\n",
    "        m: Template length\n",
    "        r: Tolerance level\n",
    "\n",
    "    Output: \n",
    "        ApEn\n",
    "    \"\"\"\n",
    "  \n",
    "    N = len(L)\n",
    "\n",
    "    # Divide time series and save all templates of length m\n",
    "    xmi = cp.array([L[i:i+m] for i in range(N-m)])\n",
    "    xmj = cp.array([L[i:i+m] for i in range(N-m+1)])\n",
    "\n",
    "    # Compute each B_i            \n",
    "    B = cp.array([cp.sum(cp.abs(xmii-xmj).max(axis=1) <= r) for xmii in xmi])\n",
    "\n",
    "    # Similar method to compute each A_i\n",
    "    m += 1\n",
    "    xm = cp.array([L[i:i+m] for i in range(N-m+1)])\n",
    "\n",
    "    A = cp.array([cp.sum(cp.abs(xmi-xm).max(axis=1) <= r) for xmi in xm])\n",
    "      \n",
    "    # Compute and return ApEn\n",
    "    m -= 1\n",
    "    ApEn = -cp.sum(cp.log(cp.divide(A,B)))/(N-m)\n",
    "    return ApEn"
   ]
  },
  {
   "cell_type": "markdown",
   "id": "e4ffca96",
   "metadata": {},
   "source": [
    "### SampEn"
   ]
  },
  {
   "cell_type": "code",
   "execution_count": 6,
   "id": "c5376001",
   "metadata": {},
   "outputs": [],
   "source": [
    "def sampen_cp(L, m, r):\n",
    "    \"\"\"        \n",
    "    Calculates sample entropy (SampEn) of a time series.\n",
    "\n",
    "    Input\n",
    "        L: Time series\n",
    "        m: Template length\n",
    "        r: Tolerance level\n",
    "\n",
    "    Output: \n",
    "        SampEn\n",
    "    \"\"\"\n",
    "    N = len(L)\n",
    "    B = 0.0\n",
    "    A = 0.0\n",
    "    \n",
    "    # Split time series and save all templates of length m\n",
    "    xmi = cp.array([L[i : i + m] for i in range(N - m)])\n",
    "    xmj = cp.array([L[i : i + m] for i in range(N - m + 1)])\n",
    "\n",
    "    # Save all matches minus the self-match, compute B\n",
    "    B = cp.sum(cp.array([cp.sum(cp.abs(xmii - xmj).max(axis=1) <= r) - 1 for xmii in xmi]))\n",
    "\n",
    "    # Similar for computing A\n",
    "    m += 1\n",
    "    xm = cp.array([L[i : i + m] for i in range(N - m + 1)])\n",
    "\n",
    "    A = cp.sum(cp.array([cp.sum(cp.abs(xmi - xm).max(axis=1) <= r) - 1 for xmi in xm]))\n",
    "\n",
    "    # Return SampEn\n",
    "    return -cp.log(A / B)"
   ]
  },
  {
   "cell_type": "markdown",
   "id": "38865a6b",
   "metadata": {},
   "source": [
    "#### Obtencion Apen y Sapen para datataset"
   ]
  },
  {
   "cell_type": "code",
   "execution_count": 7,
   "id": "47749497",
   "metadata": {},
   "outputs": [
    {
     "name": "stderr",
     "output_type": "stream",
     "text": [
      "\r",
      "  0%|          | 0/50 [00:00<?, ?it/s]"
     ]
    },
    {
     "name": "stdout",
     "output_type": "stream",
     "text": [
      "m:1, r:0.00\n",
      "m:2, r:0.00\n",
      "m:3, r:0.00\n",
      "m:4, r:0.00\n"
     ]
    },
    {
     "name": "stderr",
     "output_type": "stream",
     "text": [
      "\r",
      "  2%|▏         | 1/50 [05:25<4:25:34, 325.20s/it]"
     ]
    },
    {
     "name": "stdout",
     "output_type": "stream",
     "text": [
      "m:1, r:0.22\n",
      "m:2, r:0.22\n",
      "m:3, r:0.22\n",
      "m:4, r:0.22\n"
     ]
    },
    {
     "name": "stderr",
     "output_type": "stream",
     "text": [
      "\r",
      "  4%|▍         | 2/50 [11:02<4:25:43, 332.15s/it]"
     ]
    },
    {
     "name": "stdout",
     "output_type": "stream",
     "text": [
      "m:1, r:0.44\n",
      "m:2, r:0.44\n",
      "m:3, r:0.44\n",
      "m:4, r:0.44\n"
     ]
    },
    {
     "name": "stderr",
     "output_type": "stream",
     "text": [
      "\r",
      "  6%|▌         | 3/50 [16:39<4:21:55, 334.37s/it]"
     ]
    },
    {
     "name": "stdout",
     "output_type": "stream",
     "text": [
      "m:1, r:0.65\n",
      "m:2, r:0.65\n",
      "m:3, r:0.65\n",
      "m:4, r:0.65\n"
     ]
    },
    {
     "name": "stderr",
     "output_type": "stream",
     "text": [
      "\r",
      "  8%|▊         | 4/50 [22:16<4:17:09, 335.42s/it]"
     ]
    },
    {
     "name": "stdout",
     "output_type": "stream",
     "text": [
      "m:1, r:0.87\n",
      "m:2, r:0.87\n",
      "m:3, r:0.87\n",
      "m:4, r:0.87\n"
     ]
    },
    {
     "name": "stderr",
     "output_type": "stream",
     "text": [
      "\r",
      " 10%|█         | 5/50 [27:53<4:11:59, 335.99s/it]"
     ]
    },
    {
     "name": "stdout",
     "output_type": "stream",
     "text": [
      "m:1, r:1.09\n",
      "m:2, r:1.09\n",
      "m:3, r:1.09\n",
      "m:4, r:1.09\n"
     ]
    },
    {
     "name": "stderr",
     "output_type": "stream",
     "text": [
      "\r",
      " 12%|█▏        | 6/50 [33:30<4:06:39, 336.34s/it]"
     ]
    },
    {
     "name": "stdout",
     "output_type": "stream",
     "text": [
      "m:1, r:1.31\n",
      "m:2, r:1.31\n",
      "m:3, r:1.31\n",
      "m:4, r:1.31\n"
     ]
    },
    {
     "name": "stderr",
     "output_type": "stream",
     "text": [
      "\r",
      " 14%|█▍        | 7/50 [39:07<4:01:12, 336.57s/it]"
     ]
    },
    {
     "name": "stdout",
     "output_type": "stream",
     "text": [
      "m:1, r:1.53\n",
      "m:2, r:1.53\n",
      "m:3, r:1.53\n",
      "m:4, r:1.53\n"
     ]
    },
    {
     "name": "stderr",
     "output_type": "stream",
     "text": [
      "\r",
      " 16%|█▌        | 8/50 [44:44<3:55:42, 336.72s/it]"
     ]
    },
    {
     "name": "stdout",
     "output_type": "stream",
     "text": [
      "m:1, r:1.74\n",
      "m:2, r:1.74\n",
      "m:3, r:1.74\n",
      "m:4, r:1.74\n"
     ]
    },
    {
     "name": "stderr",
     "output_type": "stream",
     "text": [
      "\r",
      " 18%|█▊        | 9/50 [50:21<3:50:09, 336.82s/it]"
     ]
    },
    {
     "name": "stdout",
     "output_type": "stream",
     "text": [
      "m:1, r:1.96\n",
      "m:2, r:1.96\n",
      "m:3, r:1.96\n",
      "m:4, r:1.96\n"
     ]
    },
    {
     "name": "stderr",
     "output_type": "stream",
     "text": [
      "\r",
      " 20%|██        | 10/50 [55:58<3:44:35, 336.89s/it]"
     ]
    },
    {
     "name": "stdout",
     "output_type": "stream",
     "text": [
      "m:1, r:2.18\n",
      "m:2, r:2.18\n",
      "m:3, r:2.18\n",
      "m:4, r:2.18\n"
     ]
    },
    {
     "name": "stderr",
     "output_type": "stream",
     "text": [
      "\r",
      " 22%|██▏       | 11/50 [1:01:35<3:39:00, 336.94s/it]"
     ]
    },
    {
     "name": "stdout",
     "output_type": "stream",
     "text": [
      "m:1, r:2.40\n",
      "m:2, r:2.40\n",
      "m:3, r:2.40\n",
      "m:4, r:2.40\n"
     ]
    },
    {
     "name": "stderr",
     "output_type": "stream",
     "text": [
      "\r",
      " 24%|██▍       | 12/50 [1:07:12<3:33:25, 336.97s/it]"
     ]
    },
    {
     "name": "stdout",
     "output_type": "stream",
     "text": [
      "m:1, r:2.62\n",
      "m:2, r:2.62\n",
      "m:3, r:2.62\n",
      "m:4, r:2.62\n"
     ]
    },
    {
     "name": "stderr",
     "output_type": "stream",
     "text": [
      "\r",
      " 26%|██▌       | 13/50 [1:12:49<3:27:49, 337.00s/it]"
     ]
    },
    {
     "name": "stdout",
     "output_type": "stream",
     "text": [
      "m:1, r:2.83\n",
      "m:2, r:2.83\n",
      "m:3, r:2.83\n",
      "m:4, r:2.83\n"
     ]
    },
    {
     "name": "stderr",
     "output_type": "stream",
     "text": [
      "\r",
      " 28%|██▊       | 14/50 [1:18:26<3:22:12, 337.01s/it]"
     ]
    },
    {
     "name": "stdout",
     "output_type": "stream",
     "text": [
      "m:1, r:3.05\n",
      "m:2, r:3.05\n",
      "m:3, r:3.05\n",
      "m:4, r:3.05\n"
     ]
    },
    {
     "name": "stderr",
     "output_type": "stream",
     "text": [
      "\r",
      " 30%|███       | 15/50 [1:24:03<3:16:35, 337.00s/it]"
     ]
    },
    {
     "name": "stdout",
     "output_type": "stream",
     "text": [
      "m:1, r:3.27\n",
      "m:2, r:3.27\n",
      "m:3, r:3.27\n",
      "m:4, r:3.27\n"
     ]
    },
    {
     "name": "stderr",
     "output_type": "stream",
     "text": [
      "\r",
      " 32%|███▏      | 16/50 [1:29:40<3:10:58, 337.00s/it]"
     ]
    },
    {
     "name": "stdout",
     "output_type": "stream",
     "text": [
      "m:1, r:3.49\n",
      "m:2, r:3.49\n",
      "m:3, r:3.49\n",
      "m:4, r:3.49\n"
     ]
    },
    {
     "name": "stderr",
     "output_type": "stream",
     "text": [
      "\r",
      " 34%|███▍      | 17/50 [1:35:17<3:05:21, 337.01s/it]"
     ]
    },
    {
     "name": "stdout",
     "output_type": "stream",
     "text": [
      "m:1, r:3.71\n",
      "m:2, r:3.71\n",
      "m:3, r:3.71\n",
      "m:4, r:3.71\n"
     ]
    },
    {
     "name": "stderr",
     "output_type": "stream",
     "text": [
      "\r",
      " 36%|███▌      | 18/50 [1:40:54<2:59:44, 337.01s/it]"
     ]
    },
    {
     "name": "stdout",
     "output_type": "stream",
     "text": [
      "m:1, r:3.92\n",
      "m:2, r:3.92\n",
      "m:3, r:3.92\n",
      "m:4, r:3.92\n"
     ]
    },
    {
     "name": "stderr",
     "output_type": "stream",
     "text": [
      "\r",
      " 38%|███▊      | 19/50 [1:46:31<2:54:07, 337.02s/it]"
     ]
    },
    {
     "name": "stdout",
     "output_type": "stream",
     "text": [
      "m:1, r:4.14\n",
      "m:2, r:4.14\n",
      "m:3, r:4.14\n",
      "m:4, r:4.14\n"
     ]
    },
    {
     "name": "stderr",
     "output_type": "stream",
     "text": [
      "\r",
      " 40%|████      | 20/50 [1:52:08<2:48:30, 337.03s/it]"
     ]
    },
    {
     "name": "stdout",
     "output_type": "stream",
     "text": [
      "m:1, r:4.36\n",
      "m:2, r:4.36\n",
      "m:3, r:4.36\n",
      "m:4, r:4.36\n"
     ]
    },
    {
     "name": "stderr",
     "output_type": "stream",
     "text": [
      "\r",
      " 42%|████▏     | 21/50 [1:57:45<2:42:54, 337.04s/it]"
     ]
    },
    {
     "name": "stdout",
     "output_type": "stream",
     "text": [
      "m:1, r:4.58\n",
      "m:2, r:4.58\n",
      "m:3, r:4.58\n",
      "m:4, r:4.58\n"
     ]
    },
    {
     "name": "stderr",
     "output_type": "stream",
     "text": [
      "\r",
      " 44%|████▍     | 22/50 [2:03:22<2:37:16, 337.03s/it]"
     ]
    },
    {
     "name": "stdout",
     "output_type": "stream",
     "text": [
      "m:1, r:4.80\n",
      "m:2, r:4.80\n",
      "m:3, r:4.80\n",
      "m:4, r:4.80\n"
     ]
    },
    {
     "name": "stderr",
     "output_type": "stream",
     "text": [
      "\r",
      " 46%|████▌     | 23/50 [2:08:59<2:31:39, 337.02s/it]"
     ]
    },
    {
     "name": "stdout",
     "output_type": "stream",
     "text": [
      "m:1, r:5.01\n",
      "m:2, r:5.01\n",
      "m:3, r:5.01\n",
      "m:4, r:5.01\n"
     ]
    },
    {
     "name": "stderr",
     "output_type": "stream",
     "text": [
      "\r",
      " 48%|████▊     | 24/50 [2:14:36<2:26:02, 337.02s/it]"
     ]
    },
    {
     "name": "stdout",
     "output_type": "stream",
     "text": [
      "m:1, r:5.23\n",
      "m:2, r:5.23\n",
      "m:3, r:5.23\n",
      "m:4, r:5.23\n"
     ]
    },
    {
     "name": "stderr",
     "output_type": "stream",
     "text": [
      "\r",
      " 50%|█████     | 25/50 [2:20:13<2:20:25, 337.02s/it]"
     ]
    },
    {
     "name": "stdout",
     "output_type": "stream",
     "text": [
      "m:1, r:5.45\n",
      "m:2, r:5.45\n",
      "m:3, r:5.45\n",
      "m:4, r:5.45\n"
     ]
    },
    {
     "name": "stderr",
     "output_type": "stream",
     "text": [
      "\r",
      " 52%|█████▏    | 26/50 [2:25:50<2:14:48, 337.02s/it]"
     ]
    },
    {
     "name": "stdout",
     "output_type": "stream",
     "text": [
      "m:1, r:5.67\n",
      "m:2, r:5.67\n",
      "m:3, r:5.67\n",
      "m:4, r:5.67\n"
     ]
    },
    {
     "name": "stderr",
     "output_type": "stream",
     "text": [
      "\r",
      " 54%|█████▍    | 27/50 [2:31:27<2:09:11, 337.02s/it]"
     ]
    },
    {
     "name": "stdout",
     "output_type": "stream",
     "text": [
      "m:1, r:5.89\n",
      "m:2, r:5.89\n",
      "m:3, r:5.89\n",
      "m:4, r:5.89\n"
     ]
    },
    {
     "name": "stderr",
     "output_type": "stream",
     "text": [
      "\r",
      " 56%|█████▌    | 28/50 [2:37:04<2:03:34, 337.01s/it]"
     ]
    },
    {
     "name": "stdout",
     "output_type": "stream",
     "text": [
      "m:1, r:6.10\n",
      "m:2, r:6.10\n",
      "m:3, r:6.10\n",
      "m:4, r:6.10\n"
     ]
    },
    {
     "name": "stderr",
     "output_type": "stream",
     "text": [
      "\r",
      " 58%|█████▊    | 29/50 [2:42:41<1:57:57, 337.02s/it]"
     ]
    },
    {
     "name": "stdout",
     "output_type": "stream",
     "text": [
      "m:1, r:6.32\n",
      "m:2, r:6.32\n",
      "m:3, r:6.32\n",
      "m:4, r:6.32\n"
     ]
    },
    {
     "name": "stderr",
     "output_type": "stream",
     "text": [
      "\r",
      " 60%|██████    | 30/50 [2:48:18<1:52:20, 337.02s/it]"
     ]
    },
    {
     "name": "stdout",
     "output_type": "stream",
     "text": [
      "m:1, r:6.54\n",
      "m:2, r:6.54\n",
      "m:3, r:6.54\n",
      "m:4, r:6.54\n"
     ]
    },
    {
     "name": "stderr",
     "output_type": "stream",
     "text": [
      "\r",
      " 62%|██████▏   | 31/50 [2:53:55<1:46:43, 337.02s/it]"
     ]
    },
    {
     "name": "stdout",
     "output_type": "stream",
     "text": [
      "m:1, r:6.76\n",
      "m:2, r:6.76\n",
      "m:3, r:6.76\n",
      "m:4, r:6.76\n"
     ]
    },
    {
     "name": "stderr",
     "output_type": "stream",
     "text": [
      "\r",
      " 64%|██████▍   | 32/50 [2:59:33<1:41:06, 337.03s/it]"
     ]
    },
    {
     "name": "stdout",
     "output_type": "stream",
     "text": [
      "m:1, r:6.98\n",
      "m:2, r:6.98\n",
      "m:3, r:6.98\n",
      "m:4, r:6.98\n"
     ]
    },
    {
     "name": "stderr",
     "output_type": "stream",
     "text": [
      "\r",
      " 66%|██████▌   | 33/50 [3:05:10<1:35:29, 337.03s/it]"
     ]
    },
    {
     "name": "stdout",
     "output_type": "stream",
     "text": [
      "m:1, r:7.19\n",
      "m:2, r:7.19\n",
      "m:3, r:7.19\n",
      "m:4, r:7.19\n"
     ]
    },
    {
     "name": "stderr",
     "output_type": "stream",
     "text": [
      "\r",
      " 68%|██████▊   | 34/50 [3:10:47<1:29:52, 337.04s/it]"
     ]
    },
    {
     "name": "stdout",
     "output_type": "stream",
     "text": [
      "m:1, r:7.41\n",
      "m:2, r:7.41\n",
      "m:3, r:7.41\n",
      "m:4, r:7.41\n"
     ]
    },
    {
     "name": "stderr",
     "output_type": "stream",
     "text": [
      "\r",
      " 70%|███████   | 35/50 [3:16:24<1:24:15, 337.05s/it]"
     ]
    },
    {
     "name": "stdout",
     "output_type": "stream",
     "text": [
      "m:1, r:7.63\n",
      "m:2, r:7.63\n",
      "m:3, r:7.63\n",
      "m:4, r:7.63\n"
     ]
    },
    {
     "name": "stderr",
     "output_type": "stream",
     "text": [
      "\r",
      " 72%|███████▏  | 36/50 [3:22:01<1:18:38, 337.05s/it]"
     ]
    },
    {
     "name": "stdout",
     "output_type": "stream",
     "text": [
      "m:1, r:7.85\n",
      "m:2, r:7.85\n",
      "m:3, r:7.85\n",
      "m:4, r:7.85\n"
     ]
    },
    {
     "name": "stderr",
     "output_type": "stream",
     "text": [
      "\r",
      " 74%|███████▍  | 37/50 [3:27:38<1:13:01, 337.05s/it]"
     ]
    },
    {
     "name": "stdout",
     "output_type": "stream",
     "text": [
      "m:1, r:8.07\n",
      "m:2, r:8.07\n",
      "m:3, r:8.07\n",
      "m:4, r:8.07\n"
     ]
    },
    {
     "name": "stderr",
     "output_type": "stream",
     "text": [
      "\r",
      " 76%|███████▌  | 38/50 [3:33:15<1:07:24, 337.06s/it]"
     ]
    },
    {
     "name": "stdout",
     "output_type": "stream",
     "text": [
      "m:1, r:8.28\n",
      "m:2, r:8.28\n",
      "m:3, r:8.28\n",
      "m:4, r:8.28\n"
     ]
    },
    {
     "name": "stderr",
     "output_type": "stream",
     "text": [
      "\r",
      " 78%|███████▊  | 39/50 [3:38:52<1:01:47, 337.06s/it]"
     ]
    },
    {
     "name": "stdout",
     "output_type": "stream",
     "text": [
      "m:1, r:8.50\n",
      "m:2, r:8.50\n",
      "m:3, r:8.50\n",
      "m:4, r:8.50\n"
     ]
    },
    {
     "name": "stderr",
     "output_type": "stream",
     "text": [
      "\r",
      " 80%|████████  | 40/50 [3:44:29<56:10, 337.05s/it]  "
     ]
    },
    {
     "name": "stdout",
     "output_type": "stream",
     "text": [
      "m:1, r:8.72\n",
      "m:2, r:8.72\n",
      "m:3, r:8.72\n",
      "m:4, r:8.72\n"
     ]
    },
    {
     "name": "stderr",
     "output_type": "stream",
     "text": [
      "\r",
      " 82%|████████▏ | 41/50 [3:50:06<50:33, 337.05s/it]"
     ]
    },
    {
     "name": "stdout",
     "output_type": "stream",
     "text": [
      "m:1, r:8.94\n",
      "m:2, r:8.94\n",
      "m:3, r:8.94\n",
      "m:4, r:8.94\n"
     ]
    },
    {
     "name": "stderr",
     "output_type": "stream",
     "text": [
      "\r",
      " 84%|████████▍ | 42/50 [3:55:43<44:56, 337.04s/it]"
     ]
    },
    {
     "name": "stdout",
     "output_type": "stream",
     "text": [
      "m:1, r:9.16\n",
      "m:2, r:9.16\n",
      "m:3, r:9.16\n",
      "m:4, r:9.16\n"
     ]
    },
    {
     "name": "stderr",
     "output_type": "stream",
     "text": [
      "\r",
      " 86%|████████▌ | 43/50 [4:01:20<39:19, 337.04s/it]"
     ]
    },
    {
     "name": "stdout",
     "output_type": "stream",
     "text": [
      "m:1, r:9.37\n",
      "m:2, r:9.37\n",
      "m:3, r:9.37\n",
      "m:4, r:9.37\n"
     ]
    },
    {
     "name": "stderr",
     "output_type": "stream",
     "text": [
      "\r",
      " 88%|████████▊ | 44/50 [4:06:57<33:42, 337.05s/it]"
     ]
    },
    {
     "name": "stdout",
     "output_type": "stream",
     "text": [
      "m:1, r:9.59\n",
      "m:2, r:9.59\n",
      "m:3, r:9.59\n",
      "m:4, r:9.59\n"
     ]
    },
    {
     "name": "stderr",
     "output_type": "stream",
     "text": [
      "\r",
      " 90%|█████████ | 45/50 [4:12:34<28:05, 337.04s/it]"
     ]
    },
    {
     "name": "stdout",
     "output_type": "stream",
     "text": [
      "m:1, r:9.81\n",
      "m:2, r:9.81\n",
      "m:3, r:9.81\n",
      "m:4, r:9.81\n"
     ]
    },
    {
     "name": "stderr",
     "output_type": "stream",
     "text": [
      "\r",
      " 92%|█████████▏| 46/50 [4:18:11<22:28, 337.03s/it]"
     ]
    },
    {
     "name": "stdout",
     "output_type": "stream",
     "text": [
      "m:1, r:10.03\n",
      "m:2, r:10.03\n",
      "m:3, r:10.03\n",
      "m:4, r:10.03\n"
     ]
    },
    {
     "name": "stderr",
     "output_type": "stream",
     "text": [
      "\r",
      " 94%|█████████▍| 47/50 [4:23:48<16:51, 337.04s/it]"
     ]
    },
    {
     "name": "stdout",
     "output_type": "stream",
     "text": [
      "m:1, r:10.25\n",
      "m:2, r:10.25\n",
      "m:3, r:10.25\n",
      "m:4, r:10.25\n"
     ]
    },
    {
     "name": "stderr",
     "output_type": "stream",
     "text": [
      "\r",
      " 96%|█████████▌| 48/50 [4:29:25<11:14, 337.05s/it]"
     ]
    },
    {
     "name": "stdout",
     "output_type": "stream",
     "text": [
      "m:1, r:10.46\n",
      "m:2, r:10.46\n",
      "m:3, r:10.46\n",
      "m:4, r:10.46\n"
     ]
    },
    {
     "name": "stderr",
     "output_type": "stream",
     "text": [
      "\r",
      " 98%|█████████▊| 49/50 [4:35:02<05:37, 337.06s/it]"
     ]
    },
    {
     "name": "stdout",
     "output_type": "stream",
     "text": [
      "m:1, r:10.68\n",
      "m:2, r:10.68\n",
      "m:3, r:10.68\n",
      "m:4, r:10.68\n"
     ]
    },
    {
     "name": "stderr",
     "output_type": "stream",
     "text": [
      "100%|██████████| 50/50 [4:40:39<00:00, 336.80s/it]\n"
     ]
    }
   ],
   "source": [
    "from tqdm import tqdm\n",
    "\n",
    "r_min = 0.0\n",
    "r_max = 0.25\n",
    "m_min = 1\n",
    "m_max = 4\n",
    "\n",
    "SLICES = 50\n",
    "my_list = []\n",
    "\n",
    "# entropy frame\n",
    "ef = X[0:500,2,:,:]\n",
    "#ef = fsi.DEF\n",
    "#ef = df.pollution\n",
    "N_SAMPLES = len(ef)\n",
    "\n",
    "for r in tqdm(np.linspace(r_min, r_max, SLICES)):\n",
    "    for m in range(m_min, m_max+1):\n",
    "        u, m_value, r_value = params_entropy(ef[:N_SAMPLES], m, r)\n",
    "        print(f'm:{m_value}, r:{r_value:.2f}')\n",
    "        my_list.append([m,\n",
    "                        r_value,\n",
    "                        apen_cp(u,m_value,r_value),\n",
    "                        sampen_cp(u,m_value,r_value)])"
   ]
  },
  {
   "cell_type": "code",
   "execution_count": 7,
   "id": "92232e88",
   "metadata": {},
   "outputs": [
    {
     "name": "stderr",
     "output_type": "stream",
     "text": [
      "\r",
      "  0%|          | 0/50 [00:00<?, ?it/s]"
     ]
    },
    {
     "name": "stdout",
     "output_type": "stream",
     "text": [
      "m:1, r:0.00\n",
      "m:2, r:0.00\n",
      "m:3, r:0.00\n",
      "m:4, r:0.00\n"
     ]
    },
    {
     "name": "stderr",
     "output_type": "stream",
     "text": [
      "\r",
      "  2%|▏         | 1/50 [00:22<18:19, 22.43s/it]"
     ]
    },
    {
     "name": "stdout",
     "output_type": "stream",
     "text": [
      "m:1, r:0.36\n",
      "m:2, r:0.36\n",
      "m:3, r:0.36\n",
      "m:4, r:0.36\n"
     ]
    },
    {
     "name": "stderr",
     "output_type": "stream",
     "text": [
      "\r",
      "  4%|▍         | 2/50 [00:44<17:40, 22.10s/it]"
     ]
    },
    {
     "name": "stdout",
     "output_type": "stream",
     "text": [
      "m:1, r:0.73\n",
      "m:2, r:0.73\n",
      "m:3, r:0.73\n",
      "m:4, r:0.73\n"
     ]
    },
    {
     "name": "stderr",
     "output_type": "stream",
     "text": [
      "\r",
      "  6%|▌         | 3/50 [01:06<17:15, 22.02s/it]"
     ]
    },
    {
     "name": "stdout",
     "output_type": "stream",
     "text": [
      "m:1, r:1.09\n",
      "m:2, r:1.09\n",
      "m:3, r:1.09\n",
      "m:4, r:1.09\n"
     ]
    },
    {
     "name": "stderr",
     "output_type": "stream",
     "text": [
      "\r",
      "  8%|▊         | 4/50 [01:28<16:51, 21.99s/it]"
     ]
    },
    {
     "name": "stdout",
     "output_type": "stream",
     "text": [
      "m:1, r:1.46\n",
      "m:2, r:1.46\n",
      "m:3, r:1.46\n",
      "m:4, r:1.46\n"
     ]
    },
    {
     "name": "stderr",
     "output_type": "stream",
     "text": [
      "\r",
      " 10%|█         | 5/50 [01:50<16:28, 21.97s/it]"
     ]
    },
    {
     "name": "stdout",
     "output_type": "stream",
     "text": [
      "m:1, r:1.82\n",
      "m:2, r:1.82\n",
      "m:3, r:1.82\n",
      "m:4, r:1.82\n"
     ]
    },
    {
     "name": "stderr",
     "output_type": "stream",
     "text": [
      "\r",
      " 12%|█▏        | 6/50 [02:12<16:07, 21.98s/it]"
     ]
    },
    {
     "name": "stdout",
     "output_type": "stream",
     "text": [
      "m:1, r:2.18\n",
      "m:2, r:2.18\n",
      "m:3, r:2.18\n",
      "m:4, r:2.18\n"
     ]
    },
    {
     "name": "stderr",
     "output_type": "stream",
     "text": [
      "\r",
      " 14%|█▍        | 7/50 [02:34<15:44, 21.96s/it]"
     ]
    },
    {
     "name": "stdout",
     "output_type": "stream",
     "text": [
      "m:1, r:2.55\n",
      "m:2, r:2.55\n",
      "m:3, r:2.55\n",
      "m:4, r:2.55\n"
     ]
    },
    {
     "name": "stderr",
     "output_type": "stream",
     "text": [
      "\r",
      " 16%|█▌        | 8/50 [02:55<15:20, 21.92s/it]"
     ]
    },
    {
     "name": "stdout",
     "output_type": "stream",
     "text": [
      "m:1, r:2.91\n",
      "m:2, r:2.91\n",
      "m:3, r:2.91\n",
      "m:4, r:2.91\n"
     ]
    },
    {
     "name": "stderr",
     "output_type": "stream",
     "text": [
      "\r",
      " 18%|█▊        | 9/50 [03:17<14:59, 21.95s/it]"
     ]
    },
    {
     "name": "stdout",
     "output_type": "stream",
     "text": [
      "m:1, r:3.28\n",
      "m:2, r:3.28\n",
      "m:3, r:3.28\n",
      "m:4, r:3.28\n"
     ]
    },
    {
     "name": "stderr",
     "output_type": "stream",
     "text": [
      "\r",
      " 20%|██        | 10/50 [03:39<14:37, 21.94s/it]"
     ]
    },
    {
     "name": "stdout",
     "output_type": "stream",
     "text": [
      "m:1, r:3.64\n",
      "m:2, r:3.64\n",
      "m:3, r:3.64\n",
      "m:4, r:3.64\n"
     ]
    },
    {
     "name": "stderr",
     "output_type": "stream",
     "text": [
      "\r",
      " 22%|██▏       | 11/50 [04:01<14:15, 21.94s/it]"
     ]
    },
    {
     "name": "stdout",
     "output_type": "stream",
     "text": [
      "m:1, r:4.00\n",
      "m:2, r:4.00\n",
      "m:3, r:4.00\n",
      "m:4, r:4.00\n"
     ]
    },
    {
     "name": "stderr",
     "output_type": "stream",
     "text": [
      "\r",
      " 24%|██▍       | 12/50 [04:23<13:53, 21.95s/it]"
     ]
    },
    {
     "name": "stdout",
     "output_type": "stream",
     "text": [
      "m:1, r:4.37\n",
      "m:2, r:4.37\n",
      "m:3, r:4.37\n",
      "m:4, r:4.37\n"
     ]
    },
    {
     "name": "stderr",
     "output_type": "stream",
     "text": [
      "\r",
      " 26%|██▌       | 13/50 [04:45<13:31, 21.92s/it]"
     ]
    },
    {
     "name": "stdout",
     "output_type": "stream",
     "text": [
      "m:1, r:4.73\n",
      "m:2, r:4.73\n",
      "m:3, r:4.73\n",
      "m:4, r:4.73\n"
     ]
    },
    {
     "name": "stderr",
     "output_type": "stream",
     "text": [
      "\r",
      " 28%|██▊       | 14/50 [05:07<13:09, 21.92s/it]"
     ]
    },
    {
     "name": "stdout",
     "output_type": "stream",
     "text": [
      "m:1, r:5.10\n",
      "m:2, r:5.10\n",
      "m:3, r:5.10\n",
      "m:4, r:5.10\n"
     ]
    },
    {
     "name": "stderr",
     "output_type": "stream",
     "text": [
      "\r",
      " 30%|███       | 15/50 [05:29<12:47, 21.94s/it]"
     ]
    },
    {
     "name": "stdout",
     "output_type": "stream",
     "text": [
      "m:1, r:5.46\n",
      "m:2, r:5.46\n",
      "m:3, r:5.46\n",
      "m:4, r:5.46\n"
     ]
    },
    {
     "name": "stderr",
     "output_type": "stream",
     "text": [
      "\r",
      " 32%|███▏      | 16/50 [05:51<12:25, 21.94s/it]"
     ]
    },
    {
     "name": "stdout",
     "output_type": "stream",
     "text": [
      "m:1, r:5.83\n",
      "m:2, r:5.83\n",
      "m:3, r:5.83\n",
      "m:4, r:5.83\n"
     ]
    },
    {
     "name": "stderr",
     "output_type": "stream",
     "text": [
      "\r",
      " 34%|███▍      | 17/50 [06:13<12:04, 21.96s/it]"
     ]
    },
    {
     "name": "stdout",
     "output_type": "stream",
     "text": [
      "m:1, r:6.19\n",
      "m:2, r:6.19\n",
      "m:3, r:6.19\n",
      "m:4, r:6.19\n"
     ]
    },
    {
     "name": "stderr",
     "output_type": "stream",
     "text": [
      "\r",
      " 36%|███▌      | 18/50 [06:35<11:42, 21.96s/it]"
     ]
    },
    {
     "name": "stdout",
     "output_type": "stream",
     "text": [
      "m:1, r:6.55\n",
      "m:2, r:6.55\n",
      "m:3, r:6.55\n",
      "m:4, r:6.55\n"
     ]
    },
    {
     "name": "stderr",
     "output_type": "stream",
     "text": [
      "\r",
      " 38%|███▊      | 19/50 [06:57<11:19, 21.93s/it]"
     ]
    },
    {
     "name": "stdout",
     "output_type": "stream",
     "text": [
      "m:1, r:6.92\n",
      "m:2, r:6.92\n",
      "m:3, r:6.92\n",
      "m:4, r:6.92\n"
     ]
    },
    {
     "name": "stderr",
     "output_type": "stream",
     "text": [
      "\r",
      " 40%|████      | 20/50 [07:19<10:58, 21.94s/it]"
     ]
    },
    {
     "name": "stdout",
     "output_type": "stream",
     "text": [
      "m:1, r:7.28\n",
      "m:2, r:7.28\n",
      "m:3, r:7.28\n",
      "m:4, r:7.28\n"
     ]
    },
    {
     "name": "stderr",
     "output_type": "stream",
     "text": [
      "\r",
      " 42%|████▏     | 21/50 [07:41<10:36, 21.93s/it]"
     ]
    },
    {
     "name": "stdout",
     "output_type": "stream",
     "text": [
      "m:1, r:7.65\n",
      "m:2, r:7.65\n",
      "m:3, r:7.65\n",
      "m:4, r:7.65\n"
     ]
    },
    {
     "name": "stderr",
     "output_type": "stream",
     "text": [
      "\r",
      " 44%|████▍     | 22/50 [08:03<10:14, 21.94s/it]"
     ]
    },
    {
     "name": "stdout",
     "output_type": "stream",
     "text": [
      "m:1, r:8.01\n",
      "m:2, r:8.01\n",
      "m:3, r:8.01\n",
      "m:4, r:8.01\n"
     ]
    },
    {
     "name": "stderr",
     "output_type": "stream",
     "text": [
      "\r",
      " 46%|████▌     | 23/50 [08:25<09:52, 21.95s/it]"
     ]
    },
    {
     "name": "stdout",
     "output_type": "stream",
     "text": [
      "m:1, r:8.37\n",
      "m:2, r:8.37\n",
      "m:3, r:8.37\n",
      "m:4, r:8.37\n"
     ]
    },
    {
     "name": "stderr",
     "output_type": "stream",
     "text": [
      "\r",
      " 48%|████▊     | 24/50 [08:46<09:30, 21.93s/it]"
     ]
    },
    {
     "name": "stdout",
     "output_type": "stream",
     "text": [
      "m:1, r:8.74\n",
      "m:2, r:8.74\n",
      "m:3, r:8.74\n",
      "m:4, r:8.74\n"
     ]
    },
    {
     "name": "stderr",
     "output_type": "stream",
     "text": [
      "\r",
      " 50%|█████     | 25/50 [09:08<09:08, 21.92s/it]"
     ]
    },
    {
     "name": "stdout",
     "output_type": "stream",
     "text": [
      "m:1, r:9.10\n",
      "m:2, r:9.10\n",
      "m:3, r:9.10\n",
      "m:4, r:9.10\n"
     ]
    },
    {
     "name": "stderr",
     "output_type": "stream",
     "text": [
      "\r",
      " 52%|█████▏    | 26/50 [09:30<08:46, 21.93s/it]"
     ]
    },
    {
     "name": "stdout",
     "output_type": "stream",
     "text": [
      "m:1, r:9.47\n",
      "m:2, r:9.47\n",
      "m:3, r:9.47\n",
      "m:4, r:9.47\n"
     ]
    },
    {
     "name": "stderr",
     "output_type": "stream",
     "text": [
      "\r",
      " 54%|█████▍    | 27/50 [09:52<08:24, 21.93s/it]"
     ]
    },
    {
     "name": "stdout",
     "output_type": "stream",
     "text": [
      "m:1, r:9.83\n",
      "m:2, r:9.83\n",
      "m:3, r:9.83\n",
      "m:4, r:9.83\n"
     ]
    },
    {
     "name": "stderr",
     "output_type": "stream",
     "text": [
      "\r",
      " 56%|█████▌    | 28/50 [10:14<08:02, 21.95s/it]"
     ]
    },
    {
     "name": "stdout",
     "output_type": "stream",
     "text": [
      "m:1, r:10.19\n",
      "m:2, r:10.19\n",
      "m:3, r:10.19\n",
      "m:4, r:10.19\n"
     ]
    },
    {
     "name": "stderr",
     "output_type": "stream",
     "text": [
      "\r",
      " 58%|█████▊    | 29/50 [10:36<07:40, 21.94s/it]"
     ]
    },
    {
     "name": "stdout",
     "output_type": "stream",
     "text": [
      "m:1, r:10.56\n",
      "m:2, r:10.56\n",
      "m:3, r:10.56\n",
      "m:4, r:10.56\n"
     ]
    },
    {
     "name": "stderr",
     "output_type": "stream",
     "text": [
      "\r",
      " 60%|██████    | 30/50 [10:58<07:18, 21.92s/it]"
     ]
    },
    {
     "name": "stdout",
     "output_type": "stream",
     "text": [
      "m:1, r:10.92\n",
      "m:2, r:10.92\n",
      "m:3, r:10.92\n",
      "m:4, r:10.92\n"
     ]
    },
    {
     "name": "stderr",
     "output_type": "stream",
     "text": [
      "\r",
      " 62%|██████▏   | 31/50 [11:20<06:57, 21.95s/it]"
     ]
    },
    {
     "name": "stdout",
     "output_type": "stream",
     "text": [
      "m:1, r:11.29\n",
      "m:2, r:11.29\n",
      "m:3, r:11.29\n",
      "m:4, r:11.29\n"
     ]
    },
    {
     "name": "stderr",
     "output_type": "stream",
     "text": [
      "\r",
      " 64%|██████▍   | 32/50 [11:42<06:34, 21.94s/it]"
     ]
    },
    {
     "name": "stdout",
     "output_type": "stream",
     "text": [
      "m:1, r:11.65\n",
      "m:2, r:11.65\n",
      "m:3, r:11.65\n",
      "m:4, r:11.65\n"
     ]
    },
    {
     "name": "stderr",
     "output_type": "stream",
     "text": [
      "\r",
      " 66%|██████▌   | 33/50 [12:04<06:12, 21.93s/it]"
     ]
    },
    {
     "name": "stdout",
     "output_type": "stream",
     "text": [
      "m:1, r:12.01\n",
      "m:2, r:12.01\n",
      "m:3, r:12.01\n",
      "m:4, r:12.01\n"
     ]
    },
    {
     "name": "stderr",
     "output_type": "stream",
     "text": [
      "\r",
      " 68%|██████▊   | 34/50 [12:26<05:50, 21.94s/it]"
     ]
    },
    {
     "name": "stdout",
     "output_type": "stream",
     "text": [
      "m:1, r:12.38\n",
      "m:2, r:12.38\n",
      "m:3, r:12.38\n",
      "m:4, r:12.38\n"
     ]
    },
    {
     "name": "stderr",
     "output_type": "stream",
     "text": [
      "\r",
      " 70%|███████   | 35/50 [12:48<05:28, 21.92s/it]"
     ]
    },
    {
     "name": "stdout",
     "output_type": "stream",
     "text": [
      "m:1, r:12.74\n",
      "m:2, r:12.74\n",
      "m:3, r:12.74\n",
      "m:4, r:12.74\n"
     ]
    },
    {
     "name": "stderr",
     "output_type": "stream",
     "text": [
      "\r",
      " 72%|███████▏  | 36/50 [13:10<05:06, 21.91s/it]"
     ]
    },
    {
     "name": "stdout",
     "output_type": "stream",
     "text": [
      "m:1, r:13.11\n",
      "m:2, r:13.11\n",
      "m:3, r:13.11\n",
      "m:4, r:13.11\n"
     ]
    },
    {
     "name": "stderr",
     "output_type": "stream",
     "text": [
      "\r",
      " 74%|███████▍  | 37/50 [13:32<04:45, 21.94s/it]"
     ]
    },
    {
     "name": "stdout",
     "output_type": "stream",
     "text": [
      "m:1, r:13.47\n",
      "m:2, r:13.47\n",
      "m:3, r:13.47\n",
      "m:4, r:13.47\n"
     ]
    },
    {
     "name": "stderr",
     "output_type": "stream",
     "text": [
      "\r",
      " 76%|███████▌  | 38/50 [13:53<04:23, 21.93s/it]"
     ]
    },
    {
     "name": "stdout",
     "output_type": "stream",
     "text": [
      "m:1, r:13.83\n",
      "m:2, r:13.83\n",
      "m:3, r:13.83\n",
      "m:4, r:13.83\n"
     ]
    },
    {
     "name": "stderr",
     "output_type": "stream",
     "text": [
      "\r",
      " 78%|███████▊  | 39/50 [14:15<04:01, 21.95s/it]"
     ]
    },
    {
     "name": "stdout",
     "output_type": "stream",
     "text": [
      "m:1, r:14.20\n",
      "m:2, r:14.20\n",
      "m:3, r:14.20\n",
      "m:4, r:14.20\n"
     ]
    },
    {
     "name": "stderr",
     "output_type": "stream",
     "text": [
      "\r",
      " 80%|████████  | 40/50 [14:37<03:39, 21.93s/it]"
     ]
    },
    {
     "name": "stdout",
     "output_type": "stream",
     "text": [
      "m:1, r:14.56\n",
      "m:2, r:14.56\n",
      "m:3, r:14.56\n",
      "m:4, r:14.56\n"
     ]
    },
    {
     "name": "stderr",
     "output_type": "stream",
     "text": [
      "\r",
      " 82%|████████▏ | 41/50 [14:59<03:17, 21.90s/it]"
     ]
    },
    {
     "name": "stdout",
     "output_type": "stream",
     "text": [
      "m:1, r:14.93\n",
      "m:2, r:14.93\n",
      "m:3, r:14.93\n",
      "m:4, r:14.93\n"
     ]
    },
    {
     "name": "stderr",
     "output_type": "stream",
     "text": [
      "\r",
      " 84%|████████▍ | 42/50 [15:21<02:55, 21.93s/it]"
     ]
    },
    {
     "name": "stdout",
     "output_type": "stream",
     "text": [
      "m:1, r:15.29\n",
      "m:2, r:15.29\n",
      "m:3, r:15.29\n",
      "m:4, r:15.29\n"
     ]
    },
    {
     "name": "stderr",
     "output_type": "stream",
     "text": [
      "\r",
      " 86%|████████▌ | 43/50 [15:43<02:33, 21.92s/it]"
     ]
    },
    {
     "name": "stdout",
     "output_type": "stream",
     "text": [
      "m:1, r:15.66\n",
      "m:2, r:15.66\n",
      "m:3, r:15.66\n",
      "m:4, r:15.66\n"
     ]
    },
    {
     "name": "stderr",
     "output_type": "stream",
     "text": [
      "\r",
      " 88%|████████▊ | 44/50 [16:05<02:11, 21.91s/it]"
     ]
    },
    {
     "name": "stdout",
     "output_type": "stream",
     "text": [
      "m:1, r:16.02\n",
      "m:2, r:16.02\n",
      "m:3, r:16.02\n",
      "m:4, r:16.02\n"
     ]
    },
    {
     "name": "stderr",
     "output_type": "stream",
     "text": [
      "\r",
      " 90%|█████████ | 45/50 [16:27<01:49, 21.94s/it]"
     ]
    },
    {
     "name": "stdout",
     "output_type": "stream",
     "text": [
      "m:1, r:16.38\n",
      "m:2, r:16.38\n",
      "m:3, r:16.38\n",
      "m:4, r:16.38\n"
     ]
    },
    {
     "name": "stderr",
     "output_type": "stream",
     "text": [
      "\r",
      " 92%|█████████▏| 46/50 [16:49<01:27, 21.91s/it]"
     ]
    },
    {
     "name": "stdout",
     "output_type": "stream",
     "text": [
      "m:1, r:16.75\n",
      "m:2, r:16.75\n",
      "m:3, r:16.75\n",
      "m:4, r:16.75\n"
     ]
    },
    {
     "name": "stderr",
     "output_type": "stream",
     "text": [
      "\r",
      " 94%|█████████▍| 47/50 [17:11<01:05, 21.90s/it]"
     ]
    },
    {
     "name": "stdout",
     "output_type": "stream",
     "text": [
      "m:1, r:17.11\n",
      "m:2, r:17.11\n",
      "m:3, r:17.11\n",
      "m:4, r:17.11\n"
     ]
    },
    {
     "name": "stderr",
     "output_type": "stream",
     "text": [
      "\r",
      " 96%|█████████▌| 48/50 [17:33<00:43, 21.94s/it]"
     ]
    },
    {
     "name": "stdout",
     "output_type": "stream",
     "text": [
      "m:1, r:17.48\n",
      "m:2, r:17.48\n",
      "m:3, r:17.48\n",
      "m:4, r:17.48\n"
     ]
    },
    {
     "name": "stderr",
     "output_type": "stream",
     "text": [
      "\r",
      " 98%|█████████▊| 49/50 [17:55<00:21, 21.93s/it]"
     ]
    },
    {
     "name": "stdout",
     "output_type": "stream",
     "text": [
      "m:1, r:17.84\n",
      "m:2, r:17.84\n",
      "m:3, r:17.84\n",
      "m:4, r:17.84\n"
     ]
    },
    {
     "name": "stderr",
     "output_type": "stream",
     "text": [
      "100%|██████████| 50/50 [18:17<00:00, 21.94s/it]\n"
     ]
    }
   ],
   "source": [
    "from tqdm import tqdm\n",
    "\n",
    "r_min = 0.0\n",
    "r_max = 0.25\n",
    "m_min = 1\n",
    "m_max = 4\n",
    "\n",
    "SLICES = 50\n",
    "my_list = []\n",
    "\n",
    "# entropy frame\n",
    "ef0 = X[:,0,58,132]\n",
    "ef1 = Y[:,58,132]\n",
    "ef  = np.empty((2,11928))\n",
    "ef[0] = ef0\n",
    "ef[1] = ef1\n",
    "ef = np.moveaxis(ef, 0,1)\n",
    "#ef = fsi.DEF\n",
    "#ef = df.pollution\n",
    "N_SAMPLES = 11928\n",
    "\n",
    "for r in tqdm(np.linspace(r_min, r_max, SLICES)):\n",
    "    for m in range(m_min, m_max+1):\n",
    "        u, m_value, r_value = params_entropy(ef[:N_SAMPLES], m, r)\n",
    "        print(f'm:{m_value}, r:{r_value:.2f}')\n",
    "        my_list.append([m,\n",
    "                        r_value,\n",
    "                        apen_cp(u,m_value,r_value),\n",
    "                        sampen_cp(u,m_value,r_value)])"
   ]
  },
  {
   "cell_type": "markdown",
   "id": "f80dc92b",
   "metadata": {},
   "source": [
    "### Graficos de rendimiento"
   ]
  },
  {
   "cell_type": "code",
   "execution_count": 8,
   "id": "7a2b0d6e",
   "metadata": {},
   "outputs": [
    {
     "data": {
      "text/html": [
       "<div>\n",
       "<style scoped>\n",
       "    .dataframe tbody tr th:only-of-type {\n",
       "        vertical-align: middle;\n",
       "    }\n",
       "\n",
       "    .dataframe tbody tr th {\n",
       "        vertical-align: top;\n",
       "    }\n",
       "\n",
       "    .dataframe thead th {\n",
       "        text-align: right;\n",
       "    }\n",
       "</style>\n",
       "<table border=\"1\" class=\"dataframe\">\n",
       "  <thead>\n",
       "    <tr style=\"text-align: right;\">\n",
       "      <th></th>\n",
       "      <th>m</th>\n",
       "      <th>r</th>\n",
       "      <th>apen</th>\n",
       "      <th>sampen</th>\n",
       "    </tr>\n",
       "  </thead>\n",
       "  <tbody>\n",
       "    <tr>\n",
       "      <th>0</th>\n",
       "      <td>1</td>\n",
       "      <td>0.000000</td>\n",
       "      <td>0.4898993791864809</td>\n",
       "      <td>0.13161978088963094</td>\n",
       "    </tr>\n",
       "    <tr>\n",
       "      <th>4</th>\n",
       "      <td>1</td>\n",
       "      <td>0.364076</td>\n",
       "      <td>0.24762847924144354</td>\n",
       "      <td>0.05808432195576745</td>\n",
       "    </tr>\n",
       "    <tr>\n",
       "      <th>8</th>\n",
       "      <td>1</td>\n",
       "      <td>0.728151</td>\n",
       "      <td>0.19264612301273337</td>\n",
       "      <td>0.04979862995143725</td>\n",
       "    </tr>\n",
       "    <tr>\n",
       "      <th>12</th>\n",
       "      <td>1</td>\n",
       "      <td>1.092227</td>\n",
       "      <td>0.160019591956745</td>\n",
       "      <td>0.04563884188240006</td>\n",
       "    </tr>\n",
       "    <tr>\n",
       "      <th>16</th>\n",
       "      <td>1</td>\n",
       "      <td>1.456303</td>\n",
       "      <td>0.13941097268436178</td>\n",
       "      <td>0.04378289097705657</td>\n",
       "    </tr>\n",
       "    <tr>\n",
       "      <th>20</th>\n",
       "      <td>1</td>\n",
       "      <td>1.820378</td>\n",
       "      <td>0.12610193600015493</td>\n",
       "      <td>0.04359217591643189</td>\n",
       "    </tr>\n",
       "    <tr>\n",
       "      <th>24</th>\n",
       "      <td>1</td>\n",
       "      <td>2.184454</td>\n",
       "      <td>0.11849972362211987</td>\n",
       "      <td>0.04517048741208031</td>\n",
       "    </tr>\n",
       "    <tr>\n",
       "      <th>28</th>\n",
       "      <td>1</td>\n",
       "      <td>2.548530</td>\n",
       "      <td>0.11292693666717087</td>\n",
       "      <td>0.046828798029296445</td>\n",
       "    </tr>\n",
       "    <tr>\n",
       "      <th>32</th>\n",
       "      <td>1</td>\n",
       "      <td>2.912605</td>\n",
       "      <td>0.10863732932433792</td>\n",
       "      <td>0.04869787158742148</td>\n",
       "    </tr>\n",
       "    <tr>\n",
       "      <th>36</th>\n",
       "      <td>1</td>\n",
       "      <td>3.276681</td>\n",
       "      <td>0.10476321818827498</td>\n",
       "      <td>0.050417097378079215</td>\n",
       "    </tr>\n",
       "    <tr>\n",
       "      <th>40</th>\n",
       "      <td>1</td>\n",
       "      <td>3.640757</td>\n",
       "      <td>0.10237974238545475</td>\n",
       "      <td>0.052385880785014244</td>\n",
       "    </tr>\n",
       "    <tr>\n",
       "      <th>44</th>\n",
       "      <td>1</td>\n",
       "      <td>4.004832</td>\n",
       "      <td>0.09951218508060368</td>\n",
       "      <td>0.053880335044061534</td>\n",
       "    </tr>\n",
       "    <tr>\n",
       "      <th>48</th>\n",
       "      <td>1</td>\n",
       "      <td>4.368908</td>\n",
       "      <td>0.0960486767596249</td>\n",
       "      <td>0.054904044635870106</td>\n",
       "    </tr>\n",
       "    <tr>\n",
       "      <th>52</th>\n",
       "      <td>1</td>\n",
       "      <td>4.732984</td>\n",
       "      <td>0.09428299000980804</td>\n",
       "      <td>0.05647609784943187</td>\n",
       "    </tr>\n",
       "    <tr>\n",
       "      <th>56</th>\n",
       "      <td>1</td>\n",
       "      <td>5.097059</td>\n",
       "      <td>0.09312417285851161</td>\n",
       "      <td>0.05811613553186906</td>\n",
       "    </tr>\n",
       "    <tr>\n",
       "      <th>60</th>\n",
       "      <td>1</td>\n",
       "      <td>5.461135</td>\n",
       "      <td>0.09075033591442026</td>\n",
       "      <td>0.058988293832760864</td>\n",
       "    </tr>\n",
       "    <tr>\n",
       "      <th>64</th>\n",
       "      <td>1</td>\n",
       "      <td>5.825210</td>\n",
       "      <td>0.08960860706320393</td>\n",
       "      <td>0.06024549115798036</td>\n",
       "    </tr>\n",
       "    <tr>\n",
       "      <th>68</th>\n",
       "      <td>1</td>\n",
       "      <td>6.189286</td>\n",
       "      <td>0.08821592266440706</td>\n",
       "      <td>0.06137593873883412</td>\n",
       "    </tr>\n",
       "    <tr>\n",
       "      <th>72</th>\n",
       "      <td>1</td>\n",
       "      <td>6.553362</td>\n",
       "      <td>0.0873844409398534</td>\n",
       "      <td>0.06258811679624204</td>\n",
       "    </tr>\n",
       "    <tr>\n",
       "      <th>76</th>\n",
       "      <td>1</td>\n",
       "      <td>6.917437</td>\n",
       "      <td>0.08610865948316038</td>\n",
       "      <td>0.06338445915008055</td>\n",
       "    </tr>\n",
       "    <tr>\n",
       "      <th>80</th>\n",
       "      <td>1</td>\n",
       "      <td>7.281513</td>\n",
       "      <td>0.08568390166332768</td>\n",
       "      <td>0.06455674913078703</td>\n",
       "    </tr>\n",
       "    <tr>\n",
       "      <th>84</th>\n",
       "      <td>1</td>\n",
       "      <td>7.645589</td>\n",
       "      <td>0.08454317558319131</td>\n",
       "      <td>0.0653251503003563</td>\n",
       "    </tr>\n",
       "    <tr>\n",
       "      <th>88</th>\n",
       "      <td>1</td>\n",
       "      <td>8.009664</td>\n",
       "      <td>0.08400010154357716</td>\n",
       "      <td>0.06627662573546314</td>\n",
       "    </tr>\n",
       "    <tr>\n",
       "      <th>92</th>\n",
       "      <td>1</td>\n",
       "      <td>8.373740</td>\n",
       "      <td>0.08315149182965773</td>\n",
       "      <td>0.06686015070041126</td>\n",
       "    </tr>\n",
       "    <tr>\n",
       "      <th>96</th>\n",
       "      <td>1</td>\n",
       "      <td>8.737816</td>\n",
       "      <td>0.08293956660695671</td>\n",
       "      <td>0.06770471995940344</td>\n",
       "    </tr>\n",
       "    <tr>\n",
       "      <th>100</th>\n",
       "      <td>1</td>\n",
       "      <td>9.101891</td>\n",
       "      <td>0.08213005007615853</td>\n",
       "      <td>0.06813017546763443</td>\n",
       "    </tr>\n",
       "    <tr>\n",
       "      <th>104</th>\n",
       "      <td>1</td>\n",
       "      <td>9.465967</td>\n",
       "      <td>0.08257877426893098</td>\n",
       "      <td>0.06913621324289175</td>\n",
       "    </tr>\n",
       "    <tr>\n",
       "      <th>108</th>\n",
       "      <td>1</td>\n",
       "      <td>9.830043</td>\n",
       "      <td>0.08270863248577787</td>\n",
       "      <td>0.06990891991163517</td>\n",
       "    </tr>\n",
       "    <tr>\n",
       "      <th>112</th>\n",
       "      <td>1</td>\n",
       "      <td>10.194118</td>\n",
       "      <td>0.08297030042777809</td>\n",
       "      <td>0.07074223927685916</td>\n",
       "    </tr>\n",
       "    <tr>\n",
       "      <th>116</th>\n",
       "      <td>1</td>\n",
       "      <td>10.558194</td>\n",
       "      <td>0.08318623406530705</td>\n",
       "      <td>0.07150371295881047</td>\n",
       "    </tr>\n",
       "    <tr>\n",
       "      <th>120</th>\n",
       "      <td>1</td>\n",
       "      <td>10.922270</td>\n",
       "      <td>0.08313937457694935</td>\n",
       "      <td>0.07204459996809158</td>\n",
       "    </tr>\n",
       "    <tr>\n",
       "      <th>124</th>\n",
       "      <td>1</td>\n",
       "      <td>11.286345</td>\n",
       "      <td>0.08322342514858959</td>\n",
       "      <td>0.07266767692317576</td>\n",
       "    </tr>\n",
       "    <tr>\n",
       "      <th>128</th>\n",
       "      <td>1</td>\n",
       "      <td>11.650421</td>\n",
       "      <td>0.08275180315881467</td>\n",
       "      <td>0.07292809310360487</td>\n",
       "    </tr>\n",
       "    <tr>\n",
       "      <th>132</th>\n",
       "      <td>1</td>\n",
       "      <td>12.014497</td>\n",
       "      <td>0.08251374957133549</td>\n",
       "      <td>0.07326752230598853</td>\n",
       "    </tr>\n",
       "    <tr>\n",
       "      <th>136</th>\n",
       "      <td>1</td>\n",
       "      <td>12.378572</td>\n",
       "      <td>0.08226935744767114</td>\n",
       "      <td>0.07357780055247894</td>\n",
       "    </tr>\n",
       "    <tr>\n",
       "      <th>140</th>\n",
       "      <td>1</td>\n",
       "      <td>12.742648</td>\n",
       "      <td>0.08200261740874328</td>\n",
       "      <td>0.07381572591459644</td>\n",
       "    </tr>\n",
       "    <tr>\n",
       "      <th>144</th>\n",
       "      <td>1</td>\n",
       "      <td>13.106724</td>\n",
       "      <td>0.08196668564129904</td>\n",
       "      <td>0.0741727003755934</td>\n",
       "    </tr>\n",
       "    <tr>\n",
       "      <th>148</th>\n",
       "      <td>1</td>\n",
       "      <td>13.470799</td>\n",
       "      <td>0.08078604020723562</td>\n",
       "      <td>0.07383933278523566</td>\n",
       "    </tr>\n",
       "    <tr>\n",
       "      <th>152</th>\n",
       "      <td>1</td>\n",
       "      <td>13.834875</td>\n",
       "      <td>0.08077453888949428</td>\n",
       "      <td>0.07410885395503544</td>\n",
       "    </tr>\n",
       "    <tr>\n",
       "      <th>156</th>\n",
       "      <td>1</td>\n",
       "      <td>14.198951</td>\n",
       "      <td>0.08022220247455666</td>\n",
       "      <td>0.07402750950107209</td>\n",
       "    </tr>\n",
       "    <tr>\n",
       "      <th>160</th>\n",
       "      <td>1</td>\n",
       "      <td>14.563026</td>\n",
       "      <td>0.07990928841470493</td>\n",
       "      <td>0.07406393696094783</td>\n",
       "    </tr>\n",
       "    <tr>\n",
       "      <th>164</th>\n",
       "      <td>1</td>\n",
       "      <td>14.927102</td>\n",
       "      <td>0.07984705385735463</td>\n",
       "      <td>0.07422103570146628</td>\n",
       "    </tr>\n",
       "    <tr>\n",
       "      <th>168</th>\n",
       "      <td>1</td>\n",
       "      <td>15.291177</td>\n",
       "      <td>0.07964411450603541</td>\n",
       "      <td>0.07431687729729977</td>\n",
       "    </tr>\n",
       "    <tr>\n",
       "      <th>172</th>\n",
       "      <td>1</td>\n",
       "      <td>15.655253</td>\n",
       "      <td>0.07925156668081666</td>\n",
       "      <td>0.07424041652356994</td>\n",
       "    </tr>\n",
       "    <tr>\n",
       "      <th>176</th>\n",
       "      <td>1</td>\n",
       "      <td>16.019329</td>\n",
       "      <td>0.07885126695813659</td>\n",
       "      <td>0.07414060539616148</td>\n",
       "    </tr>\n",
       "    <tr>\n",
       "      <th>180</th>\n",
       "      <td>1</td>\n",
       "      <td>16.383404</td>\n",
       "      <td>0.07862764498039494</td>\n",
       "      <td>0.07414500199755823</td>\n",
       "    </tr>\n",
       "    <tr>\n",
       "      <th>184</th>\n",
       "      <td>1</td>\n",
       "      <td>16.747480</td>\n",
       "      <td>0.07811603986358676</td>\n",
       "      <td>0.07396610565506752</td>\n",
       "    </tr>\n",
       "    <tr>\n",
       "      <th>188</th>\n",
       "      <td>1</td>\n",
       "      <td>17.111556</td>\n",
       "      <td>0.07688394404152513</td>\n",
       "      <td>0.07331812818695785</td>\n",
       "    </tr>\n",
       "    <tr>\n",
       "      <th>192</th>\n",
       "      <td>1</td>\n",
       "      <td>17.475631</td>\n",
       "      <td>0.07607951637626814</td>\n",
       "      <td>0.07293991523454993</td>\n",
       "    </tr>\n",
       "    <tr>\n",
       "      <th>196</th>\n",
       "      <td>1</td>\n",
       "      <td>17.839707</td>\n",
       "      <td>0.07536263165274103</td>\n",
       "      <td>0.07255758409417551</td>\n",
       "    </tr>\n",
       "  </tbody>\n",
       "</table>\n",
       "</div>"
      ],
      "text/plain": [
       "     m          r                 apen                sampen\n",
       "0    1   0.000000   0.4898993791864809   0.13161978088963094\n",
       "4    1   0.364076  0.24762847924144354   0.05808432195576745\n",
       "8    1   0.728151  0.19264612301273337   0.04979862995143725\n",
       "12   1   1.092227    0.160019591956745   0.04563884188240006\n",
       "16   1   1.456303  0.13941097268436178   0.04378289097705657\n",
       "20   1   1.820378  0.12610193600015493   0.04359217591643189\n",
       "24   1   2.184454  0.11849972362211987   0.04517048741208031\n",
       "28   1   2.548530  0.11292693666717087  0.046828798029296445\n",
       "32   1   2.912605  0.10863732932433792   0.04869787158742148\n",
       "36   1   3.276681  0.10476321818827498  0.050417097378079215\n",
       "40   1   3.640757  0.10237974238545475  0.052385880785014244\n",
       "44   1   4.004832  0.09951218508060368  0.053880335044061534\n",
       "48   1   4.368908   0.0960486767596249  0.054904044635870106\n",
       "52   1   4.732984  0.09428299000980804   0.05647609784943187\n",
       "56   1   5.097059  0.09312417285851161   0.05811613553186906\n",
       "60   1   5.461135  0.09075033591442026  0.058988293832760864\n",
       "64   1   5.825210  0.08960860706320393   0.06024549115798036\n",
       "68   1   6.189286  0.08821592266440706   0.06137593873883412\n",
       "72   1   6.553362   0.0873844409398534   0.06258811679624204\n",
       "76   1   6.917437  0.08610865948316038   0.06338445915008055\n",
       "80   1   7.281513  0.08568390166332768   0.06455674913078703\n",
       "84   1   7.645589  0.08454317558319131    0.0653251503003563\n",
       "88   1   8.009664  0.08400010154357716   0.06627662573546314\n",
       "92   1   8.373740  0.08315149182965773   0.06686015070041126\n",
       "96   1   8.737816  0.08293956660695671   0.06770471995940344\n",
       "100  1   9.101891  0.08213005007615853   0.06813017546763443\n",
       "104  1   9.465967  0.08257877426893098   0.06913621324289175\n",
       "108  1   9.830043  0.08270863248577787   0.06990891991163517\n",
       "112  1  10.194118  0.08297030042777809   0.07074223927685916\n",
       "116  1  10.558194  0.08318623406530705   0.07150371295881047\n",
       "120  1  10.922270  0.08313937457694935   0.07204459996809158\n",
       "124  1  11.286345  0.08322342514858959   0.07266767692317576\n",
       "128  1  11.650421  0.08275180315881467   0.07292809310360487\n",
       "132  1  12.014497  0.08251374957133549   0.07326752230598853\n",
       "136  1  12.378572  0.08226935744767114   0.07357780055247894\n",
       "140  1  12.742648  0.08200261740874328   0.07381572591459644\n",
       "144  1  13.106724  0.08196668564129904    0.0741727003755934\n",
       "148  1  13.470799  0.08078604020723562   0.07383933278523566\n",
       "152  1  13.834875  0.08077453888949428   0.07410885395503544\n",
       "156  1  14.198951  0.08022220247455666   0.07402750950107209\n",
       "160  1  14.563026  0.07990928841470493   0.07406393696094783\n",
       "164  1  14.927102  0.07984705385735463   0.07422103570146628\n",
       "168  1  15.291177  0.07964411450603541   0.07431687729729977\n",
       "172  1  15.655253  0.07925156668081666   0.07424041652356994\n",
       "176  1  16.019329  0.07885126695813659   0.07414060539616148\n",
       "180  1  16.383404  0.07862764498039494   0.07414500199755823\n",
       "184  1  16.747480  0.07811603986358676   0.07396610565506752\n",
       "188  1  17.111556  0.07688394404152513   0.07331812818695785\n",
       "192  1  17.475631  0.07607951637626814   0.07293991523454993\n",
       "196  1  17.839707  0.07536263165274103   0.07255758409417551"
      ]
     },
     "execution_count": 8,
     "metadata": {},
     "output_type": "execute_result"
    }
   ],
   "source": [
    "# Create df\n",
    "gf = pd.DataFrame(my_list, columns=['m', 'r', 'apen', 'sampen'])\n",
    "gf[gf.m==1]"
   ]
  },
  {
   "cell_type": "code",
   "execution_count": 9,
   "id": "e9ddf7e2",
   "metadata": {},
   "outputs": [],
   "source": [
    "import sys\n",
    "\n",
    "# Discard invalid values\n",
    "gf.apen = gf.apen.apply(lambda x: x if 0<x<sys.float_info.max else np.nan)\n",
    "gf.sampen = gf.sampen.apply(lambda x: x if 0<x<sys.float_info.max else np.nan)\n",
    "gf.dropna(inplace=True)"
   ]
  },
  {
   "cell_type": "code",
   "execution_count": 10,
   "id": "52f7e962",
   "metadata": {},
   "outputs": [],
   "source": [
    "# Save df\n",
    "gf.to_csv('/opt/datos/entropy/entropy_XY_Z1000_P58-P132.csv')"
   ]
  },
  {
   "cell_type": "code",
   "execution_count": 11,
   "id": "8eac0253",
   "metadata": {},
   "outputs": [
    {
     "data": {
      "text/html": [
       "<div>\n",
       "<style scoped>\n",
       "    .dataframe tbody tr th:only-of-type {\n",
       "        vertical-align: middle;\n",
       "    }\n",
       "\n",
       "    .dataframe tbody tr th {\n",
       "        vertical-align: top;\n",
       "    }\n",
       "\n",
       "    .dataframe thead th {\n",
       "        text-align: right;\n",
       "    }\n",
       "</style>\n",
       "<table border=\"1\" class=\"dataframe\">\n",
       "  <thead>\n",
       "    <tr style=\"text-align: right;\">\n",
       "      <th></th>\n",
       "      <th>m</th>\n",
       "      <th>r</th>\n",
       "      <th>apen</th>\n",
       "      <th>sampen</th>\n",
       "    </tr>\n",
       "  </thead>\n",
       "  <tbody>\n",
       "    <tr>\n",
       "      <th>0</th>\n",
       "      <td>1</td>\n",
       "      <td>0.000000</td>\n",
       "      <td>0.003028</td>\n",
       "      <td>0.003032</td>\n",
       "    </tr>\n",
       "    <tr>\n",
       "      <th>4</th>\n",
       "      <td>1</td>\n",
       "      <td>0.218015</td>\n",
       "      <td>0.951374</td>\n",
       "      <td>0.972840</td>\n",
       "    </tr>\n",
       "    <tr>\n",
       "      <th>5</th>\n",
       "      <td>2</td>\n",
       "      <td>0.218015</td>\n",
       "      <td>0.019931</td>\n",
       "      <td>0.019995</td>\n",
       "    </tr>\n",
       "    <tr>\n",
       "      <th>6</th>\n",
       "      <td>3</td>\n",
       "      <td>0.218015</td>\n",
       "      <td>0.000273</td>\n",
       "      <td>0.000273</td>\n",
       "    </tr>\n",
       "    <tr>\n",
       "      <th>8</th>\n",
       "      <td>1</td>\n",
       "      <td>0.436030</td>\n",
       "      <td>1.367397</td>\n",
       "      <td>1.401663</td>\n",
       "    </tr>\n",
       "    <tr>\n",
       "      <th>...</th>\n",
       "      <td>...</td>\n",
       "      <td>...</td>\n",
       "      <td>...</td>\n",
       "      <td>...</td>\n",
       "    </tr>\n",
       "    <tr>\n",
       "      <th>195</th>\n",
       "      <td>4</td>\n",
       "      <td>10.464724</td>\n",
       "      <td>0.544372</td>\n",
       "      <td>0.549735</td>\n",
       "    </tr>\n",
       "    <tr>\n",
       "      <th>196</th>\n",
       "      <td>1</td>\n",
       "      <td>10.682739</td>\n",
       "      <td>0.692511</td>\n",
       "      <td>0.655577</td>\n",
       "    </tr>\n",
       "    <tr>\n",
       "      <th>197</th>\n",
       "      <td>2</td>\n",
       "      <td>10.682739</td>\n",
       "      <td>0.677685</td>\n",
       "      <td>0.651150</td>\n",
       "    </tr>\n",
       "    <tr>\n",
       "      <th>198</th>\n",
       "      <td>3</td>\n",
       "      <td>10.682739</td>\n",
       "      <td>0.607645</td>\n",
       "      <td>0.586656</td>\n",
       "    </tr>\n",
       "    <tr>\n",
       "      <th>199</th>\n",
       "      <td>4</td>\n",
       "      <td>10.682739</td>\n",
       "      <td>0.540191</td>\n",
       "      <td>0.543105</td>\n",
       "    </tr>\n",
       "  </tbody>\n",
       "</table>\n",
       "<p>196 rows × 4 columns</p>\n",
       "</div>"
      ],
      "text/plain": [
       "     m          r      apen    sampen\n",
       "0    1   0.000000  0.003028  0.003032\n",
       "4    1   0.218015  0.951374  0.972840\n",
       "5    2   0.218015  0.019931  0.019995\n",
       "6    3   0.218015  0.000273  0.000273\n",
       "8    1   0.436030  1.367397  1.401663\n",
       "..  ..        ...       ...       ...\n",
       "195  4  10.464724  0.544372  0.549735\n",
       "196  1  10.682739  0.692511  0.655577\n",
       "197  2  10.682739  0.677685  0.651150\n",
       "198  3  10.682739  0.607645  0.586656\n",
       "199  4  10.682739  0.540191  0.543105\n",
       "\n",
       "[196 rows x 4 columns]"
      ]
     },
     "execution_count": 11,
     "metadata": {},
     "output_type": "execute_result"
    }
   ],
   "source": [
    "gf = pd.read_csv('/opt/datos/entropy/entropy_X_Z500_0-500.csv', index_col=0)\n",
    "gf"
   ]
  },
  {
   "cell_type": "markdown",
   "id": "8ff48ebc",
   "metadata": {},
   "source": [
    "#### Entropia para una altura (Z1000) en un pixel (58,132) con todas las muestras "
   ]
  },
  {
   "cell_type": "code",
   "execution_count": 11,
   "id": "d7411b6a",
   "metadata": {},
   "outputs": [
    {
     "data": {
      "image/png": "[encoded data removed]",
      "text/plain": [
       "<Figure size 1152x576 with 4 Axes>"
      ]
     },
     "metadata": {
      "needs_background": "light"
     },
     "output_type": "display_data"
    }
   ],
   "source": [
    "\n",
    "\n",
    "from math import ceil\n",
    "algos = ['ApEn', 'SampEn']\n",
    "\n",
    "fig, axs = plt.subplots(2, 2, figsize=(16,8))\n",
    "max_x = round(max(gf.r))\n",
    "max_y = round(float(max(gf.apen.append(gf.sampen))),1)\n",
    "slices_y = int(max_y*10+1)\n",
    "\n",
    "for m in range(m_min, m_max+1):\n",
    "    for algo in algos:\n",
    "        row = int(format(m-1, \"b\").zfill(2)[0])\n",
    "        col = int(format(m-1, \"b\").zfill(2)[1])\n",
    "        axs[row][col].plot(gf[gf.m==m]['r'], gf[gf.m==m][algo.lower()], label=algo)\n",
    "        axs[row][col].legend()\n",
    "        axs[row][col].set_title(f'm={m}', fontsize=12)\n",
    "        axs[row][col].set_xlabel('r')\n",
    "        axs[row][col].set_xticks(np.arange(0, max_x, step=1))\n",
    "        axs[row][col].set_yticks(np.arange(0, max_y, step=0.2))\n",
    "        axs[row][col].set_xlim(xmin=0, xmax=max_x)\n",
    "        axs[row][col].grid(True, linestyle='dashdot')"
   ]
  }
 ],
 "metadata": {
  "kernelspec": {
   "display_name": "tesis",
   "language": "python",
   "name": "tesis"
  },
  "language_info": {
   "codemirror_mode": {
    "name": "ipython",
    "version": 3
   },
   "file_extension": ".py",
   "mimetype": "text/x-python",
   "name": "python",
   "nbconvert_exporter": "python",
   "pygments_lexer": "ipython3",
   "version": "3.8.8"
  }
 },
 "nbformat": 4,
 "nbformat_minor": 5
}
