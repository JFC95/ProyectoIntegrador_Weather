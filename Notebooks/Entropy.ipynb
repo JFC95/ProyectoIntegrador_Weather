{
 "cells": [
  {
   "cell_type": "code",
   "execution_count": 1,
   "id": "e21b40af",
   "metadata": {},
   "outputs": [],
   "source": [
    "import pandas as pd\n",
    "import numpy as np\n",
    "import cupy as cp\n",
    "import matplotlib.pyplot as plt\n",
    "from tqdm import tqdm"
   ]
  },
  {
   "cell_type": "markdown",
   "id": "a9c55334",
   "metadata": {},
   "source": [
    "### Carga dataset"
   ]
  },
  {
   "cell_type": "code",
   "execution_count": 2,
   "id": "122d51c6",
   "metadata": {},
   "outputs": [
    {
     "name": "stdout",
     "output_type": "stream",
     "text": [
      "X: (1789, 3, 176, 176)\n"
     ]
    }
   ],
   "source": [
    "SEED = 42\n",
    "np.random.seed(SEED)\n",
    "\n",
    "### X = HGT\n",
    "X_dir = \"/opt/datos/dataset/sin_normalizar/X_test.npy\"\n",
    "X = np.load(X_dir)\n",
    "\n",
    "print(\"X: %s\" %str(X.shape))\n",
    "\n",
    "### Y = lluvia (mm)\n",
    "#Y_dir = \"/opt/datos/dataset/milimetros/Y_test.npy\"\n",
    "#Y = np.load(Y_dir)\n",
    "\n",
    "#print(\"Y: %s\" %str(Y.shape))"
   ]
  },
  {
   "cell_type": "markdown",
   "id": "a0b67862",
   "metadata": {},
   "source": [
    "### Normalización y parametros"
   ]
  },
  {
   "cell_type": "code",
   "execution_count": 3,
   "id": "4dea9b36",
   "metadata": {},
   "outputs": [],
   "source": [
    "def params_entropy(u:np.array, m:int, r_rate:float):\n",
    "    \"\"\"        \n",
    "    Calculates approximate entropy (ApEn) of a time series.\n",
    "\n",
    "    Input\n",
    "      u: Raw time series\n",
    "      m: Template length\n",
    "      r_rate: Constant for r compute\n",
    "\n",
    "    Output: \n",
    "      u: Normalized time series\n",
    "      m: Template length\n",
    "      r: Tolerance level\n",
    "    \"\"\"\n",
    "\n",
    "    # Normalize time series\n",
    "    u_mean = np.mean(u)\n",
    "    u_std = np.std(u)\n",
    "    u = u-u_mean/u_std\n",
    "    u = np.array(u)\n",
    "\n",
    "    # Compute r\n",
    "    r = r_rate*u_std\n",
    "\n",
    "    return u, m, r"
   ]
  },
  {
   "cell_type": "code",
   "execution_count": 4,
   "id": "7f871221",
   "metadata": {},
   "outputs": [],
   "source": [
    "from typing import Callable\n",
    "import time\n",
    "\n",
    "def compute_time(func: Callable, u:np.array, m:int, r_rate:float)->float:\n",
    "    \"\"\"        \n",
    "    Calculate execution time of function. \n",
    "    The function parameters are necessary.\n",
    "\n",
    "    Input\n",
    "    func: Function to test\n",
    "    u: Raw time series\n",
    "    m: Template length\n",
    "    r_rate: Tolerance level\n",
    "\n",
    "    Output: \n",
    "    t: Time execution of function\n",
    "    \"\"\"\n",
    "    # start\n",
    "    s = time.time()\n",
    "    # compute\n",
    "    func(u, m, r)\n",
    "    # end\n",
    "    e = time.time()\n",
    "    # result\n",
    "    t = e-s\n",
    "    return t"
   ]
  },
  {
   "cell_type": "markdown",
   "id": "922eb32a",
   "metadata": {},
   "source": [
    "### ApEn"
   ]
  },
  {
   "cell_type": "code",
   "execution_count": 5,
   "id": "41da69fb",
   "metadata": {},
   "outputs": [],
   "source": [
    "def apen_cp(L, m, r) -> float:\n",
    "    \"\"\"        \n",
    "    Calculates approximate entropy (ApEn) of a time series.\n",
    "\n",
    "    Input\n",
    "        L: Time series\n",
    "        m: Template length\n",
    "        r: Tolerance level\n",
    "\n",
    "    Output: \n",
    "        ApEn\n",
    "    \"\"\"\n",
    "  \n",
    "    N = len(L)\n",
    "\n",
    "    # Divide time series and save all templates of length m\n",
    "    xmi = cp.array([L[i:i+m] for i in range(N-m)])\n",
    "    xmj = cp.array([L[i:i+m] for i in range(N-m+1)])\n",
    "\n",
    "    # Compute each B_i            \n",
    "    B = cp.array([cp.sum(cp.abs(xmii-xmj).max(axis=1) <= r) for xmii in xmi])\n",
    "\n",
    "    # Similar method to compute each A_i\n",
    "    m += 1\n",
    "    xm = cp.array([L[i:i+m] for i in range(N-m+1)])\n",
    "\n",
    "    A = cp.array([cp.sum(cp.abs(xmi-xm).max(axis=1) <= r) for xmi in xm])\n",
    "      \n",
    "    # Compute and return ApEn\n",
    "    m -= 1\n",
    "    ApEn = -cp.sum(cp.log(cp.divide(A,B)))/(N-m)\n",
    "    return ApEn"
   ]
  },
  {
   "cell_type": "markdown",
   "id": "e4ffca96",
   "metadata": {},
   "source": [
    "### SampEn"
   ]
  },
  {
   "cell_type": "code",
   "execution_count": 6,
   "id": "c5376001",
   "metadata": {},
   "outputs": [],
   "source": [
    "def sampen_cp(L, m, r):\n",
    "    \"\"\"        \n",
    "    Calculates sample entropy (SampEn) of a time series.\n",
    "\n",
    "    Input\n",
    "        L: Time series\n",
    "        m: Template length\n",
    "        r: Tolerance level\n",
    "\n",
    "    Output: \n",
    "        SampEn\n",
    "    \"\"\"\n",
    "    N = len(L)\n",
    "    B = 0.0\n",
    "    A = 0.0\n",
    "    \n",
    "    # Split time series and save all templates of length m\n",
    "    xmi = cp.array([L[i : i + m] for i in range(N - m)])\n",
    "    xmj = cp.array([L[i : i + m] for i in range(N - m + 1)])\n",
    "\n",
    "    # Save all matches minus the self-match, compute B\n",
    "    B = cp.sum(cp.array([cp.sum(cp.abs(xmii - xmj).max(axis=1) <= r) - 1 for xmii in xmi]))\n",
    "\n",
    "    # Similar for computing A\n",
    "    m += 1\n",
    "    xm = cp.array([L[i : i + m] for i in range(N - m + 1)])\n",
    "\n",
    "    A = cp.sum(cp.array([cp.sum(cp.abs(xmi - xm).max(axis=1) <= r) - 1 for xmi in xm]))\n",
    "\n",
    "    # Return SampEn\n",
    "    return -cp.log(A / B)"
   ]
  },
  {
   "cell_type": "markdown",
   "id": "38865a6b",
   "metadata": {},
   "source": [
    "#### Obtencion Apen y Sapen para datataset"
   ]
  },
  {
   "cell_type": "code",
   "execution_count": 7,
   "id": "47749497",
   "metadata": {},
   "outputs": [
    {
     "name": "stderr",
     "output_type": "stream",
     "text": [
      "\r",
      "  0%|          | 0/50 [00:00<?, ?it/s]"
     ]
    },
    {
     "name": "stdout",
     "output_type": "stream",
     "text": [
      "m:1, r:0.00\n",
      "m:2, r:0.00\n",
      "m:3, r:0.00\n",
      "m:4, r:0.00\n"
     ]
    },
    {
     "name": "stderr",
     "output_type": "stream",
     "text": [
      "\r",
      "  2%|▏         | 1/50 [05:25<4:25:34, 325.20s/it]"
     ]
    },
    {
     "name": "stdout",
     "output_type": "stream",
     "text": [
      "m:1, r:0.22\n",
      "m:2, r:0.22\n",
      "m:3, r:0.22\n",
      "m:4, r:0.22\n"
     ]
    },
    {
     "name": "stderr",
     "output_type": "stream",
     "text": [
      "\r",
      "  4%|▍         | 2/50 [11:02<4:25:43, 332.15s/it]"
     ]
    },
    {
     "name": "stdout",
     "output_type": "stream",
     "text": [
      "m:1, r:0.44\n",
      "m:2, r:0.44\n",
      "m:3, r:0.44\n",
      "m:4, r:0.44\n"
     ]
    },
    {
     "name": "stderr",
     "output_type": "stream",
     "text": [
      "\r",
      "  6%|▌         | 3/50 [16:39<4:21:55, 334.37s/it]"
     ]
    },
    {
     "name": "stdout",
     "output_type": "stream",
     "text": [
      "m:1, r:0.65\n",
      "m:2, r:0.65\n",
      "m:3, r:0.65\n",
      "m:4, r:0.65\n"
     ]
    },
    {
     "name": "stderr",
     "output_type": "stream",
     "text": [
      "\r",
      "  8%|▊         | 4/50 [22:16<4:17:09, 335.42s/it]"
     ]
    },
    {
     "name": "stdout",
     "output_type": "stream",
     "text": [
      "m:1, r:0.87\n",
      "m:2, r:0.87\n",
      "m:3, r:0.87\n",
      "m:4, r:0.87\n"
     ]
    },
    {
     "name": "stderr",
     "output_type": "stream",
     "text": [
      "\r",
      " 10%|█         | 5/50 [27:53<4:11:59, 335.99s/it]"
     ]
    },
    {
     "name": "stdout",
     "output_type": "stream",
     "text": [
      "m:1, r:1.09\n",
      "m:2, r:1.09\n",
      "m:3, r:1.09\n",
      "m:4, r:1.09\n"
     ]
    },
    {
     "name": "stderr",
     "output_type": "stream",
     "text": [
      "\r",
      " 12%|█▏        | 6/50 [33:30<4:06:39, 336.34s/it]"
     ]
    },
    {
     "name": "stdout",
     "output_type": "stream",
     "text": [
      "m:1, r:1.31\n",
      "m:2, r:1.31\n",
      "m:3, r:1.31\n",
      "m:4, r:1.31\n"
     ]
    },
    {
     "name": "stderr",
     "output_type": "stream",
     "text": [
      "\r",
      " 14%|█▍        | 7/50 [39:07<4:01:12, 336.57s/it]"
     ]
    },
    {
     "name": "stdout",
     "output_type": "stream",
     "text": [
      "m:1, r:1.53\n",
      "m:2, r:1.53\n",
      "m:3, r:1.53\n",
      "m:4, r:1.53\n"
     ]
    },
    {
     "name": "stderr",
     "output_type": "stream",
     "text": [
      "\r",
      " 16%|█▌        | 8/50 [44:44<3:55:42, 336.72s/it]"
     ]
    },
    {
     "name": "stdout",
     "output_type": "stream",
     "text": [
      "m:1, r:1.74\n",
      "m:2, r:1.74\n",
      "m:3, r:1.74\n",
      "m:4, r:1.74\n"
     ]
    },
    {
     "name": "stderr",
     "output_type": "stream",
     "text": [
      "\r",
      " 18%|█▊        | 9/50 [50:21<3:50:09, 336.82s/it]"
     ]
    },
    {
     "name": "stdout",
     "output_type": "stream",
     "text": [
      "m:1, r:1.96\n",
      "m:2, r:1.96\n",
      "m:3, r:1.96\n",
      "m:4, r:1.96\n"
     ]
    },
    {
     "name": "stderr",
     "output_type": "stream",
     "text": [
      "\r",
      " 20%|██        | 10/50 [55:58<3:44:35, 336.89s/it]"
     ]
    },
    {
     "name": "stdout",
     "output_type": "stream",
     "text": [
      "m:1, r:2.18\n",
      "m:2, r:2.18\n",
      "m:3, r:2.18\n",
      "m:4, r:2.18\n"
     ]
    },
    {
     "name": "stderr",
     "output_type": "stream",
     "text": [
      "\r",
      " 22%|██▏       | 11/50 [1:01:35<3:39:00, 336.94s/it]"
     ]
    },
    {
     "name": "stdout",
     "output_type": "stream",
     "text": [
      "m:1, r:2.40\n",
      "m:2, r:2.40\n",
      "m:3, r:2.40\n",
      "m:4, r:2.40\n"
     ]
    },
    {
     "name": "stderr",
     "output_type": "stream",
     "text": [
      "\r",
      " 24%|██▍       | 12/50 [1:07:12<3:33:25, 336.97s/it]"
     ]
    },
    {
     "name": "stdout",
     "output_type": "stream",
     "text": [
      "m:1, r:2.62\n",
      "m:2, r:2.62\n",
      "m:3, r:2.62\n",
      "m:4, r:2.62\n"
     ]
    },
    {
     "name": "stderr",
     "output_type": "stream",
     "text": [
      "\r",
      " 26%|██▌       | 13/50 [1:12:49<3:27:49, 337.00s/it]"
     ]
    },
    {
     "name": "stdout",
     "output_type": "stream",
     "text": [
      "m:1, r:2.83\n",
      "m:2, r:2.83\n",
      "m:3, r:2.83\n",
      "m:4, r:2.83\n"
     ]
    },
    {
     "name": "stderr",
     "output_type": "stream",
     "text": [
      "\r",
      " 28%|██▊       | 14/50 [1:18:26<3:22:12, 337.01s/it]"
     ]
    },
    {
     "name": "stdout",
     "output_type": "stream",
     "text": [
      "m:1, r:3.05\n",
      "m:2, r:3.05\n",
      "m:3, r:3.05\n",
      "m:4, r:3.05\n"
     ]
    },
    {
     "name": "stderr",
     "output_type": "stream",
     "text": [
      "\r",
      " 30%|███       | 15/50 [1:24:03<3:16:35, 337.00s/it]"
     ]
    },
    {
     "name": "stdout",
     "output_type": "stream",
     "text": [
      "m:1, r:3.27\n",
      "m:2, r:3.27\n",
      "m:3, r:3.27\n",
      "m:4, r:3.27\n"
     ]
    },
    {
     "name": "stderr",
     "output_type": "stream",
     "text": [
      "\r",
      " 32%|███▏      | 16/50 [1:29:40<3:10:58, 337.00s/it]"
     ]
    },
    {
     "name": "stdout",
     "output_type": "stream",
     "text": [
      "m:1, r:3.49\n",
      "m:2, r:3.49\n",
      "m:3, r:3.49\n",
      "m:4, r:3.49\n"
     ]
    },
    {
     "name": "stderr",
     "output_type": "stream",
     "text": [
      "\r",
      " 34%|███▍      | 17/50 [1:35:17<3:05:21, 337.01s/it]"
     ]
    },
    {
     "name": "stdout",
     "output_type": "stream",
     "text": [
      "m:1, r:3.71\n",
      "m:2, r:3.71\n",
      "m:3, r:3.71\n",
      "m:4, r:3.71\n"
     ]
    },
    {
     "name": "stderr",
     "output_type": "stream",
     "text": [
      "\r",
      " 36%|███▌      | 18/50 [1:40:54<2:59:44, 337.01s/it]"
     ]
    },
    {
     "name": "stdout",
     "output_type": "stream",
     "text": [
      "m:1, r:3.92\n",
      "m:2, r:3.92\n",
      "m:3, r:3.92\n",
      "m:4, r:3.92\n"
     ]
    },
    {
     "name": "stderr",
     "output_type": "stream",
     "text": [
      "\r",
      " 38%|███▊      | 19/50 [1:46:31<2:54:07, 337.02s/it]"
     ]
    },
    {
     "name": "stdout",
     "output_type": "stream",
     "text": [
      "m:1, r:4.14\n",
      "m:2, r:4.14\n",
      "m:3, r:4.14\n",
      "m:4, r:4.14\n"
     ]
    },
    {
     "name": "stderr",
     "output_type": "stream",
     "text": [
      "\r",
      " 40%|████      | 20/50 [1:52:08<2:48:30, 337.03s/it]"
     ]
    },
    {
     "name": "stdout",
     "output_type": "stream",
     "text": [
      "m:1, r:4.36\n",
      "m:2, r:4.36\n",
      "m:3, r:4.36\n",
      "m:4, r:4.36\n"
     ]
    },
    {
     "name": "stderr",
     "output_type": "stream",
     "text": [
      "\r",
      " 42%|████▏     | 21/50 [1:57:45<2:42:54, 337.04s/it]"
     ]
    },
    {
     "name": "stdout",
     "output_type": "stream",
     "text": [
      "m:1, r:4.58\n",
      "m:2, r:4.58\n",
      "m:3, r:4.58\n",
      "m:4, r:4.58\n"
     ]
    },
    {
     "name": "stderr",
     "output_type": "stream",
     "text": [
      "\r",
      " 44%|████▍     | 22/50 [2:03:22<2:37:16, 337.03s/it]"
     ]
    },
    {
     "name": "stdout",
     "output_type": "stream",
     "text": [
      "m:1, r:4.80\n",
      "m:2, r:4.80\n",
      "m:3, r:4.80\n",
      "m:4, r:4.80\n"
     ]
    },
    {
     "name": "stderr",
     "output_type": "stream",
     "text": [
      "\r",
      " 46%|████▌     | 23/50 [2:08:59<2:31:39, 337.02s/it]"
     ]
    },
    {
     "name": "stdout",
     "output_type": "stream",
     "text": [
      "m:1, r:5.01\n",
      "m:2, r:5.01\n",
      "m:3, r:5.01\n",
      "m:4, r:5.01\n"
     ]
    },
    {
     "name": "stderr",
     "output_type": "stream",
     "text": [
      "\r",
      " 48%|████▊     | 24/50 [2:14:36<2:26:02, 337.02s/it]"
     ]
    },
    {
     "name": "stdout",
     "output_type": "stream",
     "text": [
      "m:1, r:5.23\n",
      "m:2, r:5.23\n",
      "m:3, r:5.23\n",
      "m:4, r:5.23\n"
     ]
    },
    {
     "name": "stderr",
     "output_type": "stream",
     "text": [
      "\r",
      " 50%|█████     | 25/50 [2:20:13<2:20:25, 337.02s/it]"
     ]
    },
    {
     "name": "stdout",
     "output_type": "stream",
     "text": [
      "m:1, r:5.45\n",
      "m:2, r:5.45\n",
      "m:3, r:5.45\n",
      "m:4, r:5.45\n"
     ]
    },
    {
     "name": "stderr",
     "output_type": "stream",
     "text": [
      "\r",
      " 52%|█████▏    | 26/50 [2:25:50<2:14:48, 337.02s/it]"
     ]
    },
    {
     "name": "stdout",
     "output_type": "stream",
     "text": [
      "m:1, r:5.67\n",
      "m:2, r:5.67\n",
      "m:3, r:5.67\n",
      "m:4, r:5.67\n"
     ]
    },
    {
     "name": "stderr",
     "output_type": "stream",
     "text": [
      "\r",
      " 54%|█████▍    | 27/50 [2:31:27<2:09:11, 337.02s/it]"
     ]
    },
    {
     "name": "stdout",
     "output_type": "stream",
     "text": [
      "m:1, r:5.89\n",
      "m:2, r:5.89\n",
      "m:3, r:5.89\n",
      "m:4, r:5.89\n"
     ]
    },
    {
     "name": "stderr",
     "output_type": "stream",
     "text": [
      "\r",
      " 56%|█████▌    | 28/50 [2:37:04<2:03:34, 337.01s/it]"
     ]
    },
    {
     "name": "stdout",
     "output_type": "stream",
     "text": [
      "m:1, r:6.10\n",
      "m:2, r:6.10\n",
      "m:3, r:6.10\n",
      "m:4, r:6.10\n"
     ]
    },
    {
     "name": "stderr",
     "output_type": "stream",
     "text": [
      "\r",
      " 58%|█████▊    | 29/50 [2:42:41<1:57:57, 337.02s/it]"
     ]
    },
    {
     "name": "stdout",
     "output_type": "stream",
     "text": [
      "m:1, r:6.32\n",
      "m:2, r:6.32\n",
      "m:3, r:6.32\n",
      "m:4, r:6.32\n"
     ]
    },
    {
     "name": "stderr",
     "output_type": "stream",
     "text": [
      "\r",
      " 60%|██████    | 30/50 [2:48:18<1:52:20, 337.02s/it]"
     ]
    },
    {
     "name": "stdout",
     "output_type": "stream",
     "text": [
      "m:1, r:6.54\n",
      "m:2, r:6.54\n",
      "m:3, r:6.54\n",
      "m:4, r:6.54\n"
     ]
    },
    {
     "name": "stderr",
     "output_type": "stream",
     "text": [
      "\r",
      " 62%|██████▏   | 31/50 [2:53:55<1:46:43, 337.02s/it]"
     ]
    },
    {
     "name": "stdout",
     "output_type": "stream",
     "text": [
      "m:1, r:6.76\n",
      "m:2, r:6.76\n",
      "m:3, r:6.76\n",
      "m:4, r:6.76\n"
     ]
    },
    {
     "name": "stderr",
     "output_type": "stream",
     "text": [
      "\r",
      " 64%|██████▍   | 32/50 [2:59:33<1:41:06, 337.03s/it]"
     ]
    },
    {
     "name": "stdout",
     "output_type": "stream",
     "text": [
      "m:1, r:6.98\n",
      "m:2, r:6.98\n",
      "m:3, r:6.98\n",
      "m:4, r:6.98\n"
     ]
    },
    {
     "name": "stderr",
     "output_type": "stream",
     "text": [
      "\r",
      " 66%|██████▌   | 33/50 [3:05:10<1:35:29, 337.03s/it]"
     ]
    },
    {
     "name": "stdout",
     "output_type": "stream",
     "text": [
      "m:1, r:7.19\n",
      "m:2, r:7.19\n",
      "m:3, r:7.19\n",
      "m:4, r:7.19\n"
     ]
    },
    {
     "name": "stderr",
     "output_type": "stream",
     "text": [
      "\r",
      " 68%|██████▊   | 34/50 [3:10:47<1:29:52, 337.04s/it]"
     ]
    },
    {
     "name": "stdout",
     "output_type": "stream",
     "text": [
      "m:1, r:7.41\n",
      "m:2, r:7.41\n",
      "m:3, r:7.41\n",
      "m:4, r:7.41\n"
     ]
    },
    {
     "name": "stderr",
     "output_type": "stream",
     "text": [
      "\r",
      " 70%|███████   | 35/50 [3:16:24<1:24:15, 337.05s/it]"
     ]
    },
    {
     "name": "stdout",
     "output_type": "stream",
     "text": [
      "m:1, r:7.63\n",
      "m:2, r:7.63\n",
      "m:3, r:7.63\n",
      "m:4, r:7.63\n"
     ]
    },
    {
     "name": "stderr",
     "output_type": "stream",
     "text": [
      "\r",
      " 72%|███████▏  | 36/50 [3:22:01<1:18:38, 337.05s/it]"
     ]
    },
    {
     "name": "stdout",
     "output_type": "stream",
     "text": [
      "m:1, r:7.85\n",
      "m:2, r:7.85\n",
      "m:3, r:7.85\n",
      "m:4, r:7.85\n"
     ]
    },
    {
     "name": "stderr",
     "output_type": "stream",
     "text": [
      "\r",
      " 74%|███████▍  | 37/50 [3:27:38<1:13:01, 337.05s/it]"
     ]
    },
    {
     "name": "stdout",
     "output_type": "stream",
     "text": [
      "m:1, r:8.07\n",
      "m:2, r:8.07\n",
      "m:3, r:8.07\n",
      "m:4, r:8.07\n"
     ]
    },
    {
     "name": "stderr",
     "output_type": "stream",
     "text": [
      "\r",
      " 76%|███████▌  | 38/50 [3:33:15<1:07:24, 337.06s/it]"
     ]
    },
    {
     "name": "stdout",
     "output_type": "stream",
     "text": [
      "m:1, r:8.28\n",
      "m:2, r:8.28\n",
      "m:3, r:8.28\n",
      "m:4, r:8.28\n"
     ]
    },
    {
     "name": "stderr",
     "output_type": "stream",
     "text": [
      "\r",
      " 78%|███████▊  | 39/50 [3:38:52<1:01:47, 337.06s/it]"
     ]
    },
    {
     "name": "stdout",
     "output_type": "stream",
     "text": [
      "m:1, r:8.50\n",
      "m:2, r:8.50\n",
      "m:3, r:8.50\n",
      "m:4, r:8.50\n"
     ]
    },
    {
     "name": "stderr",
     "output_type": "stream",
     "text": [
      "\r",
      " 80%|████████  | 40/50 [3:44:29<56:10, 337.05s/it]  "
     ]
    },
    {
     "name": "stdout",
     "output_type": "stream",
     "text": [
      "m:1, r:8.72\n",
      "m:2, r:8.72\n",
      "m:3, r:8.72\n",
      "m:4, r:8.72\n"
     ]
    },
    {
     "name": "stderr",
     "output_type": "stream",
     "text": [
      "\r",
      " 82%|████████▏ | 41/50 [3:50:06<50:33, 337.05s/it]"
     ]
    },
    {
     "name": "stdout",
     "output_type": "stream",
     "text": [
      "m:1, r:8.94\n",
      "m:2, r:8.94\n",
      "m:3, r:8.94\n",
      "m:4, r:8.94\n"
     ]
    },
    {
     "name": "stderr",
     "output_type": "stream",
     "text": [
      "\r",
      " 84%|████████▍ | 42/50 [3:55:43<44:56, 337.04s/it]"
     ]
    },
    {
     "name": "stdout",
     "output_type": "stream",
     "text": [
      "m:1, r:9.16\n",
      "m:2, r:9.16\n",
      "m:3, r:9.16\n",
      "m:4, r:9.16\n"
     ]
    },
    {
     "name": "stderr",
     "output_type": "stream",
     "text": [
      "\r",
      " 86%|████████▌ | 43/50 [4:01:20<39:19, 337.04s/it]"
     ]
    },
    {
     "name": "stdout",
     "output_type": "stream",
     "text": [
      "m:1, r:9.37\n",
      "m:2, r:9.37\n",
      "m:3, r:9.37\n",
      "m:4, r:9.37\n"
     ]
    },
    {
     "name": "stderr",
     "output_type": "stream",
     "text": [
      "\r",
      " 88%|████████▊ | 44/50 [4:06:57<33:42, 337.05s/it]"
     ]
    },
    {
     "name": "stdout",
     "output_type": "stream",
     "text": [
      "m:1, r:9.59\n",
      "m:2, r:9.59\n",
      "m:3, r:9.59\n",
      "m:4, r:9.59\n"
     ]
    },
    {
     "name": "stderr",
     "output_type": "stream",
     "text": [
      "\r",
      " 90%|█████████ | 45/50 [4:12:34<28:05, 337.04s/it]"
     ]
    },
    {
     "name": "stdout",
     "output_type": "stream",
     "text": [
      "m:1, r:9.81\n",
      "m:2, r:9.81\n",
      "m:3, r:9.81\n",
      "m:4, r:9.81\n"
     ]
    },
    {
     "name": "stderr",
     "output_type": "stream",
     "text": [
      "\r",
      " 92%|█████████▏| 46/50 [4:18:11<22:28, 337.03s/it]"
     ]
    },
    {
     "name": "stdout",
     "output_type": "stream",
     "text": [
      "m:1, r:10.03\n",
      "m:2, r:10.03\n",
      "m:3, r:10.03\n",
      "m:4, r:10.03\n"
     ]
    },
    {
     "name": "stderr",
     "output_type": "stream",
     "text": [
      "\r",
      " 94%|█████████▍| 47/50 [4:23:48<16:51, 337.04s/it]"
     ]
    },
    {
     "name": "stdout",
     "output_type": "stream",
     "text": [
      "m:1, r:10.25\n",
      "m:2, r:10.25\n",
      "m:3, r:10.25\n",
      "m:4, r:10.25\n"
     ]
    },
    {
     "name": "stderr",
     "output_type": "stream",
     "text": [
      "\r",
      " 96%|█████████▌| 48/50 [4:29:25<11:14, 337.05s/it]"
     ]
    },
    {
     "name": "stdout",
     "output_type": "stream",
     "text": [
      "m:1, r:10.46\n",
      "m:2, r:10.46\n",
      "m:3, r:10.46\n",
      "m:4, r:10.46\n"
     ]
    },
    {
     "name": "stderr",
     "output_type": "stream",
     "text": [
      "\r",
      " 98%|█████████▊| 49/50 [4:35:02<05:37, 337.06s/it]"
     ]
    },
    {
     "name": "stdout",
     "output_type": "stream",
     "text": [
      "m:1, r:10.68\n",
      "m:2, r:10.68\n",
      "m:3, r:10.68\n",
      "m:4, r:10.68\n"
     ]
    },
    {
     "name": "stderr",
     "output_type": "stream",
     "text": [
      "100%|██████████| 50/50 [4:40:39<00:00, 336.80s/it]\n"
     ]
    }
   ],
   "source": [
    "from tqdm import tqdm\n",
    "\n",
    "r_min = 0.0\n",
    "r_max = 0.25\n",
    "m_min = 1\n",
    "m_max = 4\n",
    "\n",
    "SLICES = 50\n",
    "my_list = []\n",
    "\n",
    "# entropy frame\n",
    "ef = X[0:500,2,:,:]\n",
    "#ef = fsi.DEF\n",
    "#ef = df.pollution\n",
    "N_SAMPLES = len(ef)\n",
    "\n",
    "for r in tqdm(np.linspace(r_min, r_max, SLICES)):\n",
    "    for m in range(m_min, m_max+1):\n",
    "        u, m_value, r_value = params_entropy(ef[:N_SAMPLES], m, r)\n",
    "        print(f'm:{m_value}, r:{r_value:.2f}')\n",
    "        my_list.append([m,\n",
    "                        r_value,\n",
    "                        apen_cp(u,m_value,r_value),\n",
    "                        sampen_cp(u,m_value,r_value)])"
   ]
  },
  {
   "cell_type": "code",
   "execution_count": null,
   "id": "34485d49",
   "metadata": {},
   "outputs": [],
   "source": []
  },
  {
   "cell_type": "markdown",
   "id": "f80dc92b",
   "metadata": {},
   "source": [
    "### Graficos de rendimiento"
   ]
  },
  {
   "cell_type": "code",
   "execution_count": 8,
   "id": "7a2b0d6e",
   "metadata": {},
   "outputs": [
    {
     "data": {
      "text/html": [
       "<div>\n",
       "<style scoped>\n",
       "    .dataframe tbody tr th:only-of-type {\n",
       "        vertical-align: middle;\n",
       "    }\n",
       "\n",
       "    .dataframe tbody tr th {\n",
       "        vertical-align: top;\n",
       "    }\n",
       "\n",
       "    .dataframe thead th {\n",
       "        text-align: right;\n",
       "    }\n",
       "</style>\n",
       "<table border=\"1\" class=\"dataframe\">\n",
       "  <thead>\n",
       "    <tr style=\"text-align: right;\">\n",
       "      <th></th>\n",
       "      <th>m</th>\n",
       "      <th>r</th>\n",
       "      <th>apen</th>\n",
       "      <th>sampen</th>\n",
       "    </tr>\n",
       "  </thead>\n",
       "  <tbody>\n",
       "    <tr>\n",
       "      <th>0</th>\n",
       "      <td>1</td>\n",
       "      <td>0.000000</td>\n",
       "      <td>0.003027504944520928</td>\n",
       "      <td>0.00303185153242211</td>\n",
       "    </tr>\n",
       "    <tr>\n",
       "      <th>4</th>\n",
       "      <td>1</td>\n",
       "      <td>0.218015</td>\n",
       "      <td>0.951373523269081</td>\n",
       "      <td>0.9728399437344414</td>\n",
       "    </tr>\n",
       "    <tr>\n",
       "      <th>8</th>\n",
       "      <td>1</td>\n",
       "      <td>0.436030</td>\n",
       "      <td>1.3673966153487895</td>\n",
       "      <td>1.401663286729716</td>\n",
       "    </tr>\n",
       "    <tr>\n",
       "      <th>12</th>\n",
       "      <td>1</td>\n",
       "      <td>0.654045</td>\n",
       "      <td>1.598854721471239</td>\n",
       "      <td>1.6382891593547884</td>\n",
       "    </tr>\n",
       "    <tr>\n",
       "      <th>16</th>\n",
       "      <td>1</td>\n",
       "      <td>0.872060</td>\n",
       "      <td>1.7284042445781593</td>\n",
       "      <td>1.7682064309017809</td>\n",
       "    </tr>\n",
       "    <tr>\n",
       "      <th>20</th>\n",
       "      <td>1</td>\n",
       "      <td>1.090075</td>\n",
       "      <td>1.7970729739493845</td>\n",
       "      <td>1.833725748533338</td>\n",
       "    </tr>\n",
       "    <tr>\n",
       "      <th>24</th>\n",
       "      <td>1</td>\n",
       "      <td>1.308091</td>\n",
       "      <td>1.8262242149458048</td>\n",
       "      <td>1.8569071002317508</td>\n",
       "    </tr>\n",
       "    <tr>\n",
       "      <th>28</th>\n",
       "      <td>1</td>\n",
       "      <td>1.526106</td>\n",
       "      <td>1.831145003524853</td>\n",
       "      <td>1.8543711319477771</td>\n",
       "    </tr>\n",
       "    <tr>\n",
       "      <th>32</th>\n",
       "      <td>1</td>\n",
       "      <td>1.744121</td>\n",
       "      <td>1.820213698800975</td>\n",
       "      <td>1.8351280738615772</td>\n",
       "    </tr>\n",
       "    <tr>\n",
       "      <th>36</th>\n",
       "      <td>1</td>\n",
       "      <td>1.962136</td>\n",
       "      <td>1.7981309060762511</td>\n",
       "      <td>1.8052100985015687</td>\n",
       "    </tr>\n",
       "    <tr>\n",
       "      <th>40</th>\n",
       "      <td>1</td>\n",
       "      <td>2.180151</td>\n",
       "      <td>1.7689782220060932</td>\n",
       "      <td>1.7680295009057552</td>\n",
       "    </tr>\n",
       "    <tr>\n",
       "      <th>44</th>\n",
       "      <td>1</td>\n",
       "      <td>2.398166</td>\n",
       "      <td>1.734994414517004</td>\n",
       "      <td>1.7269055743838397</td>\n",
       "    </tr>\n",
       "    <tr>\n",
       "      <th>48</th>\n",
       "      <td>1</td>\n",
       "      <td>2.616181</td>\n",
       "      <td>1.6986039788996938</td>\n",
       "      <td>1.6836881880448833</td>\n",
       "    </tr>\n",
       "    <tr>\n",
       "      <th>52</th>\n",
       "      <td>1</td>\n",
       "      <td>2.834196</td>\n",
       "      <td>1.6602021435695464</td>\n",
       "      <td>1.6394288479491104</td>\n",
       "    </tr>\n",
       "    <tr>\n",
       "      <th>56</th>\n",
       "      <td>1</td>\n",
       "      <td>3.052211</td>\n",
       "      <td>1.6214881514184651</td>\n",
       "      <td>1.5952961370609708</td>\n",
       "    </tr>\n",
       "    <tr>\n",
       "      <th>60</th>\n",
       "      <td>1</td>\n",
       "      <td>3.270226</td>\n",
       "      <td>1.581692115508958</td>\n",
       "      <td>1.5512104646829235</td>\n",
       "    </tr>\n",
       "    <tr>\n",
       "      <th>64</th>\n",
       "      <td>1</td>\n",
       "      <td>3.488241</td>\n",
       "      <td>1.5426991322010426</td>\n",
       "      <td>1.5078905642303193</td>\n",
       "    </tr>\n",
       "    <tr>\n",
       "      <th>68</th>\n",
       "      <td>1</td>\n",
       "      <td>3.706257</td>\n",
       "      <td>1.5042042520232786</td>\n",
       "      <td>1.4658295594271842</td>\n",
       "    </tr>\n",
       "    <tr>\n",
       "      <th>72</th>\n",
       "      <td>1</td>\n",
       "      <td>3.924272</td>\n",
       "      <td>1.4664411560707409</td>\n",
       "      <td>1.4248311922784287</td>\n",
       "    </tr>\n",
       "    <tr>\n",
       "      <th>76</th>\n",
       "      <td>1</td>\n",
       "      <td>4.142287</td>\n",
       "      <td>1.4287662125664466</td>\n",
       "      <td>1.3845742272094805</td>\n",
       "    </tr>\n",
       "    <tr>\n",
       "      <th>80</th>\n",
       "      <td>1</td>\n",
       "      <td>4.360302</td>\n",
       "      <td>1.3925668151708583</td>\n",
       "      <td>1.346146674672782</td>\n",
       "    </tr>\n",
       "    <tr>\n",
       "      <th>84</th>\n",
       "      <td>1</td>\n",
       "      <td>4.578317</td>\n",
       "      <td>1.3570904476818015</td>\n",
       "      <td>1.308949164675506</td>\n",
       "    </tr>\n",
       "    <tr>\n",
       "      <th>88</th>\n",
       "      <td>1</td>\n",
       "      <td>4.796332</td>\n",
       "      <td>1.3227395728162639</td>\n",
       "      <td>1.2730379631163604</td>\n",
       "    </tr>\n",
       "    <tr>\n",
       "      <th>92</th>\n",
       "      <td>1</td>\n",
       "      <td>5.014347</td>\n",
       "      <td>1.2894450445152834</td>\n",
       "      <td>1.2385209946621576</td>\n",
       "    </tr>\n",
       "    <tr>\n",
       "      <th>96</th>\n",
       "      <td>1</td>\n",
       "      <td>5.232362</td>\n",
       "      <td>1.2573175687990659</td>\n",
       "      <td>1.2054528014484576</td>\n",
       "    </tr>\n",
       "    <tr>\n",
       "      <th>100</th>\n",
       "      <td>1</td>\n",
       "      <td>5.450377</td>\n",
       "      <td>1.2257155870205434</td>\n",
       "      <td>1.1731666731830988</td>\n",
       "    </tr>\n",
       "    <tr>\n",
       "      <th>104</th>\n",
       "      <td>1</td>\n",
       "      <td>5.668392</td>\n",
       "      <td>1.1953649313262031</td>\n",
       "      <td>1.1422220458904913</td>\n",
       "    </tr>\n",
       "    <tr>\n",
       "      <th>108</th>\n",
       "      <td>1</td>\n",
       "      <td>5.886407</td>\n",
       "      <td>1.1654560372312697</td>\n",
       "      <td>1.1120841029889128</td>\n",
       "    </tr>\n",
       "    <tr>\n",
       "      <th>112</th>\n",
       "      <td>1</td>\n",
       "      <td>6.104423</td>\n",
       "      <td>1.1364366105220136</td>\n",
       "      <td>1.0830920801478163</td>\n",
       "    </tr>\n",
       "    <tr>\n",
       "      <th>116</th>\n",
       "      <td>1</td>\n",
       "      <td>6.322438</td>\n",
       "      <td>1.1082612005190626</td>\n",
       "      <td>1.0549642478936299</td>\n",
       "    </tr>\n",
       "    <tr>\n",
       "      <th>120</th>\n",
       "      <td>1</td>\n",
       "      <td>6.540453</td>\n",
       "      <td>1.0812455452650802</td>\n",
       "      <td>1.0281610639344856</td>\n",
       "    </tr>\n",
       "    <tr>\n",
       "      <th>124</th>\n",
       "      <td>1</td>\n",
       "      <td>6.758468</td>\n",
       "      <td>1.0548333307084101</td>\n",
       "      <td>1.0021075936281894</td>\n",
       "    </tr>\n",
       "    <tr>\n",
       "      <th>128</th>\n",
       "      <td>1</td>\n",
       "      <td>6.976483</td>\n",
       "      <td>1.029283190702594</td>\n",
       "      <td>0.9770114038150856</td>\n",
       "    </tr>\n",
       "    <tr>\n",
       "      <th>132</th>\n",
       "      <td>1</td>\n",
       "      <td>7.194498</td>\n",
       "      <td>1.0044480332809258</td>\n",
       "      <td>0.9526813905019187</td>\n",
       "    </tr>\n",
       "    <tr>\n",
       "      <th>136</th>\n",
       "      <td>1</td>\n",
       "      <td>7.412513</td>\n",
       "      <td>0.9802996454933832</td>\n",
       "      <td>0.9290806201714038</td>\n",
       "    </tr>\n",
       "    <tr>\n",
       "      <th>140</th>\n",
       "      <td>1</td>\n",
       "      <td>7.630528</td>\n",
       "      <td>0.9568896123782984</td>\n",
       "      <td>0.9062326499070402</td>\n",
       "    </tr>\n",
       "    <tr>\n",
       "      <th>144</th>\n",
       "      <td>1</td>\n",
       "      <td>7.848543</td>\n",
       "      <td>0.934057075707192</td>\n",
       "      <td>0.8841438808415645</td>\n",
       "    </tr>\n",
       "    <tr>\n",
       "      <th>148</th>\n",
       "      <td>1</td>\n",
       "      <td>8.066558</td>\n",
       "      <td>0.9117952173095144</td>\n",
       "      <td>0.8628064348952519</td>\n",
       "    </tr>\n",
       "    <tr>\n",
       "      <th>152</th>\n",
       "      <td>1</td>\n",
       "      <td>8.284573</td>\n",
       "      <td>0.8902079763927997</td>\n",
       "      <td>0.8421495161384566</td>\n",
       "    </tr>\n",
       "    <tr>\n",
       "      <th>156</th>\n",
       "      <td>1</td>\n",
       "      <td>8.502589</td>\n",
       "      <td>0.8693420121849799</td>\n",
       "      <td>0.8222680286817673</td>\n",
       "    </tr>\n",
       "    <tr>\n",
       "      <th>160</th>\n",
       "      <td>1</td>\n",
       "      <td>8.720604</td>\n",
       "      <td>0.8493170934121614</td>\n",
       "      <td>0.8031954962546136</td>\n",
       "    </tr>\n",
       "    <tr>\n",
       "      <th>164</th>\n",
       "      <td>1</td>\n",
       "      <td>8.938619</td>\n",
       "      <td>0.8297388158475268</td>\n",
       "      <td>0.7845880716707615</td>\n",
       "    </tr>\n",
       "    <tr>\n",
       "      <th>168</th>\n",
       "      <td>1</td>\n",
       "      <td>9.156634</td>\n",
       "      <td>0.81067424253665</td>\n",
       "      <td>0.7665052836290327</td>\n",
       "    </tr>\n",
       "    <tr>\n",
       "      <th>172</th>\n",
       "      <td>1</td>\n",
       "      <td>9.374649</td>\n",
       "      <td>0.7922399884222981</td>\n",
       "      <td>0.74911724092786</td>\n",
       "    </tr>\n",
       "    <tr>\n",
       "      <th>176</th>\n",
       "      <td>1</td>\n",
       "      <td>9.592664</td>\n",
       "      <td>0.774371580487039</td>\n",
       "      <td>0.7322818884786777</td>\n",
       "    </tr>\n",
       "    <tr>\n",
       "      <th>180</th>\n",
       "      <td>1</td>\n",
       "      <td>9.810679</td>\n",
       "      <td>0.756963691505759</td>\n",
       "      <td>0.7159221047805059</td>\n",
       "    </tr>\n",
       "    <tr>\n",
       "      <th>184</th>\n",
       "      <td>1</td>\n",
       "      <td>10.028694</td>\n",
       "      <td>0.7401682132774137</td>\n",
       "      <td>0.7001968699894924</td>\n",
       "    </tr>\n",
       "    <tr>\n",
       "      <th>188</th>\n",
       "      <td>1</td>\n",
       "      <td>10.246709</td>\n",
       "      <td>0.7238972240703146</td>\n",
       "      <td>0.6849166868145017</td>\n",
       "    </tr>\n",
       "    <tr>\n",
       "      <th>192</th>\n",
       "      <td>1</td>\n",
       "      <td>10.464724</td>\n",
       "      <td>0.7079316193220687</td>\n",
       "      <td>0.6699765620618534</td>\n",
       "    </tr>\n",
       "    <tr>\n",
       "      <th>196</th>\n",
       "      <td>1</td>\n",
       "      <td>10.682739</td>\n",
       "      <td>0.692510848927957</td>\n",
       "      <td>0.6555765045745845</td>\n",
       "    </tr>\n",
       "  </tbody>\n",
       "</table>\n",
       "</div>"
      ],
      "text/plain": [
       "     m          r                  apen               sampen\n",
       "0    1   0.000000  0.003027504944520928  0.00303185153242211\n",
       "4    1   0.218015     0.951373523269081   0.9728399437344414\n",
       "8    1   0.436030    1.3673966153487895    1.401663286729716\n",
       "12   1   0.654045     1.598854721471239   1.6382891593547884\n",
       "16   1   0.872060    1.7284042445781593   1.7682064309017809\n",
       "20   1   1.090075    1.7970729739493845    1.833725748533338\n",
       "24   1   1.308091    1.8262242149458048   1.8569071002317508\n",
       "28   1   1.526106     1.831145003524853   1.8543711319477771\n",
       "32   1   1.744121     1.820213698800975   1.8351280738615772\n",
       "36   1   1.962136    1.7981309060762511   1.8052100985015687\n",
       "40   1   2.180151    1.7689782220060932   1.7680295009057552\n",
       "44   1   2.398166     1.734994414517004   1.7269055743838397\n",
       "48   1   2.616181    1.6986039788996938   1.6836881880448833\n",
       "52   1   2.834196    1.6602021435695464   1.6394288479491104\n",
       "56   1   3.052211    1.6214881514184651   1.5952961370609708\n",
       "60   1   3.270226     1.581692115508958   1.5512104646829235\n",
       "64   1   3.488241    1.5426991322010426   1.5078905642303193\n",
       "68   1   3.706257    1.5042042520232786   1.4658295594271842\n",
       "72   1   3.924272    1.4664411560707409   1.4248311922784287\n",
       "76   1   4.142287    1.4287662125664466   1.3845742272094805\n",
       "80   1   4.360302    1.3925668151708583    1.346146674672782\n",
       "84   1   4.578317    1.3570904476818015    1.308949164675506\n",
       "88   1   4.796332    1.3227395728162639   1.2730379631163604\n",
       "92   1   5.014347    1.2894450445152834   1.2385209946621576\n",
       "96   1   5.232362    1.2573175687990659   1.2054528014484576\n",
       "100  1   5.450377    1.2257155870205434   1.1731666731830988\n",
       "104  1   5.668392    1.1953649313262031   1.1422220458904913\n",
       "108  1   5.886407    1.1654560372312697   1.1120841029889128\n",
       "112  1   6.104423    1.1364366105220136   1.0830920801478163\n",
       "116  1   6.322438    1.1082612005190626   1.0549642478936299\n",
       "120  1   6.540453    1.0812455452650802   1.0281610639344856\n",
       "124  1   6.758468    1.0548333307084101   1.0021075936281894\n",
       "128  1   6.976483     1.029283190702594   0.9770114038150856\n",
       "132  1   7.194498    1.0044480332809258   0.9526813905019187\n",
       "136  1   7.412513    0.9802996454933832   0.9290806201714038\n",
       "140  1   7.630528    0.9568896123782984   0.9062326499070402\n",
       "144  1   7.848543     0.934057075707192   0.8841438808415645\n",
       "148  1   8.066558    0.9117952173095144   0.8628064348952519\n",
       "152  1   8.284573    0.8902079763927997   0.8421495161384566\n",
       "156  1   8.502589    0.8693420121849799   0.8222680286817673\n",
       "160  1   8.720604    0.8493170934121614   0.8031954962546136\n",
       "164  1   8.938619    0.8297388158475268   0.7845880716707615\n",
       "168  1   9.156634      0.81067424253665   0.7665052836290327\n",
       "172  1   9.374649    0.7922399884222981     0.74911724092786\n",
       "176  1   9.592664     0.774371580487039   0.7322818884786777\n",
       "180  1   9.810679     0.756963691505759   0.7159221047805059\n",
       "184  1  10.028694    0.7401682132774137   0.7001968699894924\n",
       "188  1  10.246709    0.7238972240703146   0.6849166868145017\n",
       "192  1  10.464724    0.7079316193220687   0.6699765620618534\n",
       "196  1  10.682739     0.692510848927957   0.6555765045745845"
      ]
     },
     "execution_count": 8,
     "metadata": {},
     "output_type": "execute_result"
    }
   ],
   "source": [
    "# Create df\n",
    "gf = pd.DataFrame(my_list, columns=['m', 'r', 'apen', 'sampen'])\n",
    "gf[gf.m==1]"
   ]
  },
  {
   "cell_type": "code",
   "execution_count": 9,
   "id": "e9ddf7e2",
   "metadata": {},
   "outputs": [],
   "source": [
    "import sys\n",
    "\n",
    "# Discard invalid values\n",
    "gf.apen = gf.apen.apply(lambda x: x if 0<x<sys.float_info.max else np.nan)\n",
    "gf.sampen = gf.sampen.apply(lambda x: x if 0<x<sys.float_info.max else np.nan)\n",
    "gf.dropna(inplace=True)"
   ]
  },
  {
   "cell_type": "code",
   "execution_count": 10,
   "id": "52f7e962",
   "metadata": {},
   "outputs": [],
   "source": [
    "# Save df\n",
    "gf.to_csv('/opt/datos/entropy/entropy_X_Z500_0-500.csv')"
   ]
  },
  {
   "cell_type": "code",
   "execution_count": 11,
   "id": "8eac0253",
   "metadata": {},
   "outputs": [
    {
     "data": {
      "text/html": [
       "<div>\n",
       "<style scoped>\n",
       "    .dataframe tbody tr th:only-of-type {\n",
       "        vertical-align: middle;\n",
       "    }\n",
       "\n",
       "    .dataframe tbody tr th {\n",
       "        vertical-align: top;\n",
       "    }\n",
       "\n",
       "    .dataframe thead th {\n",
       "        text-align: right;\n",
       "    }\n",
       "</style>\n",
       "<table border=\"1\" class=\"dataframe\">\n",
       "  <thead>\n",
       "    <tr style=\"text-align: right;\">\n",
       "      <th></th>\n",
       "      <th>m</th>\n",
       "      <th>r</th>\n",
       "      <th>apen</th>\n",
       "      <th>sampen</th>\n",
       "    </tr>\n",
       "  </thead>\n",
       "  <tbody>\n",
       "    <tr>\n",
       "      <th>0</th>\n",
       "      <td>1</td>\n",
       "      <td>0.000000</td>\n",
       "      <td>0.003028</td>\n",
       "      <td>0.003032</td>\n",
       "    </tr>\n",
       "    <tr>\n",
       "      <th>4</th>\n",
       "      <td>1</td>\n",
       "      <td>0.218015</td>\n",
       "      <td>0.951374</td>\n",
       "      <td>0.972840</td>\n",
       "    </tr>\n",
       "    <tr>\n",
       "      <th>5</th>\n",
       "      <td>2</td>\n",
       "      <td>0.218015</td>\n",
       "      <td>0.019931</td>\n",
       "      <td>0.019995</td>\n",
       "    </tr>\n",
       "    <tr>\n",
       "      <th>6</th>\n",
       "      <td>3</td>\n",
       "      <td>0.218015</td>\n",
       "      <td>0.000273</td>\n",
       "      <td>0.000273</td>\n",
       "    </tr>\n",
       "    <tr>\n",
       "      <th>8</th>\n",
       "      <td>1</td>\n",
       "      <td>0.436030</td>\n",
       "      <td>1.367397</td>\n",
       "      <td>1.401663</td>\n",
       "    </tr>\n",
       "    <tr>\n",
       "      <th>...</th>\n",
       "      <td>...</td>\n",
       "      <td>...</td>\n",
       "      <td>...</td>\n",
       "      <td>...</td>\n",
       "    </tr>\n",
       "    <tr>\n",
       "      <th>195</th>\n",
       "      <td>4</td>\n",
       "      <td>10.464724</td>\n",
       "      <td>0.544372</td>\n",
       "      <td>0.549735</td>\n",
       "    </tr>\n",
       "    <tr>\n",
       "      <th>196</th>\n",
       "      <td>1</td>\n",
       "      <td>10.682739</td>\n",
       "      <td>0.692511</td>\n",
       "      <td>0.655577</td>\n",
       "    </tr>\n",
       "    <tr>\n",
       "      <th>197</th>\n",
       "      <td>2</td>\n",
       "      <td>10.682739</td>\n",
       "      <td>0.677685</td>\n",
       "      <td>0.651150</td>\n",
       "    </tr>\n",
       "    <tr>\n",
       "      <th>198</th>\n",
       "      <td>3</td>\n",
       "      <td>10.682739</td>\n",
       "      <td>0.607645</td>\n",
       "      <td>0.586656</td>\n",
       "    </tr>\n",
       "    <tr>\n",
       "      <th>199</th>\n",
       "      <td>4</td>\n",
       "      <td>10.682739</td>\n",
       "      <td>0.540191</td>\n",
       "      <td>0.543105</td>\n",
       "    </tr>\n",
       "  </tbody>\n",
       "</table>\n",
       "<p>196 rows × 4 columns</p>\n",
       "</div>"
      ],
      "text/plain": [
       "     m          r      apen    sampen\n",
       "0    1   0.000000  0.003028  0.003032\n",
       "4    1   0.218015  0.951374  0.972840\n",
       "5    2   0.218015  0.019931  0.019995\n",
       "6    3   0.218015  0.000273  0.000273\n",
       "8    1   0.436030  1.367397  1.401663\n",
       "..  ..        ...       ...       ...\n",
       "195  4  10.464724  0.544372  0.549735\n",
       "196  1  10.682739  0.692511  0.655577\n",
       "197  2  10.682739  0.677685  0.651150\n",
       "198  3  10.682739  0.607645  0.586656\n",
       "199  4  10.682739  0.540191  0.543105\n",
       "\n",
       "[196 rows x 4 columns]"
      ]
     },
     "execution_count": 11,
     "metadata": {},
     "output_type": "execute_result"
    }
   ],
   "source": [
    "entropy_f = pd.read_csv('/opt/datos/entropy/entropy_X_Z500_0-500.csv', index_col=0)\n",
    "entropy_f"
   ]
  },
  {
   "cell_type": "code",
   "execution_count": 12,
   "id": "1853f91a",
   "metadata": {
    "scrolled": false
   },
   "outputs": [
    {
     "data": {
      "image/png": "[encoded data removed]",
      "text/plain": [
       "<Figure size 1152x576 with 4 Axes>"
      ]
     },
     "metadata": {
      "needs_background": "light"
     },
     "output_type": "display_data"
    }
   ],
   "source": [
    "from math import ceil\n",
    "algos = ['ApEn', 'SampEn']\n",
    "\n",
    "fig, axs = plt.subplots(2, 2, figsize=(16,8))\n",
    "max_x = round(max(gf.r))\n",
    "max_y = round(float(max(gf.apen.append(gf.sampen))),1)\n",
    "slices_y = int(max_y*10+1)\n",
    "\n",
    "for m in range(m_min, m_max+1):\n",
    "    for algo in algos:\n",
    "        row = int(format(m-1, \"b\").zfill(2)[0])\n",
    "        col = int(format(m-1, \"b\").zfill(2)[1])\n",
    "        axs[row][col].plot(gf[gf.m==m]['r'], gf[gf.m==m][algo.lower()], label=algo)\n",
    "        axs[row][col].legend()\n",
    "        axs[row][col].set_title(f'm={m}', fontsize=12)\n",
    "        axs[row][col].set_xlabel('r')\n",
    "        axs[row][col].set_xticks(np.arange(0, max_x, step=1))\n",
    "        axs[row][col].set_yticks(np.arange(0, max_y, step=0.2))\n",
    "        axs[row][col].set_xlim(xmin=0, xmax=max_x)\n",
    "        axs[row][col].grid(True, linestyle='dashdot')"
   ]
  },
  {
   "cell_type": "code",
   "execution_count": null,
   "id": "d7411b6a",
   "metadata": {},
   "outputs": [],
   "source": []
  }
 ],
 "metadata": {
  "kernelspec": {
   "display_name": "tesis",
   "language": "python",
   "name": "tesis"
  },
  "language_info": {
   "codemirror_mode": {
    "name": "ipython",
    "version": 3
   },
   "file_extension": ".py",
   "mimetype": "text/x-python",
   "name": "python",
   "nbconvert_exporter": "python",
   "pygments_lexer": "ipython3",
   "version": "3.8.8"
  }
 },
 "nbformat": 4,
 "nbformat_minor": 5
}
