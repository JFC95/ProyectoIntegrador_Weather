{
 "cells": [
  {
   "cell_type": "code",
   "execution_count": 1,
   "id": "db546c06",
   "metadata": {},
   "outputs": [],
   "source": [
    "%config Completer.use_jedi = False"
   ]
  },
  {
   "cell_type": "code",
   "execution_count": 2,
   "id": "16c2f781",
   "metadata": {},
   "outputs": [],
   "source": [
    "import os\n",
    "from pathlib import Path"
   ]
  },
  {
   "cell_type": "code",
   "execution_count": 88,
   "id": "4fbb406f",
   "metadata": {},
   "outputs": [],
   "source": [
    "directory_in_str = \"/opt/datos/gfsRaster/geotiff/2020_12/31_18/\" #dentro de ....\n",
    "pathlist = Path(directory_in_str).glob('**/*.tiff') \n",
    "horarios18 = [\"Z00:00\", \"Z03:00\", \"Z06:00\", \"Z09:00\"]"
   ]
  },
  {
   "cell_type": "code",
   "execution_count": 89,
   "id": "73bfcbc9",
   "metadata": {},
   "outputs": [],
   "source": [
    "for path in pathlist:\n",
    "    path_in_str = str(path)\n",
    "    #print(path_in_str)\n",
    "    if((path_in_str[72:74] == \"01\") and (path_in_str[74:80] in horarios18)):\n",
    "        try:\n",
    "            path_nuevo = path_in_str.replace(\"basura\", \"None\")\n",
    "            os.rename(path_in_str, path_nuevo)\n",
    "        except:\n",
    "            print(\"No se encontro el archivo\")\n",
    "    elif((path_in_str[73:75] == \"01\") and (path_in_str[75:81] in horarios18)):\n",
    "        try:\n",
    "            path_nuevo = path_in_str.replace(\"basura\", \"None\")\n",
    "            os.rename(path_in_str, path_nuevo)\n",
    "        except:\n",
    "            print(\"No se encontro el archivo\")"
   ]
  },
  {
   "cell_type": "code",
   "execution_count": null,
   "id": "b2aab375",
   "metadata": {},
   "outputs": [],
   "source": []
  },
  {
   "cell_type": "code",
   "execution_count": null,
   "id": "3add0f93",
   "metadata": {},
   "outputs": [],
   "source": [
    "'''for path in pathlist:\n",
    "    path_in_str = str(path)\n",
    "    #print(path_in_str)\n",
    "    if(((path_in_str[72:74] != \"01\") or (path_in_str[74:80] not in horarios18)) and (path_in_str.find(\"_100000\"))==-1):\n",
    "        print(path_in_str)\n",
    "    elif(((path_in_str[73:75] != \"01\") or (path_in_str[75:81] not in horarios18)) and (path_in_str.find(\"_100000_\"))!=-1):\n",
    "        print(path_in_str)'''"
   ]
  }
 ],
 "metadata": {
  "kernelspec": {
   "display_name": "tesis",
   "language": "python",
   "name": "tesis"
  },
  "language_info": {
   "codemirror_mode": {
    "name": "ipython",
    "version": 3
   },
   "file_extension": ".py",
   "mimetype": "text/x-python",
   "name": "python",
   "nbconvert_exporter": "python",
   "pygments_lexer": "ipython3",
   "version": "3.8.8"
  }
 },
 "nbformat": 4,
 "nbformat_minor": 5
}
