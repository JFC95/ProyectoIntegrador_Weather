{
 "cells": [
  {
   "cell_type": "code",
   "execution_count": 1,
   "id": "61358e91",
   "metadata": {},
   "outputs": [],
   "source": [
    "from tensorflow.keras.models import Sequential\n",
    "from tensorflow.keras import layers\n",
    "from tensorflow.keras import models\n",
    "from tensorflow.keras.layers import BatchNormalization, Conv2D, UpSampling2D, MaxPooling2D, Dropout\n",
    "from tensorflow.keras.optimizers import Adam,SGD\n",
    "from tensorflow.keras import regularizers\n",
    "import numpy as np\n",
    "import matplotlib.pyplot as plt\n",
    "import seaborn as sns\n",
    "import pickle"
   ]
  },
  {
   "cell_type": "code",
   "execution_count": 2,
   "id": "e5eb3380",
   "metadata": {},
   "outputs": [],
   "source": [
    "from tensorflow.keras import backend\n",
    "backend.set_image_data_format('channels_first')"
   ]
  },
  {
   "cell_type": "code",
   "execution_count": 3,
   "id": "075f7e79",
   "metadata": {},
   "outputs": [],
   "source": [
    "def get_unet():\n",
    "    #concat_axis = 3 # 3 o 1\n",
    "    concat_axis = 1 \n",
    "    #inputs = layers.Input(shape = (80, 120, 3))\n",
    "    inputs = layers.Input(shape = (3, 128, 144))\n",
    "    \n",
    "    #encoder\n",
    "    bn0 = BatchNormalization(axis=1)(inputs)\n",
    "    conv1 = layers.Conv2D(32, (3, 3), activation='relu', padding='same', name='conv1_1')(bn0)\n",
    "    bn1 = BatchNormalization(axis=1)(conv1)\n",
    "    conv1 = layers.Conv2D(32, (3, 3), activation='relu', padding='same')(bn1)\n",
    "    bn2 = BatchNormalization(axis=1)(conv1)\n",
    "    pool1 = layers.MaxPooling2D(pool_size=(2, 2))(bn2)\n",
    "    conv2 = layers.Conv2D(64, (3, 3), activation='relu', padding='same')(pool1)\n",
    "    bn3 = BatchNormalization(axis=1)(conv2)\n",
    "    conv2 = layers.Conv2D(64, (3, 3), activation='relu', padding='same')(bn3)\n",
    "    bn4 = BatchNormalization(axis=1)(conv2)\n",
    "    pool2 = layers.MaxPooling2D(pool_size=(2, 2))(bn4)\n",
    "\n",
    "    conv3 = layers.Conv2D(128, (3, 3), activation='relu', padding='same')(pool2)\n",
    "    bn5 = BatchNormalization(axis=1)(conv3)\n",
    "    conv3 = layers.Conv2D(128, (3, 3), activation='relu', padding='same')(bn5)\n",
    "    bn6 = BatchNormalization(axis=1)(conv3)\n",
    "    pool3 = layers.MaxPooling2D(pool_size=(2, 2))(bn6)\n",
    "\n",
    "    conv4 = layers.Conv2D(256, (3, 3), activation='relu', padding='same')(pool3)\n",
    "    bn7 = BatchNormalization(axis=1)(conv4)\n",
    "    conv4 = layers.Conv2D(256, (3, 3), activation='relu', padding='same')(bn7)\n",
    "    bn8 = BatchNormalization(axis=1)(conv4)\n",
    "    #pool4 = layers.MaxPooling2D(pool_size=(2, 3))(bn8)\n",
    "    pool4 = layers.MaxPooling2D(pool_size=(2, 2))(bn8)\n",
    "    \n",
    "    conv5 = layers.Conv2D(512, (3, 3), activation='relu', padding='same')(pool4)\n",
    "    bn9 = BatchNormalization(axis=1)(conv5)\n",
    "    conv5 = layers.Conv2D(512, (3, 3), activation='relu', padding='same')(bn9)\n",
    "    bn10 = BatchNormalization(axis=1)(conv5)\n",
    "\n",
    "    ##decoder\n",
    "    #up_conv5 = layers.UpSampling2D(size=(2, 3))(bn10)\n",
    "    up_conv5 = layers.UpSampling2D(size=(2, 2))(bn10)\n",
    "    up6 = layers.concatenate([up_conv5, conv4], axis=concat_axis)\n",
    "    conv6 = layers.Conv2D(256, (3, 3), activation='relu', padding='same')(up6)\n",
    "    bn11 = BatchNormalization(axis=1)(conv6)\n",
    "    conv6 = layers.Conv2D(256, (3, 3), activation='relu', padding='same')(bn11)\n",
    "    bn12 = BatchNormalization(axis=1)(conv6)\n",
    "\n",
    "    up_conv6 = layers.UpSampling2D(size=(2, 2))(bn12)\n",
    "    up7 = layers.concatenate([up_conv6, conv3], axis=concat_axis)\n",
    "    conv7 = layers.Conv2D(128, (3, 3), activation='relu', padding='same')(up7)\n",
    "    bn13 = BatchNormalization(axis=1)(conv7)\n",
    "    conv7 = layers.Conv2D(128, (3, 3), activation='relu', padding='same')(bn13)\n",
    "    bn14 = BatchNormalization(axis=1)(conv7)\n",
    "\n",
    "    up_conv7 = layers.UpSampling2D(size=(2, 2))(bn14)\n",
    "    up8 = layers.concatenate([up_conv7, conv2], axis=concat_axis)\n",
    "    conv8 = layers.Conv2D(64, (3, 3), activation='relu', padding='same')(up8)\n",
    "    bn15 = BatchNormalization(axis=1)(conv8)\n",
    "    conv8 = layers.Conv2D(64, (3, 3), activation='relu', padding='same')(bn15)\n",
    "    bn16 = BatchNormalization(axis=1)(conv8)\n",
    "\n",
    "    up_conv8 = layers.UpSampling2D(size=(2, 2))(bn16)\n",
    "    up9 = layers.concatenate([up_conv8, conv1], axis=concat_axis)\n",
    "    conv9 = layers.Conv2D(32, (3, 3), activation='relu', padding='same')(up9)\n",
    "    bn17 = BatchNormalization(axis=1)(conv9)\n",
    "    conv9 = layers.Conv2D(32, (3, 3), activation='relu', padding='same')(bn17)\n",
    "    bn18 = BatchNormalization(axis=1)(conv9)\n",
    "\n",
    "    conv10 = layers.Conv2D(1, (1, 1))(bn18)\n",
    "    #bn19 = BatchNormalization(axis=1)(conv10)\n",
    "\n",
    "    model = models.Model(inputs=inputs, outputs=conv10)\n",
    "\n",
    "    sgd = SGD(lr=0.01, decay=1e-6, momentum=0.9, nesterov=True)\n",
    "    model.compile(loss='mae', optimizer=sgd, metrics=['mse','acc'])\n",
    "    #model.compile(loss='mae', optimizer=Adam(lr=0.01), metrics=['mse'])\n",
    "    print(model.summary())\n",
    "\n",
    "    return model"
   ]
  },
  {
   "cell_type": "code",
   "execution_count": 4,
   "id": "d9d2cbb9",
   "metadata": {},
   "outputs": [
    {
     "name": "stdout",
     "output_type": "stream",
     "text": [
      "Model: \"model\"\n",
      "__________________________________________________________________________________________________\n",
      "Layer (type)                    Output Shape         Param #     Connected to                     \n",
      "==================================================================================================\n",
      "input_1 (InputLayer)            [(None, 3, 128, 144) 0                                            \n",
      "__________________________________________________________________________________________________\n",
      "batch_normalization (BatchNorma (None, 3, 128, 144)  12          input_1[0][0]                    \n",
      "__________________________________________________________________________________________________\n",
      "conv1_1 (Conv2D)                (None, 32, 128, 144) 896         batch_normalization[0][0]        \n",
      "__________________________________________________________________________________________________\n",
      "batch_normalization_1 (BatchNor (None, 32, 128, 144) 128         conv1_1[0][0]                    \n",
      "__________________________________________________________________________________________________\n",
      "conv2d (Conv2D)                 (None, 32, 128, 144) 9248        batch_normalization_1[0][0]      \n",
      "__________________________________________________________________________________________________\n",
      "batch_normalization_2 (BatchNor (None, 32, 128, 144) 128         conv2d[0][0]                     \n",
      "__________________________________________________________________________________________________\n",
      "max_pooling2d (MaxPooling2D)    (None, 32, 64, 72)   0           batch_normalization_2[0][0]      \n",
      "__________________________________________________________________________________________________\n",
      "conv2d_1 (Conv2D)               (None, 64, 64, 72)   18496       max_pooling2d[0][0]              \n",
      "__________________________________________________________________________________________________\n",
      "batch_normalization_3 (BatchNor (None, 64, 64, 72)   256         conv2d_1[0][0]                   \n",
      "__________________________________________________________________________________________________\n",
      "conv2d_2 (Conv2D)               (None, 64, 64, 72)   36928       batch_normalization_3[0][0]      \n",
      "__________________________________________________________________________________________________\n",
      "batch_normalization_4 (BatchNor (None, 64, 64, 72)   256         conv2d_2[0][0]                   \n",
      "__________________________________________________________________________________________________\n",
      "max_pooling2d_1 (MaxPooling2D)  (None, 64, 32, 36)   0           batch_normalization_4[0][0]      \n",
      "__________________________________________________________________________________________________\n",
      "conv2d_3 (Conv2D)               (None, 128, 32, 36)  73856       max_pooling2d_1[0][0]            \n",
      "__________________________________________________________________________________________________\n",
      "batch_normalization_5 (BatchNor (None, 128, 32, 36)  512         conv2d_3[0][0]                   \n",
      "__________________________________________________________________________________________________\n",
      "conv2d_4 (Conv2D)               (None, 128, 32, 36)  147584      batch_normalization_5[0][0]      \n",
      "__________________________________________________________________________________________________\n",
      "batch_normalization_6 (BatchNor (None, 128, 32, 36)  512         conv2d_4[0][0]                   \n",
      "__________________________________________________________________________________________________\n",
      "max_pooling2d_2 (MaxPooling2D)  (None, 128, 16, 18)  0           batch_normalization_6[0][0]      \n",
      "__________________________________________________________________________________________________\n",
      "conv2d_5 (Conv2D)               (None, 256, 16, 18)  295168      max_pooling2d_2[0][0]            \n",
      "__________________________________________________________________________________________________\n",
      "batch_normalization_7 (BatchNor (None, 256, 16, 18)  1024        conv2d_5[0][0]                   \n",
      "__________________________________________________________________________________________________\n",
      "conv2d_6 (Conv2D)               (None, 256, 16, 18)  590080      batch_normalization_7[0][0]      \n",
      "__________________________________________________________________________________________________\n",
      "batch_normalization_8 (BatchNor (None, 256, 16, 18)  1024        conv2d_6[0][0]                   \n",
      "__________________________________________________________________________________________________\n",
      "max_pooling2d_3 (MaxPooling2D)  (None, 256, 8, 9)    0           batch_normalization_8[0][0]      \n",
      "__________________________________________________________________________________________________\n",
      "conv2d_7 (Conv2D)               (None, 512, 8, 9)    1180160     max_pooling2d_3[0][0]            \n",
      "__________________________________________________________________________________________________\n",
      "batch_normalization_9 (BatchNor (None, 512, 8, 9)    2048        conv2d_7[0][0]                   \n",
      "__________________________________________________________________________________________________\n",
      "conv2d_8 (Conv2D)               (None, 512, 8, 9)    2359808     batch_normalization_9[0][0]      \n",
      "__________________________________________________________________________________________________\n",
      "batch_normalization_10 (BatchNo (None, 512, 8, 9)    2048        conv2d_8[0][0]                   \n",
      "__________________________________________________________________________________________________\n",
      "up_sampling2d (UpSampling2D)    (None, 512, 16, 18)  0           batch_normalization_10[0][0]     \n",
      "__________________________________________________________________________________________________\n",
      "concatenate (Concatenate)       (None, 768, 16, 18)  0           up_sampling2d[0][0]              \n",
      "                                                                 conv2d_6[0][0]                   \n",
      "__________________________________________________________________________________________________\n",
      "conv2d_9 (Conv2D)               (None, 256, 16, 18)  1769728     concatenate[0][0]                \n",
      "__________________________________________________________________________________________________\n",
      "batch_normalization_11 (BatchNo (None, 256, 16, 18)  1024        conv2d_9[0][0]                   \n",
      "__________________________________________________________________________________________________\n",
      "conv2d_10 (Conv2D)              (None, 256, 16, 18)  590080      batch_normalization_11[0][0]     \n",
      "__________________________________________________________________________________________________\n",
      "batch_normalization_12 (BatchNo (None, 256, 16, 18)  1024        conv2d_10[0][0]                  \n",
      "__________________________________________________________________________________________________\n",
      "up_sampling2d_1 (UpSampling2D)  (None, 256, 32, 36)  0           batch_normalization_12[0][0]     \n",
      "__________________________________________________________________________________________________\n",
      "concatenate_1 (Concatenate)     (None, 384, 32, 36)  0           up_sampling2d_1[0][0]            \n",
      "                                                                 conv2d_4[0][0]                   \n",
      "__________________________________________________________________________________________________\n",
      "conv2d_11 (Conv2D)              (None, 128, 32, 36)  442496      concatenate_1[0][0]              \n",
      "__________________________________________________________________________________________________\n",
      "batch_normalization_13 (BatchNo (None, 128, 32, 36)  512         conv2d_11[0][0]                  \n",
      "__________________________________________________________________________________________________\n",
      "conv2d_12 (Conv2D)              (None, 128, 32, 36)  147584      batch_normalization_13[0][0]     \n",
      "__________________________________________________________________________________________________\n",
      "batch_normalization_14 (BatchNo (None, 128, 32, 36)  512         conv2d_12[0][0]                  \n",
      "__________________________________________________________________________________________________\n",
      "up_sampling2d_2 (UpSampling2D)  (None, 128, 64, 72)  0           batch_normalization_14[0][0]     \n",
      "__________________________________________________________________________________________________\n",
      "concatenate_2 (Concatenate)     (None, 192, 64, 72)  0           up_sampling2d_2[0][0]            \n",
      "                                                                 conv2d_2[0][0]                   \n",
      "__________________________________________________________________________________________________\n",
      "conv2d_13 (Conv2D)              (None, 64, 64, 72)   110656      concatenate_2[0][0]              \n",
      "__________________________________________________________________________________________________\n",
      "batch_normalization_15 (BatchNo (None, 64, 64, 72)   256         conv2d_13[0][0]                  \n",
      "__________________________________________________________________________________________________\n",
      "conv2d_14 (Conv2D)              (None, 64, 64, 72)   36928       batch_normalization_15[0][0]     \n",
      "__________________________________________________________________________________________________\n",
      "batch_normalization_16 (BatchNo (None, 64, 64, 72)   256         conv2d_14[0][0]                  \n",
      "__________________________________________________________________________________________________\n",
      "up_sampling2d_3 (UpSampling2D)  (None, 64, 128, 144) 0           batch_normalization_16[0][0]     \n",
      "__________________________________________________________________________________________________\n",
      "concatenate_3 (Concatenate)     (None, 96, 128, 144) 0           up_sampling2d_3[0][0]            \n",
      "                                                                 conv2d[0][0]                     \n",
      "__________________________________________________________________________________________________\n",
      "conv2d_15 (Conv2D)              (None, 32, 128, 144) 27680       concatenate_3[0][0]              \n",
      "__________________________________________________________________________________________________\n",
      "batch_normalization_17 (BatchNo (None, 32, 128, 144) 128         conv2d_15[0][0]                  \n",
      "__________________________________________________________________________________________________\n",
      "conv2d_16 (Conv2D)              (None, 32, 128, 144) 9248        batch_normalization_17[0][0]     \n",
      "__________________________________________________________________________________________________\n",
      "batch_normalization_18 (BatchNo (None, 32, 128, 144) 128         conv2d_16[0][0]                  \n",
      "__________________________________________________________________________________________________\n",
      "conv2d_17 (Conv2D)              (None, 1, 128, 144)  33          batch_normalization_18[0][0]     \n",
      "==================================================================================================\n",
      "Total params: 7,858,445\n",
      "Trainable params: 7,852,551\n",
      "Non-trainable params: 5,894\n",
      "__________________________________________________________________________________________________\n",
      "None\n"
     ]
    }
   ],
   "source": [
    "model = get_unet()"
   ]
  },
  {
   "cell_type": "code",
   "execution_count": 5,
   "id": "3ff14c47",
   "metadata": {},
   "outputs": [
    {
     "name": "stdout",
     "output_type": "stream",
     "text": [
      "(13502, 3, 137, 157)\n",
      "(2893, 3, 137, 157)\n",
      "(13502, 137, 157)\n",
      "(2893, 137, 157)\n"
     ]
    }
   ],
   "source": [
    "## X:\n",
    "X_train = np.load(\"/opt/datos/dataset/gfs/X_train_3-7-9.npy\")\n",
    "X_val   = np.load(\"/opt/datos/dataset/gfs/X_val_3-7-9.npy\")\n",
    "print(X_train.shape)\n",
    "print(X_val.shape)\n",
    "\n",
    "## Y:\n",
    "Y_train = np.load(\"/opt/datos/dataset/gfs/Y_train.npy\")\n",
    "Y_val   = np.load(\"/opt/datos/dataset/gfs/Y_val.npy\")\n",
    "print(Y_train.shape)\n",
    "print(Y_val.shape)"
   ]
  },
  {
   "cell_type": "code",
   "execution_count": 6,
   "id": "b6276a56",
   "metadata": {},
   "outputs": [
    {
     "name": "stdout",
     "output_type": "stream",
     "text": [
      "(13502, 3, 128, 144)\n",
      "(2893, 3, 128, 144)\n",
      "(13502, 128, 144)\n",
      "(2893, 128, 144)\n"
     ]
    }
   ],
   "source": [
    "# Recorte para obtener 128x144\n",
    "X_train = X_train[:, :, 0:128, 0:144]\n",
    "X_val = X_val[:, :, 0:128, 0:144]\n",
    "print(X_train.shape)\n",
    "print(X_val.shape)\n",
    "\n",
    "Y_train = Y_train[:, 0:128, 0:144]\n",
    "Y_val = Y_val[:, 0:128, 0:144]\n",
    "print(Y_train.shape)\n",
    "print(Y_val.shape)"
   ]
  },
  {
   "cell_type": "code",
   "execution_count": 7,
   "id": "b8dd4c21",
   "metadata": {},
   "outputs": [
    {
     "name": "stdout",
     "output_type": "stream",
     "text": [
      "(13502, 1, 128, 144)\n",
      "(2893, 1, 128, 144)\n"
     ]
    }
   ],
   "source": [
    "Y_train = np.expand_dims(Y_train, axis=1)\n",
    "Y_val = np.expand_dims(Y_val, axis=1)\n",
    "\n",
    "print(Y_train.shape)\n",
    "print(Y_val.shape)"
   ]
  },
  {
   "cell_type": "code",
   "execution_count": 8,
   "id": "5880d549",
   "metadata": {},
   "outputs": [],
   "source": [
    "Y_train_flip = np.zeros((Y_train.shape[0], Y_train.shape[1], Y_train.shape[2]))\n",
    "for k,yt in enumerate(Y_train):\n",
    "    Y_train_flip[k,:,:] = np.flipud(yt)\n",
    "\n",
    "Y_val_flip = np.zeros((Y_val.shape[0], Y_val.shape[1], Y_val.shape[2]))\n",
    "for j,yv in enumerate(Y_val):\n",
    "    Y_val_flip[j,:,:] = np.flipud(yv)"
   ]
  },
  {
   "cell_type": "code",
   "execution_count": 9,
   "id": "9854987f",
   "metadata": {},
   "outputs": [
    {
     "name": "stdout",
     "output_type": "stream",
     "text": [
      "(8350, 1, 176, 176)\n",
      "(1789, 1, 176, 176)\n"
     ]
    }
   ],
   "source": [
    "Y_train_flip = np.expand_dims(Y_train_flip, axis=1)\n",
    "Y_val_flip = np.expand_dims(Y_val_flip, axis=1)\n",
    "\n",
    "print(Y_train_flip.shape)\n",
    "print(Y_val_flip.shape)"
   ]
  },
  {
   "cell_type": "code",
   "execution_count": 8,
   "id": "224e54b8",
   "metadata": {},
   "outputs": [
    {
     "name": "stdout",
     "output_type": "stream",
     "text": [
      "Epoch 1/20\n",
      "422/422 [==============================] - 302s 575ms/step - loss: 0.5439 - mse: 3.7916 - acc: 0.0240 - val_loss: 0.3676 - val_mse: 2.2946 - val_acc: 0.0221\n",
      "Epoch 2/20\n",
      "422/422 [==============================] - 167s 395ms/step - loss: 0.4354 - mse: 3.4106 - acc: 0.0403 - val_loss: 0.3555 - val_mse: 2.0014 - val_acc: 0.0389\n",
      "Epoch 3/20\n",
      "422/422 [==============================] - 167s 395ms/step - loss: 0.4139 - mse: 3.0977 - acc: 0.0489 - val_loss: 0.3421 - val_mse: 1.9555 - val_acc: 0.0463\n",
      "Epoch 4/20\n",
      "422/422 [==============================] - 167s 395ms/step - loss: 0.4078 - mse: 3.0051 - acc: 0.0546 - val_loss: 0.3371 - val_mse: 1.7507 - val_acc: 0.0427\n",
      "Epoch 5/20\n",
      "422/422 [==============================] - 166s 395ms/step - loss: 0.3940 - mse: 2.8342 - acc: 0.0596 - val_loss: 0.3399 - val_mse: 1.7102 - val_acc: 0.0553\n",
      "Epoch 6/20\n",
      "422/422 [==============================] - 167s 395ms/step - loss: 0.3852 - mse: 2.6832 - acc: 0.0635 - val_loss: 0.3271 - val_mse: 1.5944 - val_acc: 0.0547\n",
      "Epoch 7/20\n",
      "422/422 [==============================] - 167s 395ms/step - loss: 0.3811 - mse: 2.5871 - acc: 0.0665 - val_loss: 0.3252 - val_mse: 1.6353 - val_acc: 0.0627\n",
      "Epoch 8/20\n",
      "422/422 [==============================] - 167s 395ms/step - loss: 0.3731 - mse: 2.4742 - acc: 0.0703 - val_loss: 0.3267 - val_mse: 1.5706 - val_acc: 0.0690\n",
      "Epoch 9/20\n",
      "422/422 [==============================] - 166s 395ms/step - loss: 0.3648 - mse: 2.3710 - acc: 0.0745 - val_loss: 0.3207 - val_mse: 1.5203 - val_acc: 0.0560\n",
      "Epoch 10/20\n",
      "422/422 [==============================] - 167s 395ms/step - loss: 0.3636 - mse: 2.3498 - acc: 0.0781 - val_loss: 0.3283 - val_mse: 1.4984 - val_acc: 0.0638\n",
      "Epoch 11/20\n",
      "422/422 [==============================] - 167s 395ms/step - loss: 0.3595 - mse: 2.2531 - acc: 0.0824 - val_loss: 0.3210 - val_mse: 1.4889 - val_acc: 0.0863\n",
      "Epoch 12/20\n",
      "422/422 [==============================] - 166s 395ms/step - loss: 0.3548 - mse: 2.2104 - acc: 0.0860 - val_loss: 0.3153 - val_mse: 1.4850 - val_acc: 0.0610\n",
      "Epoch 13/20\n",
      "422/422 [==============================] - 166s 395ms/step - loss: 0.3495 - mse: 2.1189 - acc: 0.0876 - val_loss: 0.3176 - val_mse: 1.4706 - val_acc: 0.0670\n",
      "Epoch 14/20\n",
      "422/422 [==============================] - 167s 395ms/step - loss: 0.3447 - mse: 2.0557 - acc: 0.0902 - val_loss: 0.3253 - val_mse: 1.4940 - val_acc: 0.0693\n",
      "Epoch 15/20\n",
      "422/422 [==============================] - 167s 395ms/step - loss: 0.3442 - mse: 2.0605 - acc: 0.0934 - val_loss: 0.3314 - val_mse: 1.4395 - val_acc: 0.0820\n",
      "Epoch 16/20\n",
      "422/422 [==============================] - 167s 395ms/step - loss: 0.3378 - mse: 1.9698 - acc: 0.0976 - val_loss: 0.3205 - val_mse: 1.4708 - val_acc: 0.0676\n",
      "Epoch 17/20\n",
      "422/422 [==============================] - 167s 395ms/step - loss: 0.3341 - mse: 1.9231 - acc: 0.1012 - val_loss: 0.3289 - val_mse: 1.5075 - val_acc: 0.0760\n",
      "Epoch 18/20\n",
      "422/422 [==============================] - 167s 395ms/step - loss: 0.3305 - mse: 1.8753 - acc: 0.1035 - val_loss: 0.3202 - val_mse: 1.4459 - val_acc: 0.0853\n",
      "Epoch 19/20\n",
      "422/422 [==============================] - 167s 395ms/step - loss: 0.3271 - mse: 1.8235 - acc: 0.1080 - val_loss: 0.3233 - val_mse: 1.4144 - val_acc: 0.0849\n",
      "Epoch 20/20\n",
      "422/422 [==============================] - 167s 395ms/step - loss: 0.3279 - mse: 1.8383 - acc: 0.1114 - val_loss: 0.3183 - val_mse: 1.4347 - val_acc: 0.0865\n"
     ]
    }
   ],
   "source": [
    "history = model.fit(X_train, Y_train, epochs=20, verbose=1, validation_data=(X_val, Y_val))"
   ]
  },
  {
   "cell_type": "code",
   "execution_count": 9,
   "id": "9b74821c",
   "metadata": {},
   "outputs": [],
   "source": [
    "with open('/opt/datos/entrenamientos/gfs/01', 'wb') as file_pi:\n",
    "    pickle.dump(history.history, file_pi)"
   ]
  },
  {
   "cell_type": "code",
   "execution_count": 10,
   "id": "e7793995",
   "metadata": {},
   "outputs": [],
   "source": [
    "history = pickle.load( open( \"/opt/datos/entrenamientos/gfs/01\", \"rb\" ) )"
   ]
  },
  {
   "cell_type": "code",
   "execution_count": 11,
   "id": "9c498db5",
   "metadata": {},
   "outputs": [],
   "source": [
    "import matplotlib.pyplot as plt"
   ]
  },
  {
   "cell_type": "code",
   "execution_count": 12,
   "id": "c1ae0de5",
   "metadata": {},
   "outputs": [
    {
     "name": "stdout",
     "output_type": "stream",
     "text": [
      "~ Unet Dataset 2017-2021 ~\n",
      "val_loss: 0.31826767325401306\n",
      "loss: 0.3245305120944977\n"
     ]
    },
    {
     "data": {
      "image/png": "[encoded data removed]",
      "text/plain": [
       "<Figure size 432x288 with 1 Axes>"
      ]
     },
     "metadata": {
      "needs_background": "light"
     },
     "output_type": "display_data"
    }
   ],
   "source": [
    "print(\"~ Unet Dataset 2017-2021 ~\")\n",
    "print(f\"val_loss: {history['val_loss'][-1]}\")\n",
    "print(f\"loss: {history['loss'][-1]}\")\n",
    "#print(history)\n",
    "plt.plot(history['loss'])\n",
    "plt.plot(history['val_loss'])\n",
    "plt.title('Unet network training 1000-700-500 hPa')\n",
    "plt.ylabel('mean absolute error')\n",
    "plt.xlabel('epoch')\n",
    "plt.legend(['train', 'validation'], loc='upper right')\n",
    "plt.show()"
   ]
  },
  {
   "cell_type": "code",
   "execution_count": 13,
   "id": "4022342a",
   "metadata": {},
   "outputs": [],
   "source": [
    "model.save('/opt/datos/entrenamientos/gfs/01.h5')"
   ]
  },
  {
   "cell_type": "code",
   "execution_count": null,
   "id": "a007338d",
   "metadata": {},
   "outputs": [],
   "source": []
  }
 ],
 "metadata": {
  "kernelspec": {
   "display_name": "tf-gpu",
   "language": "python",
   "name": "tf-gpu"
  },
  "language_info": {
   "codemirror_mode": {
    "name": "ipython",
    "version": 3
   },
   "file_extension": ".py",
   "mimetype": "text/x-python",
   "name": "python",
   "nbconvert_exporter": "python",
   "pygments_lexer": "ipython3",
   "version": "3.9.5"
  }
 },
 "nbformat": 4,
 "nbformat_minor": 5
}
