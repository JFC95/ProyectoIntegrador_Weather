{
 "cells": [
  {
   "cell_type": "code",
   "execution_count": null,
   "id": "73575059",
   "metadata": {},
   "outputs": [],
   "source": [
    "# Agrego una fila y una columna a los csv, entonces las matrices pasan de ser 175x175 a 176x176\n",
    "# Tanto la fila como la columna agregada, simplemente es la ultima fila/columna repetida"
   ]
  },
  {
   "cell_type": "code",
   "execution_count": null,
   "id": "52cadb88",
   "metadata": {},
   "outputs": [],
   "source": [
    "import os\n",
    "import pandas as pd\n",
    "from pathlib import Path\n",
    "import datetime\n",
    "import numpy as np"
   ]
  },
  {
   "cell_type": "code",
   "execution_count": null,
   "id": "16b8a15a",
   "metadata": {},
   "outputs": [],
   "source": [
    "directory_in_str = \"/opt/datos/gfsRaster/matrices_normalizadas176/\" #dentro de ....\n",
    "#directory_in_str = \"/opt/datos/wrf-meteo/matrices176/\" #dentro de ....\n",
    "\n",
    "pathlist = Path(directory_in_str).glob('**/*.csv')\n",
    "\n",
    "for path in pathlist:\n",
    "    path_in_str = str(path)\n",
    "    \n",
    "    df = pd.read_csv(path_in_str)\n",
    "    last_column = df.iloc[:,-1:]\n",
    "    df[\"175\"] = last_column\n",
    "\n",
    "    last_row = df.iloc[-1:]\n",
    "    df=df.append(last_row,ignore_index=True)\n",
    "    \n",
    "    df.to_csv(path_in_str, index=False)"
   ]
  }
 ],
 "metadata": {
  "kernelspec": {
   "display_name": "tesis",
   "language": "python",
   "name": "tesis"
  },
  "language_info": {
   "codemirror_mode": {
    "name": "ipython",
    "version": 3
   },
   "file_extension": ".py",
   "mimetype": "text/x-python",
   "name": "python",
   "nbconvert_exporter": "python",
   "pygments_lexer": "ipython3",
   "version": "3.8.8"
  }
 },
 "nbformat": 4,
 "nbformat_minor": 5
}
