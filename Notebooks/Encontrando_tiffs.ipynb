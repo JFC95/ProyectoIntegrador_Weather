{
 "cells": [
  {
   "cell_type": "code",
   "execution_count": 2,
   "id": "0cc0e6e8",
   "metadata": {},
   "outputs": [],
   "source": [
    "%config Completer.use_jedi = False"
   ]
  },
  {
   "cell_type": "code",
   "execution_count": 3,
   "id": "719599cd",
   "metadata": {},
   "outputs": [],
   "source": [
    "import os\n",
    "import pandas as pd\n",
    "from pathlib import Path\n",
    "import georasters as gr\n",
    "import datetime\n",
    "import numpy as np\n",
    "import re"
   ]
  },
  {
   "cell_type": "code",
   "execution_count": 4,
   "id": "be3783ac",
   "metadata": {},
   "outputs": [
    {
     "name": "stdout",
     "output_type": "stream",
     "text": [
      "2720\n"
     ]
    }
   ],
   "source": [
    "directory_in_str = \"/opt/datos/wrf-meteo/matrices176/\" #dentro de ...\n",
    "pathlist = Path(directory_in_str).glob('**/*.csv')\n",
    "\n",
    "lista_paths_csv = list()\n",
    "\n",
    "for path in pathlist:\n",
    "    path_in_str = str(path)\n",
    "    lista_paths_csv.append(path_in_str)\n",
    "    \n",
    "print(len(lista_paths_csv))"
   ]
  },
  {
   "cell_type": "code",
   "execution_count": 5,
   "id": "857567f8",
   "metadata": {},
   "outputs": [
    {
     "name": "stdout",
     "output_type": "stream",
     "text": [
      "2928\n"
     ]
    }
   ],
   "source": [
    "directory_in_str = \"/opt/datos/wrf-meteo/geotiff/\" #dentro de ...\n",
    "pathlist = Path(directory_in_str).glob('**/*.tiff')\n",
    "lista_paths_tiff = list()\n",
    "\n",
    "for path in pathlist:\n",
    "    path_in_str = str(path)\n",
    "    if(\"useful\" in path_in_str):\n",
    "        #print(path_in_str)\n",
    "        regex = \"geotiff\\/\\w{7}\\/\\w{2}\\/\\w{6}\"\n",
    "        regex2 = \"\\.tiff\"\n",
    "        filename = re.sub(regex, \"matrices176/matriz_tag\", path_in_str)\n",
    "        filename = re.sub(regex2, \".csv\", filename)\n",
    "        lista_paths_tiff.append(filename)\n",
    "        \n",
    "print(len(lista_paths_tiff))"
   ]
  },
  {
   "cell_type": "code",
   "execution_count": 6,
   "id": "283a7e7b",
   "metadata": {},
   "outputs": [
    {
     "name": "stdout",
     "output_type": "stream",
     "text": [
      "208\n"
     ]
    }
   ],
   "source": [
    "my_lista = list()\n",
    "for a in lista_paths_tiff:\n",
    "    if(a not in lista_paths_csv):\n",
    "        my_lista.append(a)\n",
    "\n",
    "print(len(my_lista))"
   ]
  },
  {
   "cell_type": "code",
   "execution_count": null,
   "id": "1d71fa3b",
   "metadata": {},
   "outputs": [],
   "source": []
  },
  {
   "cell_type": "code",
   "execution_count": 9,
   "id": "0623ea22",
   "metadata": {},
   "outputs": [
    {
     "name": "stdout",
     "output_type": "stream",
     "text": [
      "2928\n"
     ]
    }
   ],
   "source": [
    "directory_in_str = \"/opt/datos/wrf-meteo/geotiff/\" #dentro de ...\n",
    "pathlist = Path(directory_in_str).glob('**/*.tiff')\n",
    "\n",
    "asd = list()\n",
    "\n",
    "for path in pathlist:\n",
    "    path_in_str = str(path)\n",
    "    if(\"useful\" in path_in_str):\n",
    "        asd.append(path_in_str)\n",
    "        \n",
    "print(len(asd))\n",
    "#asd"
   ]
  },
  {
   "cell_type": "code",
   "execution_count": 23,
   "id": "2b6ac10e",
   "metadata": {},
   "outputs": [
    {
     "name": "stdout",
     "output_type": "stream",
     "text": [
      "208\n"
     ]
    }
   ],
   "source": [
    "lista_posta = list()\n",
    "for i in my_lista:\n",
    "    #print(i[60:76])\n",
    "    for j in asd:\n",
    "        if(i[60:76] in j): lista_posta.append(j)\n",
    "            \n",
    "print(len(lista_posta))\n",
    "#lista_posta"
   ]
  },
  {
   "cell_type": "code",
   "execution_count": 20,
   "id": "a9f441fe",
   "metadata": {},
   "outputs": [],
   "source": [
    "####################################################################################"
   ]
  },
  {
   "cell_type": "code",
   "execution_count": 24,
   "id": "59fac94b",
   "metadata": {},
   "outputs": [
    {
     "name": "stdout",
     "output_type": "stream",
     "text": [
      "/opt/datos/wrf-meteo/matrices208/matriz_tag_CBA_A_06_RAINNC_2020-02-08T00:00.csv\n",
      "/opt/datos/wrf-meteo/matrices208/matriz_tag_CBA_A_06_RAINNC_2020-02-08T03:00.csv\n",
      "/opt/datos/wrf-meteo/matrices208/matriz_tag_CBA_A_06_RAINNC_2020-02-08T06:00.csv\n",
      "/opt/datos/wrf-meteo/matrices208/matriz_tag_CBA_A_06_RAINNC_2020-02-08T09:00.csv\n",
      "/opt/datos/wrf-meteo/matrices208/matriz_tag_CBA_A_06_RAINNC_2020-02-12T00:00.csv\n",
      "/opt/datos/wrf-meteo/matrices208/matriz_tag_CBA_A_06_RAINNC_2020-02-12T03:00.csv\n",
      "/opt/datos/wrf-meteo/matrices208/matriz_tag_CBA_A_06_RAINNC_2020-02-12T06:00.csv\n",
      "/opt/datos/wrf-meteo/matrices208/matriz_tag_CBA_A_06_RAINNC_2020-02-12T09:00.csv\n",
      "/opt/datos/wrf-meteo/matrices208/matriz_tag_CBA_A_06_RAINNC_2020-02-17T00:00.csv\n",
      "/opt/datos/wrf-meteo/matrices208/matriz_tag_CBA_A_06_RAINNC_2020-02-17T03:00.csv\n",
      "/opt/datos/wrf-meteo/matrices208/matriz_tag_CBA_A_06_RAINNC_2020-02-17T06:00.csv\n",
      "/opt/datos/wrf-meteo/matrices208/matriz_tag_CBA_A_06_RAINNC_2020-02-17T09:00.csv\n",
      "/opt/datos/wrf-meteo/matrices208/matriz_tag_CBA_A_18_RAINNC_2020-03-01T00:00.csv\n",
      "/opt/datos/wrf-meteo/matrices208/matriz_tag_CBA_A_18_RAINNC_2020-03-01T06:00.csv\n",
      "/opt/datos/wrf-meteo/matrices208/matriz_tag_CBA_A_18_RAINNC_2020-03-01T09:00.csv\n",
      "/opt/datos/wrf-meteo/matrices208/matriz_tag_CBA_A_18_RAINNC_2020-03-01T03:00.csv\n",
      "/opt/datos/wrf-meteo/matrices208/matriz_tag_CBA_A_18_RAINNC_2020-02-15T12:00.csv\n",
      "/opt/datos/wrf-meteo/matrices208/matriz_tag_CBA_A_18_RAINNC_2020-02-15T15:00.csv\n",
      "/opt/datos/wrf-meteo/matrices208/matriz_tag_CBA_A_18_RAINNC_2020-02-15T18:00.csv\n",
      "/opt/datos/wrf-meteo/matrices208/matriz_tag_CBA_A_18_RAINNC_2020-02-15T21:00.csv\n",
      "/opt/datos/wrf-meteo/matrices208/matriz_tag_CBA_A_18_RAINNC_2020-02-16T00:00.csv\n",
      "/opt/datos/wrf-meteo/matrices208/matriz_tag_CBA_A_18_RAINNC_2020-02-16T03:00.csv\n",
      "/opt/datos/wrf-meteo/matrices208/matriz_tag_CBA_A_06_RAINNC_2020-02-16T06:00.csv\n",
      "/opt/datos/wrf-meteo/matrices208/matriz_tag_CBA_A_06_RAINNC_2020-02-16T09:00.csv\n",
      "/opt/datos/wrf-meteo/matrices208/matriz_tag_CBA_A_18_RAINNC_2020-02-14T12:00.csv\n",
      "/opt/datos/wrf-meteo/matrices208/matriz_tag_CBA_A_18_RAINNC_2020-02-14T15:00.csv\n",
      "/opt/datos/wrf-meteo/matrices208/matriz_tag_CBA_A_18_RAINNC_2020-02-14T18:00.csv\n",
      "/opt/datos/wrf-meteo/matrices208/matriz_tag_CBA_A_18_RAINNC_2020-02-14T21:00.csv\n",
      "/opt/datos/wrf-meteo/matrices208/matriz_tag_CBA_A_18_RAINNC_2020-02-15T00:00.csv\n",
      "/opt/datos/wrf-meteo/matrices208/matriz_tag_CBA_A_18_RAINNC_2020-02-15T03:00.csv\n",
      "/opt/datos/wrf-meteo/matrices208/matriz_tag_CBA_A_18_RAINNC_2020-02-15T06:00.csv\n",
      "/opt/datos/wrf-meteo/matrices208/matriz_tag_CBA_A_18_RAINNC_2020-02-15T09:00.csv\n",
      "/opt/datos/wrf-meteo/matrices208/matriz_tag_CBA_A_18_RAINNC_2020-05-01T00:00.csv\n",
      "/opt/datos/wrf-meteo/matrices208/matriz_tag_CBA_A_18_RAINNC_2020-05-01T03:00.csv\n",
      "/opt/datos/wrf-meteo/matrices208/matriz_tag_CBA_A_18_RAINNC_2020-05-01T06:00.csv\n",
      "/opt/datos/wrf-meteo/matrices208/matriz_tag_CBA_A_18_RAINNC_2020-05-01T09:00.csv\n",
      "/opt/datos/wrf-meteo/matrices208/matriz_tag_CBA_A_18_RAINNC_2020-06-05T18:00.csv\n",
      "/opt/datos/wrf-meteo/matrices208/matriz_tag_CBA_A_18_RAINNC_2020-06-05T15:00.csv\n",
      "/opt/datos/wrf-meteo/matrices208/matriz_tag_CBA_A_18_RAINNC_2020-06-05T21:00.csv\n",
      "/opt/datos/wrf-meteo/matrices208/matriz_tag_CBA_A_18_RAINNC_2020-06-05T12:00.csv\n",
      "/opt/datos/wrf-meteo/matrices208/matriz_tag_CBA_A_18_RAINNC_2020-07-01T00:00.csv\n",
      "/opt/datos/wrf-meteo/matrices208/matriz_tag_CBA_A_18_RAINNC_2020-07-01T03:00.csv\n",
      "/opt/datos/wrf-meteo/matrices208/matriz_tag_CBA_A_18_RAINNC_2020-07-01T06:00.csv\n",
      "/opt/datos/wrf-meteo/matrices208/matriz_tag_CBA_A_18_RAINNC_2020-07-01T09:00.csv\n",
      "/opt/datos/wrf-meteo/matrices208/matriz_tag_CBA_A_06_RAINNC_2020-08-22T00:00.csv\n",
      "/opt/datos/wrf-meteo/matrices208/matriz_tag_CBA_A_06_RAINNC_2020-08-22T03:00.csv\n",
      "/opt/datos/wrf-meteo/matrices208/matriz_tag_CBA_A_06_RAINNC_2020-08-22T06:00.csv\n",
      "/opt/datos/wrf-meteo/matrices208/matriz_tag_CBA_A_06_RAINNC_2020-08-22T09:00.csv\n",
      "/opt/datos/wrf-meteo/matrices208/matriz_tag_CBA_A_06_RAINNC_2020-08-23T00:00.csv\n",
      "/opt/datos/wrf-meteo/matrices208/matriz_tag_CBA_A_06_RAINNC_2020-08-23T03:00.csv\n",
      "/opt/datos/wrf-meteo/matrices208/matriz_tag_CBA_A_06_RAINNC_2020-08-23T06:00.csv\n",
      "/opt/datos/wrf-meteo/matrices208/matriz_tag_CBA_A_06_RAINNC_2020-08-23T09:00.csv\n",
      "/opt/datos/wrf-meteo/matrices208/matriz_tag_CBA_A_18_RAINNC_2020-08-16T12:00.csv\n",
      "/opt/datos/wrf-meteo/matrices208/matriz_tag_CBA_A_18_RAINNC_2020-08-16T18:00.csv\n",
      "/opt/datos/wrf-meteo/matrices208/matriz_tag_CBA_A_18_RAINNC_2020-08-16T21:00.csv\n",
      "/opt/datos/wrf-meteo/matrices208/matriz_tag_CBA_A_18_RAINNC_2020-08-17T00:00.csv\n",
      "/opt/datos/wrf-meteo/matrices208/matriz_tag_CBA_A_18_RAINNC_2020-08-17T03:00.csv\n",
      "/opt/datos/wrf-meteo/matrices208/matriz_tag_CBA_A_18_RAINNC_2020-08-16T15:00.csv\n",
      "/opt/datos/wrf-meteo/matrices208/matriz_tag_CBA_A_18_RAINNC_2020-08-17T09:00.csv\n",
      "/opt/datos/wrf-meteo/matrices208/matriz_tag_CBA_A_18_RAINNC_2020-08-17T06:00.csv\n",
      "/opt/datos/wrf-meteo/matrices208/matriz_tag_CBA_A_06_RAINNC_2020-09-02T00:00.csv\n",
      "/opt/datos/wrf-meteo/matrices208/matriz_tag_CBA_A_06_RAINNC_2020-09-02T03:00.csv\n",
      "/opt/datos/wrf-meteo/matrices208/matriz_tag_CBA_A_06_RAINNC_2020-09-02T06:00.csv\n",
      "/opt/datos/wrf-meteo/matrices208/matriz_tag_CBA_A_06_RAINNC_2020-09-02T09:00.csv\n",
      "/opt/datos/wrf-meteo/matrices208/matriz_tag_CBA_A_06_RAINNC_2020-09-15T00:00.csv\n",
      "/opt/datos/wrf-meteo/matrices208/matriz_tag_CBA_A_06_RAINNC_2020-09-15T03:00.csv\n",
      "/opt/datos/wrf-meteo/matrices208/matriz_tag_CBA_A_06_RAINNC_2020-09-15T06:00.csv\n",
      "/opt/datos/wrf-meteo/matrices208/matriz_tag_CBA_A_06_RAINNC_2020-09-15T09:00.csv\n",
      "/opt/datos/wrf-meteo/matrices208/matriz_tag_CBA_A_18_RAINNC_2020-10-01T00:00.csv\n",
      "/opt/datos/wrf-meteo/matrices208/matriz_tag_CBA_A_18_RAINNC_2020-10-01T06:00.csv\n",
      "/opt/datos/wrf-meteo/matrices208/matriz_tag_CBA_A_18_RAINNC_2020-10-01T09:00.csv\n",
      "/opt/datos/wrf-meteo/matrices208/matriz_tag_CBA_A_18_RAINNC_2020-10-01T03:00.csv\n",
      "/opt/datos/wrf-meteo/matrices208/matriz_tag_CBA_A_18_RAINNC_2020-09-10T12:00.csv\n",
      "/opt/datos/wrf-meteo/matrices208/matriz_tag_CBA_A_18_RAINNC_2020-09-10T18:00.csv\n",
      "/opt/datos/wrf-meteo/matrices208/matriz_tag_CBA_A_18_RAINNC_2020-09-10T21:00.csv\n",
      "/opt/datos/wrf-meteo/matrices208/matriz_tag_CBA_A_18_RAINNC_2020-09-11T00:00.csv\n",
      "/opt/datos/wrf-meteo/matrices208/matriz_tag_CBA_A_18_RAINNC_2020-09-11T03:00.csv\n",
      "/opt/datos/wrf-meteo/matrices208/matriz_tag_CBA_A_18_RAINNC_2020-09-10T15:00.csv\n",
      "/opt/datos/wrf-meteo/matrices208/matriz_tag_CBA_A_18_RAINNC_2020-09-11T09:00.csv\n",
      "/opt/datos/wrf-meteo/matrices208/matriz_tag_CBA_A_18_RAINNC_2020-09-11T06:00.csv\n",
      "/opt/datos/wrf-meteo/matrices208/matriz_tag_CBA_A_06_RAINNC_2020-10-23T00:00.csv\n",
      "/opt/datos/wrf-meteo/matrices208/matriz_tag_CBA_A_06_RAINNC_2020-10-23T03:00.csv\n",
      "/opt/datos/wrf-meteo/matrices208/matriz_tag_CBA_A_06_RAINNC_2020-10-23T06:00.csv\n",
      "/opt/datos/wrf-meteo/matrices208/matriz_tag_CBA_A_06_RAINNC_2020-10-23T09:00.csv\n",
      "/opt/datos/wrf-meteo/matrices208/matriz_tag_CBA_A_06_RAINNC_2020-11-01T00:00.csv\n",
      "/opt/datos/wrf-meteo/matrices208/matriz_tag_CBA_A_06_RAINNC_2020-11-01T03:00.csv\n",
      "/opt/datos/wrf-meteo/matrices208/matriz_tag_CBA_A_06_RAINNC_2020-11-01T06:00.csv\n",
      "/opt/datos/wrf-meteo/matrices208/matriz_tag_CBA_A_06_RAINNC_2020-11-01T09:00.csv\n",
      "/opt/datos/wrf-meteo/matrices208/matriz_tag_CBA_A_18_RAINNC_2020-10-24T12:00.csv\n",
      "/opt/datos/wrf-meteo/matrices208/matriz_tag_CBA_A_18_RAINNC_2020-10-24T15:00.csv\n",
      "/opt/datos/wrf-meteo/matrices208/matriz_tag_CBA_A_18_RAINNC_2020-10-25T06:00.csv\n",
      "/opt/datos/wrf-meteo/matrices208/matriz_tag_CBA_A_18_RAINNC_2020-10-24T18:00.csv\n",
      "/opt/datos/wrf-meteo/matrices208/matriz_tag_CBA_A_18_RAINNC_2020-10-24T21:00.csv\n",
      "/opt/datos/wrf-meteo/matrices208/matriz_tag_CBA_A_18_RAINNC_2020-10-25T00:00.csv\n",
      "/opt/datos/wrf-meteo/matrices208/matriz_tag_CBA_A_18_RAINNC_2020-10-25T03:00.csv\n",
      "/opt/datos/wrf-meteo/matrices208/matriz_tag_CBA_A_18_RAINNC_2020-10-25T09:00.csv\n",
      "/opt/datos/wrf-meteo/matrices208/matriz_tag_CBA_A_18_RAINNC_2020-10-25T12:00.csv\n",
      "/opt/datos/wrf-meteo/matrices208/matriz_tag_CBA_A_18_RAINNC_2020-10-25T15:00.csv\n",
      "/opt/datos/wrf-meteo/matrices208/matriz_tag_CBA_A_18_RAINNC_2020-10-25T18:00.csv\n",
      "/opt/datos/wrf-meteo/matrices208/matriz_tag_CBA_A_18_RAINNC_2020-10-25T21:00.csv\n",
      "/opt/datos/wrf-meteo/matrices208/matriz_tag_CBA_A_18_RAINNC_2020-10-26T00:00.csv\n",
      "/opt/datos/wrf-meteo/matrices208/matriz_tag_CBA_A_18_RAINNC_2020-10-26T03:00.csv\n"
     ]
    },
    {
     "name": "stdout",
     "output_type": "stream",
     "text": [
      "/opt/datos/wrf-meteo/matrices208/matriz_tag_CBA_A_06_RAINNC_2020-10-26T06:00.csv\n",
      "/opt/datos/wrf-meteo/matrices208/matriz_tag_CBA_A_06_RAINNC_2020-10-26T09:00.csv\n",
      "/opt/datos/wrf-meteo/matrices208/matriz_tag_CBA_A_06_RAINNC_2020-11-07T00:00.csv\n",
      "/opt/datos/wrf-meteo/matrices208/matriz_tag_CBA_A_06_RAINNC_2020-11-07T03:00.csv\n",
      "/opt/datos/wrf-meteo/matrices208/matriz_tag_CBA_A_06_RAINNC_2020-11-07T06:00.csv\n",
      "/opt/datos/wrf-meteo/matrices208/matriz_tag_CBA_A_06_RAINNC_2020-11-07T09:00.csv\n",
      "/opt/datos/wrf-meteo/matrices208/matriz_tag_CBA_A_06_RAINNC_2020-11-07T12:00.csv\n",
      "/opt/datos/wrf-meteo/matrices208/matriz_tag_CBA_A_06_RAINNC_2020-11-07T15:00.csv\n",
      "/opt/datos/wrf-meteo/matrices208/matriz_tag_CBA_A_06_RAINNC_2020-11-07T18:00.csv\n",
      "/opt/datos/wrf-meteo/matrices208/matriz_tag_CBA_A_06_RAINNC_2020-11-07T21:00.csv\n",
      "/opt/datos/wrf-meteo/matrices208/matriz_tag_CBA_A_18_RAINNC_2020-11-09T12:00.csv\n",
      "/opt/datos/wrf-meteo/matrices208/matriz_tag_CBA_A_18_RAINNC_2020-11-09T15:00.csv\n",
      "/opt/datos/wrf-meteo/matrices208/matriz_tag_CBA_A_18_RAINNC_2020-11-09T18:00.csv\n",
      "/opt/datos/wrf-meteo/matrices208/matriz_tag_CBA_A_18_RAINNC_2020-11-09T21:00.csv\n",
      "/opt/datos/wrf-meteo/matrices208/matriz_tag_CBA_A_18_RAINNC_2020-11-10T09:00.csv\n",
      "/opt/datos/wrf-meteo/matrices208/matriz_tag_CBA_A_18_RAINNC_2020-11-10T00:00.csv\n",
      "/opt/datos/wrf-meteo/matrices208/matriz_tag_CBA_A_18_RAINNC_2020-11-10T03:00.csv\n",
      "/opt/datos/wrf-meteo/matrices208/matriz_tag_CBA_A_18_RAINNC_2020-11-10T06:00.csv\n",
      "/opt/datos/wrf-meteo/matrices208/matriz_tag_CBA_A_06_RAINNC_2020-11-11T00:00.csv\n",
      "/opt/datos/wrf-meteo/matrices208/matriz_tag_CBA_A_06_RAINNC_2020-11-11T03:00.csv\n",
      "/opt/datos/wrf-meteo/matrices208/matriz_tag_CBA_A_06_RAINNC_2020-11-11T06:00.csv\n",
      "/opt/datos/wrf-meteo/matrices208/matriz_tag_CBA_A_06_RAINNC_2020-11-11T09:00.csv\n",
      "/opt/datos/wrf-meteo/matrices208/matriz_tag_CBA_A_00_RAINNC_2020-11-11T15:00.csv\n",
      "/opt/datos/wrf-meteo/matrices208/matriz_tag_CBA_A_00_RAINNC_2020-11-11T18:00.csv\n",
      "/opt/datos/wrf-meteo/matrices208/matriz_tag_CBA_A_00_RAINNC_2020-11-11T21:00.csv\n",
      "/opt/datos/wrf-meteo/matrices208/matriz_tag_CBA_A_00_RAINNC_2020-11-11T12:00.csv\n",
      "/opt/datos/wrf-meteo/matrices208/matriz_tag_CBA_A_18_RAINNC_2020-11-12T15:00.csv\n",
      "/opt/datos/wrf-meteo/matrices208/matriz_tag_CBA_A_18_RAINNC_2020-11-12T18:00.csv\n",
      "/opt/datos/wrf-meteo/matrices208/matriz_tag_CBA_A_18_RAINNC_2020-11-12T12:00.csv\n",
      "/opt/datos/wrf-meteo/matrices208/matriz_tag_CBA_A_18_RAINNC_2020-11-12T21:00.csv\n",
      "/opt/datos/wrf-meteo/matrices208/matriz_tag_CBA_A_18_RAINNC_2020-11-13T18:00.csv\n",
      "/opt/datos/wrf-meteo/matrices208/matriz_tag_CBA_A_18_RAINNC_2020-11-13T15:00.csv\n",
      "/opt/datos/wrf-meteo/matrices208/matriz_tag_CBA_A_18_RAINNC_2020-11-13T12:00.csv\n",
      "/opt/datos/wrf-meteo/matrices208/matriz_tag_CBA_A_18_RAINNC_2020-11-13T21:00.csv\n",
      "/opt/datos/wrf-meteo/matrices208/matriz_tag_CBA_A_18_RAINNC_2020-11-14T15:00.csv\n",
      "/opt/datos/wrf-meteo/matrices208/matriz_tag_CBA_A_18_RAINNC_2020-11-14T18:00.csv\n",
      "/opt/datos/wrf-meteo/matrices208/matriz_tag_CBA_A_18_RAINNC_2020-11-14T12:00.csv\n",
      "/opt/datos/wrf-meteo/matrices208/matriz_tag_CBA_A_18_RAINNC_2020-11-14T21:00.csv\n",
      "/opt/datos/wrf-meteo/matrices208/matriz_tag_CBA_A_18_RAINNC_2020-11-16T15:00.csv\n",
      "/opt/datos/wrf-meteo/matrices208/matriz_tag_CBA_A_18_RAINNC_2020-11-16T18:00.csv\n",
      "/opt/datos/wrf-meteo/matrices208/matriz_tag_CBA_A_18_RAINNC_2020-11-16T12:00.csv\n",
      "/opt/datos/wrf-meteo/matrices208/matriz_tag_CBA_A_18_RAINNC_2020-11-16T21:00.csv\n",
      "/opt/datos/wrf-meteo/matrices208/matriz_tag_CBA_A_18_RAINNC_2020-12-01T00:00.csv\n",
      "/opt/datos/wrf-meteo/matrices208/matriz_tag_CBA_A_18_RAINNC_2020-12-01T03:00.csv\n",
      "/opt/datos/wrf-meteo/matrices208/matriz_tag_CBA_A_18_RAINNC_2020-12-01T06:00.csv\n",
      "/opt/datos/wrf-meteo/matrices208/matriz_tag_CBA_A_18_RAINNC_2020-12-01T09:00.csv\n",
      "/opt/datos/wrf-meteo/matrices208/matriz_tag_CBA_A_06_RAINNC_2020-11-01T12:00.csv\n",
      "/opt/datos/wrf-meteo/matrices208/matriz_tag_CBA_A_06_RAINNC_2020-11-01T15:00.csv\n",
      "/opt/datos/wrf-meteo/matrices208/matriz_tag_CBA_A_06_RAINNC_2020-11-01T18:00.csv\n",
      "/opt/datos/wrf-meteo/matrices208/matriz_tag_CBA_A_06_RAINNC_2020-11-01T21:00.csv\n",
      "/opt/datos/wrf-meteo/matrices208/matriz_tag_CBA_A_06_RAINNC_2020-11-02T00:00.csv\n",
      "/opt/datos/wrf-meteo/matrices208/matriz_tag_CBA_A_06_RAINNC_2020-11-02T03:00.csv\n",
      "/opt/datos/wrf-meteo/matrices208/matriz_tag_CBA_A_06_RAINNC_2020-11-02T06:00.csv\n",
      "/opt/datos/wrf-meteo/matrices208/matriz_tag_CBA_A_06_RAINNC_2020-11-02T09:00.csv\n",
      "/opt/datos/wrf-meteo/matrices208/matriz_tag_CBA_A_06_RAINNC_2020-12-12T00:00.csv\n",
      "/opt/datos/wrf-meteo/matrices208/matriz_tag_CBA_A_06_RAINNC_2020-12-12T03:00.csv\n",
      "/opt/datos/wrf-meteo/matrices208/matriz_tag_CBA_A_06_RAINNC_2020-12-12T06:00.csv\n",
      "/opt/datos/wrf-meteo/matrices208/matriz_tag_CBA_A_06_RAINNC_2020-12-12T09:00.csv\n",
      "/opt/datos/wrf-meteo/matrices208/matriz_tag_CBA_A_06_RAINNC_2020-12-17T00:00.csv\n",
      "/opt/datos/wrf-meteo/matrices208/matriz_tag_CBA_A_06_RAINNC_2020-12-17T03:00.csv\n",
      "/opt/datos/wrf-meteo/matrices208/matriz_tag_CBA_A_06_RAINNC_2020-12-17T06:00.csv\n",
      "/opt/datos/wrf-meteo/matrices208/matriz_tag_CBA_A_06_RAINNC_2020-12-17T09:00.csv\n",
      "/opt/datos/wrf-meteo/matrices208/matriz_tag_CBA_A_06_RAINNC_2020-12-18T00:00.csv\n",
      "/opt/datos/wrf-meteo/matrices208/matriz_tag_CBA_A_06_RAINNC_2020-12-18T03:00.csv\n",
      "/opt/datos/wrf-meteo/matrices208/matriz_tag_CBA_A_06_RAINNC_2020-12-18T06:00.csv\n",
      "/opt/datos/wrf-meteo/matrices208/matriz_tag_CBA_A_06_RAINNC_2020-12-18T09:00.csv\n",
      "/opt/datos/wrf-meteo/matrices208/matriz_tag_CBA_A_06_RAINNC_2020-12-19T00:00.csv\n",
      "/opt/datos/wrf-meteo/matrices208/matriz_tag_CBA_A_06_RAINNC_2020-12-19T03:00.csv\n",
      "/opt/datos/wrf-meteo/matrices208/matriz_tag_CBA_A_06_RAINNC_2020-12-19T06:00.csv\n",
      "/opt/datos/wrf-meteo/matrices208/matriz_tag_CBA_A_06_RAINNC_2020-12-19T09:00.csv\n",
      "/opt/datos/wrf-meteo/matrices208/matriz_tag_CBA_A_06_RAINNC_2020-12-20T00:00.csv\n",
      "/opt/datos/wrf-meteo/matrices208/matriz_tag_CBA_A_06_RAINNC_2020-12-20T03:00.csv\n",
      "/opt/datos/wrf-meteo/matrices208/matriz_tag_CBA_A_06_RAINNC_2020-12-20T06:00.csv\n",
      "/opt/datos/wrf-meteo/matrices208/matriz_tag_CBA_A_06_RAINNC_2020-12-20T09:00.csv\n",
      "/opt/datos/wrf-meteo/matrices208/matriz_tag_CBA_A_18_RAINNC_2020-12-21T15:00.csv\n",
      "/opt/datos/wrf-meteo/matrices208/matriz_tag_CBA_A_18_RAINNC_2020-12-21T18:00.csv\n",
      "/opt/datos/wrf-meteo/matrices208/matriz_tag_CBA_A_18_RAINNC_2020-12-21T12:00.csv\n",
      "/opt/datos/wrf-meteo/matrices208/matriz_tag_CBA_A_18_RAINNC_2020-12-21T21:00.csv\n",
      "/opt/datos/wrf-meteo/matrices208/matriz_tag_CBA_A_06_RAINNC_2020-12-24T00:00.csv\n",
      "/opt/datos/wrf-meteo/matrices208/matriz_tag_CBA_A_06_RAINNC_2020-12-24T03:00.csv\n",
      "/opt/datos/wrf-meteo/matrices208/matriz_tag_CBA_A_06_RAINNC_2020-12-24T06:00.csv\n",
      "/opt/datos/wrf-meteo/matrices208/matriz_tag_CBA_A_06_RAINNC_2020-12-24T09:00.csv\n",
      "/opt/datos/wrf-meteo/matrices208/matriz_tag_CBA_A_06_RAINNC_2020-12-25T00:00.csv\n",
      "/opt/datos/wrf-meteo/matrices208/matriz_tag_CBA_A_06_RAINNC_2020-12-25T03:00.csv\n",
      "/opt/datos/wrf-meteo/matrices208/matriz_tag_CBA_A_06_RAINNC_2020-12-25T06:00.csv\n",
      "/opt/datos/wrf-meteo/matrices208/matriz_tag_CBA_A_06_RAINNC_2020-12-25T09:00.csv\n",
      "/opt/datos/wrf-meteo/matrices208/matriz_tag_CBA_A_06_RAINNC_2020-12-26T00:00.csv\n",
      "/opt/datos/wrf-meteo/matrices208/matriz_tag_CBA_A_06_RAINNC_2020-12-26T03:00.csv\n",
      "/opt/datos/wrf-meteo/matrices208/matriz_tag_CBA_A_06_RAINNC_2020-12-26T06:00.csv\n",
      "/opt/datos/wrf-meteo/matrices208/matriz_tag_CBA_A_06_RAINNC_2020-12-26T09:00.csv\n",
      "/opt/datos/wrf-meteo/matrices208/matriz_tag_CBA_A_06_RAINNC_2020-12-27T00:00.csv\n",
      "/opt/datos/wrf-meteo/matrices208/matriz_tag_CBA_A_06_RAINNC_2020-12-27T03:00.csv\n",
      "/opt/datos/wrf-meteo/matrices208/matriz_tag_CBA_A_06_RAINNC_2020-12-27T06:00.csv\n",
      "/opt/datos/wrf-meteo/matrices208/matriz_tag_CBA_A_06_RAINNC_2020-12-27T09:00.csv\n",
      "/opt/datos/wrf-meteo/matrices208/matriz_tag_CBA_A_06_RAINNC_2020-12-29T00:00.csv\n",
      "/opt/datos/wrf-meteo/matrices208/matriz_tag_CBA_A_06_RAINNC_2020-12-29T03:00.csv\n",
      "/opt/datos/wrf-meteo/matrices208/matriz_tag_CBA_A_06_RAINNC_2020-12-29T06:00.csv\n",
      "/opt/datos/wrf-meteo/matrices208/matriz_tag_CBA_A_06_RAINNC_2020-12-29T09:00.csv\n",
      "/opt/datos/wrf-meteo/matrices208/matriz_tag_CBA_A_06_RAINNC_2020-12-29T12:00.csv\n",
      "/opt/datos/wrf-meteo/matrices208/matriz_tag_CBA_A_06_RAINNC_2020-12-29T18:00.csv\n",
      "/opt/datos/wrf-meteo/matrices208/matriz_tag_CBA_A_06_RAINNC_2020-12-29T21:00.csv\n",
      "/opt/datos/wrf-meteo/matrices208/matriz_tag_CBA_A_06_RAINNC_2020-12-30T00:00.csv\n"
     ]
    },
    {
     "name": "stdout",
     "output_type": "stream",
     "text": [
      "/opt/datos/wrf-meteo/matrices208/matriz_tag_CBA_A_06_RAINNC_2020-12-30T03:00.csv\n",
      "/opt/datos/wrf-meteo/matrices208/matriz_tag_CBA_A_06_RAINNC_2020-12-29T15:00.csv\n",
      "/opt/datos/wrf-meteo/matrices208/matriz_tag_CBA_A_06_RAINNC_2020-12-30T09:00.csv\n",
      "/opt/datos/wrf-meteo/matrices208/matriz_tag_CBA_A_06_RAINNC_2020-12-30T06:00.csv\n"
     ]
    }
   ],
   "source": [
    "for path_in_str in lista_posta:\n",
    "    \n",
    "    lluvias = gr.from_file(path_in_str)\n",
    "    df_lluvias = lluvias.to_pandas()\n",
    "    \n",
    "    df_mask = pd.DataFrame(columns=['valor'])\n",
    "    for i in range(len(df_lluvias)):\n",
    "        if((df_lluvias.loc[i]['value']) > 1.0):\n",
    "            df_mask.loc[i] = 1\n",
    "        else:\n",
    "            df_mask.loc[i] = 0\n",
    "            \n",
    "    # Reshapeo df_mask para que quede 175 x 175\n",
    "    np_mask = df_mask.to_numpy()\n",
    "    np_mask = np_mask.reshape((175,175))\n",
    "    \n",
    "    df_mask = pd.DataFrame(np_mask)\n",
    "    \n",
    "    #Guardo la matriz en un csv\n",
    "    regex = \"geotiff\\/\\w{7}\\/\\w{2}\\/\\w{6}\"\n",
    "    regex2 = \"\\.tiff\"\n",
    "    filename = re.sub(regex, \"matrices208/matriz_tag\", path_in_str)\n",
    "    filename = re.sub(regex2, \".csv\", filename)\n",
    "    df_mask.to_csv(filename, index=False)\n",
    "    print(filename)"
   ]
  },
  {
   "cell_type": "code",
   "execution_count": null,
   "id": "0bba1e35",
   "metadata": {},
   "outputs": [],
   "source": []
  }
 ],
 "metadata": {
  "kernelspec": {
   "display_name": "tesis",
   "language": "python",
   "name": "tesis"
  },
  "language_info": {
   "codemirror_mode": {
    "name": "ipython",
    "version": 3
   },
   "file_extension": ".py",
   "mimetype": "text/x-python",
   "name": "python",
   "nbconvert_exporter": "python",
   "pygments_lexer": "ipython3",
   "version": "3.8.8"
  }
 },
 "nbformat": 4,
 "nbformat_minor": 5
}
