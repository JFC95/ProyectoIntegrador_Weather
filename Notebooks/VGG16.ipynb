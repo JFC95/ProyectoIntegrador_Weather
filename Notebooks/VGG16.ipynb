{
 "cells": [
  {
   "cell_type": "code",
   "execution_count": 1,
   "id": "360e64f0",
   "metadata": {},
   "outputs": [],
   "source": [
    "from tensorflow.keras.models import Sequential\n",
    "from tensorflow.keras import metrics\n",
    "from tensorflow.keras.callbacks import ModelCheckpoint, Callback\n",
    "from tensorflow.keras.utils import to_categorical\n",
    "from tensorflow.keras.models import load_model\n",
    "from tensorflow.keras.layers import BatchNormalization, Conv2D, UpSampling2D, MaxPooling2D, Dropout, Flatten, Dense, Activation\n",
    "from tensorflow.keras.optimizers import Adam, SGD\n",
    "from tensorflow.keras import regularizers\n",
    "from tensorflow.keras.callbacks import LearningRateScheduler\n",
    "from sklearn.metrics import confusion_matrix, f1_score, precision_score, recall_score, precision_recall_curve, accuracy_score, zero_one_loss, balanced_accuracy_score, average_precision_score\n",
    "from inspect import signature\n",
    "import matplotlib.pyplot as plt\n",
    "import numpy as np\n",
    "import tensorflow\n",
    "import os\n",
    "import pickle\n",
    "import sys\n",
    "import logging\n",
    "from tensorflow.keras import layers\n",
    "from tensorflow.keras import Input\n",
    "from tensorflow.keras import backend"
   ]
  },
  {
   "cell_type": "code",
   "execution_count": 5,
   "id": "472dc645",
   "metadata": {},
   "outputs": [],
   "source": [
    "backend.set_image_data_format('channels_first')\n",
    "# Loading the Base Model\n",
    "from tensorflow.keras.applications.vgg16 import VGG16\n",
    "\n",
    "image_input = Input(shape=(3,176,176))\n",
    "\n",
    "base_model = VGG16(input_tensor =  image_input,\n",
    "                   include_top = False, # Leave out the last fully connected layer\n",
    "                   weights = 'imagenet')\n",
    "\n",
    "#base_model.summary()"
   ]
  },
  {
   "cell_type": "code",
   "execution_count": 20,
   "id": "580c8797",
   "metadata": {},
   "outputs": [],
   "source": [
    "# Agrego capas al Base Model (EN PROCESO)\n",
    "last_layer = base_model.get_layer(\"block4_pool\").output\n",
    "x = BatchNormalization(axis=3)(last_layer)\n",
    "x = Conv2D(512, (3, 3), padding='same', activation='relu', bias_regularizer=regularizers.l1(0.01), name='block5_conv1')(x)\n",
    "x = "
   ]
  },
  {
   "cell_type": "code",
   "execution_count": 7,
   "id": "b11bd809",
   "metadata": {},
   "outputs": [],
   "source": []
  },
  {
   "cell_type": "code",
   "execution_count": 8,
   "id": "b3b74c51",
   "metadata": {},
   "outputs": [],
   "source": [
    "##################################################################################################################\n",
    "############################################ SEQUENTIAL ##########################################################\n",
    "##################################################################################################################"
   ]
  },
  {
   "cell_type": "code",
   "execution_count": 2,
   "id": "c73e345d",
   "metadata": {},
   "outputs": [],
   "source": [
    "backend.set_image_data_format('channels_first')"
   ]
  },
  {
   "cell_type": "code",
   "execution_count": 14,
   "id": "d53a29cd",
   "metadata": {},
   "outputs": [
    {
     "name": "stdout",
     "output_type": "stream",
     "text": [
      "Model: \"sequential_1\"\n",
      "_________________________________________________________________\n",
      "Layer (type)                 Output Shape              Param #   \n",
      "=================================================================\n",
      "batch_normalization_19 (Batc (None, 3, 176, 176)       704       \n",
      "_________________________________________________________________\n",
      "block1_conv1 (Conv2D)        (None, 64, 176, 176)      1792      \n",
      "_________________________________________________________________\n",
      "batch_normalization_20 (Batc (None, 64, 176, 176)      704       \n",
      "_________________________________________________________________\n",
      "block1_conv2 (Conv2D)        (None, 64, 176, 176)      36928     \n",
      "_________________________________________________________________\n",
      "block1_pool (MaxPooling2D)   (None, 64, 88, 88)        0         \n",
      "_________________________________________________________________\n",
      "batch_normalization_21 (Batc (None, 64, 88, 88)        352       \n",
      "_________________________________________________________________\n",
      "block2_conv1 (Conv2D)        (None, 128, 88, 88)       73856     \n",
      "_________________________________________________________________\n",
      "batch_normalization_22 (Batc (None, 128, 88, 88)       352       \n",
      "_________________________________________________________________\n",
      "block2_conv2 (Conv2D)        (None, 128, 88, 88)       147584    \n",
      "_________________________________________________________________\n",
      "block2_pool (MaxPooling2D)   (None, 128, 44, 44)       0         \n",
      "_________________________________________________________________\n",
      "batch_normalization_23 (Batc (None, 128, 44, 44)       176       \n",
      "_________________________________________________________________\n",
      "block3_conv1 (Conv2D)        (None, 256, 44, 44)       295168    \n",
      "_________________________________________________________________\n",
      "batch_normalization_24 (Batc (None, 256, 44, 44)       176       \n",
      "_________________________________________________________________\n",
      "block3_conv2 (Conv2D)        (None, 256, 44, 44)       590080    \n",
      "_________________________________________________________________\n",
      "block3_pool (MaxPooling2D)   (None, 256, 22, 22)       0         \n",
      "_________________________________________________________________\n",
      "batch_normalization_25 (Batc (None, 256, 22, 22)       88        \n",
      "_________________________________________________________________\n",
      "block4_conv1 (Conv2D)        (None, 512, 22, 22)       1180160   \n",
      "_________________________________________________________________\n",
      "batch_normalization_26 (Batc (None, 512, 22, 22)       88        \n",
      "_________________________________________________________________\n",
      "block4_conv2 (Conv2D)        (None, 512, 22, 22)       2359808   \n",
      "_________________________________________________________________\n",
      "block4_pool (MaxPooling2D)   (None, 512, 11, 11)       0         \n",
      "_________________________________________________________________\n",
      "batch_normalization_27 (Batc (None, 512, 11, 11)       44        \n",
      "_________________________________________________________________\n",
      "block5_conv1 (Conv2D)        (None, 512, 11, 11)       2359808   \n",
      "_________________________________________________________________\n",
      "batch_normalization_28 (Batc (None, 512, 11, 11)       44        \n",
      "_________________________________________________________________\n",
      "block5_conv2 (Conv2D)        (None, 512, 11, 11)       2359808   \n",
      "_________________________________________________________________\n",
      "block6_upsampl (UpSampling2D (None, 512, 22, 22)       0         \n",
      "_________________________________________________________________\n",
      "batch_normalization_29 (Batc (None, 512, 22, 22)       88        \n",
      "_________________________________________________________________\n",
      "block6_conv1 (Conv2D)        (None, 512, 22, 22)       2359808   \n",
      "_________________________________________________________________\n",
      "batch_normalization_30 (Batc (None, 512, 22, 22)       88        \n",
      "_________________________________________________________________\n",
      "block6_conv2 (Conv2D)        (None, 512, 22, 22)       2359808   \n",
      "_________________________________________________________________\n",
      "block7_upsampl (UpSampling2D (None, 512, 44, 44)       0         \n",
      "_________________________________________________________________\n",
      "batch_normalization_31 (Batc (None, 512, 44, 44)       176       \n",
      "_________________________________________________________________\n",
      "block7_conv1 (Conv2D)        (None, 256, 44, 44)       1179904   \n",
      "_________________________________________________________________\n",
      "batch_normalization_32 (Batc (None, 256, 44, 44)       176       \n",
      "_________________________________________________________________\n",
      "block7_conv2 (Conv2D)        (None, 256, 44, 44)       590080    \n",
      "_________________________________________________________________\n",
      "block8_upsampl (UpSampling2D (None, 256, 88, 88)       0         \n",
      "_________________________________________________________________\n",
      "batch_normalization_33 (Batc (None, 256, 88, 88)       352       \n",
      "_________________________________________________________________\n",
      "block8_conv1 (Conv2D)        (None, 128, 88, 88)       295040    \n",
      "_________________________________________________________________\n",
      "batch_normalization_34 (Batc (None, 128, 88, 88)       352       \n",
      "_________________________________________________________________\n",
      "block8_conv2 (Conv2D)        (None, 128, 88, 88)       147584    \n",
      "_________________________________________________________________\n",
      "block9_upsampl (UpSampling2D (None, 128, 176, 176)     0         \n",
      "_________________________________________________________________\n",
      "batch_normalization_35 (Batc (None, 128, 176, 176)     704       \n",
      "_________________________________________________________________\n",
      "block9_conv1 (Conv2D)        (None, 64, 176, 176)      73792     \n",
      "_________________________________________________________________\n",
      "batch_normalization_36 (Batc (None, 64, 176, 176)      704       \n",
      "_________________________________________________________________\n",
      "block9_conv2 (Conv2D)        (None, 64, 176, 176)      36928     \n",
      "_________________________________________________________________\n",
      "batch_normalization_37 (Batc (None, 64, 176, 176)      704       \n",
      "_________________________________________________________________\n",
      "block10_conv1 (Conv2D)       (None, 1, 176, 176)       65        \n",
      "=================================================================\n",
      "Total params: 16,454,073\n",
      "Trainable params: 16,451,037\n",
      "Non-trainable params: 3,036\n",
      "_________________________________________________________________\n",
      "None\n"
     ]
    }
   ],
   "source": [
    "def get_vgg16():\n",
    "    model = Sequential()\n",
    "\n",
    "    # Encoder\n",
    "    # Block 1\n",
    "    model.add(BatchNormalization(axis=3, input_shape=(3, 176, 176)))\n",
    "    #model.add(Dropout(.2))\n",
    "    model.add(Conv2D(64, (3, 3), padding='same', activation='relu', bias_regularizer=regularizers.l1(0.01), name='block1_conv1', input_shape=(80,120,3)))\n",
    "    model.add(BatchNormalization(axis=3))\n",
    "    model.add(Conv2D(64, (3, 3), padding='same', activation='relu', bias_regularizer=regularizers.l1(0.01), name='block1_conv2'))\n",
    "    model.add(MaxPooling2D((2, 2), strides=(2, 2), name='block1_pool'))\n",
    "\n",
    "    # Block 2\n",
    "    model.add(BatchNormalization(axis=3))\n",
    "    model.add(Conv2D(128, (3, 3), padding='same', activation='relu', bias_regularizer=regularizers.l1(0.01), name='block2_conv1'))\n",
    "    model.add(BatchNormalization(axis=3))\n",
    "    model.add(Conv2D(128, (3, 3), padding='same', activation='relu', bias_regularizer=regularizers.l1(0.01), name='block2_conv2'))\n",
    "    model.add(MaxPooling2D((2, 2), strides=(2, 2), name='block2_pool'))\n",
    "\n",
    "    # Block 3\n",
    "    model.add(BatchNormalization(axis=3))\n",
    "    model.add(Conv2D(256, (3, 3), padding='same', activation='relu', bias_regularizer=regularizers.l1(0.01), name='block3_conv1'))\n",
    "    model.add(BatchNormalization(axis=3))\n",
    "    model.add(Conv2D(256, (3, 3), padding='same', activation='relu', bias_regularizer=regularizers.l1(0.01), name='block3_conv2'))\n",
    "    model.add(MaxPooling2D((2, 2), strides=(2, 2), name='block3_pool'))\n",
    "\n",
    "    # Block 4\n",
    "    model.add(BatchNormalization(axis=3))\n",
    "    model.add(Conv2D(512, (3, 3), padding='same', activation='relu', bias_regularizer=regularizers.l1(0.01), name='block4_conv1'))\n",
    "    model.add(BatchNormalization(axis=3))\n",
    "    model.add(Conv2D(512, (3, 3), padding='same', activation='relu', bias_regularizer=regularizers.l1(0.01), name='block4_conv2'))\n",
    "    model.add(MaxPooling2D((2, 2), strides=(2, 2), name='block4_pool'))\n",
    "\n",
    "\n",
    "    # Block 5\n",
    "    model.add(BatchNormalization(axis=3))\n",
    "    model.add(Conv2D(512, (3, 3), padding='same', activation='relu', bias_regularizer=regularizers.l1(0.01), name='block5_conv1'))\n",
    "    model.add(BatchNormalization(axis=3))\n",
    "    model.add(Conv2D(512, (3, 3), padding='same', activation='relu', bias_regularizer=regularizers.l1(0.01), name='block5_conv2'))\n",
    "\n",
    "    # Decoder (probar tambien unpooling)\n",
    "    # Block 6\n",
    "    model.add(UpSampling2D((2, 2), name='block6_upsampl'))\n",
    "    model.add(BatchNormalization(axis=3))\n",
    "    model.add(Conv2D(512, (3, 3), padding='same', activation='relu', bias_regularizer=regularizers.l1(0.01), name='block6_conv1'))\n",
    "    model.add(BatchNormalization(axis=3))\n",
    "    model.add(Conv2D(512, (3, 3), padding='same', activation='relu', bias_regularizer=regularizers.l1(0.01), name='block6_conv2'))\n",
    "\n",
    "    # Block 7\n",
    "    model.add(UpSampling2D((2, 2), name='block7_upsampl'))\n",
    "    model.add(BatchNormalization(axis=3))\n",
    "    model.add(Conv2D(256, (3, 3), padding='same', activation='relu', bias_regularizer=regularizers.l1(0.01), name='block7_conv1'))\n",
    "    model.add(BatchNormalization(axis=3))\n",
    "    model.add(Conv2D(256, (3, 3), padding='same', activation='relu', bias_regularizer=regularizers.l1(0.01), name='block7_conv2'))\n",
    "\n",
    "    # Block 8\n",
    "    model.add(UpSampling2D((2, 2), name='block8_upsampl'))\n",
    "    model.add(BatchNormalization(axis=3))\n",
    "    model.add(Conv2D(128, (3, 3), padding='same', activation='relu', bias_regularizer=regularizers.l1(0.01), name='block8_conv1'))\n",
    "    model.add(BatchNormalization(axis=3))\n",
    "    model.add(Conv2D(128, (3, 3), padding='same', activation='relu', bias_regularizer=regularizers.l1(0.01), name='block8_conv2'))\n",
    "\n",
    "    # Block 9\n",
    "    model.add(UpSampling2D((2, 2), name='block9_upsampl'))\n",
    "    model.add(BatchNormalization(axis=3))\n",
    "    model.add(Conv2D(64, (3, 3), padding='same', activation='relu', bias_regularizer=regularizers.l1(0.01), name='block9_conv1'))\n",
    "    model.add(BatchNormalization(axis=3))\n",
    "    #model.add(Dropout(.2))\n",
    "    model.add(Conv2D(64, (3, 3), padding='same', activation='relu', bias_regularizer=regularizers.l1(0.01), name='block9_conv2'))\n",
    "\n",
    "    # Output (probar activation = sigmoid en la ultima capa)\n",
    "    model.add(BatchNormalization(axis=3))\n",
    "#    model.add(Conv2D(1, (1, 1), padding='same', activation='relu', bias_regularizer=regularizers.l1(0.01), name='block10_conv1'))\n",
    "    model.add(Conv2D(1, (1, 1), padding='same', activation='sigmoid', bias_regularizer=regularizers.l1(0.01), name='block10_conv1'))\n",
    "    \n",
    "    sgd = SGD(lr=0.01, decay=1e-6, momentum=0.9, nesterov=True)\n",
    "    model.compile(loss='mae', optimizer=sgd, metrics=['mse','acc'])\n",
    "    #model.compile(loss='mae', optimizer=Adam(lr=0.001), metrics=['mse'])\n",
    "    #model.compile(optimizer = tensorflow.keras.optimizers.RMSprop(lr=0.0001), loss = 'binary_crossentropy',metrics = ['acc'])\n",
    "    print(model.summary())\n",
    "\n",
    "    return model\n",
    "\n",
    "model = get_vgg16()"
   ]
  },
  {
   "cell_type": "code",
   "execution_count": 15,
   "id": "ac404329",
   "metadata": {},
   "outputs": [
    {
     "name": "stdout",
     "output_type": "stream",
     "text": [
      "X_train: (2050, 3, 176, 176)\n",
      "X_val: (439, 3, 176, 176)\n",
      "X_test: (439, 3, 176, 176)\n",
      "Y_train: (2050, 176, 176)\n",
      "Y_val: (439, 176, 176)\n"
     ]
    }
   ],
   "source": [
    "X_train_dir = \"X_train.npy\"\n",
    "X_val_dir   = \"X_val.npy\"\n",
    "X_test_dir = \"X_test.npy\"\n",
    "Y_train_dir = \"Y_train.npy\"\n",
    "Y_val_dir   = \"Y_val.npy\"\n",
    "\n",
    "X_train = np.load(X_train_dir)\n",
    "X_val   = np.load(X_val_dir)\n",
    "X_test = np.load(X_test_dir)\n",
    "Y_train = np.load(Y_train_dir)\n",
    "Y_val   = np.load(Y_val_dir)\n",
    "\n",
    "print(\"X_train: %s\" %str(X_train.shape))\n",
    "print(\"X_val: %s\" %str(X_val.shape))\n",
    "print(\"X_test: %s\" %str(X_test.shape))\n",
    "print(\"Y_train: %s\" %str(Y_train.shape))\n",
    "print(\"Y_val: %s\" %str(Y_val.shape))"
   ]
  },
  {
   "cell_type": "code",
   "execution_count": 16,
   "id": "a100b762",
   "metadata": {},
   "outputs": [
    {
     "name": "stdout",
     "output_type": "stream",
     "text": [
      "Epoch 1/20\n",
      "65/65 [==============================] - 88s 1s/step - loss: 0.0790 - mse: 0.0423 - acc: 0.1166 - val_loss: 0.0784 - val_mse: 0.0219 - val_acc: 0.0000e+00\n",
      "Epoch 2/20\n",
      "65/65 [==============================] - 86s 1s/step - loss: 0.0233 - mse: 0.0187 - acc: 0.2002 - val_loss: 0.0320 - val_mse: 0.0205 - val_acc: 0.0000e+00\n",
      "Epoch 3/20\n",
      "65/65 [==============================] - 86s 1s/step - loss: 0.0232 - mse: 0.0185 - acc: 0.1933 - val_loss: 0.0251 - val_mse: 0.0207 - val_acc: 0.0055\n",
      "Epoch 4/20\n",
      "65/65 [==============================] - 86s 1s/step - loss: 0.0226 - mse: 0.0181 - acc: 0.1793 - val_loss: 0.0264 - val_mse: 0.0207 - val_acc: 0.0112\n",
      "Epoch 5/20\n",
      "65/65 [==============================] - 86s 1s/step - loss: 0.0215 - mse: 0.0170 - acc: 0.1801 - val_loss: 0.0240 - val_mse: 0.0207 - val_acc: 0.0112\n",
      "Epoch 6/20\n",
      "65/65 [==============================] - 86s 1s/step - loss: 0.0224 - mse: 0.0179 - acc: 0.1747 - val_loss: 0.0259 - val_mse: 0.0207 - val_acc: 0.0121\n",
      "Epoch 7/20\n",
      "65/65 [==============================] - 86s 1s/step - loss: 0.0235 - mse: 0.0190 - acc: 0.1753 - val_loss: 0.0240 - val_mse: 0.0207 - val_acc: 0.0191\n",
      "Epoch 8/20\n",
      "65/65 [==============================] - 86s 1s/step - loss: 0.0218 - mse: 0.0173 - acc: 0.1710 - val_loss: 0.0260 - val_mse: 0.0207 - val_acc: 0.0276\n",
      "Epoch 9/20\n",
      "65/65 [==============================] - 86s 1s/step - loss: 0.0235 - mse: 0.0190 - acc: 0.1735 - val_loss: 0.0239 - val_mse: 0.0207 - val_acc: 0.0336\n",
      "Epoch 10/20\n",
      "65/65 [==============================] - 86s 1s/step - loss: 0.0232 - mse: 0.0187 - acc: 0.1698 - val_loss: 0.0259 - val_mse: 0.0207 - val_acc: 0.0374\n",
      "Epoch 11/20\n",
      "65/65 [==============================] - 86s 1s/step - loss: 0.0223 - mse: 0.0178 - acc: 0.1728 - val_loss: 0.0238 - val_mse: 0.0207 - val_acc: 0.0378\n",
      "Epoch 12/20\n",
      "65/65 [==============================] - 86s 1s/step - loss: 0.0243 - mse: 0.0198 - acc: 0.1637 - val_loss: 0.0258 - val_mse: 0.0207 - val_acc: 0.0360\n",
      "Epoch 13/20\n",
      "65/65 [==============================] - 86s 1s/step - loss: 0.0201 - mse: 0.0157 - acc: 0.1697 - val_loss: 0.0240 - val_mse: 0.0207 - val_acc: 0.0371\n",
      "Epoch 14/20\n",
      "65/65 [==============================] - 86s 1s/step - loss: 0.0221 - mse: 0.0177 - acc: 0.1652 - val_loss: 0.0259 - val_mse: 0.0207 - val_acc: 0.0393\n",
      "Epoch 15/20\n",
      "65/65 [==============================] - 86s 1s/step - loss: 0.0215 - mse: 0.0170 - acc: 0.1581 - val_loss: 0.0239 - val_mse: 0.0207 - val_acc: 0.0396\n",
      "Epoch 16/20\n",
      "65/65 [==============================] - 86s 1s/step - loss: 0.0224 - mse: 0.0180 - acc: 0.1728 - val_loss: 0.0259 - val_mse: 0.0207 - val_acc: 0.0403\n",
      "Epoch 17/20\n",
      "65/65 [==============================] - 86s 1s/step - loss: 0.0211 - mse: 0.0167 - acc: 0.1570 - val_loss: 0.0238 - val_mse: 0.0207 - val_acc: 0.0405\n",
      "Epoch 18/20\n",
      "65/65 [==============================] - 86s 1s/step - loss: 0.0206 - mse: 0.0162 - acc: 0.1682 - val_loss: 0.0258 - val_mse: 0.0207 - val_acc: 0.0404\n",
      "Epoch 19/20\n",
      "65/65 [==============================] - 86s 1s/step - loss: 0.0224 - mse: 0.0179 - acc: 0.1634 - val_loss: 0.0239 - val_mse: 0.0207 - val_acc: 0.0401\n",
      "Epoch 20/20\n",
      "65/65 [==============================] - 86s 1s/step - loss: 0.0236 - mse: 0.0192 - acc: 0.1647 - val_loss: 0.0260 - val_mse: 0.0207 - val_acc: 0.0391\n"
     ]
    }
   ],
   "source": [
    "vgghist = model.fit(X_train, Y_train, validation_data = (X_val,Y_val), epochs = 20)"
   ]
  },
  {
   "cell_type": "code",
   "execution_count": 17,
   "id": "4d94d94b",
   "metadata": {},
   "outputs": [],
   "source": [
    "with open('trainHistoryDict_vgg16', 'wb') as file_pi:\n",
    "    pickle.dump(vgghist.history, file_pi)"
   ]
  },
  {
   "cell_type": "code",
   "execution_count": 18,
   "id": "0f8679e6",
   "metadata": {},
   "outputs": [],
   "source": [
    "history = pickle.load( open( \"trainHistoryDict_vgg16\", \"rb\" ) )"
   ]
  },
  {
   "cell_type": "code",
   "execution_count": 19,
   "id": "f29c7e78",
   "metadata": {},
   "outputs": [
    {
     "data": {
      "image/png": "[encoded data removed]",
      "text/plain": [
       "<Figure size 432x288 with 1 Axes>"
      ]
     },
     "metadata": {
      "needs_background": "light"
     },
     "output_type": "display_data"
    }
   ],
   "source": [
    "#print(history)\n",
    "plt.plot(history['loss'])\n",
    "plt.plot(history['val_loss'])\n",
    "plt.title('VGG16 network training')\n",
    "plt.ylabel('mean absolute error')\n",
    "plt.xlabel('epoch')\n",
    "plt.legend(['train', 'validation'], loc='upper right')\n",
    "plt.show()"
   ]
  },
  {
   "cell_type": "code",
   "execution_count": 20,
   "id": "7bbc354e",
   "metadata": {},
   "outputs": [
    {
     "name": "stdout",
     "output_type": "stream",
     "text": [
      "(439, 1, 176, 176)\n"
     ]
    }
   ],
   "source": [
    "y_pred = model.predict(X_test)\n",
    "print(y_pred.shape)"
   ]
  },
  {
   "cell_type": "code",
   "execution_count": 21,
   "id": "5cacde9c",
   "metadata": {},
   "outputs": [
    {
     "name": "stderr",
     "output_type": "stream",
     "text": [
      "IOPub data rate exceeded.\n",
      "The notebook server will temporarily stop sending output\n",
      "to the client in order to avoid crashing it.\n",
      "To change this limit, set the config variable\n",
      "`--NotebookApp.iopub_data_rate_limit`.\n",
      "\n",
      "Current values:\n",
      "NotebookApp.iopub_data_rate_limit=1000000.0 (bytes/sec)\n",
      "NotebookApp.rate_limit_window=3.0 (secs)\n",
      "\n"
     ]
    }
   ],
   "source": [
    "# Para ver que valores hay y cuantas veces aparece c/u\n",
    "unique, counts = np.unique(y_pred, return_counts=True)\n",
    "print(dict(zip(unique, counts)))"
   ]
  },
  {
   "cell_type": "code",
   "execution_count": 22,
   "id": "03903cc5",
   "metadata": {},
   "outputs": [],
   "source": [
    "# Cargo en Y los valores reales de las matrices de tags, y le agrego una dim para coincidir con salida de la red\n",
    "Y = np.load('Y_test.npy')\n",
    "Y = np.expand_dims(Y,axis=1)"
   ]
  },
  {
   "cell_type": "code",
   "execution_count": 23,
   "id": "a31fea9e",
   "metadata": {},
   "outputs": [
    {
     "name": "stdout",
     "output_type": "stream",
     "text": [
      "Cantidad de unos que hay realmente: 497011\n",
      "Cantidad de ceros que hay realmente: 13101453\n",
      "Total: 13598464\n"
     ]
    }
   ],
   "source": [
    "# Cuento la cantidad de unos y ceros en las matrices de tags\n",
    "lluvias = np.where(Y==1)[0].size\n",
    "nolluvias = np.where(Y==0)[0].size\n",
    "\n",
    "print(\"Cantidad de unos que hay realmente: \" + str(lluvias))\n",
    "print(\"Cantidad de ceros que hay realmente: \" + str(nolluvias))\n",
    "total_real = lluvias+nolluvias\n",
    "print(\"Total: \" + str(total_real))"
   ]
  },
  {
   "cell_type": "code",
   "execution_count": 24,
   "id": "d842908c",
   "metadata": {},
   "outputs": [
    {
     "name": "stdout",
     "output_type": "stream",
     "text": [
      "Cantidad de unos predichos: 13598464\n",
      "Cantidad de ceros predichos: 0\n",
      "Cantidad de valores distintos de cero: 13598464\n",
      "Total: 13598464\n"
     ]
    }
   ],
   "source": [
    "# Cuento la cantidad de unos y ceros en las matrices de prediccion\n",
    "unos = np.where(y_pred != 0)[0].size\n",
    "ceros = np.where(y_pred == 0)[0].size\n",
    "otro_valor = np.where(y_pred != 0)[0].size\n",
    "\n",
    "print(\"Cantidad de unos predichos: \" + str(unos))\n",
    "print(\"Cantidad de ceros predichos: \" + str(ceros))\n",
    "print(\"Cantidad de valores distintos de cero: \" + str(otro_valor))\n",
    "total_real = unos+ceros\n",
    "print(\"Total: \" + str(total_real))"
   ]
  },
  {
   "cell_type": "code",
   "execution_count": 243,
   "id": "6787c054",
   "metadata": {},
   "outputs": [
    {
     "name": "stdout",
     "output_type": "stream",
     "text": [
      "(12302796,)\n",
      "(304436,)\n"
     ]
    }
   ],
   "source": [
    "Y_falses = y_pred[Y==0]\n",
    "Y_trues = y_pred[Y==1]\n",
    "print(Y_falses.shape)\n",
    "print(Y_trues.shape)"
   ]
  },
  {
   "cell_type": "code",
   "execution_count": null,
   "id": "61f9dc2d",
   "metadata": {},
   "outputs": [],
   "source": []
  },
  {
   "cell_type": "code",
   "execution_count": 37,
   "id": "98abc092",
   "metadata": {},
   "outputs": [],
   "source": [
    "# CURVA ROC\n",
    "def roc_curve(Y, y_pred):\n",
    "    fpr, tpr, thresholds = roc_curve(Y, y_pred)\n",
    "    roc_auc = auc(fpr, tpr)\n",
    "\n",
    "    plt.figure(figsize=(14,14))\n",
    "    plt.plot(fpr, tpr, color='darkorange', lw=1, label='ROC curve (area = %0.2f)' % roc_auc)\n",
    "    plt.plot([0, 1], [0, 1], color='navy', lw=1, linestyle='--')\n",
    "    plt.xlim([0.0, 1.0])\n",
    "    plt.ylim([0.0, 1.05])\n",
    "    plt.xlabel('False Positive Rate')\n",
    "    plt.ylabel('True Positive Rate')\n",
    "    plt.title('Curva ROC (Receiver Operating Characteristic)')\n",
    "    plt.legend(loc=\"lower right\")\n",
    "    plt.savefig(\"roc_curve.png\")"
   ]
  },
  {
   "cell_type": "code",
   "execution_count": 42,
   "id": "e3501627",
   "metadata": {},
   "outputs": [],
   "source": [
    "#    CURVA PRECISION-RECALL\n",
    "\n",
    "def pr_curve(Y, y_pred):\n",
    "    precision, recall, _ = precision_recall_curve(Y, y_pred)\n",
    "    average_precision = average_precision_score(Y, y_pred)\n",
    "\n",
    "    # In matplotlib < 1.5, plt.fill_between does not have a 'step' argument\n",
    "    step_kwargs = ({'step': 'post'} if 'step' in signature(plt.fill_between).parameters else {})\n",
    "    plt.step(recall, precision, color='b', alpha=0.2, where='post')\n",
    "    plt.fill_between(recall, precision, alpha=0.2, color='b', **step_kwargs)\n",
    "\n",
    "    plt.xlabel('Recall')\n",
    "    plt.ylabel('Precision')\n",
    "    plt.ylim([0.0, 1.05])\n",
    "    plt.xlim([0.0, 1.0])\n",
    "    plt.title('2-class Precision-Recall curve: AP={0:0.2f}'.format(average_precision))\n",
    "    plt.savefig(\"./pr_curve.png\")"
   ]
  },
  {
   "cell_type": "code",
   "execution_count": 244,
   "id": "0ef96134",
   "metadata": {},
   "outputs": [],
   "source": [
    "pr_curve(Y,y_pred) # Genera la curva Precision Recall"
   ]
  }
 ],
 "metadata": {
  "kernelspec": {
   "display_name": "tf-gpu",
   "language": "python",
   "name": "tf-gpu"
  },
  "language_info": {
   "codemirror_mode": {
    "name": "ipython",
    "version": 3
   },
   "file_extension": ".py",
   "mimetype": "text/x-python",
   "name": "python",
   "nbconvert_exporter": "python",
   "pygments_lexer": "ipython3",
   "version": "3.9.5"
  }
 },
 "nbformat": 4,
 "nbformat_minor": 5
}
