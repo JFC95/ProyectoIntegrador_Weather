{
 "cells": [
  {
   "cell_type": "code",
   "execution_count": 48,
   "id": "21cbab9f",
   "metadata": {},
   "outputs": [],
   "source": [
    "# Notebook encargada de agregarle una etiqueta a aquellos tiffs provenientes de \"wrfmeteo.py\"\n",
    "# Basicamente se les agrega la etiqueta 'useful' a aquellos tiff que sirven para la red"
   ]
  },
  {
   "cell_type": "code",
   "execution_count": 49,
   "id": "acc5a8cb",
   "metadata": {},
   "outputs": [],
   "source": [
    "%config Completer.use_jedi = False"
   ]
  },
  {
   "cell_type": "code",
   "execution_count": 50,
   "id": "a798144b",
   "metadata": {},
   "outputs": [],
   "source": [
    "import os\n",
    "from pathlib import Path"
   ]
  },
  {
   "cell_type": "code",
   "execution_count": 51,
   "id": "30d9dd7d",
   "metadata": {},
   "outputs": [],
   "source": [
    "directory_in_str = \"/opt/datos/wrf-meteo/geotiff/\" #dentro de ....\n",
    "pathlist = Path(directory_in_str).glob('**/*.tiff') \n",
    "horarios06 = [\"T12:00\", \"T15:00\", \"T18:00\", \"T21:00\"]\n",
    "horarios18 = [\"T00:00\", \"T03:00\", \"T06:00\", \"T09:00\"]"
   ]
  },
  {
   "cell_type": "code",
   "execution_count": 52,
   "id": "8bb477f9",
   "metadata": {},
   "outputs": [],
   "source": [
    "for path in pathlist:\n",
    "    path_in_str = str(path)\n",
    "    #print(path_in_str)\n",
    "    \n",
    "    if((path_in_str[37:39] == path_in_str[64:66]) and (path_in_str.find(\"_06_RAINNC\") != -1)): #si es el mismo dia\n",
    "        if(path_in_str[66:72] in horarios06): #si el horario es util\n",
    "            try:\n",
    "                #print(path_in_str)\n",
    "                path_nuevo = path_in_str.replace(\"CBA\", \"useful_CBA\")\n",
    "                os.rename(path_in_str, path_nuevo)\n",
    "            except:\n",
    "                print(\"No se encontro el archivo\")\n",
    "    elif(((int(path_in_str[64:66]) - int(path_in_str[37:39])) == 1) and (path_in_str.find(\"_18_RAINNC\") != -1)):\n",
    "        if(path_in_str[66:72] in horarios18):\n",
    "            try:\n",
    "                #print(path_in_str)\n",
    "                path_nuevo = path_in_str.replace(\"CBA\", \"useful_CBA\")\n",
    "                os.rename(path_in_str, path_nuevo)\n",
    "            except:\n",
    "                print(\"No se encontro el archivo\")\n",
    "    elif((path_in_str[37:39] == \"31\") and (path_in_str.find(\"_18_RAINNC\") != -1)):\n",
    "        if(path_in_str[64:66] == \"01\"):\n",
    "            if(path_in_str[66:72] in horarios18):\n",
    "                try:\n",
    "                    #print(path_in_str)\n",
    "                    path_nuevo = path_in_str.replace(\"CBA\", \"useful_CBA\")\n",
    "                    os.rename(path_in_str, path_nuevo)\n",
    "                except:\n",
    "                    print(\"No se encontro el archivo\")"
   ]
  },
  {
   "cell_type": "code",
   "execution_count": null,
   "id": "96711499",
   "metadata": {},
   "outputs": [],
   "source": []
  }
 ],
 "metadata": {
  "kernelspec": {
   "display_name": "tesis",
   "language": "python",
   "name": "tesis"
  },
  "language_info": {
   "codemirror_mode": {
    "name": "ipython",
    "version": 3
   },
   "file_extension": ".py",
   "mimetype": "text/x-python",
   "name": "python",
   "nbconvert_exporter": "python",
   "pygments_lexer": "ipython3",
   "version": "3.8.8"
  }
 },
 "nbformat": 4,
 "nbformat_minor": 5
}
