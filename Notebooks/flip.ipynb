{
 "cells": [
  {
   "cell_type": "code",
   "execution_count": 57,
   "id": "e5f4b027",
   "metadata": {},
   "outputs": [],
   "source": [
    "from netCDF4 import Dataset\n",
    "import xarray as xr\n",
    "import georasters as gr\n",
    "import matplotlib.pyplot as plt\n",
    "import wrf\n",
    "from wrf import getvar, interpline, CoordPair, xy_to_ll, ll_to_xy\n",
    "import numpy as np\n",
    "import seaborn as sns\n",
    "from osgeo import gdal_array, gdal, osr"
   ]
  },
  {
   "cell_type": "code",
   "execution_count": null,
   "id": "d8689f31",
   "metadata": {},
   "outputs": [],
   "source": []
  },
  {
   "cell_type": "code",
   "execution_count": 58,
   "id": "af451014",
   "metadata": {},
   "outputs": [],
   "source": [
    "filename = '/opt/wrfdatos/wrfout/2020_01/wrfout_A_d01_2020-01-09_06:00:00'\n",
    "ncwrf = Dataset(filename)\n",
    "#ds = xr.open_dataset(filename)"
   ]
  },
  {
   "cell_type": "code",
   "execution_count": 59,
   "id": "17d711ee",
   "metadata": {},
   "outputs": [],
   "source": [
    "import os\n",
    "\n",
    "PROG_VERSION = 'v0.1.0'\n",
    "\n",
    "#WRF_VARIABLES = ['T2', 'TSK', 'wspd10', 'wdir10']\n",
    "WRF_VARIABLES = ['RAINNC']\n",
    "\n",
    "WRFOUT_REGEX = r\"wrfout_(?P<param>[A-Z])_[a-z0-9]{3,4}_(?P<timestamp>\\d{4}-\\d{2}-\\d{2}_\\d{2}:\\d{2}:\\d{2})\"\n",
    "\n",
    "CBA_EXTENT = [-67.0,\n",
    "              -35.3,\n",
    "              -60.7,\n",
    "              -29.0]\n",
    "\n",
    "WRF_EXTENT = [-538001.0623448786,\n",
    "              -538000.0000000792,\n",
    "              537998.9376551214,\n",
    "              537999.9999999208]\n",
    "\n",
    "# recorte para graphs de ppnaccum\n",
    "RECORTE_EXTENT = [-66.07031,\n",
    "                  -35.168794,\n",
    "                  -61.579685,\n",
    "                  -29.328177]\n",
    "\n",
    "KM_PER_DEGREE = 111.32\n",
    "RESOLUTION = 4\n",
    "\n",
    "def cambiar_projection(in_array: np.ndarray):\n",
    "    \"\"\"Convert Grid to New Projection.\n",
    "        Parameters\n",
    "        ----------\n",
    "        in_array\n",
    "    \"\"\"\n",
    "    # WRF Spatial Reference System\n",
    "    source_prj = osr.SpatialReference()\n",
    "    source_prj.ImportFromProj4('+proj=lcc +lat_0=-32.500008 +lon_0=-62.7 '\n",
    "                               '+lat_1=-60 +lat_2=-30 +x_0=0 +y_0=0 +R=6370000'\n",
    "                               ' +units=m +no_defs')\n",
    "    # Lat/lon WSG84 Spatial Reference System\n",
    "    target_prj = osr.SpatialReference()\n",
    "    target_prj.ImportFromProj4('+proj=longlat +ellps=WGS84 '\n",
    "                               '+datum=WGS84 +no_defs')\n",
    "\n",
    "    # se configura la matriz destino\n",
    "    sizex = int(((CBA_EXTENT[2] - CBA_EXTENT[0]) * KM_PER_DEGREE) / RESOLUTION)\n",
    "    sizey = int(((CBA_EXTENT[3] - CBA_EXTENT[1]) * KM_PER_DEGREE) / RESOLUTION)\n",
    "\n",
    "    out_array = np.ndarray(shape=(int(in_array.coords['Time'].count()),\n",
    "                           sizey, sizex))\n",
    "\n",
    "    for t in range(in_array.coords['Time'].size):\n",
    "        # loar gdal array y se le asigna la projección y transofrmación\n",
    "        raw = gdal_array.OpenArray(np.flipud(in_array[t].values))\n",
    "        raw.SetProjection(source_prj.ExportToWkt())\n",
    "        raw.SetGeoTransform(getGeoT(WRF_EXTENT,\n",
    "                                    raw.RasterYSize,\n",
    "                                    raw.RasterXSize))\n",
    "\n",
    "        grid = gdal.GetDriverByName('MEM').Create(\"tmp_ras\",\n",
    "                                                  sizex, sizey, 1,\n",
    "                                                  gdal.GDT_Float32)\n",
    "        # Setup projection and geo-transformation\n",
    "        grid.SetProjection(target_prj.ExportToWkt())\n",
    "        grid.SetGeoTransform(getGeoT(CBA_EXTENT,\n",
    "                                     grid.RasterYSize,\n",
    "                                     grid.RasterXSize))\n",
    "\n",
    "        # reprojectamos\n",
    "        gdal.ReprojectImage(raw,\n",
    "                            grid,\n",
    "                            source_prj.ExportToWkt(),\n",
    "                            target_prj.ExportToWkt(),\n",
    "                            gdal.GRA_NearestNeighbour,\n",
    "                            options=['NUM_THREADS=ALL_CPUS'])\n",
    "\n",
    "        out_array[t] = grid.ReadAsArray()\n",
    "\n",
    "    return out_array, grid.GetGeoTransform(), grid.GetProjection()\n",
    "\n",
    "def getGeoT(extent, nlines, ncols):\n",
    "    # Compute resolution based on data dimension\n",
    "    resx = (extent[2] - extent[0]) / ncols\n",
    "    resy = (extent[3] - extent[1]) / nlines\n",
    "    return [extent[0], resx, 0, extent[3], 0, -resy]"
   ]
  },
  {
   "cell_type": "code",
   "execution_count": 60,
   "id": "68bccfa2",
   "metadata": {},
   "outputs": [
    {
     "name": "stdout",
     "output_type": "stream",
     "text": [
      "(58, 269, 269)\n"
     ]
    }
   ],
   "source": [
    "variable = 'RAINNC'\n",
    "var = wrf.getvar(ncwrf, variable, timeidx=wrf.ALL_TIMES)\n",
    "varNC = wrf.getvar(ncwrf, 'RAINC', timeidx=wrf.ALL_TIMES)\n",
    "var.values = var.values + varNC.values\n",
    "\n",
    "var_proj, geoTransform, target_prj = cambiar_projection(var)\n",
    "#base_path = f\"{path_gtiff}{configuracion}_{variable}\"\n",
    "print(var.values.shape)"
   ]
  },
  {
   "cell_type": "code",
   "execution_count": 61,
   "id": "296d567e",
   "metadata": {},
   "outputs": [],
   "source": [
    "# elegir la hora del wrfout\n",
    "hora = 12\n",
    "hora = hora - 6"
   ]
  },
  {
   "cell_type": "code",
   "execution_count": 62,
   "id": "99ca2744",
   "metadata": {},
   "outputs": [
    {
     "name": "stdout",
     "output_type": "stream",
     "text": [
      "wrfout completo: \n"
     ]
    },
    {
     "data": {
      "image/png": "[encoded data removed]",
      "text/plain": [
       "<Figure size 432x288 with 2 Axes>"
      ]
     },
     "metadata": {
      "needs_background": "light"
     },
     "output_type": "display_data"
    }
   ],
   "source": [
    "print(\"wrfout completo: \")\n",
    "ax = sns.heatmap(var.values[hora], cmap='jet', xticklabels=50, yticklabels=50)"
   ]
  },
  {
   "cell_type": "code",
   "execution_count": 63,
   "id": "809842a7",
   "metadata": {},
   "outputs": [],
   "source": [
    "arr = np.zeros((58,175,175))\n",
    "\n",
    "for t in range(ncwrf.dimensions['Time'].size):\n",
    "    arr[t] = var_proj[t] - var_proj[t-3]"
   ]
  },
  {
   "cell_type": "code",
   "execution_count": 64,
   "id": "f3f29b9a",
   "metadata": {},
   "outputs": [
    {
     "name": "stdout",
     "output_type": "stream",
     "text": [
      "(58, 175, 175)\n"
     ]
    },
    {
     "data": {
      "image/png": "[encoded data removed]",
      "text/plain": [
       "<Figure size 432x288 with 2 Axes>"
      ]
     },
     "metadata": {
      "needs_background": "light"
     },
     "output_type": "display_data"
    }
   ],
   "source": [
    "print(arr.shape)\n",
    "ax = sns.heatmap(arr[hora], cmap='jet', xticklabels=50, yticklabels=50)"
   ]
  },
  {
   "cell_type": "code",
   "execution_count": 65,
   "id": "b0914322",
   "metadata": {},
   "outputs": [
    {
     "data": {
      "image/png": "[encoded data removed]",
      "text/plain": [
       "<Figure size 432x288 with 2 Axes>"
      ]
     },
     "metadata": {
      "needs_background": "light"
     },
     "output_type": "display_data"
    }
   ],
   "source": [
    "ax = sns.heatmap(np.flipud(arr[hora]), cmap='jet', xticklabels=50, yticklabels=50)"
   ]
  },
  {
   "cell_type": "code",
   "execution_count": 66,
   "id": "da598c48",
   "metadata": {
    "scrolled": true
   },
   "outputs": [
    {
     "data": {
      "image/png": "[encoded data removed]",
      "text/plain": [
       "<Figure size 432x288 with 2 Axes>"
      ]
     },
     "metadata": {
      "needs_background": "light"
     },
     "output_type": "display_data"
    }
   ],
   "source": [
    "nombre = '/opt/datos/wrf-meteo/geotiff/2020_01/09/useful_CBA_A_06_RAINNC_2020-01-09T12:00.tiff'\n",
    "tiff = gr.from_file(nombre).to_pandas()['value'].to_numpy().reshape(175,175)\n",
    "#ax = sns.heatmap(tiff, cmap='jet', xticklabels=50, yticklabels=50)\n",
    "ax = sns.heatmap(np.flipud(tiff), cmap='jet', xticklabels=50, yticklabels=50)"
   ]
  },
  {
   "cell_type": "code",
   "execution_count": 68,
   "id": "d9a40484",
   "metadata": {},
   "outputs": [
    {
     "data": {
      "text/plain": [
       "True"
      ]
     },
     "execution_count": 68,
     "metadata": {},
     "output_type": "execute_result"
    }
   ],
   "source": [
    "np.array_equal(np.flipud(arr[hora]), np.flipud(tiff))"
   ]
  },
  {
   "cell_type": "markdown",
   "id": "fa6b5afc",
   "metadata": {},
   "source": [
    "## Lat Lon del punto donde mas llovio"
   ]
  },
  {
   "cell_type": "code",
   "execution_count": 72,
   "id": "c0c916ad",
   "metadata": {},
   "outputs": [],
   "source": [
    "tiff=np.flipud(tiff)"
   ]
  },
  {
   "cell_type": "code",
   "execution_count": 83,
   "id": "8f4a60cc",
   "metadata": {},
   "outputs": [
    {
     "name": "stdout",
     "output_type": "stream",
     "text": [
      "pixel donde mas llovio: (array([58]), array([130]))\n",
      "46.142787504941225  milimetros\n",
      "pixel donde mas llovio en wrfout completo: (array([115]), array([143]))\n",
      "46.170254  milimetros\n"
     ]
    }
   ],
   "source": [
    "print(f'pixel donde mas llovio: {np.where(tiff == tiff.max())}')\n",
    "print(tiff[np.where(tiff == tiff.max())[0][0], np.where(tiff == tiff.max())[1][0]], \" milimetros\")\n",
    "#print(np.where(arr[9] == arr[9].max()))\n",
    "#print(arr[9, 102, 28])\n",
    "\n",
    "#print(f'pixel donde mas llovio en wrfout completo: {np.where(var.values[hora] > 46.0)}')\n",
    "print(f'pixel donde mas llovio en wrfout completo: {np.where(var.values[hora] == var.values[hora].max())}')\n",
    "print(var.values[hora, 115, 143], \" milimetros\")"
   ]
  },
  {
   "cell_type": "code",
   "execution_count": 84,
   "id": "a7502545",
   "metadata": {},
   "outputs": [
    {
     "name": "stdout",
     "output_type": "stream",
     "text": [
      "<xarray.DataArray 'latlon' (lat_lon: 2)>\n",
      "array([-32.16961858, -63.5147373 ])\n",
      "Coordinates:\n",
      "    xy_coord  object CoordPair(x=115, y=143)\n",
      "  * lat_lon   (lat_lon) <U3 'lat' 'lon'\n"
     ]
    }
   ],
   "source": [
    "lat_lon = xy_to_ll(ncwrf, 115, 143)\n",
    "\n",
    "print(lat_lon)"
   ]
  },
  {
   "cell_type": "code",
   "execution_count": 85,
   "id": "ac77a16e",
   "metadata": {},
   "outputs": [
    {
     "name": "stdout",
     "output_type": "stream",
     "text": [
      "fila  58\n",
      "col  130\n"
     ]
    }
   ],
   "source": [
    "fila = np.where(tiff == tiff.max())[0][0]\n",
    "col = np.where(tiff == tiff.max())[1][0]\n",
    "print(\"fila \", fila)\n",
    "print(\"col \", col)"
   ]
  },
  {
   "cell_type": "code",
   "execution_count": 86,
   "id": "d62a916a",
   "metadata": {},
   "outputs": [
    {
     "name": "stdout",
     "output_type": "stream",
     "text": [
      "2.0879999999999996\n",
      "4.68\n"
     ]
    }
   ],
   "source": [
    "fila_grados = fila * 0.036\n",
    "col_grados = col * 0.036\n",
    "print(fila_grados)\n",
    "print(col_grados)"
   ]
  },
  {
   "cell_type": "code",
   "execution_count": 87,
   "id": "af32c9d7",
   "metadata": {},
   "outputs": [
    {
     "name": "stdout",
     "output_type": "stream",
     "text": [
      "LAT:  -31.088\n",
      "-33.211999999999996\n",
      "LON:  -62.32\n",
      "-65.38\n"
     ]
    }
   ],
   "source": [
    "lat = -29 - fila_grados\n",
    "lat_otra = -35.3 + fila_grados\n",
    "lon = -67 + col_grados\n",
    "lon_otra = -60.7 - col_grados\n",
    "print(\"LAT: \", lat)\n",
    "print(lat_otra)\n",
    "print(\"LON: \", lon)\n",
    "print(lon_otra)"
   ]
  },
  {
   "cell_type": "code",
   "execution_count": 87,
   "id": "520c82f6",
   "metadata": {},
   "outputs": [],
   "source": [
    "info = gdal.Info(nombre, format='json')\n",
    "#print(info)"
   ]
  },
  {
   "cell_type": "code",
   "execution_count": 103,
   "id": "22c45b5f",
   "metadata": {},
   "outputs": [
    {
     "name": "stdout",
     "output_type": "stream",
     "text": [
      "fila: 88  col: 96  mm: 0.0\n",
      "fila: 58  col: 130  mm: 46.142787504941225\n",
      "fila: 67  col: 78  mm: 0.0\n"
     ]
    }
   ],
   "source": [
    "driver = gdal.GetDriverByName('GTiff')\n",
    "filename = '/opt/datos/wrf-meteo/geotiff/2020_01/09/useful_CBA_A_06_RAINNC_2020-01-09T12:00.tiff'\n",
    "#filename = '/opt/datos/wrf-meteo/geotiff/2020_02/04/useful_CBA_A_18_RAINNC_2020-02-05T09:00.tiff'\n",
    "dataset = gdal.Open(filename)\n",
    "band = dataset.GetRasterBand(1)\n",
    "\n",
    "cols = dataset.RasterXSize\n",
    "rows = dataset.RasterYSize\n",
    "\n",
    "transform = dataset.GetGeoTransform()\n",
    "\n",
    "xOrigin = transform[0]\n",
    "yOrigin = transform[3]\n",
    "\n",
    "pixelWidth = transform[1]\n",
    "pixelHeight = -transform[5]\n",
    "\n",
    "data = band.ReadAsArray(0, 0, cols, rows)\n",
    "data_flip = np.flipud(data)\n",
    "\n",
    "points_list = [ (-63.5147373, -32.16961858), (-62.32, -31.088), (-64.19171906137967, -31.440075785594267) ] #list of X,Y coordinates\n",
    "\n",
    "for point in points_list:\n",
    "    col = int((point[0] - xOrigin) / pixelWidth)\n",
    "    row = int((yOrigin - point[1] ) / pixelHeight)\n",
    "\n",
    "    print(\"fila:\",row,\" col:\",col, \" mm:\",data_flip[row][col])"
   ]
  },
  {
   "cell_type": "code",
   "execution_count": null,
   "id": "af56a80c",
   "metadata": {},
   "outputs": [],
   "source": []
  },
  {
   "cell_type": "code",
   "execution_count": null,
   "id": "940df37b",
   "metadata": {},
   "outputs": [],
   "source": []
  },
  {
   "cell_type": "code",
   "execution_count": null,
   "id": "58fe577c",
   "metadata": {},
   "outputs": [],
   "source": []
  },
  {
   "cell_type": "code",
   "execution_count": null,
   "id": "9c83c708",
   "metadata": {},
   "outputs": [],
   "source": []
  },
  {
   "cell_type": "code",
   "execution_count": null,
   "id": "a9dee783",
   "metadata": {},
   "outputs": [],
   "source": [
    "06hs--------------------09hs\n",
    "10   11  11.5    13.3    15"
   ]
  },
  {
   "cell_type": "code",
   "execution_count": 196,
   "id": "c85622cb",
   "metadata": {},
   "outputs": [
    {
     "name": "stdout",
     "output_type": "stream",
     "text": [
      "<xarray.DataArray 'xy' (x_y: 2)>\n",
      "array([ 99, 163])\n",
      "Coordinates:\n",
      "    latlon_coord  object CoordPair(lat=-31.440075785594267, lon=-64.191719061...\n",
      "  * x_y           (x_y) <U1 'x' 'y'\n"
     ]
    }
   ],
   "source": [
    "filename = '/opt/wrfdatos/wrfout/2020_02/wrfout_A_d01_2020-02-05_06:00:00'\n",
    "ncwrf = Dataset(filename)\n",
    "\n",
    "lat_lon = [-31.440075785594267, -64.19171906137967]\n",
    "\n",
    "x_y = ll_to_xy(ncwrf, lat_lon[0], lat_lon[1])\n",
    "\n",
    "print (x_y)"
   ]
  },
  {
   "cell_type": "code",
   "execution_count": 200,
   "id": "9a830c4b",
   "metadata": {},
   "outputs": [
    {
     "name": "stdout",
     "output_type": "stream",
     "text": [
      "(58, 269, 269)\n",
      "0.03271538\n"
     ]
    }
   ],
   "source": [
    "variable = 'RAINNC'\n",
    "var = wrf.getvar(ncwrf, variable, timeidx=wrf.ALL_TIMES)\n",
    "varNC = wrf.getvar(ncwrf, 'RAINC', timeidx=wrf.ALL_TIMES)\n",
    "var.values = var.values + varNC.values\n",
    "\n",
    "hora = 12\n",
    "hora = abs(hora - 6)\n",
    "print(var.values.shape)\n",
    "#print(var.values[9, 99, 163])\n",
    "print(var.values[hora, 99, 163])"
   ]
  },
  {
   "cell_type": "code",
   "execution_count": 38,
   "id": "dde886c6",
   "metadata": {},
   "outputs": [],
   "source": [
    "y_test = np.load('/opt/datos/dataset/milimetros/Y_test.npy')"
   ]
  },
  {
   "cell_type": "code",
   "execution_count": null,
   "id": "83e1ea3c",
   "metadata": {},
   "outputs": [],
   "source": [
    "y_flip = np.zeros((y_test.shape[0], y_test.shape[1], y_test.shape[2]))\n",
    "for k,y in enumerate(y_test):\n",
    "    y_flip[k,:,:] = np.flipud(y)"
   ]
  },
  {
   "cell_type": "code",
   "execution_count": 52,
   "id": "dd6d9875",
   "metadata": {},
   "outputs": [
    {
     "data": {
      "image/png": "[encoded data removed]",
      "text/plain": [
       "<Figure size 432x288 with 2 Axes>"
      ]
     },
     "metadata": {
      "needs_background": "light"
     },
     "output_type": "display_data"
    }
   ],
   "source": [
    "ax = sns.heatmap(y_test[264], cmap='jet', xticklabels=50, yticklabels=50)"
   ]
  },
  {
   "cell_type": "code",
   "execution_count": 53,
   "id": "59d67bf1",
   "metadata": {},
   "outputs": [
    {
     "data": {
      "image/png": "[encoded data removed]",
      "text/plain": [
       "<Figure size 432x288 with 2 Axes>"
      ]
     },
     "metadata": {
      "needs_background": "light"
     },
     "output_type": "display_data"
    }
   ],
   "source": [
    "ax = sns.heatmap(y_flip[264], cmap='jet', xticklabels=50, yticklabels=50)"
   ]
  },
  {
   "cell_type": "code",
   "execution_count": 32,
   "id": "35cc4c0f",
   "metadata": {},
   "outputs": [
    {
     "data": {
      "text/html": [
       "<div>\n",
       "<style scoped>\n",
       "    .dataframe tbody tr th:only-of-type {\n",
       "        vertical-align: middle;\n",
       "    }\n",
       "\n",
       "    .dataframe tbody tr th {\n",
       "        vertical-align: top;\n",
       "    }\n",
       "\n",
       "    .dataframe thead th {\n",
       "        text-align: right;\n",
       "    }\n",
       "</style>\n",
       "<table border=\"1\" class=\"dataframe\">\n",
       "  <thead>\n",
       "    <tr style=\"text-align: right;\">\n",
       "      <th></th>\n",
       "      <th>Weather</th>\n",
       "      <th>Reproducir</th>\n",
       "    </tr>\n",
       "  </thead>\n",
       "  <tbody>\n",
       "    <tr>\n",
       "      <th>0</th>\n",
       "      <td>Sunny</td>\n",
       "      <td>NO</td>\n",
       "    </tr>\n",
       "    <tr>\n",
       "      <th>1</th>\n",
       "      <td>Yin</td>\n",
       "      <td>SI</td>\n",
       "    </tr>\n",
       "    <tr>\n",
       "      <th>2</th>\n",
       "      <td>Rain</td>\n",
       "      <td>SI</td>\n",
       "    </tr>\n",
       "    <tr>\n",
       "      <th>3</th>\n",
       "      <td>Rain</td>\n",
       "      <td>SI</td>\n",
       "    </tr>\n",
       "  </tbody>\n",
       "</table>\n",
       "</div>"
      ],
      "text/plain": [
       "  Weather Reproducir\n",
       "0  Sunny          NO\n",
       "1    Yin          SI\n",
       "2   Rain          SI\n",
       "3   Rain          SI"
      ]
     },
     "execution_count": 32,
     "metadata": {},
     "output_type": "execute_result"
    }
   ],
   "source": [
    "import pandas as pd\n",
    "\n",
    "data1 = pd.DataFrame({'Weather': ['Sunny ',' Yin ',' Rain ',' Rain '],\n",
    "                      'Reproducir': ['NO', 'SI', 'SI', 'SI']})\n",
    "\n",
    "data1[['Weather','Reproducir']]"
   ]
  },
  {
   "cell_type": "code",
   "execution_count": 33,
   "id": "cc25bbc7",
   "metadata": {},
   "outputs": [
    {
     "data": {
      "text/plain": [
       "0.8112781244591328"
      ]
     },
     "execution_count": 33,
     "metadata": {},
     "output_type": "execute_result"
    }
   ],
   "source": [
    "prob1 = pd.value_counts (data1 ['Reproducir']) / len (data1 ['Reproducir'])\n",
    "import numpy as np\n",
    "sum(np.log2(prob1)*prob1*(-1))"
   ]
  },
  {
   "cell_type": "code",
   "execution_count": 45,
   "id": "2928dca1",
   "metadata": {},
   "outputs": [
    {
     "name": "stdout",
     "output_type": "stream",
     "text": [
      "0.8112781244591328\n",
      "0.8112781244591328\n"
     ]
    }
   ],
   "source": [
    "a = pd.value_counts (data1 ['Reproducir']) / len (data1 ['Reproducir'])\n",
    "print(sum(np.log2(a)*a*(-1)))\n",
    "b = [0.75, 0.25]\n",
    "print(sum(np.log2(b)*b*(-1)))"
   ]
  },
  {
   "cell_type": "code",
   "execution_count": 56,
   "id": "1bce3c13",
   "metadata": {},
   "outputs": [
    {
     "ename": "TypeError",
     "evalue": "<lambda>() takes 1 positional argument but 2 were given",
     "output_type": "error",
     "traceback": [
      "\u001b[0;31m---------------------------------------------------------------------------\u001b[0m",
      "\u001b[0;31mTypeError\u001b[0m                                 Traceback (most recent call last)",
      "\u001b[0;32m~/miniconda3/envs/tesis/lib/python3.8/site-packages/pandas/core/groupby/groupby.py\u001b[0m in \u001b[0;36mapply\u001b[0;34m(self, func, *args, **kwargs)\u001b[0m\n\u001b[1;32m    893\u001b[0m             \u001b[0;32mtry\u001b[0m\u001b[0;34m:\u001b[0m\u001b[0;34m\u001b[0m\u001b[0;34m\u001b[0m\u001b[0m\n\u001b[0;32m--> 894\u001b[0;31m                 \u001b[0mresult\u001b[0m \u001b[0;34m=\u001b[0m \u001b[0mself\u001b[0m\u001b[0;34m.\u001b[0m\u001b[0m_python_apply_general\u001b[0m\u001b[0;34m(\u001b[0m\u001b[0mf\u001b[0m\u001b[0;34m,\u001b[0m \u001b[0mself\u001b[0m\u001b[0;34m.\u001b[0m\u001b[0m_selected_obj\u001b[0m\u001b[0;34m)\u001b[0m\u001b[0;34m\u001b[0m\u001b[0;34m\u001b[0m\u001b[0m\n\u001b[0m\u001b[1;32m    895\u001b[0m             \u001b[0;32mexcept\u001b[0m \u001b[0mTypeError\u001b[0m\u001b[0;34m:\u001b[0m\u001b[0;34m\u001b[0m\u001b[0;34m\u001b[0m\u001b[0m\n",
      "\u001b[0;32m~/miniconda3/envs/tesis/lib/python3.8/site-packages/pandas/core/groupby/groupby.py\u001b[0m in \u001b[0;36m_python_apply_general\u001b[0;34m(self, f, data)\u001b[0m\n\u001b[1;32m    927\u001b[0m         \"\"\"\n\u001b[0;32m--> 928\u001b[0;31m         \u001b[0mkeys\u001b[0m\u001b[0;34m,\u001b[0m \u001b[0mvalues\u001b[0m\u001b[0;34m,\u001b[0m \u001b[0mmutated\u001b[0m \u001b[0;34m=\u001b[0m \u001b[0mself\u001b[0m\u001b[0;34m.\u001b[0m\u001b[0mgrouper\u001b[0m\u001b[0;34m.\u001b[0m\u001b[0mapply\u001b[0m\u001b[0;34m(\u001b[0m\u001b[0mf\u001b[0m\u001b[0;34m,\u001b[0m \u001b[0mdata\u001b[0m\u001b[0;34m,\u001b[0m \u001b[0mself\u001b[0m\u001b[0;34m.\u001b[0m\u001b[0maxis\u001b[0m\u001b[0;34m)\u001b[0m\u001b[0;34m\u001b[0m\u001b[0;34m\u001b[0m\u001b[0m\n\u001b[0m\u001b[1;32m    929\u001b[0m \u001b[0;34m\u001b[0m\u001b[0m\n",
      "\u001b[0;32m~/miniconda3/envs/tesis/lib/python3.8/site-packages/pandas/core/groupby/ops.py\u001b[0m in \u001b[0;36mapply\u001b[0;34m(self, f, data, axis)\u001b[0m\n\u001b[1;32m    237\u001b[0m             \u001b[0mgroup_axes\u001b[0m \u001b[0;34m=\u001b[0m \u001b[0mgroup\u001b[0m\u001b[0;34m.\u001b[0m\u001b[0maxes\u001b[0m\u001b[0;34m\u001b[0m\u001b[0;34m\u001b[0m\u001b[0m\n\u001b[0;32m--> 238\u001b[0;31m             \u001b[0mres\u001b[0m \u001b[0;34m=\u001b[0m \u001b[0mf\u001b[0m\u001b[0;34m(\u001b[0m\u001b[0mgroup\u001b[0m\u001b[0;34m)\u001b[0m\u001b[0;34m\u001b[0m\u001b[0;34m\u001b[0m\u001b[0m\n\u001b[0m\u001b[1;32m    239\u001b[0m             \u001b[0;32mif\u001b[0m \u001b[0;32mnot\u001b[0m \u001b[0m_is_indexed_like\u001b[0m\u001b[0;34m(\u001b[0m\u001b[0mres\u001b[0m\u001b[0;34m,\u001b[0m \u001b[0mgroup_axes\u001b[0m\u001b[0;34m,\u001b[0m \u001b[0maxis\u001b[0m\u001b[0;34m)\u001b[0m\u001b[0;34m:\u001b[0m\u001b[0;34m\u001b[0m\u001b[0;34m\u001b[0m\u001b[0m\n",
      "\u001b[0;32m~/miniconda3/envs/tesis/lib/python3.8/site-packages/pandas/core/groupby/groupby.py\u001b[0m in \u001b[0;36mf\u001b[0;34m(g)\u001b[0m\n\u001b[1;32m    877\u001b[0m                     \u001b[0;32mwith\u001b[0m \u001b[0mnp\u001b[0m\u001b[0;34m.\u001b[0m\u001b[0merrstate\u001b[0m\u001b[0;34m(\u001b[0m\u001b[0mall\u001b[0m\u001b[0;34m=\u001b[0m\u001b[0;34m\"ignore\"\u001b[0m\u001b[0;34m)\u001b[0m\u001b[0;34m:\u001b[0m\u001b[0;34m\u001b[0m\u001b[0;34m\u001b[0m\u001b[0m\n\u001b[0;32m--> 878\u001b[0;31m                         \u001b[0;32mreturn\u001b[0m \u001b[0mfunc\u001b[0m\u001b[0;34m(\u001b[0m\u001b[0mg\u001b[0m\u001b[0;34m,\u001b[0m \u001b[0;34m*\u001b[0m\u001b[0margs\u001b[0m\u001b[0;34m,\u001b[0m \u001b[0;34m**\u001b[0m\u001b[0mkwargs\u001b[0m\u001b[0;34m)\u001b[0m\u001b[0;34m\u001b[0m\u001b[0;34m\u001b[0m\u001b[0m\n\u001b[0m\u001b[1;32m    879\u001b[0m \u001b[0;34m\u001b[0m\u001b[0m\n",
      "\u001b[0;31mTypeError\u001b[0m: <lambda>() takes 1 positional argument but 2 were given",
      "\nDuring handling of the above exception, another exception occurred:\n",
      "\u001b[0;31mTypeError\u001b[0m                                 Traceback (most recent call last)",
      "\u001b[0;32m<ipython-input-56-ed04493d7105>\u001b[0m in \u001b[0;36m<module>\u001b[0;34m\u001b[0m\n\u001b[0;32m----> 1\u001b[0;31m \u001b[0me1\u001b[0m \u001b[0;34m=\u001b[0m \u001b[0mdata1\u001b[0m\u001b[0;34m.\u001b[0m\u001b[0mgroupby\u001b[0m\u001b[0;34m(\u001b[0m\u001b[0;34m'Weather'\u001b[0m\u001b[0;34m)\u001b[0m\u001b[0;34m.\u001b[0m\u001b[0mapply\u001b[0m\u001b[0;34m(\u001b[0m\u001b[0;32mlambda\u001b[0m \u001b[0mx\u001b[0m\u001b[0;34m:\u001b[0m \u001b[0;36m2\u001b[0m \u001b[0;34m,\u001b[0m\u001b[0;34m(\u001b[0m\u001b[0mdata1\u001b[0m\u001b[0;34m[\u001b[0m\u001b[0;34m'Reproducir'\u001b[0m\u001b[0;34m]\u001b[0m\u001b[0;34m)\u001b[0m\u001b[0;34m)\u001b[0m\u001b[0;34m\u001b[0m\u001b[0;34m\u001b[0m\u001b[0m\n\u001b[0m\u001b[1;32m      2\u001b[0m \u001b[0mp1\u001b[0m \u001b[0;34m=\u001b[0m \u001b[0mpd\u001b[0m\u001b[0;34m.\u001b[0m\u001b[0mvalue_counts\u001b[0m \u001b[0;34m(\u001b[0m\u001b[0mdata1\u001b[0m \u001b[0;34m[\u001b[0m\u001b[0;34m'weather'\u001b[0m\u001b[0;34m]\u001b[0m\u001b[0;34m)\u001b[0m \u001b[0;34m/\u001b[0m \u001b[0mlen\u001b[0m \u001b[0;34m(\u001b[0m\u001b[0mdata1\u001b[0m \u001b[0;34m[\u001b[0m\u001b[0;34m'Weather'\u001b[0m\u001b[0;34m]\u001b[0m\u001b[0;34m)\u001b[0m\u001b[0;34m\u001b[0m\u001b[0;34m\u001b[0m\u001b[0m\n\u001b[1;32m      3\u001b[0m \u001b[0me2\u001b[0m \u001b[0;34m=\u001b[0m \u001b[0msum\u001b[0m\u001b[0;34m(\u001b[0m\u001b[0me1\u001b[0m\u001b[0;34m*\u001b[0m\u001b[0mp1\u001b[0m\u001b[0;34m)\u001b[0m\u001b[0;34m\u001b[0m\u001b[0;34m\u001b[0m\u001b[0m\n",
      "\u001b[0;32m~/miniconda3/envs/tesis/lib/python3.8/site-packages/pandas/core/groupby/groupby.py\u001b[0m in \u001b[0;36mapply\u001b[0;34m(self, func, *args, **kwargs)\u001b[0m\n\u001b[1;32m    903\u001b[0m \u001b[0;34m\u001b[0m\u001b[0m\n\u001b[1;32m    904\u001b[0m                 \u001b[0;32mwith\u001b[0m \u001b[0mgroup_selection_context\u001b[0m\u001b[0;34m(\u001b[0m\u001b[0mself\u001b[0m\u001b[0;34m)\u001b[0m\u001b[0;34m:\u001b[0m\u001b[0;34m\u001b[0m\u001b[0;34m\u001b[0m\u001b[0m\n\u001b[0;32m--> 905\u001b[0;31m                     \u001b[0;32mreturn\u001b[0m \u001b[0mself\u001b[0m\u001b[0;34m.\u001b[0m\u001b[0m_python_apply_general\u001b[0m\u001b[0;34m(\u001b[0m\u001b[0mf\u001b[0m\u001b[0;34m,\u001b[0m \u001b[0mself\u001b[0m\u001b[0;34m.\u001b[0m\u001b[0m_selected_obj\u001b[0m\u001b[0;34m)\u001b[0m\u001b[0;34m\u001b[0m\u001b[0;34m\u001b[0m\u001b[0m\n\u001b[0m\u001b[1;32m    906\u001b[0m \u001b[0;34m\u001b[0m\u001b[0m\n\u001b[1;32m    907\u001b[0m         \u001b[0;32mreturn\u001b[0m \u001b[0mresult\u001b[0m\u001b[0;34m\u001b[0m\u001b[0;34m\u001b[0m\u001b[0m\n",
      "\u001b[0;32m~/miniconda3/envs/tesis/lib/python3.8/site-packages/pandas/core/groupby/groupby.py\u001b[0m in \u001b[0;36m_python_apply_general\u001b[0;34m(self, f, data)\u001b[0m\n\u001b[1;32m    926\u001b[0m             \u001b[0mdata\u001b[0m \u001b[0mafter\u001b[0m \u001b[0mapplying\u001b[0m \u001b[0mf\u001b[0m\u001b[0;34m\u001b[0m\u001b[0;34m\u001b[0m\u001b[0m\n\u001b[1;32m    927\u001b[0m         \"\"\"\n\u001b[0;32m--> 928\u001b[0;31m         \u001b[0mkeys\u001b[0m\u001b[0;34m,\u001b[0m \u001b[0mvalues\u001b[0m\u001b[0;34m,\u001b[0m \u001b[0mmutated\u001b[0m \u001b[0;34m=\u001b[0m \u001b[0mself\u001b[0m\u001b[0;34m.\u001b[0m\u001b[0mgrouper\u001b[0m\u001b[0;34m.\u001b[0m\u001b[0mapply\u001b[0m\u001b[0;34m(\u001b[0m\u001b[0mf\u001b[0m\u001b[0;34m,\u001b[0m \u001b[0mdata\u001b[0m\u001b[0;34m,\u001b[0m \u001b[0mself\u001b[0m\u001b[0;34m.\u001b[0m\u001b[0maxis\u001b[0m\u001b[0;34m)\u001b[0m\u001b[0;34m\u001b[0m\u001b[0;34m\u001b[0m\u001b[0m\n\u001b[0m\u001b[1;32m    929\u001b[0m \u001b[0;34m\u001b[0m\u001b[0m\n\u001b[1;32m    930\u001b[0m         return self._wrap_applied_output(\n",
      "\u001b[0;32m~/miniconda3/envs/tesis/lib/python3.8/site-packages/pandas/core/groupby/ops.py\u001b[0m in \u001b[0;36mapply\u001b[0;34m(self, f, data, axis)\u001b[0m\n\u001b[1;32m    236\u001b[0m             \u001b[0;31m# group might be modified\u001b[0m\u001b[0;34m\u001b[0m\u001b[0;34m\u001b[0m\u001b[0;34m\u001b[0m\u001b[0m\n\u001b[1;32m    237\u001b[0m             \u001b[0mgroup_axes\u001b[0m \u001b[0;34m=\u001b[0m \u001b[0mgroup\u001b[0m\u001b[0;34m.\u001b[0m\u001b[0maxes\u001b[0m\u001b[0;34m\u001b[0m\u001b[0;34m\u001b[0m\u001b[0m\n\u001b[0;32m--> 238\u001b[0;31m             \u001b[0mres\u001b[0m \u001b[0;34m=\u001b[0m \u001b[0mf\u001b[0m\u001b[0;34m(\u001b[0m\u001b[0mgroup\u001b[0m\u001b[0;34m)\u001b[0m\u001b[0;34m\u001b[0m\u001b[0;34m\u001b[0m\u001b[0m\n\u001b[0m\u001b[1;32m    239\u001b[0m             \u001b[0;32mif\u001b[0m \u001b[0;32mnot\u001b[0m \u001b[0m_is_indexed_like\u001b[0m\u001b[0;34m(\u001b[0m\u001b[0mres\u001b[0m\u001b[0;34m,\u001b[0m \u001b[0mgroup_axes\u001b[0m\u001b[0;34m,\u001b[0m \u001b[0maxis\u001b[0m\u001b[0;34m)\u001b[0m\u001b[0;34m:\u001b[0m\u001b[0;34m\u001b[0m\u001b[0;34m\u001b[0m\u001b[0m\n\u001b[1;32m    240\u001b[0m                 \u001b[0mmutated\u001b[0m \u001b[0;34m=\u001b[0m \u001b[0;32mTrue\u001b[0m\u001b[0;34m\u001b[0m\u001b[0;34m\u001b[0m\u001b[0m\n",
      "\u001b[0;32m~/miniconda3/envs/tesis/lib/python3.8/site-packages/pandas/core/groupby/groupby.py\u001b[0m in \u001b[0;36mf\u001b[0;34m(g)\u001b[0m\n\u001b[1;32m    876\u001b[0m                 \u001b[0;32mdef\u001b[0m \u001b[0mf\u001b[0m\u001b[0;34m(\u001b[0m\u001b[0mg\u001b[0m\u001b[0;34m)\u001b[0m\u001b[0;34m:\u001b[0m\u001b[0;34m\u001b[0m\u001b[0;34m\u001b[0m\u001b[0m\n\u001b[1;32m    877\u001b[0m                     \u001b[0;32mwith\u001b[0m \u001b[0mnp\u001b[0m\u001b[0;34m.\u001b[0m\u001b[0merrstate\u001b[0m\u001b[0;34m(\u001b[0m\u001b[0mall\u001b[0m\u001b[0;34m=\u001b[0m\u001b[0;34m\"ignore\"\u001b[0m\u001b[0;34m)\u001b[0m\u001b[0;34m:\u001b[0m\u001b[0;34m\u001b[0m\u001b[0;34m\u001b[0m\u001b[0m\n\u001b[0;32m--> 878\u001b[0;31m                         \u001b[0;32mreturn\u001b[0m \u001b[0mfunc\u001b[0m\u001b[0;34m(\u001b[0m\u001b[0mg\u001b[0m\u001b[0;34m,\u001b[0m \u001b[0;34m*\u001b[0m\u001b[0margs\u001b[0m\u001b[0;34m,\u001b[0m \u001b[0;34m**\u001b[0m\u001b[0mkwargs\u001b[0m\u001b[0;34m)\u001b[0m\u001b[0;34m\u001b[0m\u001b[0;34m\u001b[0m\u001b[0m\n\u001b[0m\u001b[1;32m    879\u001b[0m \u001b[0;34m\u001b[0m\u001b[0m\n\u001b[1;32m    880\u001b[0m             \u001b[0;32melif\u001b[0m \u001b[0mhasattr\u001b[0m\u001b[0;34m(\u001b[0m\u001b[0mnanops\u001b[0m\u001b[0;34m,\u001b[0m \u001b[0;34m\"nan\"\u001b[0m \u001b[0;34m+\u001b[0m \u001b[0mfunc\u001b[0m\u001b[0;34m)\u001b[0m\u001b[0;34m:\u001b[0m\u001b[0;34m\u001b[0m\u001b[0;34m\u001b[0m\u001b[0m\n",
      "\u001b[0;31mTypeError\u001b[0m: <lambda>() takes 1 positional argument but 2 were given"
     ]
    }
   ],
   "source": [
    "e1 = data1.groupby('Weather').apply(lambda x: 2 ,(data1['Reproducir']))\n",
    "p1 = pd.value_counts (data1 ['weather']) / len (data1 ['Weather'])\n",
    "e2 = sum(e1*p1)"
   ]
  }
 ],
 "metadata": {
  "kernelspec": {
   "display_name": "tesis",
   "language": "python",
   "name": "tesis"
  },
  "language_info": {
   "codemirror_mode": {
    "name": "ipython",
    "version": 3
   },
   "file_extension": ".py",
   "mimetype": "text/x-python",
   "name": "python",
   "nbconvert_exporter": "python",
   "pygments_lexer": "ipython3",
   "version": "3.8.8"
  }
 },
 "nbformat": 4,
 "nbformat_minor": 5
}
