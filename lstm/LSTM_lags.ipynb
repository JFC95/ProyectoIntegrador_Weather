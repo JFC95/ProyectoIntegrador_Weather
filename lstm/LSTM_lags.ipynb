{
 "cells": [
  {
   "cell_type": "code",
   "execution_count": 1,
   "id": "f098c394",
   "metadata": {},
   "outputs": [],
   "source": [
    "%config Completer.use_jedi = False"
   ]
  },
  {
   "cell_type": "code",
   "execution_count": 1,
   "id": "f5d8e01a",
   "metadata": {},
   "outputs": [],
   "source": [
    "from tensorflow.keras.models import Sequential\n",
    "from tensorflow.keras import layers\n",
    "from tensorflow.keras import models\n",
    "from tensorflow.keras.layers import BatchNormalization, Conv2D, Conv3D, ConvLSTM2D, UpSampling2D, MaxPooling2D, Dropout\n",
    "from tensorflow.keras.optimizers import Adam,SGD\n",
    "from tensorflow.keras import regularizers\n",
    "from tensorflow.keras.regularizers import l2\n",
    "from tensorflow.keras.layers import Input\n",
    "from tensorflow.keras.models import Model\n",
    "import numpy as np\n",
    "import pickle\n",
    "import matplotlib.pyplot as plt\n",
    "import os"
   ]
  },
  {
   "cell_type": "code",
   "execution_count": 2,
   "id": "01703c04",
   "metadata": {},
   "outputs": [
    {
     "name": "stdout",
     "output_type": "stream",
     "text": [
      "(13496, 4, 128, 144, 1)\n",
      "(2892, 4, 128, 144, 1)\n",
      "(13496, 4, 128, 144, 1)\n",
      "(2892, 4, 128, 144, 1)\n"
     ]
    }
   ],
   "source": [
    "## X:\n",
    "x_train = np.load(\"/opt/datos/dataset/gfs/lstm/x_train_8lags.npy\")\n",
    "x_val   = np.load(\"/opt/datos/dataset/gfs/lstm/x_val_8lags.npy\")\n",
    "print(x_train.shape)\n",
    "print(x_val.shape)\n",
    "\n",
    "## Y:\n",
    "y_train = np.load(\"/opt/datos/dataset/gfs/lstm/y_train_8lags.npy\")\n",
    "y_val   = np.load(\"/opt/datos/dataset/gfs/lstm/y_val_8lags.npy\")\n",
    "print(y_train.shape)\n",
    "print(y_val.shape)"
   ]
  },
  {
   "cell_type": "code",
   "execution_count": 3,
   "id": "7bf40424",
   "metadata": {},
   "outputs": [],
   "source": [
    "x_train2 = np.concatenate((np.zeros((13496,1,128,144,1)), y_train[:, 0:3, :, :,:]), axis=1)\n",
    "x_val2 = np.concatenate((np.zeros((2892,1,128,144,1)), y_val[:, 0:3, :, :,:]), axis=1)"
   ]
  },
  {
   "cell_type": "code",
   "execution_count": 6,
   "id": "2aff9663",
   "metadata": {},
   "outputs": [],
   "source": [
    "\"\"\"\n",
    "3-layer stacked ConvLSTM2D Encoder-Decoder\n",
    "\"\"\"\n",
    "\n",
    "def lstm(n_filter, filter_size):\n",
    "    # define training encoder\n",
    "    encoder_inputs = Input(shape=(None, 128, 144, 1))\n",
    "    encoder_1 = ConvLSTM2D(filters = n_filter, kernel_size=filter_size, padding='same', return_sequences=True, return_state=True,\n",
    "                           kernel_regularizer=l2(0.0005), recurrent_regularizer=l2(0.0005), bias_regularizer=l2(0.0005))\n",
    "    encoder_2 = ConvLSTM2D(filters = 32, kernel_size=filter_size, padding='same', return_sequences=True, return_state=True,\n",
    "                           kernel_regularizer=l2(0.0005), recurrent_regularizer=l2(0.0005), bias_regularizer=l2(0.0005))\n",
    "    encoder_3 = ConvLSTM2D(filters = 32, kernel_size=filter_size, padding='same', return_sequences=True, return_state=True,\n",
    "                           kernel_regularizer=l2(0.0005), recurrent_regularizer=l2(0.0005), bias_regularizer=l2(0.0005))\n",
    "    encoder_outputs_1, encoder_state_h_1, encoder_state_c_1 = encoder_1(encoder_inputs)\n",
    "    encoder_outputs_2, encoder_state_h_2, encoder_state_c_2 = encoder_2(encoder_outputs_1)\n",
    "    encoder_outputs_3, encoder_state_h_3, encoder_state_c_3 = encoder_3(encoder_outputs_2)\n",
    "    # define training decoder\n",
    "    decoder_inputs = Input(shape=(None, 128, 144, 1))\n",
    "    decoder_1 = ConvLSTM2D(filters=n_filter, kernel_size=filter_size, padding='same', return_sequences=True, return_state=True,\n",
    "                           kernel_regularizer=l2(0.0005), recurrent_regularizer=l2(0.0005), bias_regularizer=l2(0.0005))\n",
    "    decoder_2 = ConvLSTM2D(filters=32, kernel_size=filter_size, padding='same', return_sequences=True, return_state=True,\n",
    "                           kernel_regularizer=l2(0.0005), recurrent_regularizer=l2(0.0005), bias_regularizer=l2(0.0005))\n",
    "    decoder_3 = ConvLSTM2D(filters=32, kernel_size=filter_size, padding='same', return_sequences=True, return_state=True,\n",
    "                           kernel_regularizer=l2(0.0005), recurrent_regularizer=l2(0.0005), bias_regularizer=l2(0.0005))\n",
    "    decoder_outputs_1, _, _ = decoder_1([decoder_inputs, encoder_state_h_1, encoder_state_c_1])\n",
    "    decoder_outputs_2, _, _ = decoder_2([decoder_outputs_1, encoder_state_h_2, encoder_state_c_2])\n",
    "    decoder_outputs_3, _, _ = decoder_3([decoder_outputs_2, encoder_state_h_3, encoder_state_c_3])\n",
    "    decoder_conv3d = Conv3D(filters=1, kernel_size=(1,1,32), padding='same', data_format='channels_last',\n",
    "                            kernel_regularizer=l2(0.0005), bias_regularizer=l2(0.0005))\n",
    "    decoder_outputs = decoder_conv3d(decoder_outputs_3)\n",
    "    \n",
    "    model = Model([encoder_inputs, decoder_inputs], decoder_outputs)\n",
    "    #print(model.summary(line_length=250))\n",
    "    \n",
    "    # define inference encoder\n",
    "    encoder_model = Model(encoder_inputs, \n",
    "                          [encoder_state_h_1, encoder_state_c_1, encoder_state_h_2, encoder_state_c_2, encoder_state_h_3, encoder_state_c_3])\n",
    "    \n",
    "    # define inference decoder\n",
    "    decoder_state_input_h_1 = Input(shape=(128, 144,n_filter))\n",
    "    decoder_state_input_c_1 = Input(shape=(128, 144,n_filter))\n",
    "    decoder_state_input_h_2 = Input(shape=(128, 144,32))\n",
    "    decoder_state_input_c_2 = Input(shape=(128, 144,32))\n",
    "    decoder_state_input_h_3 = Input(shape=(128, 144,32))\n",
    "    decoder_state_input_c_3 = Input(shape=(128, 144,32))\n",
    "    decoder_output_1, decoder_state_h_1_new, decoder_state_c_1_new = decoder_1([decoder_inputs, decoder_state_input_h_1, decoder_state_input_c_1])\n",
    "    decoder_output_2, decoder_state_h_2_new, decoder_state_c_2_new = decoder_2([decoder_output_1, decoder_state_input_h_2, decoder_state_input_c_2])\n",
    "    decoder_output_3, decoder_state_h_3_new, decoder_state_c_3_new = decoder_3([decoder_output_2, decoder_state_input_h_3, decoder_state_input_c_3])\n",
    "    decoder_output = decoder_conv3d(decoder_output_3)\n",
    "    decoder_model = Model([decoder_inputs , decoder_state_input_h_1 , decoder_state_input_c_1, decoder_state_input_h_2 , decoder_state_input_c_2, \n",
    "                           decoder_state_input_h_3 , decoder_state_input_c_3],\n",
    "                          [decoder_output, decoder_state_h_1_new, decoder_state_c_1_new, decoder_state_h_2_new, decoder_state_c_2_new, \n",
    "                           decoder_state_h_3_new, decoder_state_c_3_new])\n",
    "    \n",
    "    return model, encoder_model, decoder_model"
   ]
  },
  {
   "cell_type": "code",
   "execution_count": 7,
   "id": "a740a125",
   "metadata": {},
   "outputs": [],
   "source": [
    "model, encoder, decoder = lstm(n_filter=64, filter_size=5) #probar filter_size=3"
   ]
  },
  {
   "cell_type": "code",
   "execution_count": 8,
   "id": "18cc2dc5",
   "metadata": {},
   "outputs": [
    {
     "name": "stdout",
     "output_type": "stream",
     "text": [
      "Model: \"model\"\n",
      "_______________________________________________________________________________________________________________________________________\n",
      "Layer (type)                                Output Shape                  Param #         Connected to                                 \n",
      "=======================================================================================================================================\n",
      "input_1 (InputLayer)                        [(None, None, 128, 144, 1)]   0                                                            \n",
      "_______________________________________________________________________________________________________________________________________\n",
      "input_2 (InputLayer)                        [(None, None, 128, 144, 1)]   0                                                            \n",
      "_______________________________________________________________________________________________________________________________________\n",
      "conv_lst_m2d (ConvLSTM2D)                   [(None, None, 128, 144, 64),  416256          input_1[0][0]                                \n",
      "_______________________________________________________________________________________________________________________________________\n",
      "conv_lst_m2d_3 (ConvLSTM2D)                 [(None, None, 128, 144, 64),  416256          input_2[0][0]                                \n",
      "                                                                                          conv_lst_m2d[0][1]                           \n",
      "                                                                                          conv_lst_m2d[0][2]                           \n",
      "_______________________________________________________________________________________________________________________________________\n",
      "conv_lst_m2d_1 (ConvLSTM2D)                 [(None, None, 128, 144, 32),  307328          conv_lst_m2d[0][0]                           \n",
      "_______________________________________________________________________________________________________________________________________\n",
      "conv_lst_m2d_4 (ConvLSTM2D)                 [(None, None, 128, 144, 32),  307328          conv_lst_m2d_3[0][0]                         \n",
      "                                                                                          conv_lst_m2d_1[0][1]                         \n",
      "                                                                                          conv_lst_m2d_1[0][2]                         \n",
      "_______________________________________________________________________________________________________________________________________\n",
      "conv_lst_m2d_2 (ConvLSTM2D)                 [(None, None, 128, 144, 32),  204928          conv_lst_m2d_1[0][0]                         \n",
      "_______________________________________________________________________________________________________________________________________\n",
      "conv_lst_m2d_5 (ConvLSTM2D)                 [(None, None, 128, 144, 32),  204928          conv_lst_m2d_4[0][0]                         \n",
      "                                                                                          conv_lst_m2d_2[0][1]                         \n",
      "                                                                                          conv_lst_m2d_2[0][2]                         \n",
      "_______________________________________________________________________________________________________________________________________\n",
      "conv3d (Conv3D)                             (None, None, 128, 144, 1)     1025            conv_lst_m2d_5[0][0]                         \n",
      "=======================================================================================================================================\n",
      "Total params: 1,858,049\n",
      "Trainable params: 1,858,049\n",
      "Non-trainable params: 0\n",
      "_______________________________________________________________________________________________________________________________________\n",
      "None\n"
     ]
    }
   ],
   "source": [
    "print(model.summary(line_length=135))"
   ]
  },
  {
   "cell_type": "code",
   "execution_count": 9,
   "id": "94044464",
   "metadata": {},
   "outputs": [],
   "source": [
    "model.compile(loss='mse', optimizer='adam', metrics=['mae']) #probar sgd"
   ]
  },
  {
   "cell_type": "code",
   "execution_count": null,
   "id": "194ee596",
   "metadata": {},
   "outputs": [
    {
     "name": "stdout",
     "output_type": "stream",
     "text": [
      "Epoch 1/10\n",
      " 231/3374 [=>............................] - ETA: 3:12:16 - loss: 2.6759 - mae: 0.4434"
     ]
    }
   ],
   "source": [
    "history = model.fit([x_train, x_train2], y_train, batch_size=4, validation_data=([x_val, x_val2],y_val), epochs=10)"
   ]
  },
  {
   "cell_type": "code",
   "execution_count": null,
   "id": "ce908e93",
   "metadata": {},
   "outputs": [],
   "source": [
    "with open('lstm-03', 'wb') as file_pi:\n",
    "    pickle.dump(history.history, file_pi)"
   ]
  },
  {
   "cell_type": "code",
   "execution_count": null,
   "id": "e5947b36",
   "metadata": {},
   "outputs": [],
   "source": [
    "history = pickle.load( open( \"lstm-03\", \"rb\" ) )\n",
    "\n",
    "print(\"~ lstm ~\")\n",
    "print(f\"val_loss: {history['val_loss'][-1]}\")\n",
    "print(f\"loss: {history['loss'][-1]}\")\n",
    "#print(history)\n",
    "plt.plot(history['loss'])\n",
    "plt.plot(history['val_loss'])\n",
    "plt.ylabel('mean absolute error')\n",
    "plt.xlabel('epoch')\n",
    "plt.legend(['train', 'validation'], loc='upper right')\n",
    "plt.show()"
   ]
  },
  {
   "cell_type": "code",
   "execution_count": null,
   "id": "0190db10",
   "metadata": {},
   "outputs": [],
   "source": [
    "model.save('model-03.h5')\n",
    "encoder.save('encoder-03.h5')\n",
    "decoder.save('decoder-03.h5')"
   ]
  },
  {
   "cell_type": "code",
   "execution_count": null,
   "id": "1186f8b2",
   "metadata": {},
   "outputs": [],
   "source": []
  }
 ],
 "metadata": {
  "kernelspec": {
   "display_name": "tf-gpu",
   "language": "python",
   "name": "tf-gpu"
  },
  "language_info": {
   "codemirror_mode": {
    "name": "ipython",
    "version": 3
   },
   "file_extension": ".py",
   "mimetype": "text/x-python",
   "name": "python",
   "nbconvert_exporter": "python",
   "pygments_lexer": "ipython3",
   "version": "3.9.5"
  }
 },
 "nbformat": 4,
 "nbformat_minor": 5
}
