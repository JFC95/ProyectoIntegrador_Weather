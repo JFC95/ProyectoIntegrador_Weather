{
 "cells": [
  {
   "cell_type": "code",
   "execution_count": 2,
   "id": "bda949ac",
   "metadata": {},
   "outputs": [],
   "source": [
    "from sklearn.metrics import mean_absolute_error as MAE\n",
    "from sklearn.metrics import mean_squared_error as MSE\n",
    "from tensorflow.keras.models import load_model\n",
    "import matplotlib.pyplot as plt\n",
    "import numpy as np\n",
    "import tensorflow\n",
    "import pickle"
   ]
  },
  {
   "cell_type": "code",
   "execution_count": 3,
   "id": "699658fe",
   "metadata": {},
   "outputs": [],
   "source": [
    "def predict_sequence_3(infenc, infdec, source, n_steps):\n",
    "    # encode\n",
    "    state_h_1, state_c_1, state_h_2, state_c_2, state_h_3, state_c_3 = infenc.predict(source)  # source_dim = ()\n",
    "#decoder_input = source[:,-1,:,:,:].reshape((1,1,64,64,1))\n",
    "    decoder_input = np.repeat(0,128*144).reshape((1,1,128,144,1))\n",
    "    # collect predictions\n",
    "    output = list()\n",
    "    for t in range(n_steps):\n",
    "        # predict next char\n",
    "        yhat, h_1, c_1, h_2, c_2, h_3, c_3 = infdec.predict([decoder_input, state_h_1, state_c_1, state_h_2, state_c_2, state_h_3, state_c_3])\n",
    "        # store prediction\n",
    "        output.append(yhat[0,0,:])\n",
    "        # update state\n",
    "        state_h_1, state_c_1, state_h_2, state_c_2, state_h_3, state_c_3 = h_1, c_1, h_2, c_2, h_3, c_3\n",
    "        # update target sequence\n",
    "        decoder_input = yhat\n",
    "    return np.array(output)"
   ]
  },
  {
   "cell_type": "code",
   "execution_count": 7,
   "id": "bf5e803a",
   "metadata": {},
   "outputs": [],
   "source": [
    "def prediccion(encoder, decoder, steps):\n",
    "    #y_pred = np.zeros((251, 4, 128, 144,1)) ## para 4\n",
    "    y_pred = np.zeros((125, 8, 128, 144,1)) ## para 8\n",
    "\n",
    "    for i in range(y_test.shape[0]):\n",
    "        pred3 = predict_sequence_3(encoder, decoder, x_test[np.newaxis,i,:,:,:,:], steps)\n",
    "        y_pred[i] = pred3\n",
    "    return y_pred"
   ]
  },
  {
   "cell_type": "markdown",
   "id": "c434821f",
   "metadata": {},
   "source": [
    "### Carga de datos"
   ]
  },
  {
   "cell_type": "code",
   "execution_count": 4,
   "id": "8dc46e61",
   "metadata": {},
   "outputs": [
    {
     "name": "stdout",
     "output_type": "stream",
     "text": [
      "(19288, 137, 157)\n"
     ]
    }
   ],
   "source": [
    "Y_train = np.load(\"/opt/datos/dataset/gfs/Y.npy\")\n",
    "print(Y_train.shape)"
   ]
  },
  {
   "cell_type": "code",
   "execution_count": 5,
   "id": "dfe44ea6",
   "metadata": {},
   "outputs": [
    {
     "name": "stdout",
     "output_type": "stream",
     "text": [
      "(2411, 8, 137, 157, 1)\n",
      "(251, 4, 128, 144, 1)\n",
      "(251, 4, 128, 144, 1)\n"
     ]
    }
   ],
   "source": [
    "### t - 4\n",
    "\n",
    "train = Y_train.reshape(2411,8,137,157,1)\n",
    "Y_train = None\n",
    "print(train.shape)\n",
    "\n",
    "x_test  = train[2160:, 0:4, 0:128, 0:144, :]\n",
    "y_test  = train[2160:, 4:8, 0:128, 0:144, :]\n",
    "\n",
    "print(x_test.shape)\n",
    "print(y_test.shape)"
   ]
  },
  {
   "cell_type": "markdown",
   "id": "f82fd23b",
   "metadata": {},
   "source": [
    "### 01: LSTM - 10 EPOCH - Adam - tiempos: (t - 4/t + 4) - loss: mse "
   ]
  },
  {
   "cell_type": "code",
   "execution_count": 6,
   "id": "7888f104",
   "metadata": {},
   "outputs": [
    {
     "name": "stdout",
     "output_type": "stream",
     "text": [
      "WARNING:tensorflow:No training configuration found in the save file, so the model was *not* compiled. Compile it manually.\n",
      "WARNING:tensorflow:No training configuration found in the save file, so the model was *not* compiled. Compile it manually.\n",
      "(251, 4, 128, 144, 1)\n"
     ]
    }
   ],
   "source": [
    "model = load_model('/opt/datos/entrenamientos/gfs/lstm/01/model.h5')\n",
    "encoder = load_model('/opt/datos/entrenamientos/gfs/lstm/01/encoder.h5')\n",
    "decoder = load_model('/opt/datos/entrenamientos/gfs/lstm/01/decoder.h5')\n",
    "\n",
    "y_pred = prediccion(encoder, decoder, 4)"
   ]
  },
  {
   "cell_type": "markdown",
   "id": "b751fa56",
   "metadata": {},
   "source": [
    "### Error de la predicción a 3 hs."
   ]
  },
  {
   "cell_type": "code",
   "execution_count": 7,
   "id": "af503e91",
   "metadata": {},
   "outputs": [],
   "source": [
    "y_pred2 = np.zeros((251, 128, 144,1))\n",
    "\n",
    "y_test2 = np.zeros((251, 128, 144,1))\n",
    "\n",
    "for i in range(y_test.shape[0]):\n",
    "    y_pred2[i] = y_pred[i,0,:,:,:]\n",
    "    y_test2[i] = y_test[i,0,:,:,:]"
   ]
  },
  {
   "cell_type": "code",
   "execution_count": 8,
   "id": "5a317874",
   "metadata": {},
   "outputs": [
    {
     "name": "stdout",
     "output_type": "stream",
     "text": [
      "(4626432,)\n",
      "(4626432,)\n",
      "MAE: 0.30991631865097324\n"
     ]
    }
   ],
   "source": [
    "y_test2 = y_test2.flatten()\n",
    "y_pred2 = y_pred2.flatten()\n",
    "\n",
    "##MEAN SQUARE ERROR\n",
    "\n",
    "mae = MAE(y_test2, y_pred2)\n",
    "print(f\"MAE: {mae}\")"
   ]
  },
  {
   "cell_type": "markdown",
   "id": "2daef336",
   "metadata": {},
   "source": [
    "### Para todas las predicciones"
   ]
  },
  {
   "cell_type": "code",
   "execution_count": 9,
   "id": "946f4a05",
   "metadata": {},
   "outputs": [
    {
     "name": "stdout",
     "output_type": "stream",
     "text": [
      "(251, 4, 128, 144, 1)\n",
      "(251, 4, 128, 144, 1)\n"
     ]
    }
   ],
   "source": [
    "y_test_f = y_test.flatten()\n",
    "print(y_test.shape)\n",
    "y_pred_f = y_pred.flatten()\n",
    "print(y_pred.shape)"
   ]
  },
  {
   "cell_type": "code",
   "execution_count": 10,
   "id": "0a551b71",
   "metadata": {},
   "outputs": [
    {
     "name": "stdout",
     "output_type": "stream",
     "text": [
      "MAE: 0.4076995157944005\n",
      "MSE: 1.7127807239754358\n",
      "RMSE: 1.308732487552531\n"
     ]
    }
   ],
   "source": [
    "## MEAN ABSOLUTE ERROR\n",
    "\n",
    "mae = MAE(y_test_f, y_pred_f)\n",
    "print(f\"MAE: {mae}\")\n",
    "\n",
    "##MEAN SQUARE ERROR\n",
    "\n",
    "mse = MSE(y_test_f, y_pred_f)\n",
    "print(f\"MSE: {mse}\")\n",
    "\n",
    "## root mean square error\n",
    "\n",
    "rmse = np.sqrt(mse)\n",
    "print(f\"RMSE: {rmse}\")"
   ]
  },
  {
   "cell_type": "markdown",
   "id": "8fc2b6e7",
   "metadata": {},
   "source": [
    "### 03: LSTM - 10 EPOCH - SGD (lr=0.01 / decay=1e-6 / momentum=0.9 / nesterov=True) - \n",
    "###     tiempos: (t - 4/t + 4) - loss: mae "
   ]
  },
  {
   "cell_type": "code",
   "execution_count": 11,
   "id": "e0ce9d1c",
   "metadata": {},
   "outputs": [
    {
     "name": "stdout",
     "output_type": "stream",
     "text": [
      "WARNING:tensorflow:No training configuration found in the save file, so the model was *not* compiled. Compile it manually.\n",
      "WARNING:tensorflow:No training configuration found in the save file, so the model was *not* compiled. Compile it manually.\n",
      "(251, 4, 128, 144, 1)\n"
     ]
    }
   ],
   "source": [
    "model = load_model('/opt/datos/entrenamientos/gfs/lstm/03/model.h5')\n",
    "encoder = load_model('/opt/datos/entrenamientos/gfs/lstm/03/encoder.h5')\n",
    "decoder = load_model('/opt/datos/entrenamientos/gfs/lstm/03/decoder.h5')\n",
    "\n",
    "y_pred = prediccion(encoder, decoder, 4)"
   ]
  },
  {
   "cell_type": "markdown",
   "id": "21f8a794",
   "metadata": {},
   "source": [
    "### prediccion a 3 hs"
   ]
  },
  {
   "cell_type": "code",
   "execution_count": 12,
   "id": "1607f568",
   "metadata": {},
   "outputs": [],
   "source": [
    "y_pred2 = np.zeros((251, 128, 144,1))\n",
    "y_test2 = np.zeros((251, 128, 144,1))\n",
    "\n",
    "for i in range(y_test.shape[0]):\n",
    "    y_pred2[i] = y_pred[i,0,:,:,:]\n",
    "    y_test2[i] = y_test[i,0,:,:,:]"
   ]
  },
  {
   "cell_type": "code",
   "execution_count": 13,
   "id": "b3217171",
   "metadata": {},
   "outputs": [
    {
     "name": "stdout",
     "output_type": "stream",
     "text": [
      "(4626432,)\n",
      "(4626432,)\n",
      "MAE: 0.27537576963794236\n"
     ]
    }
   ],
   "source": [
    "y_test2 = y_test2.flatten()\n",
    "print(y_test2.shape)\n",
    "y_pred2 = y_pred2.flatten()\n",
    "print(y_pred2.shape)\n",
    "\n",
    "##MEAN SQUARE ERROR\n",
    "\n",
    "mae = MAE(y_test2, y_pred2)\n",
    "print(f\"MAE: {mae}\")"
   ]
  },
  {
   "cell_type": "markdown",
   "id": "a781ced9",
   "metadata": {},
   "source": [
    "### Todas las predicciones"
   ]
  },
  {
   "cell_type": "code",
   "execution_count": 14,
   "id": "a2656e21",
   "metadata": {},
   "outputs": [
    {
     "name": "stdout",
     "output_type": "stream",
     "text": [
      "(251, 4, 128, 144, 1)\n",
      "(251, 4, 128, 144, 1)\n",
      "MAE: 0.3545433206699246\n",
      "MSE: 2.0316725633052983\n",
      "RMSE: 1.4253675186790593\n"
     ]
    }
   ],
   "source": [
    "y_test_f = y_test.flatten()\n",
    "print(y_test.shape)\n",
    "y_pred_f = y_pred.flatten()\n",
    "print(y_pred.shape)\n",
    "\n",
    "## MEAN ABSOLUTE ERROR\n",
    "\n",
    "mae = MAE(y_test_f, y_pred_f)\n",
    "print(f\"MAE: {mae}\")\n",
    "\n",
    "##MEAN SQUARE ERROR\n",
    "\n",
    "mse = MSE(y_test_f, y_pred_f)\n",
    "print(f\"MSE: {mse}\")\n",
    "\n",
    "## root mean square error\n",
    "\n",
    "rmse = np.sqrt(mse)\n",
    "print(f\"RMSE: {rmse}\")"
   ]
  },
  {
   "cell_type": "markdown",
   "id": "3b5043fe",
   "metadata": {},
   "source": [
    "### 04: LSTM - 10 EPOCH - Adam - tiempos: (t - 8/t + 8) - loss: mse "
   ]
  },
  {
   "cell_type": "code",
   "execution_count": 5,
   "id": "13d2e84d",
   "metadata": {},
   "outputs": [
    {
     "name": "stdout",
     "output_type": "stream",
     "text": [
      "(19288, 137, 157)\n",
      "(1205, 16, 137, 157, 1)\n",
      "(125, 8, 128, 144, 1)\n",
      "(125, 8, 128, 144, 1)\n"
     ]
    }
   ],
   "source": [
    "Y_train = np.load(\"/opt/datos/dataset/gfs/Y.npy\")\n",
    "print(Y_train.shape)\n",
    "\n",
    "new_train = Y_train[:19280,:,:]\n",
    "train = new_train.reshape(1205,16,137,157,1)\n",
    "Y_train = None\n",
    "new_train = None\n",
    "print(train.shape)\n",
    "\n",
    "x_test  = train[1080:, 0:8, 0:128, 0:144, :]\n",
    "y_test  = train[1080:, 8:16, 0:128, 0:144, :]\n",
    "\n",
    "print(x_test.shape)\n",
    "print(y_test.shape)"
   ]
  },
  {
   "cell_type": "code",
   "execution_count": 8,
   "id": "97a9728d",
   "metadata": {},
   "outputs": [
    {
     "name": "stdout",
     "output_type": "stream",
     "text": [
      "WARNING:tensorflow:No training configuration found in the save file, so the model was *not* compiled. Compile it manually.\n",
      "WARNING:tensorflow:No training configuration found in the save file, so the model was *not* compiled. Compile it manually.\n",
      "WARNING:tensorflow:5 out of the last 11 calls to <function Model.make_predict_function.<locals>.predict_function at 0x7f24501538b0> triggered tf.function retracing. Tracing is expensive and the excessive number of tracings could be due to (1) creating @tf.function repeatedly in a loop, (2) passing tensors with different shapes, (3) passing Python objects instead of tensors. For (1), please define your @tf.function outside of the loop. For (2), @tf.function has experimental_relax_shapes=True option that relaxes argument shapes that can avoid unnecessary retracing. For (3), please refer to https://www.tensorflow.org/guide/function#controlling_retracing and https://www.tensorflow.org/api_docs/python/tf/function for  more details.\n",
      "WARNING:tensorflow:5 out of the last 11 calls to <function Model.make_predict_function.<locals>.predict_function at 0x7f24501538b0> triggered tf.function retracing. Tracing is expensive and the excessive number of tracings could be due to (1) creating @tf.function repeatedly in a loop, (2) passing tensors with different shapes, (3) passing Python objects instead of tensors. For (1), please define your @tf.function outside of the loop. For (2), @tf.function has experimental_relax_shapes=True option that relaxes argument shapes that can avoid unnecessary retracing. For (3), please refer to https://www.tensorflow.org/guide/function#controlling_retracing and https://www.tensorflow.org/api_docs/python/tf/function for  more details.\n"
     ]
    }
   ],
   "source": [
    "model = load_model('/opt/datos/entrenamientos/gfs/lstm/04/model.h5')\n",
    "encoder = load_model('/opt/datos/entrenamientos/gfs/lstm/04/encoder.h5')\n",
    "decoder = load_model('/opt/datos/entrenamientos/gfs/lstm/04/decoder.h5')\n",
    "\n",
    "y_pred = prediccion(encoder, decoder, 8)"
   ]
  },
  {
   "cell_type": "markdown",
   "id": "19319a47",
   "metadata": {},
   "source": [
    "### prediccion a 3 hs"
   ]
  },
  {
   "cell_type": "code",
   "execution_count": 9,
   "id": "2aa55d2d",
   "metadata": {},
   "outputs": [
    {
     "name": "stdout",
     "output_type": "stream",
     "text": [
      "(4626432,)\n",
      "(4626432,)\n",
      "MAE: 0.1892250633088179\n"
     ]
    }
   ],
   "source": [
    "y_pred2 = np.zeros((251, 128, 144,1))\n",
    "y_test2 = np.zeros((251, 128, 144,1))\n",
    "\n",
    "for i in range(y_test.shape[0]):\n",
    "    y_pred2[i] = y_pred[i,0,:,:,:]\n",
    "    y_test2[i] = y_test[i,0,:,:,:]\n",
    "    \n",
    "y_test2 = y_test2.flatten()\n",
    "print(y_test2.shape)\n",
    "y_pred2 = y_pred2.flatten()\n",
    "print(y_pred2.shape)\n",
    "\n",
    "##MEAN SQUARE ERROR\n",
    "\n",
    "mae = MAE(y_test2, y_pred2)\n",
    "print(f\"MAE: {mae}\")"
   ]
  },
  {
   "cell_type": "markdown",
   "id": "97d21604",
   "metadata": {},
   "source": [
    "### Todas las predicciones:"
   ]
  },
  {
   "cell_type": "code",
   "execution_count": 10,
   "id": "7ad2ccca",
   "metadata": {},
   "outputs": [
    {
     "name": "stdout",
     "output_type": "stream",
     "text": [
      "(125, 8, 128, 144, 1)\n",
      "(125, 8, 128, 144, 1)\n",
      "MAE: 0.9454349728817787\n",
      "MSE: 2.8952452300193205\n",
      "RMSE: 1.7015420153552838\n"
     ]
    }
   ],
   "source": [
    "y_test_f = y_test.flatten()\n",
    "print(y_test.shape)\n",
    "y_pred_f = y_pred.flatten()\n",
    "print(y_pred.shape)\n",
    "\n",
    "## MEAN ABSOLUTE ERROR\n",
    "\n",
    "mae = MAE(y_test_f, y_pred_f)\n",
    "print(f\"MAE: {mae}\")\n",
    "\n",
    "##MEAN SQUARE ERROR\n",
    "\n",
    "mse = MSE(y_test_f, y_pred_f)\n",
    "print(f\"MSE: {mse}\")\n",
    "\n",
    "## root mean square error\n",
    "\n",
    "rmse = np.sqrt(mse)\n",
    "print(f\"RMSE: {rmse}\")"
   ]
  }
 ],
 "metadata": {
  "kernelspec": {
   "display_name": "tf-gpu2",
   "language": "python",
   "name": "tf-gpu2"
  },
  "language_info": {
   "codemirror_mode": {
    "name": "ipython",
    "version": 3
   },
   "file_extension": ".py",
   "mimetype": "text/x-python",
   "name": "python",
   "nbconvert_exporter": "python",
   "pygments_lexer": "ipython3",
   "version": "3.9.5"
  }
 },
 "nbformat": 4,
 "nbformat_minor": 5
}
