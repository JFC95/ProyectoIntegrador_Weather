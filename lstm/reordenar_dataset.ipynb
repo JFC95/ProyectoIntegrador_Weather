{
 "cells": [
  {
   "cell_type": "code",
   "execution_count": 12,
   "id": "0679192f",
   "metadata": {},
   "outputs": [],
   "source": [
    "%config Completer.use_jedi = False"
   ]
  },
  {
   "cell_type": "code",
   "execution_count": 1,
   "id": "b0aa79cf",
   "metadata": {},
   "outputs": [],
   "source": [
    "import numpy as np"
   ]
  },
  {
   "cell_type": "code",
   "execution_count": 3,
   "id": "69899d8d",
   "metadata": {},
   "outputs": [
    {
     "name": "stdout",
     "output_type": "stream",
     "text": [
      "(19288, 137, 157)\n"
     ]
    }
   ],
   "source": [
    "data = np.load(\"/opt/datos/dataset/gfs/Y.npy\")\n",
    "print(data.shape)"
   ]
  },
  {
   "cell_type": "code",
   "execution_count": 9,
   "id": "c7927071",
   "metadata": {},
   "outputs": [
    {
     "name": "stdout",
     "output_type": "stream",
     "text": [
      "(19288, 137, 157, 1)\n"
     ]
    }
   ],
   "source": [
    "data = data.reshape(19288,137,157,1)\n",
    "print(data.shape)"
   ]
  },
  {
   "cell_type": "code",
   "execution_count": 10,
   "id": "99773f0a",
   "metadata": {},
   "outputs": [],
   "source": [
    "data_new = np.zeros((19288-8+1, 8, 137, 157, 1))\n",
    "for i in range(data.shape[0]-9):\n",
    "    data_new[i] = data[i:i+8]"
   ]
  },
  {
   "cell_type": "code",
   "execution_count": 11,
   "id": "20d7037e",
   "metadata": {},
   "outputs": [
    {
     "data": {
      "text/plain": [
       "(19281, 8, 137, 157, 1)"
      ]
     },
     "execution_count": 11,
     "metadata": {},
     "output_type": "execute_result"
    }
   ],
   "source": [
    "data_new.shape"
   ]
  },
  {
   "cell_type": "code",
   "execution_count": 21,
   "id": "cd0e3234",
   "metadata": {},
   "outputs": [],
   "source": [
    "np.save('/opt/datos/dataset/gfs/Y_8lags.npy', data_new)"
   ]
  },
  {
   "cell_type": "code",
   "execution_count": 20,
   "id": "685880c2",
   "metadata": {},
   "outputs": [
    {
     "data": {
      "text/plain": [
       "True"
      ]
     },
     "execution_count": 20,
     "metadata": {},
     "output_type": "execute_result"
    }
   ],
   "source": [
    "np.array_equal(data_new[1450,3,:,:,:], data_new[1452,1,:,:,:])"
   ]
  },
  {
   "cell_type": "code",
   "execution_count": null,
   "id": "ea96f154",
   "metadata": {},
   "outputs": [],
   "source": [
    "0123 1234 2345 3456 4567 5678 6789 78910 891011  9101112  10-13  11-14  12-15  13-16  14-17  15-18  16-19\n",
    "1     2    3     4   5    6    7    8      9      10        11    12     13     14      15    16     17     "
   ]
  }
 ],
 "metadata": {
  "kernelspec": {
   "display_name": "tesis",
   "language": "python",
   "name": "tesis"
  },
  "language_info": {
   "codemirror_mode": {
    "name": "ipython",
    "version": 3
   },
   "file_extension": ".py",
   "mimetype": "text/x-python",
   "name": "python",
   "nbconvert_exporter": "python",
   "pygments_lexer": "ipython3",
   "version": "3.8.8"
  }
 },
 "nbformat": 4,
 "nbformat_minor": 5
}
