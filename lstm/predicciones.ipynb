{
 "cells": [
  {
   "cell_type": "code",
   "execution_count": 1,
   "id": "b3f7b138",
   "metadata": {},
   "outputs": [],
   "source": [
    "import numpy as np\n",
    "import matplotlib.pyplot as plt\n",
    "import pickle\n",
    "from tensorflow.keras.models import load_model"
   ]
  },
  {
   "cell_type": "code",
   "execution_count": 2,
   "id": "2df31490",
   "metadata": {},
   "outputs": [],
   "source": [
    "def predict_sequence_3(infenc, infdec, source, n_steps):\n",
    "    # encode\n",
    "    state_h_1, state_c_1, state_h_2, state_c_2, state_h_3, state_c_3 = infenc.predict(source)  # source_dim = ()\n",
    "#decoder_input = source[:,-1,:,:,:].reshape((1,1,64,64,1))\n",
    "    decoder_input = np.repeat(0,128*144).reshape((1,1,128,144,1))\n",
    "    # collect predictions\n",
    "    output = list()\n",
    "    for t in range(n_steps):\n",
    "        # predict next char\n",
    "        yhat, h_1, c_1, h_2, c_2, h_3, c_3 = infdec.predict([decoder_input, state_h_1, state_c_1, state_h_2, state_c_2, state_h_3, state_c_3])\n",
    "        # store prediction\n",
    "        output.append(yhat[0,0,:])\n",
    "        # update state\n",
    "        state_h_1, state_c_1, state_h_2, state_c_2, state_h_3, state_c_3 = h_1, c_1, h_2, c_2, h_3, c_3\n",
    "        # update target sequence\n",
    "        decoder_input = yhat\n",
    "    return np.array(output)"
   ]
  },
  {
   "cell_type": "code",
   "execution_count": null,
   "id": "d4aeb866",
   "metadata": {},
   "outputs": [],
   "source": [
    "Y = np.load(\"/opt/datos/dataset/gfs/Y.npy\")\n",
    "encoder = load_model('encoder-10e.h5')\n",
    "decoder = load_model('decoder-10e.h5')\n",
    "data = Y.reshape(2411,8,137,157,1)\n",
    "x_test  = data[2160:, 0:4, 0:128, 0:144, :]\n",
    "y_test  = data[2160:, 4:8, 0:128, 0:144, :]\n",
    "\n",
    "n = 98\n",
    "pred3 = predict_sequence_3(encoder, decoder, x_test[np.newaxis,n,:,:,:,:], 4)"
   ]
  },
  {
   "cell_type": "code",
   "execution_count": null,
   "id": "ef7e2312",
   "metadata": {},
   "outputs": [],
   "source": [
    "fig, axs = plt.subplots(3, 2)\n",
    "fig.set_size_inches(14, 16)\n",
    "axs[0][0] = plt.subplot(321), plt.imshow(y_test[n,0,:,:,:], cmap='Blues'), plt.colorbar(), plt.title('GFS')\n",
    "axs[1][0] = plt.subplot(323), plt.imshow(y_test[n,1,:,:,:], cmap='Blues'), plt.colorbar(), plt.title('GFS')\n",
    "axs[2][0] = plt.subplot(325), plt.imshow(y_test[n,2,:,:,:], cmap='Blues'), plt.colorbar(), plt.title('GFS')\n",
    "axs[0][1] = plt.subplot(322), plt.imshow(pred3[0], cmap='Blues'), plt.colorbar(), plt.title('Prediccion +3hs')\n",
    "axs[1][1] = plt.subplot(324), plt.imshow(pred3[1], cmap='Blues'), plt.colorbar(), plt.title('Prediccion +6hs')\n",
    "axs[2][1] = plt.subplot(326), plt.imshow(pred3[2], cmap='Blues'), plt.colorbar(), plt.title('Prediccion +9hs')\n",
    "\n",
    "plt.show()"
   ]
  }
 ],
 "metadata": {
  "kernelspec": {
   "display_name": "tf-gpu",
   "language": "python",
   "name": "tf-gpu"
  },
  "language_info": {
   "codemirror_mode": {
    "name": "ipython",
    "version": 3
   },
   "file_extension": ".py",
   "mimetype": "text/x-python",
   "name": "python",
   "nbconvert_exporter": "python",
   "pygments_lexer": "ipython3",
   "version": "3.9.5"
  }
 },
 "nbformat": 4,
 "nbformat_minor": 5
}
